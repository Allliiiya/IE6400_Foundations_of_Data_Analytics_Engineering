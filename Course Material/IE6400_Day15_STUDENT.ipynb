{
 "cells": [
  {
   "cell_type": "markdown",
   "metadata": {
    "id": "UUI3iViFZVFr"
   },
   "source": [
    "# IE6400 Foundations for Data Analytics Engineering\n",
    "# Fall 2023\n",
    "### Module 2: Probability Distribution\n",
    "#### - STUDENT VERSION -"
   ]
  },
  {
   "cell_type": "markdown",
   "metadata": {
    "id": "QYoXTfv7StD8"
   },
   "source": [
    "#### Excercise 1 Probability Distribution of the Sum of Two Fair Six-Sided Dice Rolls"
   ]
  },
  {
   "cell_type": "code",
   "execution_count": null,
   "metadata": {},
   "outputs": [],
   "source": [
    "import numpy as np\n",
    "\n",
    "# Define the sample space\n",
    "sample_space = np.arange(2, 13)\n",
    "\n",
    "# Initialize a dictionary to store probabilities\n",
    "probabilities = {}\n",
    "\n",
    "# Calculate probabilities for each sum\n",
    "for sum_value in sample_space:\n",
    "    count = np.sum(sample_space == sum_value)\n",
    "    probability = count / 36.0\n",
    "    probabilities[sum_value] = probability\n",
    "\n",
    "probabilities"
   ]
  },
  {
   "cell_type": "code",
   "execution_count": null,
   "metadata": {},
   "outputs": [],
   "source": [
    "import matplotlib.pyplot as plt\n",
    "\n",
    "# Extract sums and corresponding probabilities\n",
    "sums = list(probabilities.keys())\n",
    "probs = list(probabilities.values())\n",
    "\n",
    "# Create a bar chart\n",
    "plt.bar(sums, probs, tick_label=sums, color='green')\n",
    "plt.xlabel('Sum of Two Dice Rolls')\n",
    "plt.ylabel('Probability')\n",
    "plt.title('Probability Distribution of the Sum of Two Dice Rolls')\n",
    "plt.show()\n"
   ]
  },
  {
   "cell_type": "markdown",
   "metadata": {
    "id": "BqwblWu-ToKo"
   },
   "source": [
    "#### Excercise 2 Generating and Analyzing a Binomial Distribution with SciPy"
   ]
  },
  {
   "cell_type": "code",
   "execution_count": null,
   "metadata": {},
   "outputs": [],
   "source": [
    "import numpy as np\n",
    "from scipy.stats import binom\n",
    "import matplotlib.pyplot as plt\n"
   ]
  },
  {
   "cell_type": "code",
   "execution_count": null,
   "metadata": {},
   "outputs": [],
   "source": [
    "n = 10  # Number of trials\n",
    "p = 0.3  # Probability of success"
   ]
  },
  {
   "cell_type": "code",
   "execution_count": null,
   "metadata": {},
   "outputs": [],
   "source": [
    "binomial_dist = binom(n, p)"
   ]
  },
  {
   "cell_type": "code",
   "execution_count": null,
   "metadata": {},
   "outputs": [],
   "source": [
    "x_values = np.arange(0, n+1)"
   ]
  },
  {
   "cell_type": "code",
   "execution_count": null,
   "metadata": {},
   "outputs": [],
   "source": [
    "probabilities = binomial_dist.pmf(x_values)"
   ]
  },
  {
   "cell_type": "code",
   "execution_count": null,
   "metadata": {},
   "outputs": [],
   "source": [
    "plt.bar(x_values, probabilities)\n",
    "plt.xlabel('Number of Successes')\n",
    "plt.ylabel('Probability')\n",
    "plt.title('Binomial Distribution')\n",
    "plt.show()\n"
   ]
  },
  {
   "cell_type": "markdown",
   "metadata": {
    "id": "5UtwtVrXTvzk"
   },
   "source": [
    "#### Excercise 3 Calculating and Visualizing Binomial Probability Mass Function in Python"
   ]
  },
  {
   "cell_type": "code",
   "execution_count": null,
   "metadata": {
    "colab": {
     "base_uri": "https://localhost:8080/",
     "height": 452
    },
    "id": "1yx7dTMHzRL-",
    "outputId": "36209d75-8451-4639-ba2f-f53f6f61111a"
   },
   "outputs": [],
   "source": [
    "from scipy.stats import binom\n",
    "import matplotlib.pyplot as plt"
   ]
  },
  {
   "cell_type": "code",
   "execution_count": null,
   "metadata": {},
   "outputs": [],
   "source": [
    "n = 10  # Number of trials\n",
    "p = 0.3  # Probability of success\n",
    "k_range = range(0, n+1)  # Range of possible numbers of successes"
   ]
  },
  {
   "cell_type": "code",
   "execution_count": null,
   "metadata": {},
   "outputs": [],
   "source": [
    "binomial_dist = binom(n, p)"
   ]
  },
  {
   "cell_type": "code",
   "execution_count": null,
   "metadata": {},
   "outputs": [],
   "source": [
    "probabilities = [binomial_dist.pmf(k) for k in k_range]"
   ]
  },
  {
   "cell_type": "code",
   "execution_count": null,
   "metadata": {},
   "outputs": [],
   "source": [
    "plt.bar(k_range, probabilities)\n",
    "plt.xlabel('Number of Successes (k)')\n",
    "plt.ylabel('Probability')\n",
    "plt.title('Binomial Probability Mass Function (PMF)')\n",
    "plt.show()\n"
   ]
  },
  {
   "cell_type": "markdown",
   "metadata": {
    "id": "bR3X5utVT6HX"
   },
   "source": [
    "#### Excercise 4 Understanding the Negative Binomial Distribution"
   ]
  },
  {
   "cell_type": "code",
   "execution_count": null,
   "metadata": {},
   "outputs": [],
   "source": [
    "import numpy as np\n",
    "import matplotlib.pyplot as plt\n",
    "import seaborn as sns"
   ]
  },
  {
   "cell_type": "code",
   "execution_count": null,
   "metadata": {},
   "outputs": [],
   "source": [
    "n = 5  # number of successes\n",
    "p = 0.5  # probability of a success\n",
    "size = 1000  # number of samples\n",
    "\n",
    "samples = np.random.negative_binomial(n, p, size)"
   ]
  },
  {
   "cell_type": "code",
   "execution_count": null,
   "metadata": {},
   "outputs": [],
   "source": [
    "sns.histplot(samples, bins=30, kde=True)\n",
    "plt.title('Negative Binomial Distribution')\n",
    "plt.xlabel('Number of Failures before 5 Successes')\n",
    "plt.ylabel('Frequency')\n",
    "plt.show()"
   ]
  },
  {
   "cell_type": "markdown",
   "metadata": {},
   "source": [
    "#### Exercise 5 Applying the Negative Binomial Distribution to a Dataset"
   ]
  },
  {
   "cell_type": "code",
   "execution_count": null,
   "metadata": {},
   "outputs": [],
   "source": [
    "import numpy as np\n",
    "import matplotlib.pyplot as plt\n",
    "import seaborn as sns\n",
    "from scipy.stats import nbinom"
   ]
  },
  {
   "cell_type": "code",
   "execution_count": null,
   "metadata": {},
   "outputs": [],
   "source": [
    "n_actual = 7  # actual number of successes\n",
    "p_actual = 0.4  # actual probability of a success\n",
    "size = 5000  # number of samples\n",
    "\n",
    "dataset = np.random.negative_binomial(n_actual, p_actual, size)"
   ]
  },
  {
   "cell_type": "code",
   "execution_count": null,
   "metadata": {},
   "outputs": [],
   "source": [
    "mean = np.mean(dataset)\n",
    "variance = np.var(dataset)\n",
    "\n",
    "# Estimating p using the relationship between mean and variance\n",
    "p_estimated = mean / variance\n",
    "\n",
    "# Estimating n using the estimated p\n",
    "n_estimated = mean * p_estimated / (1 - p_estimated)"
   ]
  },
  {
   "cell_type": "code",
   "execution_count": null,
   "metadata": {},
   "outputs": [],
   "source": [
    "# Plotting the actual dataset histogram\n",
    "sns.histplot(dataset, bins=30, kde=False, label='Actual Data', color='blue', alpha=0.5)\n",
    "\n",
    "# Plotting the estimated PMF\n",
    "x = np.arange(0, max(dataset)+1)\n",
    "plt.plot(x, nbinom.pmf(x, n_estimated, p_estimated) * size, 'o-', label='Estimated PMF', color='red')\n",
    "\n",
    "plt.title('Actual vs. Estimated Negative Binomial Distribution')\n",
    "plt.xlabel('Number of Failures before Successes')\n",
    "plt.ylabel('Frequency')\n",
    "plt.legend()\n",
    "plt.show()\n"
   ]
  },
  {
   "cell_type": "markdown",
   "metadata": {
    "id": "WH1U3kEsUPwD"
   },
   "source": [
    "#### Excercise 6 Understanding the Poisson Distribution"
   ]
  },
  {
   "cell_type": "code",
   "execution_count": null,
   "metadata": {
    "id": "uI__chpi8Upo"
   },
   "outputs": [],
   "source": [
    "import numpy as np\n",
    "import matplotlib.pyplot as plt\n",
    "import seaborn as sns"
   ]
  },
  {
   "cell_type": "code",
   "execution_count": null,
   "metadata": {
    "colab": {
     "base_uri": "https://localhost:8080/"
    },
    "id": "z8JgwQJo8gHF",
    "outputId": "7eb10cf8-7998-48e8-9520-2f7c0d43110d"
   },
   "outputs": [],
   "source": [
    "lambda_val = 5  # expected number of events in the interval\n",
    "size = 1000  # number of samples\n",
    "\n",
    "samples = np.random.poisson(lambda_val, size)\n"
   ]
  },
  {
   "cell_type": "code",
   "execution_count": null,
   "metadata": {},
   "outputs": [],
   "source": [
    "sns.histplot(samples, bins=30, kde=True)\n",
    "plt.title('Poisson Distribution')\n",
    "plt.xlabel('Number of Events')\n",
    "plt.ylabel('Frequency')\n",
    "plt.show()\n"
   ]
  },
  {
   "cell_type": "markdown",
   "metadata": {
    "id": "qJPDvdAGUhNq"
   },
   "source": [
    "#### Excercise 7 Understanding the Hypergeometric Distribution"
   ]
  },
  {
   "cell_type": "code",
   "execution_count": null,
   "metadata": {},
   "outputs": [],
   "source": [
    "import numpy as np\n",
    "import matplotlib.pyplot as plt\n",
    "import seaborn as sns\n"
   ]
  },
  {
   "cell_type": "code",
   "execution_count": null,
   "metadata": {},
   "outputs": [],
   "source": [
    "NGood = 10  # number of successes in the population\n",
    "NBad = 20  # number of failures in the population\n",
    "nsample = 5  # number of draws\n",
    "size = 1000  # number of samples\n",
    "\n",
    "samples = np.random.hypergeometric(NGood, NBad, nsample, size)\n"
   ]
  },
  {
   "cell_type": "code",
   "execution_count": null,
   "metadata": {},
   "outputs": [],
   "source": [
    "sns.histplot(samples, bins=30, kde=True)\n",
    "plt.title('Hypergeometric Distribution')\n",
    "plt.xlabel('Number of Successes in Sample')\n",
    "plt.ylabel('Frequency')\n",
    "plt.show()\n"
   ]
  },
  {
   "cell_type": "markdown",
   "metadata": {
    "id": "1KIdLdQEUstf"
   },
   "source": [
    "#### Exercise 8 Understanding the Multivariate Hypergeometric Distribution"
   ]
  },
  {
   "cell_type": "code",
   "execution_count": null,
   "metadata": {
    "id": "hG58bo7qbPEa"
   },
   "outputs": [],
   "source": [
    "import numpy as np\n",
    "import matplotlib.pyplot as plt\n",
    "import seaborn as sns\n",
    "from scipy.stats import hypergeom\n"
   ]
  },
  {
   "cell_type": "code",
   "execution_count": null,
   "metadata": {},
   "outputs": [],
   "source": [
    "colors = [13, 13, 13, 13]  # 13 cards of each suit in a deck: Hearts, Diamonds, Clubs, Spades\n",
    "nsample = 10  # number of draws\n",
    "size = 1000  # number of samples\n",
    "\n",
    "M = sum(colors)  # total number of cards\n",
    "N = nsample  # number of draws\n",
    "\n",
    "# Generate samples for each suit\n",
    "samples = np.array([hypergeom.rvs(M, color, N, size=size) for color in colors]).T"
   ]
  },
  {
   "cell_type": "code",
   "execution_count": null,
   "metadata": {},
   "outputs": [],
   "source": [
    "# Plotting the distribution for each suit\n",
    "suits = ['Hearts', 'Diamonds', 'Clubs', 'Spades']\n",
    "\n",
    "for idx, suit in enumerate(suits):\n",
    "    sns.histplot(samples[:, idx], bins=np.arange(-0.5, nsample+1.5), kde=False, label=suit)\n",
    "\n",
    "plt.title('Multivariate Hypergeometric Distribution')\n",
    "plt.xlabel('Number of Cards Drawn')\n",
    "plt.ylabel('Frequency')\n",
    "plt.legend()\n",
    "plt.show()\n"
   ]
  },
  {
   "cell_type": "markdown",
   "metadata": {
    "id": "ZcTJpOe_VQXu"
   },
   "source": [
    "#### Exercise 9 Understanding the Uniform Distribution"
   ]
  },
  {
   "cell_type": "code",
   "execution_count": null,
   "metadata": {},
   "outputs": [],
   "source": [
    "import numpy as np\n",
    "import matplotlib.pyplot as plt\n",
    "import seaborn as sns\n"
   ]
  },
  {
   "cell_type": "code",
   "execution_count": null,
   "metadata": {},
   "outputs": [],
   "source": [
    "low = 2  # 2 hours\n",
    "high = 10  # 10 hours\n",
    "size = 1000  # number of samples\n",
    "\n",
    "samples = np.random.uniform(low, high, size)\n"
   ]
  },
  {
   "cell_type": "code",
   "execution_count": null,
   "metadata": {},
   "outputs": [],
   "source": [
    "sns.histplot(samples, bins=30, kde=True)\n",
    "plt.title('Uniform Distribution of Processing Times')\n",
    "plt.xlabel('Processing Time (hours)')\n",
    "plt.ylabel('Frequency')\n",
    "plt.show()\n"
   ]
  },
  {
   "cell_type": "markdown",
   "metadata": {
    "id": "C17VS8ZaVahg"
   },
   "source": [
    "#### Exercise 10 Understanding the Normal Distribution"
   ]
  },
  {
   "cell_type": "code",
   "execution_count": null,
   "metadata": {
    "id": "Vh9Ptp2JhZuR"
   },
   "outputs": [],
   "source": [
    "import numpy as np\n",
    "import matplotlib.pyplot as plt\n",
    "import seaborn as sns"
   ]
  },
  {
   "cell_type": "code",
   "execution_count": null,
   "metadata": {},
   "outputs": [],
   "source": [
    "mean = 50  # average score\n",
    "std = 10  # standard deviation\n",
    "size = 1000  # number of samples\n",
    "\n",
    "samples = np.random.normal(mean, std, size)\n"
   ]
  },
  {
   "cell_type": "code",
   "execution_count": null,
   "metadata": {},
   "outputs": [],
   "source": [
    "sns.histplot(samples, bins=30, kde=True)\n",
    "plt.title('Normal Distribution of Examination Scores')\n",
    "plt.xlabel('Score')\n",
    "plt.ylabel('Frequency')\n",
    "plt.show()\n"
   ]
  },
  {
   "cell_type": "markdown",
   "metadata": {
    "id": "2lQUjFFQVrlO"
   },
   "source": [
    "#### Exercise 11 Understanding the Log-Normal Distribution"
   ]
  },
  {
   "cell_type": "code",
   "execution_count": null,
   "metadata": {
    "id": "OHD71U8Glx7X"
   },
   "outputs": [],
   "source": [
    "import numpy as np\n",
    "import matplotlib.pyplot as plt\n",
    "import seaborn as sns"
   ]
  },
  {
   "cell_type": "code",
   "execution_count": null,
   "metadata": {},
   "outputs": [],
   "source": [
    "mean = 0  # mean of the logarithm\n",
    "sigma = 0.5  # standard deviation of the logarithm\n",
    "size = 1000  # number of samples\n",
    "\n",
    "samples = np.random.lognormal(mean, sigma, size)\n"
   ]
  },
  {
   "cell_type": "code",
   "execution_count": null,
   "metadata": {},
   "outputs": [],
   "source": [
    "sns.histplot(samples, bins=50, kde=True)\n",
    "plt.title('Log-Normal Distribution of Incomes')\n",
    "plt.xlabel('Income')\n",
    "plt.ylabel('Frequency')\n",
    "plt.show()\n"
   ]
  },
  {
   "cell_type": "markdown",
   "metadata": {
    "id": "GHsDZyEtV4Vz"
   },
   "source": [
    "#### Exercise 12 Understanding the Gamma Distribution"
   ]
  },
  {
   "cell_type": "code",
   "execution_count": null,
   "metadata": {
    "id": "IKBKBh2qn40N"
   },
   "outputs": [],
   "source": [
    "import numpy as np\n",
    "import matplotlib.pyplot as plt\n",
    "import seaborn as sns"
   ]
  },
  {
   "cell_type": "code",
   "execution_count": null,
   "metadata": {},
   "outputs": [],
   "source": [
    "shape = 2  # number of events\n",
    "scale = 1  # average interval between events\n",
    "size = 1000  # number of samples\n",
    "\n",
    "samples = np.random.gamma(shape, scale, size)\n"
   ]
  },
  {
   "cell_type": "code",
   "execution_count": null,
   "metadata": {},
   "outputs": [],
   "source": [
    "sns.histplot(samples, bins=50, kde=True)\n",
    "plt.title('Gamma Distribution of Waiting Times')\n",
    "plt.xlabel('Waiting Time (hours)')\n",
    "plt.ylabel('Frequency')\n",
    "plt.show()\n"
   ]
  },
  {
   "cell_type": "markdown",
   "metadata": {
    "id": "RUCesiIHWB_e"
   },
   "source": [
    "#### Exercise 13 Understanding the Exponential Distribution"
   ]
  },
  {
   "cell_type": "code",
   "execution_count": null,
   "metadata": {
    "id": "Sv58AUvmpyOv"
   },
   "outputs": [],
   "source": [
    "import numpy as np\n",
    "import matplotlib.pyplot as plt\n",
    "import seaborn as sns"
   ]
  },
  {
   "cell_type": "code",
   "execution_count": null,
   "metadata": {},
   "outputs": [],
   "source": [
    "scale = 5  # average time (in hours) between breakdowns\n",
    "size = 1000  # number of samples\n",
    "\n",
    "samples = np.random.exponential(scale, size)\n"
   ]
  },
  {
   "cell_type": "code",
   "execution_count": null,
   "metadata": {},
   "outputs": [],
   "source": [
    "sns.histplot(samples, bins=50, kde=True)\n",
    "plt.title('Exponential Distribution of Time Between Breakdowns')\n",
    "plt.xlabel('Time (hours)')\n",
    "plt.ylabel('Frequency')\n",
    "plt.show()\n"
   ]
  },
  {
   "cell_type": "markdown",
   "metadata": {
    "id": "30775e59"
   },
   "source": [
    "-----"
   ]
  },
  {
   "cell_type": "markdown",
   "metadata": {
    "id": "01c485f5"
   },
   "source": [
    "#### Revised Date: October 28, 2023"
   ]
  },
  {
   "cell_type": "code",
   "execution_count": null,
   "metadata": {},
   "outputs": [],
   "source": []
  }
 ],
 "metadata": {
  "colab": {
   "provenance": []
  },
  "kernelspec": {
   "display_name": "Python 3 (ipykernel)",
   "language": "python",
   "name": "python3"
  },
  "language_info": {
   "codemirror_mode": {
    "name": "ipython",
    "version": 3
   },
   "file_extension": ".py",
   "mimetype": "text/x-python",
   "name": "python",
   "nbconvert_exporter": "python",
   "pygments_lexer": "ipython3",
   "version": "3.7.7"
  }
 },
 "nbformat": 4,
 "nbformat_minor": 1
}
