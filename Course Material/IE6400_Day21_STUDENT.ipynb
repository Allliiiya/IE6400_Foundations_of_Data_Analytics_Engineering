{
 "cells": [
  {
   "cell_type": "markdown",
   "id": "3301eb01",
   "metadata": {},
   "source": [
    "# IE6400 Foundations of Data Analytics Engineering\n",
    "# Fall 2023 \n",
    "### Module 4: Time Series Analysis Part - 2\n",
    "#### - STUDENT VERSION -"
   ]
  },
  {
   "cell_type": "markdown",
   "id": "1c720565",
   "metadata": {},
   "source": [
    "### Network Science\n",
    "\n",
    "Network science is an interdisciplinary field that studies complex networks, which are systems of interconnected elements. These networks can be found in various domains, from biological systems to social interactions, technological infrastructures, and more. The primary goal of network science is to understand the structure, dynamics, function, and evolution of networks.\n",
    "\n",
    "#### Key Points\n",
    "\n",
    "1. **Complex Networks**: Unlike regular networks (like a lattice or a ring), complex networks have non-trivial topological features, such as a scale-free degree distribution, high clustering, and small-world properties.\n",
    "\n",
    "2. **Nodes and Edges**: In the language of network science, individual entities are referred to as \"nodes\" (or vertices), and the connections between them are called \"edges\" (or links).\n",
    "\n",
    "3. **Metrics and Measures**: Network science employs various metrics to understand networks, such as:\n",
    "   - **Degree**: The number of connections a node has.\n",
    "   - **Path Length**: The shortest distance between two nodes.\n",
    "   - **Clustering Coefficient**: Measures the degree to which nodes cluster together.\n",
    "   - **Centrality**: Identifies the most important nodes in a network.\n",
    "   - **Modularity**: Measures the strength of division of a network into modules or communities.\n",
    "\n",
    "4. **Types of Networks**:\n",
    "   - **Scale-Free Networks**: Networks where some nodes have many more connections than others, following a power-law distribution.\n",
    "   - **Small-World Networks**: Networks characterized by short path lengths between nodes and high clustering.\n",
    "   - **Random Networks**: Networks where connections between nodes are made randomly.\n",
    "\n",
    "5. **Applications**: Network science has applications in various fields:\n",
    "   - **Biology**: Studying protein-protein interaction networks, neural networks, and ecological networks.\n",
    "   - **Sociology**: Analyzing social networks to understand patterns of human interactions.\n",
    "   - **Technology**: Understanding the internet's structure, power grids, and transportation networks.\n",
    "   - **Economics**: Analyzing trade networks, financial networks, etc.\n",
    "\n",
    "6. **Dynamics and Processes**: Beyond static properties, network science also studies dynamic processes on networks, such as diffusion, spreading, synchronization, and cascading failures.\n",
    "\n",
    "7. **Interdisciplinary Nature**: Network science draws on theories and methods from physics, mathematics, biology, social science, computer science, and other disciplines.\n",
    "\n",
    "8. **Tools and Software**: Various software tools, like Gephi, NetworkX, and Cytoscape, have been developed to visualize and analyze networks.\n",
    "\n",
    "In essence, network science provides a framework to analyze and understand the intricate web of connections in various systems, revealing insights about their structure, function, and underlying principles.\n"
   ]
  },
  {
   "cell_type": "markdown",
   "id": "920eb483",
   "metadata": {},
   "source": [
    "### NetworkX Library\n",
    "\n",
    "NetworkX is a Python package designed for the creation, manipulation, and study of complex networks of nodes and edges. It provides tools to work with both large and small datasets, and its primary goal is to enable research in the field of network science.\n",
    "\n",
    "#### Key Features\n",
    "\n",
    "1. **Data Structures**: NetworkX provides data structures for representing various types of networks, including:\n",
    "   - Undirected networks\n",
    "   - Directed networks\n",
    "   - Multi-graphs (networks with multiple edges between nodes)\n",
    "   - Hypergraphs\n",
    "\n",
    "2. **Network Analysis**: The library offers a wide range of algorithms for:\n",
    "   - Shortest path computations\n",
    "   - Network traversal\n",
    "   - Centrality measures\n",
    "   - Clustering and community detection\n",
    "   - Network flow problems\n",
    "\n",
    "3. **Visualization**: While NetworkX is not primarily a graph drawing tool, it provides basic visualization capabilities using Matplotlib. For more advanced visualization, it can integrate with tools like Graphviz.\n",
    "\n",
    "4. **Flexibility**: Nodes can be any hashable object (e.g., text, images, XML records), and edges can contain arbitrary data.\n",
    "\n",
    "5. **Interoperability**: NetworkX can read and write various graph formats, allowing for easy data exchange with other graph libraries or software.\n",
    "\n",
    "6. **Extensibility**: The library is designed to be easily extensible, allowing users to implement custom graph algorithms, drawing tools, and more.\n"
   ]
  },
  {
   "cell_type": "markdown",
   "id": "18ee4ef5",
   "metadata": {},
   "source": [
    "#### Installing NetworkX Library\n",
    "\n",
    "#### To install NetworkX, follow these steps:\n",
    "\n",
    "**Step 1: Ensure You Have Python and pip Installed**\n",
    "Before installing NetworkX, you should have Python and pip (Python package installer) installed on your system.\n",
    "\n",
    "**Step 2: Install NetworkX**\n",
    "Once you have Python and pip ready, you can install NetworkX using pip.\n",
    "\n",
    "**Step 3: Verify the Installation**\n",
    "After the installation is complete, you can verify that NetworkX has been installed correctly by importing it in a Python environment."
   ]
  },
  {
   "cell_type": "code",
   "execution_count": null,
   "id": "799f8559",
   "metadata": {},
   "outputs": [],
   "source": [
    "# Step 2: Install NetworkX using pip\n",
    "#!pip install networkx"
   ]
  },
  {
   "cell_type": "code",
   "execution_count": null,
   "id": "26b40385",
   "metadata": {},
   "outputs": [],
   "source": [
    "# Step 3: Verify the installation\n",
    "import networkx as nx\n",
    "print(\"Network X version: \", nx.__version__)\n"
   ]
  },
  {
   "cell_type": "markdown",
   "id": "0c04a62d",
   "metadata": {},
   "source": [
    "#### Exercise 1 Building a Network Graph using NetworkX"
   ]
  },
  {
   "cell_type": "code",
   "execution_count": null,
   "id": "7ccf5655",
   "metadata": {},
   "outputs": [],
   "source": [
    "# Step 1: Import Necessary Libraries\n",
    "import networkx as nx\n",
    "import matplotlib.pyplot as plt\n",
    "\n",
    "# Step 2: Load the Dataset\n",
    "G = nx.karate_club_graph()\n",
    "\n",
    "# Step 3: Visualize the Network\n",
    "plt.figure(figsize=(10, 8))\n",
    "nx.draw(G, with_labels=True, node_color='skyblue', node_size=1500, edge_color='gray')\n",
    "plt.title(\"Zachary's Karate Club Network\")\n",
    "plt.show()\n",
    "\n",
    "# Step 4: Calculate Degree Centrality\n",
    "degree_centrality = nx.degree_centrality(G)\n",
    "sorted_degree_centrality = sorted(degree_centrality.items(), key=lambda x: x[1], reverse=True)\n",
    "print(\"Top 5 nodes by degree centrality:\")\n",
    "for node, centrality in sorted_degree_centrality[:5]:\n",
    "    print(f\"Node {node}: {centrality:.2f}\")\n"
   ]
  },
  {
   "cell_type": "markdown",
   "id": "1cff7983",
   "metadata": {},
   "source": [
    "#### Exercise 2 Building and Modifying a Network Graph using NetworkX"
   ]
  },
  {
   "cell_type": "code",
   "execution_count": null,
   "id": "c6006350",
   "metadata": {},
   "outputs": [],
   "source": [
    "# Step 1: Import Necessary Libraries\n",
    "import networkx as nx\n",
    "import matplotlib.pyplot as plt\n",
    "\n",
    "# Step 2: Load the Dataset\n",
    "G = nx.florentine_families_graph()\n",
    "\n",
    "# Step 3: Visualize the Initial Network\n",
    "plt.figure(figsize=(10, 8))\n",
    "nx.draw(G, with_labels=True, node_color='lightgreen', node_size=1500, edge_color='gray')\n",
    "plt.title(\"Florentine Families Network (Initial)\")\n",
    "plt.show()"
   ]
  },
  {
   "cell_type": "code",
   "execution_count": null,
   "id": "ecb06b80",
   "metadata": {},
   "outputs": [],
   "source": [
    "# Step 4: Add a New Node and Edges\n",
    "G.add_node(\"NewFamily\")\n",
    "G.add_edge(\"NewFamily\", \"Medici\")\n",
    "G.add_edge(\"NewFamily\", \"Strozzi\")\n",
    "\n",
    "# Step 5: Visualize the Updated Network\n",
    "plt.figure(figsize=(10, 8))\n",
    "nx.draw(G, with_labels=True, node_color='lightgreen', node_size=1500, edge_color='gray')\n",
    "plt.title(\"Florentine Families Network (Updated)\")\n",
    "plt.show()"
   ]
  },
  {
   "cell_type": "markdown",
   "id": "ab0017d3",
   "metadata": {},
   "source": [
    "#### Exercise 3 Understanding Network Measures using NetworkX"
   ]
  },
  {
   "cell_type": "code",
   "execution_count": null,
   "id": "4e132966",
   "metadata": {},
   "outputs": [],
   "source": [
    "# Step 1: Import Necessary Libraries\n",
    "import networkx as nx\n",
    "import matplotlib.pyplot as plt\n"
   ]
  },
  {
   "cell_type": "code",
   "execution_count": null,
   "id": "5a1e56e6",
   "metadata": {},
   "outputs": [],
   "source": [
    "# Step 2: Load the Dataset\n",
    "G = nx.les_miserables_graph()\n"
   ]
  },
  {
   "cell_type": "code",
   "execution_count": null,
   "id": "693ab080",
   "metadata": {},
   "outputs": [],
   "source": [
    "# Step 3: Visualize the Network\n",
    "plt.figure(figsize=(12, 10))\n",
    "pos = nx.spring_layout(G)\n",
    "nx.draw(G, pos, with_labels=True, node_color='skyblue', node_size=1500, edge_color='gray')\n",
    "plt.title(\"Les Misérables Character Network\")\n",
    "plt.show()\n"
   ]
  },
  {
   "cell_type": "code",
   "execution_count": null,
   "id": "9ef7db66",
   "metadata": {
    "scrolled": false
   },
   "outputs": [],
   "source": [
    "# Step 4: Calculate Network Measures\n",
    "\n",
    "# Degree Centrality\n",
    "degree_centrality = nx.degree_centrality(G)\n",
    "print(\"Degree Centrality:\")\n",
    "for node, centrality in degree_centrality.items():\n",
    "    print(f\"Node {node}: {centrality}\")\n",
    "\n",
    "# Betweenness Centrality\n",
    "betweenness_centrality = nx.betweenness_centrality(G)\n",
    "print(\"\\nBetweenness Centrality:\")\n",
    "for node, centrality in betweenness_centrality.items():\n",
    "    print(f\"Node {node}: {centrality}\")\n",
    "\n",
    "# Closeness Centrality\n",
    "closeness_centrality = nx.closeness_centrality(G)\n",
    "print(\"\\nCloseness Centrality:\")\n",
    "for node, centrality in closeness_centrality.items():\n",
    "    print(f\"Node {node}: {centrality}\")\n"
   ]
  },
  {
   "cell_type": "code",
   "execution_count": null,
   "id": "1c7a055f",
   "metadata": {},
   "outputs": [],
   "source": [
    "# Step 5: Interpretation of Results\n",
    "\n",
    "# Top 5 characters by Degree Centrality\n",
    "sorted_degree = sorted(degree_centrality.items(), key=lambda x: x[1], reverse=True)\n",
    "print(\"Top 5 characters by Degree Centrality:\")\n",
    "for char, value in sorted_degree[:5]:\n",
    "    print(f\"{char}: {value:.2f}\")\n",
    "\n",
    "# Top 5 characters by Betweenness Centrality\n",
    "sorted_betweenness = sorted(betweenness_centrality.items(), key=lambda x: x[1], reverse=True)\n",
    "print(\"\\nTop 5 characters by Betweenness Centrality:\")\n",
    "for char, value in sorted_betweenness[:5]:\n",
    "    print(f\"{char}: {value:.2f}\")\n",
    "\n",
    "# Top 5 characters by Closeness Centrality\n",
    "sorted_closeness = sorted(closeness_centrality.items(), key=lambda x: x[1], reverse=True)\n",
    "print(\"\\nTop 5 characters by Closeness Centrality:\")\n",
    "for char, value in sorted_closeness[:5]:\n",
    "    print(f\"{char}: {value:.2f}\")\n"
   ]
  },
  {
   "cell_type": "markdown",
   "id": "d20d7708",
   "metadata": {},
   "source": [
    "### Visibility Graph Network\n",
    "\n",
    "A visibility graph is a method used to transform time series data into a complex network. The primary objective is to capture the underlying patterns and structures of the time series in the form of a graph, allowing for the application of graph-theoretical methods to analyze the time series.\n",
    "\n",
    "#### Concept\n",
    "\n",
    "The idea behind the visibility graph is to map a time series into a graph where:\n",
    "- Each data point in the time series becomes a node in the graph.\n",
    "- Two nodes (or data points) are connected by an edge if, and only if, they can \"see\" each other.\n",
    "\n",
    "The criterion for \"visibility\" between two data points is defined geometrically. If a straight line can be drawn between two data points without intersecting the time series curve at any other point, then those two data points are said to be visible to each other, and hence, an edge is drawn between them.\n",
    "\n",
    "#### Types of Visibility Graphs\n",
    "\n",
    "There are mainly two types of visibility graphs:\n",
    "\n",
    "1. **Natural Visibility Graph (NVG)**: In this type, two data points \\( $(n, a_n)$ \\) and \\( $(m, a_m)$ \\) are connected if every data point \\( k \\) between \\( n \\) and \\( m \\) satisfies the condition:\n",
    "> $a_k < a_n + (a_m - a_n) \\frac{m-k}{m-n}$\n",
    "and\n",
    "> $a_k < a_m + (a_n - a_m) \\frac{k-n}{m-n}$\n",
    "\n",
    "2. **Horizontal Visibility Graph (HVG)**: In this type, two data points \\( $(n, a_n)$ \\) and \\( $(m, a_m)$ \\) are connected if every data point \\( k \\) between \\( n \\) and \\( m \\) satisfies the condition:\n",
    "> $a_k < \\min(a_n, a_m)$\n",
    "\n",
    "#### Applications\n",
    "\n",
    "Visibility graphs have found applications in various domains:\n",
    "\n",
    "- **Physics**: To analyze non-linear time series data from physical systems.\n",
    "- **Finance**: To study stock market data and understand market dynamics.\n",
    "- **Biology**: To analyze sequences and patterns in biological data.\n",
    "- **Climate Science**: To study temperature and other climatic time series.\n",
    "\n",
    "#### Advantages\n",
    "\n",
    "- **Universality**: Visibility algorithms can be applied to any kind of time series data.\n",
    "- **Simplicity**: The method is geometrically intuitive and easy to implement.\n",
    "- **Efficiency**: Allows for the application of graph-theoretical methods to time series analysis.\n",
    "\n",
    "#### Conclusion\n",
    "\n",
    "Visibility graphs provide a novel way to study time series data by transforming it into a network. This transformation reveals patterns and structures in the data that might not be immediately evident from the time series alone.\n"
   ]
  },
  {
   "cell_type": "markdown",
   "id": "47e3595d",
   "metadata": {},
   "source": [
    "#### Installing ts2vg Library\n",
    "The ts2vg library offers high-performance algorithm implementations to build visibility graphs from time series data. Here's how you can install it:"
   ]
  },
  {
   "cell_type": "code",
   "execution_count": null,
   "id": "af6cf9e1",
   "metadata": {},
   "outputs": [],
   "source": [
    "#!pip install ts2vg"
   ]
  },
  {
   "cell_type": "markdown",
   "id": "19fbfbbd",
   "metadata": {},
   "source": [
    "**igraph** is a library collection for creating and manipulating graphs and analyzing networks."
   ]
  },
  {
   "cell_type": "code",
   "execution_count": null,
   "id": "6cc114df",
   "metadata": {},
   "outputs": [],
   "source": [
    "#!pip install igraph"
   ]
  },
  {
   "cell_type": "markdown",
   "id": "8bc76c34",
   "metadata": {},
   "source": [
    "#### Exercise 4 Building a Natural Visibility Graph"
   ]
  },
  {
   "cell_type": "code",
   "execution_count": null,
   "id": "f6357a7f",
   "metadata": {},
   "outputs": [],
   "source": [
    "# Step 1: Import Necessary Libraries\n",
    "import numpy as np\n",
    "import matplotlib.pyplot as plt\n",
    "import networkx as nx\n",
    "from ts2vg import NaturalVG\n"
   ]
  },
  {
   "cell_type": "code",
   "execution_count": null,
   "id": "896501cf",
   "metadata": {},
   "outputs": [],
   "source": [
    "# Step 2: Generate the Time Series Dataset\n",
    "ts = [1.0, 0.5, 0.3, 0.7, 1.0, 0.5, 0.3, 0.8]\n",
    "\n",
    "# Plot the generated time series\n",
    "plt.figure(figsize=(10, 5))\n",
    "plt.plot(ts)\n",
    "plt.title(\"Generated Time Series (Sine Wave)\")\n",
    "plt.xlabel(\"Time\")\n",
    "plt.ylabel(\"Value\")\n",
    "plt.grid(True)\n",
    "plt.show()\n"
   ]
  },
  {
   "cell_type": "code",
   "execution_count": null,
   "id": "7541c77f",
   "metadata": {
    "scrolled": false
   },
   "outputs": [],
   "source": [
    "# Now, let's call NaturalVG package and assign it as g\n",
    "g = NaturalVG()\n",
    "\n",
    "# Now, using function build() we build network on our time series data\n",
    "g.build(ts)\n",
    "\n",
    "# as_igraph() function converts to graph object\n",
    "ig_g = g.as_igraph()\n",
    "\n",
    "# By printing ig_g we can observe our network connections\n",
    "print(ig_g)"
   ]
  },
  {
   "cell_type": "code",
   "execution_count": null,
   "id": "5190b7ac",
   "metadata": {},
   "outputs": [],
   "source": [
    "print('Number of Nodes:',ig_g.vcount())\n",
    "print('Number of Links:',ig_g.ecount())\n",
    "print('Average Degree:',np.mean(ig_g.degree()))\n",
    "print('Network Diameter:',ig_g.diameter())\n",
    "print('Average Path Length:',ig_g.average_path_length())"
   ]
  },
  {
   "cell_type": "code",
   "execution_count": null,
   "id": "7f65daa1",
   "metadata": {},
   "outputs": [],
   "source": [
    "# Step 4: Visualize the NVG\n",
    "plt.figure(figsize=(10, 8))\n",
    "nx_g = g.as_networkx()\n",
    "nx.draw_kamada_kawai(nx_g)\n",
    "plt.title(\"Natural Visibility Graph of the Time Series\")\n",
    "plt.show()\n"
   ]
  },
  {
   "cell_type": "markdown",
   "id": "98e22279",
   "metadata": {},
   "source": [
    "#### Exercise 5 Building a Natural Visibility Graph from Apple Stock's Closing Price"
   ]
  },
  {
   "cell_type": "code",
   "execution_count": null,
   "id": "1ed30af8",
   "metadata": {},
   "outputs": [],
   "source": [
    "# Step 1: Import Necessary Libraries\n",
    "import numpy as np\n",
    "import pandas as pd\n",
    "import matplotlib.pyplot as plt\n",
    "import networkx as nx\n",
    "from ts2vg import NaturalVG\n"
   ]
  },
  {
   "cell_type": "code",
   "execution_count": null,
   "id": "598065d7",
   "metadata": {},
   "outputs": [],
   "source": [
    "df_a = pd.read_csv('aapl.csv')\n",
    "\n",
    "# Now, let's plot our dataset to observe it\n",
    "df_a.plot('Date', 'Close', title='Time Series Line Graph', figsize=(10,8))\n",
    "plt.title(\"Apple Stock's Closing Price\")\n",
    "plt.xlabel(\"Date\")\n",
    "plt.ylabel(\"Value\")\n",
    "plt.grid(True)\n",
    "plt.show()"
   ]
  },
  {
   "cell_type": "code",
   "execution_count": null,
   "id": "0e3b75ed",
   "metadata": {},
   "outputs": [],
   "source": [
    "df_a = df_a.head(30)\n",
    "\n",
    "# Now, let's plot!\n",
    "df_a.plot('Date', 'Close', title='Time Series Line Graph', figsize=(10,8))\n",
    "plt.title(\"Apple Stock's Closing Price\")\n",
    "plt.xlabel(\"Date\")\n",
    "plt.ylabel(\"Value\")\n",
    "plt.grid(True)\n",
    "plt.show()\n"
   ]
  },
  {
   "cell_type": "code",
   "execution_count": null,
   "id": "2afe046a",
   "metadata": {},
   "outputs": [],
   "source": [
    "# Step 3: Construct the Natural Visibility Graph (NVG)\n",
    "# Create a NaturalVG (Variable Grid) graph object.\n",
    "g = NaturalVG()\n",
    "\n",
    "# Build the graph using data from the 'Close' column of the DataFrame 'df_a'.\n",
    "g.build(df_a.Close)\n",
    "\n",
    "# Retrieve the edges of the graph.\n",
    "edges = g.edges\n",
    "\n",
    "# Convert the NaturalVG graph to an igraph object.\n",
    "ig_g = g.as_igraph()\n",
    "\n",
    "# Print the igraph object, which represents the graph.\n",
    "print(ig_g)\n",
    "\n",
    "\n"
   ]
  },
  {
   "cell_type": "code",
   "execution_count": null,
   "id": "3467eb26",
   "metadata": {},
   "outputs": [],
   "source": [
    "print('Number of Nodes:',ig_g.vcount())\n",
    "print('Number of Links:',ig_g.ecount())\n",
    "print('Average Degree:',np.mean(ig_g.degree()))\n",
    "print('Network Diameter:',ig_g.diameter())\n",
    "print('Average Path Length:',ig_g.average_path_length())"
   ]
  },
  {
   "cell_type": "code",
   "execution_count": null,
   "id": "9388b97f",
   "metadata": {},
   "outputs": [],
   "source": [
    "# Convert to NetworkX graph for visualization\n",
    "nx_g = g.as_networkx()"
   ]
  },
  {
   "cell_type": "code",
   "execution_count": null,
   "id": "70ef32d6",
   "metadata": {},
   "outputs": [],
   "source": [
    "# Visualize the NetworkX graph 'nx_g' using the Kamada-Kawai layout.\n",
    "nx.draw_kamada_kawai(nx_g)"
   ]
  },
  {
   "cell_type": "markdown",
   "id": "53c561c3",
   "metadata": {},
   "source": [
    "### Horizontal Visibility Graph (HVG) Network\n",
    "\n",
    "The Horizontal Visibility Graph (HVG) is a method used to transform a time series into a network. It's a specific type of visibility graph that focuses on horizontal visibility between data points.\n",
    "\n",
    "#### Concept\n",
    "\n",
    "The idea behind the HVG is similar to the general visibility graph, but with a specific criterion for visibility:\n",
    "\n",
    "- Each data point in the time series becomes a node in the graph.\n",
    "- Two nodes (or data points) are connected by an edge if they can \"see\" each other horizontally.\n",
    "\n",
    "The criterion for \"horizontal visibility\" between two data points is defined as follows: Two data points \\( $(n, a_n)$ \\) and \\( $(m, a_m)$ \\) are connected if every data point \\( k \\) between \\( n \\) and \\( m \\) satisfies the condition:\n",
    "> $a_k < \\min(a_n, a_m)$\n",
    "\n",
    "In simpler terms, if you can draw a horizontal line between two data points without intersecting the time series curve at any other point, then those two data points are said to be horizontally visible to each other, and hence, an edge is drawn between them.\n",
    "\n",
    "#### Conclusion\n",
    "\n",
    "The Horizontal Visibility Graph provides a unique way to study time series data by transforming it into a network. This transformation can help in revealing hidden patterns, periodicities, or structures in the data that might not be immediately evident from the time series alone.\n"
   ]
  },
  {
   "cell_type": "markdown",
   "id": "606df60a",
   "metadata": {},
   "source": [
    "#### Exercise 6 Building a Horizontal Visibility Graph"
   ]
  },
  {
   "cell_type": "code",
   "execution_count": null,
   "id": "6c167758",
   "metadata": {},
   "outputs": [],
   "source": [
    "# Step 1: Import Necessary Libraries\n",
    "import numpy as np\n",
    "import matplotlib.pyplot as plt\n",
    "import networkx as nx\n",
    "from ts2vg import HorizontalVG\n"
   ]
  },
  {
   "cell_type": "code",
   "execution_count": null,
   "id": "402f14cc",
   "metadata": {},
   "outputs": [],
   "source": [
    "ts = [1.0, 0.5, 0.3, 0.7, 1.0, 0.5, 0.3, 0.8]\n",
    "\n",
    "# Plot the generated time series\n",
    "plt.figure(figsize=(10, 5))\n",
    "plt.plot(ts)\n",
    "plt.title(\"Generated Time Series (Sine Wave)\")\n",
    "plt.xlabel(\"Time\")\n",
    "plt.ylabel(\"Value\")\n",
    "plt.grid(True)\n",
    "plt.show()"
   ]
  },
  {
   "cell_type": "code",
   "execution_count": null,
   "id": "76c4beb3",
   "metadata": {},
   "outputs": [],
   "source": [
    "# Create a HorizontalVG (Variable Grid) graph object.\n",
    "g = HorizontalVG()\n",
    "\n",
    "# Build the graph 'g' using the time series data 'ts'.\n",
    "g.build(ts)\n",
    "\n",
    "# Convert the HorizontalVG graph to an igraph object, 'ig_g'.\n",
    "ig_g = g.as_igraph()\n",
    "\n",
    "# Print the igraph object, which represents the graph.\n",
    "print(ig_g)"
   ]
  },
  {
   "cell_type": "code",
   "execution_count": null,
   "id": "215b5174",
   "metadata": {},
   "outputs": [],
   "source": [
    "print('Number of Nodes:',ig_g.vcount())\n",
    "print('Number of Links:',ig_g.ecount())\n",
    "print('Average Degree:',np.mean(ig_g.degree()))\n",
    "print('Network Diameter:',ig_g.diameter())\n",
    "print('Average Path Length:',ig_g.average_path_length())"
   ]
  },
  {
   "cell_type": "code",
   "execution_count": null,
   "id": "23467fbf",
   "metadata": {},
   "outputs": [],
   "source": [
    "# Convert the graph 'g' to a NetworkX graph, creating 'nx_g'.\n",
    "nx_g = g.as_networkx()\n",
    "\n",
    "# Visualize the NetworkX graph 'nx_g' using the Kamada-Kawai layout.\n",
    "nx.draw_kamada_kawai(nx_g)"
   ]
  },
  {
   "cell_type": "markdown",
   "id": "d3630e0e",
   "metadata": {},
   "source": [
    "#### Exercise 7 Building a Horizontal Visibility Graph from Apple Stock's Closing Price"
   ]
  },
  {
   "cell_type": "code",
   "execution_count": null,
   "id": "5aa61edf",
   "metadata": {},
   "outputs": [],
   "source": [
    "# Step 1: Import Necessary Libraries\n",
    "import numpy as np\n",
    "import pandas as pd\n",
    "import matplotlib.pyplot as plt\n",
    "import networkx as nx\n",
    "from ts2vg import HorizontalVG\n"
   ]
  },
  {
   "cell_type": "code",
   "execution_count": null,
   "id": "3b1c655f",
   "metadata": {},
   "outputs": [],
   "source": [
    "df_a = pd.read_csv('aapl.csv')\n",
    "\n",
    "# Now, let's plot our dataset to observe it\n",
    "df_a.plot('Date', 'Close', title='Time Series Line Graph', figsize=(10,8))\n",
    "plt.title(\"Apple Stock's Closing Price\")\n",
    "plt.xlabel(\"Date\")\n",
    "plt.ylabel(\"Value\")\n",
    "plt.grid(True)\n",
    "plt.show()"
   ]
  },
  {
   "cell_type": "code",
   "execution_count": null,
   "id": "45a31f37",
   "metadata": {},
   "outputs": [],
   "source": [
    "df_a = df_a.head(30)\n",
    "\n",
    "# Now, let's plot!\n",
    "df_a.plot('Date', 'Close', title='Time Series Line Graph', figsize=(10,8))\n",
    "plt.title(\"Apple Stock's Closing Price\")\n",
    "plt.xlabel(\"Date\")\n",
    "plt.ylabel(\"Value\")\n",
    "plt.grid(True)\n",
    "plt.show()\n"
   ]
  },
  {
   "cell_type": "code",
   "execution_count": null,
   "id": "4a59d36d",
   "metadata": {},
   "outputs": [],
   "source": [
    "# Create a HorizontalVG (Variable Grid) graph object.\n",
    "g = HorizontalVG()\n",
    "\n",
    "# Build the graph 'g' using data from the 'Close' column of DataFrame 'df_a'.\n",
    "g.build(df_a.Close)\n",
    "\n",
    "# Convert the HorizontalVG graph to an igraph object, 'ig_g'.\n",
    "ig_g = g.as_igraph()\n",
    "\n",
    "# Print the igraph object, which represents the graph.\n",
    "print(ig_g)\n"
   ]
  },
  {
   "cell_type": "code",
   "execution_count": null,
   "id": "14a56f3b",
   "metadata": {},
   "outputs": [],
   "source": [
    "print('Number of Nodes:',ig_g.vcount())\n",
    "print('Number of Links:',ig_g.ecount())\n",
    "print('Average Degree:',np.mean(ig_g.degree()))\n",
    "print('Network Diameter:',ig_g.diameter())\n",
    "print('Average Path Length:',ig_g.average_path_length())"
   ]
  },
  {
   "cell_type": "code",
   "execution_count": null,
   "id": "59c2f02a",
   "metadata": {},
   "outputs": [],
   "source": [
    "nx_g = g.as_networkx()"
   ]
  },
  {
   "cell_type": "code",
   "execution_count": null,
   "id": "d52a6900",
   "metadata": {},
   "outputs": [],
   "source": [
    "nx.draw_kamada_kawai(nx_g)"
   ]
  },
  {
   "cell_type": "markdown",
   "id": "66e4884b",
   "metadata": {},
   "source": [
    "### Recurrence Plot and Recurrence Quantification Analysis (RQA)\n",
    "\n",
    "### Recurrence Plot\n",
    "\n",
    "A **Recurrence Plot** (RP) is a graphical representation used to visualize recurrent patterns in time series data. It provides a way to visualize the behavior of dynamical systems and identify patterns, periodicities, and structures in the data.\n",
    "\n",
    "#### Basics:\n",
    "\n",
    "- The recurrence plot is a two-dimensional square plot of size \\($N \\times N$\\), where \\(N\\) is the number of data points in the time series.\n",
    "- Each point in the plot corresponds to a pair of time points in the time series.\n",
    "- A point \\($(i, j)$\\) is colored (or marked) if the state of the system at time \\(i\\) is close to its state at time \\(j\\), based on a predefined threshold.\n",
    "\n",
    "#### Applications:\n",
    "\n",
    "Recurrence plots are used in various domains, including:\n",
    "\n",
    "- **Physics**: To study the dynamics of physical systems.\n",
    "- **Biology**: To analyze biological signals like EEG or ECG.\n",
    "- **Economics**: To study financial time series.\n",
    "- **Climate Science**: To analyze climatic data and identify patterns.\n",
    "\n",
    "### Recurrence Quantification Analysis (RQA)\n",
    "\n",
    "**Recurrence Quantification Analysis** (RQA) is a method used to quantify the structures and patterns observed in a recurrence plot. It provides numerical measures that describe the complexity and determinism of the time series.\n",
    "\n",
    "#### Key Measures:\n",
    "\n",
    "1. **Recurrence Rate (RR)**: The proportion of recurrent points in the recurrence plot.\n",
    "2. **Determinism (DET)**: The proportion of recurrent points that form diagonal lines. It indicates the predictability of the system.\n",
    "3. **Laminarity (LAM)**: The proportion of recurrent points that form vertical or horizontal lines. It indicates the presence of laminar states or plateaus.\n",
    "4. **Trapping Time (TT)**: The average length of the vertical or horizontal lines. It indicates the average time the system stays in a state.\n",
    "5. **Divergence (DIV)**: The inverse of the longest diagonal line. It indicates the average time for the system to diverge from a state.\n",
    "\n",
    "#### Applications:\n",
    "\n",
    "RQA is used to:\n",
    "\n",
    "- Quantify the complexity of time series data.\n",
    "- Compare different time series or segments of a time series.\n",
    "- Identify transitions or changes in the dynamics of a system.\n",
    "\n",
    "#### Conclusion:\n",
    "\n",
    "Both the Recurrence Plot and Recurrence Quantification Analysis provide powerful tools for the analysis of time series data. While the Recurrence Plot offers a visual representation of the recurrent patterns in the data, RQA provides numerical measures that quantify these patterns, offering deeper insights into the dynamics of the system.\n"
   ]
  },
  {
   "cell_type": "markdown",
   "id": "9b779429",
   "metadata": {},
   "source": [
    "#### Exercise 8 Building a Recurrence Plot and Calculating RQA"
   ]
  },
  {
   "cell_type": "code",
   "execution_count": null,
   "id": "983309f2",
   "metadata": {},
   "outputs": [],
   "source": [
    "#!conda install -c conda-forge pyts"
   ]
  },
  {
   "cell_type": "code",
   "execution_count": null,
   "id": "e50e5464",
   "metadata": {},
   "outputs": [],
   "source": [
    "#!pip install numba"
   ]
  },
  {
   "cell_type": "code",
   "execution_count": null,
   "id": "96755aaa",
   "metadata": {},
   "outputs": [],
   "source": [
    "# Step 1: Import Necessary Libraries\n",
    "import numpy as np\n",
    "import matplotlib.pyplot as plt\n",
    "from pyts.image import RecurrencePlot\n",
    "import warnings \n",
    "# Settings the warnings to be ignored \n",
    "warnings.filterwarnings('ignore')\n"
   ]
  },
  {
   "cell_type": "code",
   "execution_count": null,
   "id": "4212eac8",
   "metadata": {},
   "outputs": [],
   "source": [
    "# Step 2: Generate the Time Series Dataset\n",
    "t = np.linspace(0, 10 * np.pi, 1000)  # Generate time values\n",
    "y = np.sin(t)  # Generate sine wave values\n",
    "\n",
    "# Plot the generated time series\n",
    "plt.figure(figsize=(10, 5))\n",
    "plt.plot(t, y)\n",
    "plt.title(\"Generated Time Series (Sine Wave)\")\n",
    "plt.xlabel(\"Time\")\n",
    "plt.ylabel(\"Value\")\n",
    "plt.grid(True)\n",
    "plt.show()\n"
   ]
  },
  {
   "cell_type": "code",
   "execution_count": null,
   "id": "8c7b3c38",
   "metadata": {},
   "outputs": [],
   "source": [
    "# Step 3: Construct the Recurrence Plot\n",
    "rp = RecurrencePlot(threshold='point', percentage=20)\n",
    "X_rp = rp.fit_transform(y.reshape(1, -1))\n",
    "\n",
    "# Visualize the Recurrence Plot\n",
    "plt.figure(figsize=(8, 8))\n",
    "plt.imshow(X_rp[0], cmap='binary', origin='lower')\n",
    "plt.title(\"Recurrence Plot\")\n",
    "plt.xlabel(\"Time\")\n",
    "plt.ylabel(\"Time\")\n",
    "plt.colorbar(label=\"Recurrence\")\n",
    "plt.tight_layout()\n",
    "plt.show()\n"
   ]
  },
  {
   "cell_type": "code",
   "execution_count": null,
   "id": "8d026460",
   "metadata": {},
   "outputs": [],
   "source": [
    "#!pip install pyrqa"
   ]
  },
  {
   "cell_type": "code",
   "execution_count": null,
   "id": "436efe1d",
   "metadata": {},
   "outputs": [],
   "source": [
    "from pyrqa.settings import Settings\n",
    "from pyrqa.neighbourhood import FixedRadius\n",
    "from pyrqa.computation import RQAComputation\n",
    "from pyrqa.time_series import TimeSeries\n",
    "from pyrqa.metric import EuclideanMetric"
   ]
  },
  {
   "cell_type": "code",
   "execution_count": null,
   "id": "eb581cbd",
   "metadata": {
    "scrolled": false
   },
   "outputs": [],
   "source": [
    "# Step 4: Calculate RQA Measures using pyRQA\n",
    "\n",
    "# Create a TimeSeries object\n",
    "time_series = TimeSeries(y, embedding_dimension=1, time_delay=1)\n",
    "\n",
    "# Define the settings for the RQA computation\n",
    "settings = Settings(time_series,\n",
    "                    neighbourhood=FixedRadius(0.5),\n",
    "                    similarity_measure=EuclideanMetric,\n",
    "                    theiler_corrector=1)\n",
    "\n",
    "# Compute the RQA measures\n",
    "computation = RQAComputation.create(settings, verbose=True)\n",
    "result = computation.run()\n",
    "\n",
    "# Print the resulting RQA analysis.\n",
    "np.float = float   \n",
    "print(result)\n"
   ]
  },
  {
   "cell_type": "markdown",
   "id": "72e23490",
   "metadata": {},
   "source": [
    "#### Exercise 9 Building a Recurrence Plot and Calculating RQA for AirPassengers Dataset"
   ]
  },
  {
   "cell_type": "code",
   "execution_count": null,
   "id": "d0e7c408",
   "metadata": {},
   "outputs": [],
   "source": [
    "# Step 1: Import Necessary Libraries\n",
    "import numpy as np\n",
    "import matplotlib.pyplot as plt\n",
    "import statsmodels.api as sm\n",
    "from pyrqa.settings import Settings\n",
    "from pyrqa.neighbourhood import FixedRadius\n",
    "from pyrqa.computation import RQAComputation\n",
    "from pyrqa.time_series import TimeSeries\n",
    "from pyts.image import RecurrencePlot\n"
   ]
  },
  {
   "cell_type": "code",
   "execution_count": null,
   "id": "ce70ead5",
   "metadata": {},
   "outputs": [],
   "source": [
    "# Step 2: Load and Visualize the AirPassengers Dataset\n",
    "data = sm.datasets.get_rdataset('AirPassengers').data\n",
    "passengers = data['value'].values\n",
    "\n",
    "plt.figure(figsize=(12, 6))\n",
    "plt.plot(data['time'], passengers)\n",
    "plt.title('AirPassengers Time Series')\n",
    "plt.xlabel('Year')\n",
    "plt.ylabel('Number of Passengers')\n",
    "plt.grid(True)\n",
    "plt.show()\n"
   ]
  },
  {
   "cell_type": "code",
   "execution_count": null,
   "id": "e0663ba8",
   "metadata": {},
   "outputs": [],
   "source": [
    "# Step 3: Construct the Recurrence Plot\n",
    "rp = RecurrencePlot(threshold='point', percentage=20)\n",
    "X_rp = rp.fit_transform(passengers.reshape(1, -1))\n",
    "\n",
    "plt.figure(figsize=(8, 8))\n",
    "plt.imshow(X_rp[0], cmap='binary', origin='lower')\n",
    "plt.title(\"Recurrence Plot\")\n",
    "plt.xlabel(\"Time\")\n",
    "plt.ylabel(\"Time\")\n",
    "plt.colorbar(label=\"Recurrence\")\n",
    "plt.tight_layout()\n",
    "plt.show()\n"
   ]
  },
  {
   "cell_type": "code",
   "execution_count": null,
   "id": "9c847744",
   "metadata": {},
   "outputs": [],
   "source": [
    "# Step 4: Calculate RQA Measures using pyRQA\n",
    "\n",
    "time_series = TimeSeries(passengers, embedding_dimension=1, time_delay=1)\n",
    "settings = Settings(time_series,\n",
    "                    neighbourhood=FixedRadius(0.5),\n",
    "                    similarity_measure=EuclideanMetric,\n",
    "                    theiler_corrector=1)\n",
    "computation = RQAComputation.create(settings, verbose=True)\n",
    "result = computation.run()\n",
    "\n",
    "print(result)\n"
   ]
  },
  {
   "cell_type": "markdown",
   "id": "8816cb25",
   "metadata": {},
   "source": [
    "### Recurrence Network\n",
    "\n",
    "A **Recurrence Network** is a complex network representation derived from a recurrence plot, which is a graphical tool used to visualize and analyze recurrent patterns in time series data. The concept of recurrence networks bridges the gap between nonlinear time series analysis and complex network theory.\n",
    "\n",
    "#### Basics of Recurrence:\n",
    "\n",
    "Recurrence is a fundamental property of many dynamical systems, where states that have been visited once are visited again. This property can be visualized using a recurrence plot, where a point (i, j) is plotted if the state of the system at time i is close to its state at time j.\n",
    "\n",
    "#### Constructing a Recurrence Network:\n",
    "\n",
    "A recurrence network is constructed from a recurrence plot by treating each time point in the time series as a node and connecting two nodes if there's a point in the recurrence plot corresponding to those two time points. In other words, two nodes (or time points) are connected if the states of the system at those times are close to each other.\n",
    "\n",
    "#### Characteristics and Measures:\n",
    "\n",
    "Recurrence networks can be characterized using various complex network measures, such as:\n",
    "\n",
    "1. **Clustering Coefficient**: Measures the degree to which nodes in a graph tend to cluster together.\n",
    "2. **Average Path Length**: Represents the average number of steps along the shortest paths for all possible pairs of network nodes.\n",
    "3. **Degree Distribution**: Shows the distribution of the number of connections each node has to other nodes.\n",
    "4. **Transitivity**: Measures the probability that the adjacent vertices of a vertex are connected.\n",
    "\n",
    "#### Applications:\n",
    "\n",
    "Recurrence networks have been applied in various domains to analyze time series data, including:\n",
    "\n",
    "- **Climate Science**: To study and detect climatic transitions and tipping points.\n",
    "- **Biology**: For analyzing patterns in biological data, such as heart rate or EEG signals.\n",
    "- **Physics**: To study the dynamics of various physical systems.\n",
    "- **Finance**: To analyze stock market data and understand market dynamics.\n",
    "\n",
    "#### Advantages:\n",
    "\n",
    "1. **Versatility**: Can be applied to any kind of time series data.\n",
    "2. **Insightful**: Provides insights into the dynamics of the system generating the time series.\n",
    "3. **Bridging Disciplines**: Combines techniques from nonlinear dynamics and network theory, allowing for a richer analysis.\n",
    "\n",
    "#### Conclusion:\n",
    "\n",
    "Recurrence networks provide a powerful tool for studying the dynamics of time series data. By transforming time series data into a network, one can gain insights into the recurrent patterns and underlying structures in the data, which might not be immediately evident from traditional time series analysis methods.\n"
   ]
  },
  {
   "cell_type": "markdown",
   "id": "2931ebf7",
   "metadata": {},
   "source": [
    "#### Exercise 10 Building, Visualizing, and Analyzing a Recurrence Network"
   ]
  },
  {
   "cell_type": "code",
   "execution_count": null,
   "id": "5d27bf2b",
   "metadata": {},
   "outputs": [],
   "source": [
    "# Step 1: Import Necessary Libraries\n",
    "import numpy as np\n",
    "import matplotlib.pyplot as plt\n",
    "import networkx as nx\n",
    "from pyts.image import RecurrencePlot\n"
   ]
  },
  {
   "cell_type": "code",
   "execution_count": null,
   "id": "d45e5007",
   "metadata": {},
   "outputs": [],
   "source": [
    "# Step 2: Generate the Time Series Dataset\n",
    "t = np.linspace(0, 4 * np.pi, 100)\n",
    "ts = np.sin(t) + np.cos(2*t)\n",
    "\n",
    "\n",
    "# Plot the generated time series\n",
    "plt.figure(figsize=(10, 5))\n",
    "plt.plot(ts)\n",
    "plt.title(\"Generated Time Series (Sine Wave)\")\n",
    "plt.xlabel(\"Time\")\n",
    "plt.ylabel(\"Value\")\n",
    "plt.grid(True)\n",
    "plt.show()"
   ]
  },
  {
   "cell_type": "code",
   "execution_count": null,
   "id": "1055c282",
   "metadata": {},
   "outputs": [],
   "source": [
    "# Step 3: Construct the Recurrence Plot\n",
    "rp_model = RecurrencePlot(threshold='point', percentage=20)\n",
    "X_rp = rp_model.fit_transform(np.array(ts).reshape(1, -1))\n",
    "\n",
    "plt.figure(figsize=(8, 8))\n",
    "plt.imshow(X_rp[0], cmap='binary', origin='lower')\n",
    "plt.title(\"Recurrence Plot\")\n",
    "plt.xlabel(\"Time\")\n",
    "plt.ylabel(\"Time\")\n",
    "plt.colorbar(label=\"Recurrence\")\n",
    "plt.tight_layout()\n",
    "plt.show()"
   ]
  },
  {
   "cell_type": "code",
   "execution_count": null,
   "id": "7ee852c5",
   "metadata": {},
   "outputs": [],
   "source": [
    "# Step 4: Transform the Recurrence Plot into a Recurrence Network\n",
    "G = nx.from_numpy_array(X_rp[0])\n"
   ]
  },
  {
   "cell_type": "code",
   "execution_count": null,
   "id": "6b57e08c",
   "metadata": {},
   "outputs": [],
   "source": [
    "# Step 5: Visualize the Recurrence Network\n",
    "plt.figure(figsize=(10, 10))\n",
    "pos = nx.spring_layout(G)\n",
    "nx.draw(G, pos, node_size=50, edge_color='gray')\n",
    "plt.title(\"Recurrence Network\")\n",
    "plt.show()\n"
   ]
  },
  {
   "cell_type": "code",
   "execution_count": null,
   "id": "6d70e496",
   "metadata": {},
   "outputs": [],
   "source": [
    "# Step 6: Calculate Network Measures\n",
    "avg_degree = np.mean(list(dict(G.degree()).values()))\n",
    "clustering_coefficient = nx.average_clustering(G)\n",
    "diameter = nx.diameter(G)\n",
    "\n",
    "print(f\"Average Degree: {avg_degree:.2f}\")\n",
    "print(f\"Average Clustering Coefficient: {clustering_coefficient:.2f}\")\n",
    "print(f\"Diameter of the Network: {diameter}\")\n"
   ]
  },
  {
   "cell_type": "markdown",
   "id": "c625ec9b",
   "metadata": {},
   "source": [
    "#### Exercise 11 Building and Analyzing a Recurrence Network from Apple's Stock Closing Price"
   ]
  },
  {
   "cell_type": "code",
   "execution_count": null,
   "id": "7ec19f6d",
   "metadata": {},
   "outputs": [],
   "source": [
    "# Step 1: Import Necessary Libraries\n",
    "import numpy as np\n",
    "import matplotlib.pyplot as plt\n",
    "import networkx as nx\n",
    "from pyts.image import RecurrencePlot\n"
   ]
  },
  {
   "cell_type": "code",
   "execution_count": null,
   "id": "6f089d8d",
   "metadata": {},
   "outputs": [],
   "source": [
    "df_a = pd.read_csv('aapl.csv')\n",
    "apple_stock_price = df_a['Close'].values\n",
    "\n",
    "# Now, let's plot our dataset to observe it\n",
    "plt.plot(apple_stock_price)\n",
    "plt.title(\"Apple Stock's Closing Price\")\n",
    "plt.ylabel(\"Value\")\n",
    "plt.grid(True)\n",
    "plt.show()"
   ]
  },
  {
   "cell_type": "code",
   "execution_count": null,
   "id": "b0dd3314",
   "metadata": {},
   "outputs": [],
   "source": [
    "# Step 3: Construct the Recurrence Plot\n",
    "rp_model = RecurrencePlot(threshold='point', percentage=20)\n",
    "X_rp = rp_model.fit_transform(np.array(apple_stock_price).reshape(1, -1))\n",
    "\n",
    "plt.figure(figsize=(8, 8))\n",
    "plt.imshow(X_rp[0], cmap='binary', origin='lower')\n",
    "plt.title(\"Recurrence Plot\")\n",
    "plt.xlabel(\"Time\")\n",
    "plt.ylabel(\"Time\")\n",
    "plt.colorbar(label=\"Recurrence\")\n",
    "plt.tight_layout()\n",
    "plt.show()"
   ]
  },
  {
   "cell_type": "code",
   "execution_count": null,
   "id": "dab21a17",
   "metadata": {},
   "outputs": [],
   "source": [
    "# Step 4: Transform the Recurrence Plot into a Recurrence Network\n",
    "G = nx.from_numpy_array(X_rp[0])"
   ]
  },
  {
   "cell_type": "code",
   "execution_count": null,
   "id": "9c0f0663",
   "metadata": {},
   "outputs": [],
   "source": [
    "# Step 5: Visualize the Recurrence Network\n",
    "plt.figure(figsize=(10, 10))\n",
    "pos = nx.spring_layout(G)\n",
    "nx.draw(G, pos, node_size=50, edge_color='gray')\n",
    "plt.title(\"Recurrence Network of Apple's Stock Closing Price\")\n",
    "plt.show()\n"
   ]
  },
  {
   "cell_type": "code",
   "execution_count": null,
   "id": "2e1c584b",
   "metadata": {},
   "outputs": [],
   "source": [
    "# Step 6: Calculate Network Measures\n",
    "avg_degree = np.mean(list(dict(G.degree()).values()))\n",
    "clustering_coefficient = nx.average_clustering(G)\n",
    "diameter = nx.diameter(G)\n",
    "\n",
    "print(f\"Average Degree: {avg_degree:.2f}\")\n",
    "print(f\"Average Clustering Coefficient: {clustering_coefficient:.2f}\")\n",
    "print(f\"Diameter of the Network: {diameter}\")\n"
   ]
  },
  {
   "cell_type": "markdown",
   "id": "be05c505",
   "metadata": {},
   "source": [
    "---"
   ]
  },
  {
   "cell_type": "markdown",
   "id": "11a761f3",
   "metadata": {},
   "source": [
    "#### Revised Date: November 18, 2023"
   ]
  },
  {
   "cell_type": "code",
   "execution_count": null,
   "id": "ab2cda9f",
   "metadata": {},
   "outputs": [],
   "source": []
  }
 ],
 "metadata": {
  "kernelspec": {
   "display_name": "Python 3 (ipykernel)",
   "language": "python",
   "name": "python3"
  },
  "language_info": {
   "codemirror_mode": {
    "name": "ipython",
    "version": 3
   },
   "file_extension": ".py",
   "mimetype": "text/x-python",
   "name": "python",
   "nbconvert_exporter": "python",
   "pygments_lexer": "ipython3",
   "version": "3.7.7"
  }
 },
 "nbformat": 4,
 "nbformat_minor": 5
}
