{
 "cells": [
  {
   "cell_type": "markdown",
   "metadata": {
    "id": "xj5BMCNqUUeY"
   },
   "source": [
    "# IE6400 Foundations for Data Analytics Engineering\n",
    "# Fall 2023\n",
    "### Module 2: Probability\n",
    "### - STUDENT VERSION -"
   ]
  },
  {
   "cell_type": "markdown",
   "metadata": {
    "id": "JQCtNI_XlEKO"
   },
   "source": [
    "#### Exercise 1 Probability of Drawing Two Consecutive Red Cards from Two Decks"
   ]
  },
  {
   "cell_type": "markdown",
   "metadata": {
    "id": "ajpMldQpbVxb"
   },
   "source": [
    "**Problem Statement:**\n",
    "Suppose you have two decks of playing cards, each containing 52 cards (standard decks). What is the probability of drawing two cards consecutively (without replacement) from the two decks and both cards being red (hearts or diamonds)?\n",
    "\n",
    "**Python Code:**"
   ]
  },
  {
   "cell_type": "code",
   "execution_count": null,
   "metadata": {},
   "outputs": [],
   "source": [
    "import matplotlib.pyplot as plt\n",
    "\n",
    "# Probability of drawing a red card from the first deck\n",
    "P_red_1 = 26/52\n",
    "\n",
    "# Probability of drawing a red card from the second deck (after drawing a red card from the first deck)\n",
    "P_red_2 = 25/51\n",
    "\n",
    "# Combined probability\n",
    "P_combined = P_red_1 * P_red_2\n",
    "\n",
    "# Visualization\n",
    "labels = ['Deck 1', 'Deck 2', 'Combined']\n",
    "probabilities = [P_red_1, P_red_2, P_combined]\n",
    "\n",
    "plt.bar(labels, probabilities, color=['red', 'blue', 'green'])\n",
    "plt.ylabel('Probability')\n",
    "plt.title('Probability of Drawing Red Cards Consecutively from Two Decks')\n",
    "plt.ylim(0, 1)\n",
    "plt.show()\n",
    "\n",
    "print(f\"Combined Probability: {P_combined:.4f}\")\n"
   ]
  },
  {
   "cell_type": "markdown",
   "metadata": {
    "id": "yxlPMbNFmALj"
   },
   "source": [
    "#### Exercise 2 Probability of Drawing a Spade and then a Heart from a Standard Deck"
   ]
  },
  {
   "cell_type": "markdown",
   "metadata": {
    "colab": {
     "base_uri": "https://localhost:8080/"
    },
    "id": "meyS1VeKf8j8",
    "outputId": "34326534-e409-4d01-a715-9cb8a4e0fad7"
   },
   "source": [
    "**Problem Statement:**  \n",
    "Suppose you have a standard deck of 52 playing cards. What is the probability of drawing a spade (one card) and then drawing a heart (without replacement)?\n",
    "\n",
    "**Solution:**  "
   ]
  },
  {
   "cell_type": "code",
   "execution_count": null,
   "metadata": {},
   "outputs": [],
   "source": [
    "import matplotlib.pyplot as plt\n",
    "\n",
    "# Probability of drawing a spade from the deck\n",
    "P_spade = 13/52\n",
    "\n",
    "# Probability of drawing a heart from the deck after drawing a spade\n",
    "P_heart_after_spade = 13/51\n",
    "\n",
    "# Combined probability\n",
    "P_combined_spade_heart = P_spade * P_heart_after_spade\n",
    "\n",
    "# Visualization\n",
    "labels = ['Spade', 'Heart after Spade', 'Combined']\n",
    "probabilities = [P_spade, P_heart_after_spade, P_combined_spade_heart]\n",
    "\n",
    "plt.bar(labels, probabilities, color=['black', 'red', 'purple'])\n",
    "plt.ylabel('Probability')\n",
    "plt.title('Probability of Drawing a Spade and then a Heart')\n",
    "plt.ylim(0, 1)\n",
    "plt.show()\n",
    "\n",
    "print(f\"Combined Probability: {P_combined_spade_heart:.4f}\")\n"
   ]
  },
  {
   "cell_type": "markdown",
   "metadata": {
    "id": "4n1GQ6FZOdGR"
   },
   "source": [
    "#### Exercise 3 Probability of Drawing At Least One Blue Marble"
   ]
  },
  {
   "cell_type": "markdown",
   "metadata": {
    "id": "adM-hHHjg8AA"
   },
   "source": [
    "**Problem Statement:**  \n",
    "A jar contains 30 marbles: 10 red, 15 blue, and 5 green. If you draw two marbles from the jar without replacement, what is the probability that at least one of them is blue?\n",
    "\n",
    "**Solution:**  "
   ]
  },
  {
   "cell_type": "code",
   "execution_count": null,
   "metadata": {},
   "outputs": [],
   "source": [
    "import matplotlib.pyplot as plt\n",
    "\n",
    "# Probability of drawing a non-blue marble on the first draw\n",
    "P_non_blue_1 = (10 + 5) / 30\n",
    "\n",
    "# Probability of drawing a non-blue marble on the second draw given that the first marble drawn was non-blue\n",
    "P_non_blue_2 = (10 + 5 - 1) / 29\n",
    "\n",
    "# Combined probability that neither marble is blue\n",
    "P_neither_blue = P_non_blue_1 * P_non_blue_2\n",
    "\n",
    "# Probability that at least one marble is blue\n",
    "P_at_least_one_blue = 1 - P_neither_blue\n",
    "\n",
    "# Visualization\n",
    "labels = ['Neither Blue', 'At Least One Blue']\n",
    "probabilities = [P_neither_blue, P_at_least_one_blue]\n",
    "\n",
    "plt.bar(labels, probabilities, color=['grey', 'blue'])\n",
    "plt.ylabel('Probability')\n",
    "plt.title('Probability of Drawing At Least One Blue Marble')\n",
    "plt.ylim(0, 1)\n",
    "plt.show()\n",
    "\n",
    "print(f\"Probability of At Least One Blue Marble: {P_at_least_one_blue:.4f}\")\n"
   ]
  },
  {
   "cell_type": "markdown",
   "metadata": {},
   "source": [
    "#### Exercise 4"
   ]
  },
  {
   "cell_type": "markdown",
   "metadata": {
    "id": "RJxjrC2-PEQp"
   },
   "source": [
    "**Problem Statement:**\n",
    "Two dice are rolled. What is the probability that the sum of the numbers on the dice is either 7 or 11?"
   ]
  },
  {
   "cell_type": "code",
   "execution_count": null,
   "metadata": {},
   "outputs": [],
   "source": [
    "import matplotlib.pyplot as plt\n",
    "\n",
    "# Enumerate all possible outcomes when two dice are rolled\n",
    "outcomes = [(i, j) for i in range(1, 7) for j in range(1, 7)]\n",
    "\n",
    "# Count the number of outcomes where the sum is 7 or 11\n",
    "favorable_outcomes = sum(1 for i, j in outcomes if i + j == 7 or i + j == 11)\n",
    "\n",
    "# Total number of possible outcomes\n",
    "total_outcomes = len(outcomes)\n",
    "\n",
    "# Calculate the probability\n",
    "P_7_or_11 = favorable_outcomes / total_outcomes\n",
    "\n",
    "# Visualization\n",
    "labels = ['Sum of 7 or 11', 'Other Sums']\n",
    "probabilities = [P_7_or_11, 1 - P_7_or_11]\n",
    "\n",
    "plt.bar(labels, probabilities, color=['green', 'grey'])\n",
    "plt.ylabel('Probability')\n",
    "plt.title('Probability of Getting a Sum of 7 or 11')\n",
    "plt.ylim(0, 1)\n",
    "plt.show()\n",
    "\n",
    "print(f\"Probability of Getting a Sum of 7 or 11: {P_7_or_11:.4f}\")\n"
   ]
  },
  {
   "cell_type": "markdown",
   "metadata": {},
   "source": [
    "#### Exercise 5"
   ]
  },
  {
   "cell_type": "markdown",
   "metadata": {
    "id": "QnyWvZquP_05"
   },
   "source": [
    "**Problem Statement:** A deck of cards contains 52 cards. What is the probability of drawing a red card (hearts or diamonds) and then drawing a king from a standard deck without replacement?"
   ]
  },
  {
   "cell_type": "code",
   "execution_count": null,
   "metadata": {},
   "outputs": [],
   "source": [
    "import matplotlib.pyplot as plt\n",
    "\n",
    "# Probability of drawing a red card from the deck\n",
    "P_red = 26/52\n",
    "\n",
    "# Probability of drawing a king from the deck after drawing a red card\n",
    "P_king_after_red = 4/51\n",
    "\n",
    "# Combined probability\n",
    "P_combined_red_king = P_red * P_king_after_red\n",
    "\n",
    "# Visualization\n",
    "labels = ['Red Card', 'King after Red', 'Combined']\n",
    "probabilities = [P_red, P_king_after_red, P_combined_red_king]\n",
    "\n",
    "plt.bar(labels, probabilities, color=['red', 'gold', 'purple'])\n",
    "plt.ylabel('Probability')\n",
    "plt.title('Probability of Drawing a Red Card and then a King')\n",
    "plt.ylim(0, 1)\n",
    "plt.show()\n",
    "\n",
    "print(f\"Combined Probability: {P_combined_red_king:.4f}\")\n"
   ]
  },
  {
   "cell_type": "markdown",
   "metadata": {},
   "source": [
    "#### Exercise 6"
   ]
  },
  {
   "cell_type": "markdown",
   "metadata": {
    "id": "cdmic-WTZfbh"
   },
   "source": [
    "**Problem Statement:** Suppose you have a fair six-sided die. What is the probability of rolling a 4 on the first roll and then rolling a 6 on the second roll?"
   ]
  },
  {
   "cell_type": "code",
   "execution_count": null,
   "metadata": {},
   "outputs": [],
   "source": [
    "import matplotlib.pyplot as plt\n",
    "\n",
    "# Probability of rolling a 4 on the first roll\n",
    "P_4_first = 1/6\n",
    "\n",
    "# Probability of rolling a 6 on the second roll\n",
    "P_6_second = 1/6\n",
    "\n",
    "# Combined probability\n",
    "P_combined_4_6 = P_4_first * P_6_second\n",
    "\n",
    "# Visualization\n",
    "labels = ['Roll a 4', 'Roll a 6', 'Combined']\n",
    "probabilities = [P_4_first, P_6_second, P_combined_4_6]\n",
    "\n",
    "plt.bar(labels, probabilities, color=['blue', 'yellow', 'green'])\n",
    "plt.ylabel('Probability')\n",
    "plt.title('Probability of Rolling a 4 and then a 6')\n",
    "plt.ylim(0, 1)\n",
    "plt.show()\n",
    "\n",
    "print(f\"Combined Probability: {P_combined_4_6:.4f}\")\n"
   ]
  },
  {
   "cell_type": "markdown",
   "metadata": {},
   "source": [
    "#### Exercise 7"
   ]
  },
  {
   "cell_type": "markdown",
   "metadata": {
    "id": "_f7FS5mPbYKv"
   },
   "source": [
    "**Problem Statement:** In a deck of playing cards, what is the probability of drawing either a red card (hearts or diamonds) or a face card (king, queen, or jack)?"
   ]
  },
  {
   "cell_type": "code",
   "execution_count": null,
   "metadata": {},
   "outputs": [],
   "source": [
    "import matplotlib.pyplot as plt\n",
    "\n",
    "# Probability of drawing a red card from the deck\n",
    "P_red = 26/52\n",
    "\n",
    "# Probability of drawing a face card from the deck\n",
    "P_face = 12/52\n",
    "\n",
    "# Probability of drawing a red face card (intersection of the two events)\n",
    "P_red_face = 6/52  # 2 red suits * 3 face cards each\n",
    "\n",
    "# Combined probability using the formula for the union of two events\n",
    "P_combined_red_or_face = P_red + P_face - P_red_face\n",
    "\n",
    "# Visualization\n",
    "labels = ['Red Card', 'Face Card', 'Red Face Card', 'Red or Face Card']\n",
    "probabilities = [P_red, P_face, P_red_face, P_combined_red_or_face]\n",
    "\n",
    "plt.bar(labels, probabilities, color=['red', 'gold', 'purple', 'blue'])\n",
    "plt.ylabel('Probability')\n",
    "plt.title('Probability of Drawing a Red Card or a Face Card')\n",
    "plt.ylim(0, 1)\n",
    "plt.xticks(rotation=45)\n",
    "plt.show()\n",
    "\n",
    "print(f\"Combined Probability: {P_combined_red_or_face:.4f}\")\n"
   ]
  },
  {
   "cell_type": "markdown",
   "metadata": {
    "id": "mFyaXPE9cIV6"
   },
   "source": [
    "#### Exercise 8 \n",
    "\n",
    "**Problem Statement:** You have 5 different books, and you want to arrange them on a shelf. How many different ways can you arrange the books?"
   ]
  },
  {
   "cell_type": "code",
   "execution_count": null,
   "metadata": {},
   "outputs": [],
   "source": [
    "import math\n",
    "import matplotlib.pyplot as plt\n",
    "\n",
    "# Calculate the total number of arrangements\n",
    "arrangements = math.factorial(5)\n",
    "\n",
    "# Visualization\n",
    "positions = ['1st', '2nd', '3rd', '4th', '5th']\n",
    "choices = [5, 4, 3, 2, 1]\n",
    "\n",
    "plt.bar(positions, choices, color=['blue', 'green', 'red', 'purple', 'gold'])\n",
    "plt.ylabel('Number of Choices')\n",
    "plt.title('Number of Choices for Each Position')\n",
    "plt.ylim(0, 6)\n",
    "plt.show()\n",
    "\n",
    "print(f\"Total Arrangements: {arrangements}\")\n"
   ]
  },
  {
   "cell_type": "markdown",
   "metadata": {},
   "source": [
    "#### Exercise 9\n",
    "\n",
    "**Problem Statement:** A committee of 3 students is to be chosen from a group of 10 students. How many different committees can be formed?"
   ]
  },
  {
   "cell_type": "code",
   "execution_count": null,
   "metadata": {},
   "outputs": [],
   "source": [
    "import math\n",
    "import matplotlib.pyplot as plt\n",
    "\n",
    "# Calculate the number of ways to form the committee\n",
    "combinations = math.comb(10, 3)\n",
    "\n",
    "# Visualization\n",
    "committee_sizes = list(range(1, 11))\n",
    "combinations_for_sizes = [math.comb(10, size) for size in committee_sizes]\n",
    "\n",
    "plt.bar(committee_sizes, combinations_for_sizes, color='skyblue')\n",
    "plt.xlabel('Committee Size')\n",
    "plt.ylabel('Number of Combinations')\n",
    "plt.title('Number of Combinations for Different Committee Sizes')\n",
    "plt.xticks(committee_sizes)\n",
    "plt.show()\n",
    "\n",
    "print(f\"Number of ways to form a committee of 3 students out of 10: {combinations}\")\n"
   ]
  },
  {
   "cell_type": "markdown",
   "metadata": {},
   "source": [
    "#### Exercise 10\n",
    "\n",
    "**Problem Statement:** You have 6 different flavors of ice cream, and you want to create a 3-scoop ice cream cone. How many different combinations of ice cream cones can you create if the order of scoops matters (permutations) and if it doesn't matter (combinations)?"
   ]
  },
  {
   "cell_type": "code",
   "execution_count": null,
   "metadata": {},
   "outputs": [],
   "source": [
    "import math\n",
    "import matplotlib.pyplot as plt\n",
    "\n",
    "# Calculate the number of ways using permutations\n",
    "permutations = math.perm(6, 3)\n",
    "\n",
    "# Calculate the number of ways using combinations\n",
    "combinations = math.comb(6, 3)\n",
    "\n",
    "# Visualization\n",
    "labels = ['Permutations', 'Combinations']\n",
    "values = [permutations, combinations]\n",
    "\n",
    "plt.bar(labels, values, color=['lightblue', 'lightpink'])\n",
    "plt.ylabel('Number of Ways')\n",
    "plt.title('Number of Ways to Create a 3-Scoop Ice Cream Cone')\n",
    "plt.ylim(0, max(values) + 10)\n",
    "plt.show()\n",
    "\n",
    "print(f\"Number of ways (Permutations): {permutations}\")\n",
    "print(f\"Number of ways (Combinations): {combinations}\")\n"
   ]
  },
  {
   "cell_type": "markdown",
   "metadata": {},
   "source": [
    "#### Exercise 11\n",
    "\n",
    "**Problem Statement:** A basketball team consists of 12 players, and only 5 can play at a time. How many different starting lineups can the coach choose?"
   ]
  },
  {
   "cell_type": "code",
   "execution_count": null,
   "metadata": {},
   "outputs": [],
   "source": [
    "import math\n",
    "import matplotlib.pyplot as plt\n",
    "\n",
    "# Calculate the number of ways to form the starting lineup\n",
    "combinations = math.comb(12, 5)\n",
    "\n",
    "# Visualization\n",
    "lineup_sizes = list(range(1, 13))\n",
    "combinations_for_sizes = [math.comb(12, size) for size in lineup_sizes]\n",
    "\n",
    "plt.bar(lineup_sizes, combinations_for_sizes, color='orange')\n",
    "plt.xlabel('Lineup Size')\n",
    "plt.ylabel('Number of Combinations')\n",
    "plt.title('Number of Combinations for Different Lineup Sizes')\n",
    "plt.xticks(lineup_sizes)\n",
    "plt.show()\n",
    "\n",
    "print(f\"Number of ways to form a starting lineup of 5 players out of 12: {combinations}\")\n"
   ]
  },
  {
   "cell_type": "markdown",
   "metadata": {},
   "source": [
    "#### Exercise 12\n",
    "\n",
    "**Problem Statement:** A restaurant offers a menu with 10 appetizers, 15 main courses, and 8 desserts. How many different 3-course meals (1 appetizer, 1 main course, and 1 dessert) can a customer choose?"
   ]
  },
  {
   "cell_type": "code",
   "execution_count": null,
   "metadata": {},
   "outputs": [],
   "source": [
    "import matplotlib.pyplot as plt\n",
    "\n",
    "# Number of choices for each course\n",
    "appetizers = 10\n",
    "main_courses = 15\n",
    "desserts = 8\n",
    "\n",
    "# Calculate the total number of 3-course meals\n",
    "total_meals = appetizers * main_courses * desserts\n",
    "\n",
    "# Visualization\n",
    "labels = ['Appetizers', 'Main Courses', 'Desserts', 'Total 3-Course Meals']\n",
    "values = [appetizers, main_courses, desserts, total_meals]\n",
    "\n",
    "plt.bar(labels, values, color=['lightgreen', 'lightblue', 'lightpink', 'red'])\n",
    "plt.ylabel('Number of Choices')\n",
    "plt.title('Number of Choices for Each Course and Total 3-Course Meals')\n",
    "plt.show()\n",
    "\n",
    "print(f\"Total number of 3-course meals: {total_meals}\")\n"
   ]
  },
  {
   "cell_type": "markdown",
   "metadata": {
    "id": "zViyJ61FkZlM"
   },
   "source": [
    "#### Exercise 13\n",
    "\n",
    "**Problem Statement:** Create a function named cointoss(n). Where n indicates the number of times to toss a coin and 1 <= n <= 3\n",
    "\n",
    "\n",
    "![Screen Shot 2023-09-20 at 22.31.10.png](data:image/png;base64,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)\n"
   ]
  },
  {
   "cell_type": "code",
   "execution_count": null,
   "metadata": {},
   "outputs": [],
   "source": [
    "import random\n",
    "import matplotlib.pyplot as plt\n",
    "\n",
    "def cointoss(n):\n",
    "    if n < 1 or n > 3:\n",
    "        return 'Invalid number of tosses'\n",
    "    results = [random.choice(['Heads', 'Tails']) for _ in range(n)]\n",
    "    return results\n",
    "\n",
    "# Test the function with 3 tosses\n",
    "toss_results = cointoss(3)\n",
    "\n",
    "# Visualization\n",
    "heads_count = toss_results.count('Heads')\n",
    "tails_count = toss_results.count('Tails')\n",
    "\n",
    "plt.bar(['Heads', 'Tails'], [heads_count, tails_count], color=['blue', 'red'])\n",
    "plt.ylabel('Count')\n",
    "plt.title('Results of 3 Coin Tosses')\n",
    "plt.show()\n",
    "\n",
    "print(toss_results)\n"
   ]
  },
  {
   "cell_type": "markdown",
   "metadata": {
    "id": "nM7xYSjQmp1n"
   },
   "source": [
    "#### Exercise 14\n",
    "**Problem Statement:** Create a function named rolldie(n). Where n indicates the number of times to roll a die and 1 <= n <= 3\n",
    "\n",
    "\n",
    "![Screen Shot 2023-09-20 at 22.41.06.png](data:image/png;base64,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)\n",
    "\n",
    "\n"
   ]
  },
  {
   "cell_type": "code",
   "execution_count": null,
   "metadata": {},
   "outputs": [],
   "source": [
    "import random\n",
    "import matplotlib.pyplot as plt\n",
    "\n",
    "def rolldie(n):\n",
    "    if n < 1 or n > 3:\n",
    "        return 'Invalid number of rolls'\n",
    "    results = [random.randint(1, 6) for _ in range(n)]\n",
    "    return results\n",
    "\n",
    "# Test the function with 3 rolls\n",
    "die_results = rolldie(3)\n",
    "\n",
    "# Visualization\n",
    "outcomes = [1, 2, 3, 4, 5, 6]\n",
    "frequencies = [die_results.count(outcome) for outcome in outcomes]\n",
    "\n",
    "plt.bar(outcomes, frequencies, color='purple')\n",
    "plt.xlabel('Die Face')\n",
    "plt.ylabel('Frequency')\n",
    "plt.title('Results of 3 Die Rolls')\n",
    "plt.xticks(outcomes)\n",
    "plt.show()\n",
    "\n",
    "print(die_results)\n"
   ]
  },
  {
   "cell_type": "markdown",
   "metadata": {
    "id": "erlnssCdpexU"
   },
   "source": [
    "#### Exercise 15\n",
    "**Problem Statement:** Create a probspace(experiment, n) function where the experiment can be a cointoss or a rolldie. If the option selected is cointoss, then generate a sample space and the probability for the coin toss. If the option selected is rolldie then then generate a sample space and the probability for the same."
   ]
  },
  {
   "cell_type": "code",
   "execution_count": null,
   "metadata": {},
   "outputs": [],
   "source": [
    "import random\n",
    "import matplotlib.pyplot as plt\n",
    "\n",
    "def probspace(experiment, n):\n",
    "    if experiment == 'cointoss':\n",
    "        outcomes = ['Heads', 'Tails']\n",
    "        results = [random.choice(outcomes) for _ in range(n)]\n",
    "    elif experiment == 'rolldie':\n",
    "        outcomes = [1, 2, 3, 4, 5, 6]\n",
    "        results = [random.randint(1, 6) for _ in range(n)]\n",
    "    else:\n",
    "        return 'Invalid experiment'\n",
    "    \n",
    "    # Calculate probabilities\n",
    "    probabilities = {outcome: results.count(outcome) / n for outcome in outcomes}\n",
    "    return results, probabilities\n",
    "\n",
    "# Test the function with cointoss and 3 trials\n",
    "experiment_results, experiment_probabilities = probspace('cointoss', 3)\n",
    "\n",
    "# Visualization\n",
    "labels = list(experiment_probabilities.keys())\n",
    "values = list(experiment_probabilities.values())\n",
    "\n",
    "plt.bar(labels, values, color=['blue', 'red'])\n",
    "plt.ylabel('Probability')\n",
    "plt.title('Probabilities for Coin Toss')\n",
    "plt.show()\n",
    "\n",
    "print(experiment_results, experiment_probabilities)\n"
   ]
  },
  {
   "cell_type": "code",
   "execution_count": null,
   "metadata": {},
   "outputs": [],
   "source": [
    "# Test the function with rolldie and 3 trials\n",
    "experiment_results_die, experiment_probabilities_die = probspace('rolldie', 3)\n",
    "\n",
    "# Visualization for rolldie\n",
    "labels_die = list(experiment_probabilities_die.keys())\n",
    "values_die = list(experiment_probabilities_die.values())\n",
    "\n",
    "plt.bar(labels_die, values_die, color=['green', 'blue', 'red', 'yellow', 'purple', 'orange'])\n",
    "plt.ylabel('Probability')\n",
    "plt.title('Probabilities for Die Roll')\n",
    "plt.xticks(labels_die)\n",
    "plt.show()\n",
    "\n",
    "print(experiment_results_die, experiment_probabilities_die)\n"
   ]
  },
  {
   "cell_type": "markdown",
   "metadata": {
    "id": "uLXuTOItTTV6"
   },
   "source": [
    "#### Exercise 16\n",
    "Suppose the height (in centimeters) of adult males in a population follows a normal distribution with a mean (μ) of 175 cm and a standard deviation (σ) of 7 cm. Calculate the probability that a randomly selected adult male is between 165 cm and 185 cm tall."
   ]
  },
  {
   "cell_type": "code",
   "execution_count": null,
   "metadata": {},
   "outputs": [],
   "source": [
    "import numpy as np\n",
    "import scipy.stats as stats\n",
    "import matplotlib.pyplot as plt\n",
    "\n",
    "# Given parameters\n",
    "mu = 175  # mean\n",
    "sigma = 7  # standard deviation\n",
    "\n",
    "# Z-score calculation\n",
    "z_score_165 = (165 - mu) / sigma\n",
    "z_score_185 = (185 - mu) / sigma\n",
    "\n",
    "# Calculate the probability using the cumulative distribution function (CDF)\n",
    "probability = stats.norm.cdf(z_score_185) - stats.norm.cdf(z_score_165)\n",
    "\n",
    "# Visualization\n",
    "x = np.linspace(mu - 4*sigma, mu + 4*sigma, 1000)\n",
    "y = stats.norm.pdf(x, mu, sigma)\n",
    "\n",
    "plt.plot(x, y, 'r-', lw=2)\n",
    "plt.fill_between(x, y, where=((x > 165) & (x < 185)), color='skyblue', alpha=0.4)\n",
    "plt.title('Normal Distribution of Adult Male Heights')\n",
    "plt.xlabel('Height (cm)')\n",
    "plt.ylabel('Probability Density')\n",
    "plt.grid(True)\n",
    "plt.show()\n",
    "\n",
    "print(f\"Probability that a randomly selected adult male is between 165 cm and 185 cm tall: {probability:.4f}\")\n"
   ]
  },
  {
   "cell_type": "markdown",
   "metadata": {
    "id": "PdYjsU5NsmR-"
   },
   "source": [
    "#### Exercise 17 Probability Density Function (PDF) for Adult Heights"
   ]
  },
  {
   "cell_type": "markdown",
   "metadata": {},
   "source": [
    "**Problem Statement:**  \n",
    "Given a dataset of adult heights, calculate the probability density function (PDF) for the height of adults within a certain range."
   ]
  },
  {
   "cell_type": "code",
   "execution_count": null,
   "metadata": {},
   "outputs": [],
   "source": [
    "import numpy as np\n",
    "import matplotlib.pyplot as plt\n",
    "\n",
    "# Set a random seed for reproducibility\n",
    "np.random.seed(0)\n",
    "\n",
    "# Generate a synthetic dataset of adult heights (normally distributed)\n",
    "# You can adjust the mean and standard deviation as needed\n",
    "mean_height = 170  # Mean height in centimeters\n",
    "std_deviation = 10  # Standard deviation in centimeters\n",
    "num_samples = 1000  # Number of data points\n",
    "\n",
    "# Generate random heights following a normal distribution\n",
    "heights_data = np.random.normal(mean_height, std_deviation, num_samples)\n",
    "\n",
    "# Specify the desired height range\n",
    "min_height = 150  # Minimum height in centimeters\n",
    "max_height = 190  # Maximum height in centimeters\n",
    "\n",
    "# Filter the data to include only heights within the specified range\n",
    "filtered_heights = heights_data[(heights_data >= min_height) & (heights_data <= max_height)]\n",
    "\n",
    "# Create a histogram to estimate the PDF\n",
    "# Adjust the number of bins as needed for smoothness\n",
    "hist, bin_edges = np.histogram(filtered_heights, bins=20, density=True)\n",
    "\n",
    "# Calculate the bin width for later use in normalization\n",
    "bin_width = bin_edges[1] - bin_edges[0]\n",
    "\n",
    "# Normalize the histogram values to obtain the PDF\n",
    "pdf = hist / (bin_width * np.sum(hist))\n",
    "\n",
    "# Create a plot to visualize the PDF\n",
    "plt.figure(figsize=(8, 6))\n",
    "plt.bar(bin_edges[:-1], pdf, width=bin_width, align='edge')\n",
    "plt.title('Probability Density Function (PDF) of Adult Heights')\n",
    "plt.xlabel('Height (cm)')\n",
    "plt.ylabel('Probability Density')\n",
    "plt.grid(True)\n",
    "plt.show()\n"
   ]
  },
  {
   "cell_type": "markdown",
   "metadata": {
    "id": "fmDDl4Kqtl3-"
   },
   "source": [
    "#### Exercise 18 Probability of Height Between 165 cm and 185 cm"
   ]
  },
  {
   "cell_type": "markdown",
   "metadata": {
    "id": "zGjL7Rpgufqj"
   },
   "source": [
    "**Problem Statement:**  \n",
    "Suppose the height (in centimeters) of adult males in a population follows a normal distribution with a mean (μ) of 175 cm and a standard deviation (σ) of 7 cm. Calculate the probability that a randomly selected adult male is between 165 cm and 185 cm tall."
   ]
  },
  {
   "cell_type": "code",
   "execution_count": null,
   "metadata": {},
   "outputs": [],
   "source": [
    "import numpy as np\n",
    "import matplotlib.pyplot as plt\n",
    "import scipy.stats as stats\n",
    "\n",
    "# Define the parameters of the normal distribution\n",
    "mean_height = 175  # Mean (μ) in centimeters\n",
    "std_deviation = 7  # Standard deviation (σ) in centimeters\n",
    "\n",
    "# Specify the height range of interest\n",
    "min_height = 165  # Minimum height in centimeters\n",
    "max_height = 185  # Maximum height in centimeters\n",
    "\n",
    "# Calculate the z-scores for the range\n",
    "z_score_min = (min_height - mean_height) / std_deviation\n",
    "z_score_max = (max_height - mean_height) / std_deviation\n",
    "\n",
    "# Calculate the probability using the cumulative distribution function (CDF)\n",
    "probability = stats.norm.cdf(z_score_max) - stats.norm.cdf(z_score_min)\n",
    "\n",
    "# Create a visual representation of the probability\n",
    "x = np.linspace(mean_height - 3 * std_deviation, mean_height + 3 * std_deviation, 1000)\n",
    "y = stats.norm.pdf(x, mean_height, std_deviation)\n",
    "\n",
    "plt.figure(figsize=(8, 6))\n",
    "plt.plot(x, y, label='Normal Distribution PDF', color='blue')\n",
    "plt.fill_between(x, 0, y, where=(x >= min_height) & (x <= max_height), alpha=0.3, color='green', label='Probability')\n",
    "plt.title('Probability of Adult Male Heights')\n",
    "plt.xlabel('Height (cm)')\n",
    "plt.ylabel('Probability Density')\n",
    "plt.legend(loc='upper right')\n",
    "plt.grid(True)\n",
    "plt.show()\n",
    "\n",
    "# Output the calculated probability\n",
    "print(f\"Probability that a randomly selected adult male is between {min_height} cm and {max_height} cm tall: {probability:.4f}\")\n"
   ]
  },
  {
   "cell_type": "markdown",
   "metadata": {
    "id": "sFnjae6-Vt7f"
   },
   "source": [
    "#### Exercise 19 Probability of Having the Disease Given a Positive Test Result"
   ]
  },
  {
   "cell_type": "markdown",
   "metadata": {
    "id": "I4y6RWKqwGVe"
   },
   "source": [
    "**Problem Statement:**  \n",
    "A medical test is used to diagnose a rare disease. The test is 98% accurate when the disease is present and correctly identifies a healthy person 95% of the time. The disease occurs in 1% of the population. If a person tests positive, what is the probability that they actually have the disease?\n",
    "\n",
    "**Solution:** "
   ]
  },
  {
   "cell_type": "code",
   "execution_count": null,
   "metadata": {},
   "outputs": [],
   "source": [
    "# Define the probabilities\n",
    "p_disease = 0.01  # Probability that a person has the disease (1% of the population)\n",
    "p_no_disease = 1 - p_disease  # Probability that a person does not have the disease\n",
    "\n",
    "# Sensitivity (True Positive Rate): Probability that the test is positive given the disease is present\n",
    "p_positive_given_disease = 0.98\n",
    "\n",
    "# Specificity (True Negative Rate): Probability that the test is negative given the disease is not present\n",
    "p_negative_given_no_disease = 0.95\n",
    "\n",
    "# Calculate the probabilities using Bayes' Theorem\n",
    "# Probability that a person tests positive\n",
    "p_positive = (p_disease * p_positive_given_disease) + (p_no_disease * (1 - p_negative_given_no_disease))\n",
    "\n",
    "# Probability that a person has the disease given they tested positive\n",
    "p_disease_given_positive = (p_disease * p_positive_given_disease) / p_positive\n",
    "\n",
    "# Output the result\n",
    "print(f\"Probability that a person who tests positive actually has the disease: {p_disease_given_positive:.4f}\")\n"
   ]
  },
  {
   "cell_type": "markdown",
   "metadata": {
    "id": "HfcjjHVnvPhK"
   },
   "source": [
    "#### Exercise 20 Probability of a Defective Bulb Coming from Machine A"
   ]
  },
  {
   "cell_type": "markdown",
   "metadata": {},
   "source": [
    "**Problem Statement:**  \n",
    "A factory produces light bulbs using two machines (Machine A and Machine B). Machine A produces 60% of the bulbs, while Machine B produces 40%. Machine A's bulbs have a defect rate of 5%, while Machine B's bulbs have a defect rate of 3%. If a randomly selected bulb is defective, what is the probability that it came from Machine A?\n",
    "\n",
    "**Solution:**"
   ]
  },
  {
   "cell_type": "code",
   "execution_count": null,
   "metadata": {},
   "outputs": [],
   "source": [
    "# Define the probabilities and conditional probabilities\n",
    "p_machine_A = 0.60  # Probability that a bulb comes from Machine A (60%)\n",
    "p_machine_B = 0.40  # Probability that a bulb comes from Machine B (40%)\n",
    "\n",
    "p_defect_given_A = 0.05  # Probability of a defect given the bulb is from Machine A (5%)\n",
    "p_defect_given_B = 0.03  # Probability of a defect given the bulb is from Machine B (3%)\n",
    "\n",
    "# Calculate the marginal probability of a defective bulb\n",
    "p_defect = (p_machine_A * p_defect_given_A) + (p_machine_B * p_defect_given_B)\n",
    "\n",
    "# Calculate the conditional probability that the bulb came from Machine A given it is defective\n",
    "p_machine_A_given_defect = (p_machine_A * p_defect_given_A) / p_defect\n",
    "\n",
    "# Output the result\n",
    "print(f\"Probability that a randomly selected defective bulb came from Machine A: {p_machine_A_given_defect:.4f}\")\n"
   ]
  },
  {
   "cell_type": "markdown",
   "metadata": {},
   "source": [
    "---"
   ]
  },
  {
   "cell_type": "markdown",
   "metadata": {},
   "source": [
    "Revised Date: October 21, 2023"
   ]
  },
  {
   "cell_type": "code",
   "execution_count": null,
   "metadata": {},
   "outputs": [],
   "source": []
  }
 ],
 "metadata": {
  "colab": {
   "provenance": []
  },
  "kernelspec": {
   "display_name": "Python 3 (ipykernel)",
   "language": "python",
   "name": "python3"
  },
  "language_info": {
   "codemirror_mode": {
    "name": "ipython",
    "version": 3
   },
   "file_extension": ".py",
   "mimetype": "text/x-python",
   "name": "python",
   "nbconvert_exporter": "python",
   "pygments_lexer": "ipython3",
   "version": "3.9.7"
  }
 },
 "nbformat": 4,
 "nbformat_minor": 1
}
