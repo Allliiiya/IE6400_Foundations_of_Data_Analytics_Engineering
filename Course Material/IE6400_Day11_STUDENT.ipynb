{
 "cells": [
  {
   "cell_type": "markdown",
   "id": "8b7EUgKNZ2jk",
   "metadata": {
    "id": "8b7EUgKNZ2jk"
   },
   "source": [
    "# IE6400 Foundations for Data Analytics Engineering\n",
    "# Fall 2023\n",
    "### Module 2: Regression and Prediction\n",
    "#### - STUDENT VERSION -"
   ]
  },
  {
   "cell_type": "code",
   "execution_count": 1,
   "id": "-H3ls_qpfIN6",
   "metadata": {
    "colab": {
     "base_uri": "https://localhost:8080/"
    },
    "id": "-H3ls_qpfIN6",
    "outputId": "3323c2fe-3c44-448c-fd34-836b2dd5fd2c"
   },
   "outputs": [
    {
     "name": "stdout",
     "output_type": "stream",
     "text": [
      "Requirement already satisfied: matplotlib in /Users/skyleraliya/opt/anaconda3/lib/python3.9/site-packages (3.7.2)\n",
      "Requirement already satisfied: pandas in /Users/skyleraliya/opt/anaconda3/lib/python3.9/site-packages (1.4.4)\n",
      "Requirement already satisfied: numpy in /Users/skyleraliya/opt/anaconda3/lib/python3.9/site-packages (1.24.3)\n",
      "Requirement already satisfied: seaborn in /Users/skyleraliya/opt/anaconda3/lib/python3.9/site-packages (0.12.2)\n",
      "Requirement already satisfied: scikit-learn in /Users/skyleraliya/opt/anaconda3/lib/python3.9/site-packages (1.2.2)\n",
      "Requirement already satisfied: statsmodels in /Users/skyleraliya/opt/anaconda3/lib/python3.9/site-packages (0.14.0)\n",
      "Requirement already satisfied: contourpy>=1.0.1 in /Users/skyleraliya/opt/anaconda3/lib/python3.9/site-packages (from matplotlib) (1.0.5)\n",
      "Requirement already satisfied: cycler>=0.10 in /Users/skyleraliya/opt/anaconda3/lib/python3.9/site-packages (from matplotlib) (0.11.0)\n",
      "Requirement already satisfied: fonttools>=4.22.0 in /Users/skyleraliya/opt/anaconda3/lib/python3.9/site-packages (from matplotlib) (4.25.0)\n",
      "Requirement already satisfied: kiwisolver>=1.0.1 in /Users/skyleraliya/opt/anaconda3/lib/python3.9/site-packages (from matplotlib) (1.4.4)\n",
      "Requirement already satisfied: packaging>=20.0 in /Users/skyleraliya/opt/anaconda3/lib/python3.9/site-packages (from matplotlib) (23.1)\n",
      "Requirement already satisfied: pillow>=6.2.0 in /Users/skyleraliya/opt/anaconda3/lib/python3.9/site-packages (from matplotlib) (9.4.0)\n",
      "Requirement already satisfied: pyparsing<3.1,>=2.3.1 in /Users/skyleraliya/opt/anaconda3/lib/python3.9/site-packages (from matplotlib) (3.0.9)\n",
      "Requirement already satisfied: python-dateutil>=2.7 in /Users/skyleraliya/opt/anaconda3/lib/python3.9/site-packages (from matplotlib) (2.8.2)\n",
      "Requirement already satisfied: importlib-resources>=3.2.0 in /Users/skyleraliya/opt/anaconda3/lib/python3.9/site-packages (from matplotlib) (5.2.0)\n",
      "Requirement already satisfied: pytz>=2020.1 in /Users/skyleraliya/opt/anaconda3/lib/python3.9/site-packages (from pandas) (2023.3.post1)\n",
      "Requirement already satisfied: scipy>=1.3.2 in /Users/skyleraliya/opt/anaconda3/lib/python3.9/site-packages (from scikit-learn) (1.10.0)\n",
      "Requirement already satisfied: joblib>=1.1.1 in /Users/skyleraliya/opt/anaconda3/lib/python3.9/site-packages (from scikit-learn) (1.2.0)\n",
      "Requirement already satisfied: threadpoolctl>=2.0.0 in /Users/skyleraliya/opt/anaconda3/lib/python3.9/site-packages (from scikit-learn) (2.2.0)\n",
      "Requirement already satisfied: patsy>=0.5.2 in /Users/skyleraliya/opt/anaconda3/lib/python3.9/site-packages (from statsmodels) (0.5.3)\n",
      "Requirement already satisfied: zipp>=3.1.0 in /Users/skyleraliya/opt/anaconda3/lib/python3.9/site-packages (from importlib-resources>=3.2.0->matplotlib) (3.11.0)\n",
      "Requirement already satisfied: six in /Users/skyleraliya/opt/anaconda3/lib/python3.9/site-packages (from patsy>=0.5.2->statsmodels) (1.16.0)\n"
     ]
    }
   ],
   "source": [
    "!pip install matplotlib pandas numpy seaborn scikit-learn statsmodels"
   ]
  },
  {
   "cell_type": "code",
   "execution_count": 2,
   "id": "d1da2b2d",
   "metadata": {
    "_cell_guid": "b1076dfc-b9ad-4769-8c92-a6c4dae69d19",
    "_uuid": "8f2839f25d086af736a60e9eeb907d3b93b6e0e5",
    "execution": {
     "iopub.execute_input": "2021-10-25T02:53:57.501653Z",
     "iopub.status.busy": "2021-10-25T02:53:57.499845Z",
     "iopub.status.idle": "2021-10-25T02:53:57.527298Z",
     "shell.execute_reply": "2021-10-25T02:53:57.526519Z",
     "shell.execute_reply.started": "2021-10-24T10:10:03.511041Z"
    },
    "id": "d1da2b2d",
    "papermill": {
     "duration": 0.081932,
     "end_time": "2021-10-25T02:53:57.527508",
     "exception": false,
     "start_time": "2021-10-25T02:53:57.445576",
     "status": "completed"
    },
    "tags": []
   },
   "outputs": [],
   "source": [
    "import numpy as np # linear algebra\n",
    "import pandas as pd # data processing, CSV file I/O (e.g. pd.read_csv)"
   ]
  },
  {
   "cell_type": "markdown",
   "id": "80475c81",
   "metadata": {
    "id": "80475c81",
    "papermill": {
     "duration": 0.050766,
     "end_time": "2021-10-25T02:53:57.630883",
     "exception": false,
     "start_time": "2021-10-25T02:53:57.580117",
     "status": "completed"
    },
    "tags": []
   },
   "source": [
    "#### Exercise 1 Simple Linear Regression Model"
   ]
  },
  {
   "cell_type": "code",
   "execution_count": 3,
   "id": "b8fa7c37",
   "metadata": {
    "execution": {
     "iopub.execute_input": "2021-10-25T02:53:57.739051Z",
     "iopub.status.busy": "2021-10-25T02:53:57.737098Z",
     "iopub.status.idle": "2021-10-25T02:53:57.752088Z",
     "shell.execute_reply": "2021-10-25T02:53:57.752625Z",
     "shell.execute_reply.started": "2021-10-24T10:10:03.53498Z"
    },
    "id": "b8fa7c37",
    "papermill": {
     "duration": 0.070538,
     "end_time": "2021-10-25T02:53:57.752821",
     "exception": false,
     "start_time": "2021-10-25T02:53:57.682283",
     "status": "completed"
    },
    "tags": []
   },
   "outputs": [],
   "source": [
    "#loading the dataset..\n",
    "df = pd.read_csv('advertising.csv')"
   ]
  },
  {
   "cell_type": "code",
   "execution_count": 4,
   "id": "688a18ba",
   "metadata": {
    "colab": {
     "base_uri": "https://localhost:8080/",
     "height": 206
    },
    "execution": {
     "iopub.execute_input": "2021-10-25T02:53:57.865757Z",
     "iopub.status.busy": "2021-10-25T02:53:57.864737Z",
     "iopub.status.idle": "2021-10-25T02:53:57.880967Z",
     "shell.execute_reply": "2021-10-25T02:53:57.881592Z",
     "shell.execute_reply.started": "2021-10-24T10:10:03.547492Z"
    },
    "id": "688a18ba",
    "outputId": "f70e206c-806b-4cbe-fdf1-333ce54f1044",
    "papermill": {
     "duration": 0.077179,
     "end_time": "2021-10-25T02:53:57.881787",
     "exception": false,
     "start_time": "2021-10-25T02:53:57.804608",
     "status": "completed"
    },
    "tags": []
   },
   "outputs": [
    {
     "data": {
      "text/html": [
       "<div>\n",
       "<style scoped>\n",
       "    .dataframe tbody tr th:only-of-type {\n",
       "        vertical-align: middle;\n",
       "    }\n",
       "\n",
       "    .dataframe tbody tr th {\n",
       "        vertical-align: top;\n",
       "    }\n",
       "\n",
       "    .dataframe thead th {\n",
       "        text-align: right;\n",
       "    }\n",
       "</style>\n",
       "<table border=\"1\" class=\"dataframe\">\n",
       "  <thead>\n",
       "    <tr style=\"text-align: right;\">\n",
       "      <th></th>\n",
       "      <th>TV</th>\n",
       "      <th>Radio</th>\n",
       "      <th>Newspaper</th>\n",
       "      <th>Sales</th>\n",
       "    </tr>\n",
       "  </thead>\n",
       "  <tbody>\n",
       "    <tr>\n",
       "      <th>0</th>\n",
       "      <td>230.1</td>\n",
       "      <td>37.8</td>\n",
       "      <td>69.2</td>\n",
       "      <td>22.1</td>\n",
       "    </tr>\n",
       "    <tr>\n",
       "      <th>1</th>\n",
       "      <td>44.5</td>\n",
       "      <td>39.3</td>\n",
       "      <td>45.1</td>\n",
       "      <td>10.4</td>\n",
       "    </tr>\n",
       "    <tr>\n",
       "      <th>2</th>\n",
       "      <td>17.2</td>\n",
       "      <td>45.9</td>\n",
       "      <td>69.3</td>\n",
       "      <td>12.0</td>\n",
       "    </tr>\n",
       "    <tr>\n",
       "      <th>3</th>\n",
       "      <td>151.5</td>\n",
       "      <td>41.3</td>\n",
       "      <td>58.5</td>\n",
       "      <td>16.5</td>\n",
       "    </tr>\n",
       "    <tr>\n",
       "      <th>4</th>\n",
       "      <td>180.8</td>\n",
       "      <td>10.8</td>\n",
       "      <td>58.4</td>\n",
       "      <td>17.9</td>\n",
       "    </tr>\n",
       "  </tbody>\n",
       "</table>\n",
       "</div>"
      ],
      "text/plain": [
       "      TV  Radio  Newspaper  Sales\n",
       "0  230.1   37.8       69.2   22.1\n",
       "1   44.5   39.3       45.1   10.4\n",
       "2   17.2   45.9       69.3   12.0\n",
       "3  151.5   41.3       58.5   16.5\n",
       "4  180.8   10.8       58.4   17.9"
      ]
     },
     "execution_count": 4,
     "metadata": {},
     "output_type": "execute_result"
    }
   ],
   "source": [
    "# first five rows\n",
    "df.head(5)"
   ]
  },
  {
   "cell_type": "code",
   "execution_count": 5,
   "id": "f3c4ee15",
   "metadata": {
    "execution": {
     "iopub.execute_input": "2021-10-25T02:53:57.997642Z",
     "iopub.status.busy": "2021-10-25T02:53:57.996564Z",
     "iopub.status.idle": "2021-10-25T02:53:58.006730Z",
     "shell.execute_reply": "2021-10-25T02:53:58.007247Z",
     "shell.execute_reply.started": "2021-10-24T10:10:03.571635Z"
    },
    "id": "f3c4ee15",
    "papermill": {
     "duration": 0.074206,
     "end_time": "2021-10-25T02:53:58.007490",
     "exception": false,
     "start_time": "2021-10-25T02:53:57.933284",
     "status": "completed"
    },
    "tags": []
   },
   "outputs": [
    {
     "data": {
      "text/html": [
       "<div>\n",
       "<style scoped>\n",
       "    .dataframe tbody tr th:only-of-type {\n",
       "        vertical-align: middle;\n",
       "    }\n",
       "\n",
       "    .dataframe tbody tr th {\n",
       "        vertical-align: top;\n",
       "    }\n",
       "\n",
       "    .dataframe thead th {\n",
       "        text-align: right;\n",
       "    }\n",
       "</style>\n",
       "<table border=\"1\" class=\"dataframe\">\n",
       "  <thead>\n",
       "    <tr style=\"text-align: right;\">\n",
       "      <th></th>\n",
       "      <th>TV</th>\n",
       "      <th>Sales</th>\n",
       "    </tr>\n",
       "  </thead>\n",
       "  <tbody>\n",
       "    <tr>\n",
       "      <th>0</th>\n",
       "      <td>230.1</td>\n",
       "      <td>22.1</td>\n",
       "    </tr>\n",
       "    <tr>\n",
       "      <th>1</th>\n",
       "      <td>44.5</td>\n",
       "      <td>10.4</td>\n",
       "    </tr>\n",
       "    <tr>\n",
       "      <th>2</th>\n",
       "      <td>17.2</td>\n",
       "      <td>12.0</td>\n",
       "    </tr>\n",
       "    <tr>\n",
       "      <th>3</th>\n",
       "      <td>151.5</td>\n",
       "      <td>16.5</td>\n",
       "    </tr>\n",
       "    <tr>\n",
       "      <th>4</th>\n",
       "      <td>180.8</td>\n",
       "      <td>17.9</td>\n",
       "    </tr>\n",
       "  </tbody>\n",
       "</table>\n",
       "</div>"
      ],
      "text/plain": [
       "      TV  Sales\n",
       "0  230.1   22.1\n",
       "1   44.5   10.4\n",
       "2   17.2   12.0\n",
       "3  151.5   16.5\n",
       "4  180.8   17.9"
      ]
     },
     "execution_count": 5,
     "metadata": {},
     "output_type": "execute_result"
    }
   ],
   "source": [
    "#drop radio and newspaper column from df since we need to predict sales of tv those columns are nont needed\n",
    "df.drop(columns=['Radio','Newspaper'],inplace=True,axis=1)\n",
    "df.head()"
   ]
  },
  {
   "cell_type": "code",
   "execution_count": 6,
   "id": "565ab854",
   "metadata": {
    "colab": {
     "base_uri": "https://localhost:8080/"
    },
    "execution": {
     "iopub.execute_input": "2021-10-25T02:53:58.136291Z",
     "iopub.status.busy": "2021-10-25T02:53:58.135583Z",
     "iopub.status.idle": "2021-10-25T02:53:58.138392Z",
     "shell.execute_reply": "2021-10-25T02:53:58.138921Z",
     "shell.execute_reply.started": "2021-10-24T10:10:03.581705Z"
    },
    "id": "565ab854",
    "outputId": "27388af2-fcd1-4440-e446-81cea82a26df",
    "papermill": {
     "duration": 0.063103,
     "end_time": "2021-10-25T02:53:58.139147",
     "exception": false,
     "start_time": "2021-10-25T02:53:58.076044",
     "status": "completed"
    },
    "tags": []
   },
   "outputs": [
    {
     "data": {
      "text/plain": [
       "(200, 2)"
      ]
     },
     "execution_count": 6,
     "metadata": {},
     "output_type": "execute_result"
    }
   ],
   "source": [
    "# View the dimensions of df\n",
    "df.shape"
   ]
  },
  {
   "cell_type": "code",
   "execution_count": 7,
   "id": "4ce570cc",
   "metadata": {
    "colab": {
     "base_uri": "https://localhost:8080/"
    },
    "execution": {
     "iopub.execute_input": "2021-10-25T02:53:58.368946Z",
     "iopub.status.busy": "2021-10-25T02:53:58.368220Z",
     "iopub.status.idle": "2021-10-25T02:53:58.382059Z",
     "shell.execute_reply": "2021-10-25T02:53:58.381418Z",
     "shell.execute_reply.started": "2021-10-24T10:10:03.630797Z"
    },
    "id": "4ce570cc",
    "outputId": "565f27df-4c65-40c5-bb37-4845cfd4f6b0",
    "papermill": {
     "duration": 0.074896,
     "end_time": "2021-10-25T02:53:58.382247",
     "exception": false,
     "start_time": "2021-10-25T02:53:58.307351",
     "status": "completed"
    },
    "tags": []
   },
   "outputs": [
    {
     "name": "stdout",
     "output_type": "stream",
     "text": [
      "<class 'pandas.core.frame.DataFrame'>\n",
      "RangeIndex: 200 entries, 0 to 199\n",
      "Data columns (total 2 columns):\n",
      " #   Column  Non-Null Count  Dtype  \n",
      "---  ------  --------------  -----  \n",
      " 0   TV      200 non-null    float64\n",
      " 1   Sales   200 non-null    float64\n",
      "dtypes: float64(2)\n",
      "memory usage: 3.2 KB\n"
     ]
    }
   ],
   "source": [
    "# View dataframe summary\n",
    "df.info()"
   ]
  },
  {
   "cell_type": "code",
   "execution_count": 8,
   "id": "8e88404b",
   "metadata": {
    "colab": {
     "base_uri": "https://localhost:8080/",
     "height": 300
    },
    "execution": {
     "iopub.execute_input": "2021-10-25T02:53:58.504724Z",
     "iopub.status.busy": "2021-10-25T02:53:58.490900Z",
     "iopub.status.idle": "2021-10-25T02:53:58.507795Z",
     "shell.execute_reply": "2021-10-25T02:53:58.508369Z",
     "shell.execute_reply.started": "2021-10-24T10:10:03.659945Z"
    },
    "id": "8e88404b",
    "outputId": "efb3a316-db07-472d-ddac-a1a6ce34c195",
    "papermill": {
     "duration": 0.073311,
     "end_time": "2021-10-25T02:53:58.508578",
     "exception": false,
     "start_time": "2021-10-25T02:53:58.435267",
     "status": "completed"
    },
    "tags": []
   },
   "outputs": [
    {
     "data": {
      "text/html": [
       "<div>\n",
       "<style scoped>\n",
       "    .dataframe tbody tr th:only-of-type {\n",
       "        vertical-align: middle;\n",
       "    }\n",
       "\n",
       "    .dataframe tbody tr th {\n",
       "        vertical-align: top;\n",
       "    }\n",
       "\n",
       "    .dataframe thead th {\n",
       "        text-align: right;\n",
       "    }\n",
       "</style>\n",
       "<table border=\"1\" class=\"dataframe\">\n",
       "  <thead>\n",
       "    <tr style=\"text-align: right;\">\n",
       "      <th></th>\n",
       "      <th>TV</th>\n",
       "      <th>Sales</th>\n",
       "    </tr>\n",
       "  </thead>\n",
       "  <tbody>\n",
       "    <tr>\n",
       "      <th>count</th>\n",
       "      <td>200.000000</td>\n",
       "      <td>200.000000</td>\n",
       "    </tr>\n",
       "    <tr>\n",
       "      <th>mean</th>\n",
       "      <td>147.042500</td>\n",
       "      <td>15.130500</td>\n",
       "    </tr>\n",
       "    <tr>\n",
       "      <th>std</th>\n",
       "      <td>85.854236</td>\n",
       "      <td>5.283892</td>\n",
       "    </tr>\n",
       "    <tr>\n",
       "      <th>min</th>\n",
       "      <td>0.700000</td>\n",
       "      <td>1.600000</td>\n",
       "    </tr>\n",
       "    <tr>\n",
       "      <th>25%</th>\n",
       "      <td>74.375000</td>\n",
       "      <td>11.000000</td>\n",
       "    </tr>\n",
       "    <tr>\n",
       "      <th>50%</th>\n",
       "      <td>149.750000</td>\n",
       "      <td>16.000000</td>\n",
       "    </tr>\n",
       "    <tr>\n",
       "      <th>75%</th>\n",
       "      <td>218.825000</td>\n",
       "      <td>19.050000</td>\n",
       "    </tr>\n",
       "    <tr>\n",
       "      <th>max</th>\n",
       "      <td>296.400000</td>\n",
       "      <td>27.000000</td>\n",
       "    </tr>\n",
       "  </tbody>\n",
       "</table>\n",
       "</div>"
      ],
      "text/plain": [
       "               TV       Sales\n",
       "count  200.000000  200.000000\n",
       "mean   147.042500   15.130500\n",
       "std     85.854236    5.283892\n",
       "min      0.700000    1.600000\n",
       "25%     74.375000   11.000000\n",
       "50%    149.750000   16.000000\n",
       "75%    218.825000   19.050000\n",
       "max    296.400000   27.000000"
      ]
     },
     "execution_count": 8,
     "metadata": {},
     "output_type": "execute_result"
    }
   ],
   "source": [
    "# Descriptive Statistics\n",
    "df.describe()"
   ]
  },
  {
   "cell_type": "code",
   "execution_count": 9,
   "id": "ffbd3b66",
   "metadata": {
    "execution": {
     "iopub.execute_input": "2021-10-25T02:53:58.721326Z",
     "iopub.status.busy": "2021-10-25T02:53:58.720707Z",
     "iopub.status.idle": "2021-10-25T02:53:58.723991Z",
     "shell.execute_reply": "2021-10-25T02:53:58.724525Z",
     "shell.execute_reply.started": "2021-10-24T10:10:03.678561Z"
    },
    "id": "ffbd3b66",
    "papermill": {
     "duration": 0.058817,
     "end_time": "2021-10-25T02:53:58.724699",
     "exception": false,
     "start_time": "2021-10-25T02:53:58.665882",
     "status": "completed"
    },
    "tags": []
   },
   "outputs": [],
   "source": [
    "X = df.TV\n",
    "y = df.Sales"
   ]
  },
  {
   "cell_type": "code",
   "execution_count": 10,
   "id": "9707532e",
   "metadata": {},
   "outputs": [
    {
     "name": "stdout",
     "output_type": "stream",
     "text": [
      "      TV  Radio  Newspaper  Sales\n",
      "0  230.1   37.8       69.2   22.1\n",
      "1   44.5   39.3       45.1   10.4\n",
      "2   17.2   45.9       69.3   12.0\n",
      "3  151.5   41.3       58.5   16.5\n",
      "4  180.8   10.8       58.4   17.9\n"
     ]
    },
    {
     "data": {
      "image/png": "[encoded data removed]",
      "text/plain": [
       "<Figure size 1000x600 with 1 Axes>"
      ]
     },
     "metadata": {},
     "output_type": "display_data"
    }
   ],
   "source": [
    "# Importing necessary libraries\n",
    "import pandas as pd\n",
    "import seaborn as sns\n",
    "import matplotlib.pyplot as plt\n",
    "\n",
    "# Load the dataset\n",
    "file_path = 'advertising.csv'  # Replace with the path to your file\n",
    "df = pd.read_csv(file_path)\n",
    "\n",
    "# Display the first few rows of the dataframe\n",
    "print(df.head())\n",
    "\n",
    "# Plotting the relationship between TV and Sales\n",
    "plt.figure(figsize=(10, 6))\n",
    "sns.regplot(x='TV', y='Sales', data=df, scatter_kws={'color': 'blue'}, line_kws={'color': 'red'})\n",
    "plt.title('Relationship between TV Advertising and Sales')\n",
    "plt.xlabel('TV Advertising Spend')\n",
    "plt.ylabel('Sales')\n",
    "plt.show()"
   ]
  },
  {
   "cell_type": "code",
   "execution_count": 11,
   "id": "bf8fba0e",
   "metadata": {
    "colab": {
     "base_uri": "https://localhost:8080/",
     "height": 530
    },
    "execution": {
     "iopub.execute_input": "2021-10-25T02:54:00.428141Z",
     "iopub.status.busy": "2021-10-25T02:54:00.427456Z",
     "iopub.status.idle": "2021-10-25T02:54:01.493091Z",
     "shell.execute_reply": "2021-10-25T02:54:01.493619Z",
     "shell.execute_reply.started": "2021-10-24T10:10:03.909207Z"
    },
    "id": "bf8fba0e",
    "outputId": "b499ecee-6d8d-4996-837e-4c4cdc1d585c",
    "papermill": {
     "duration": 1.147626,
     "end_time": "2021-10-25T02:54:01.493826",
     "exception": false,
     "start_time": "2021-10-25T02:54:00.346200",
     "status": "completed"
    },
    "tags": []
   },
   "outputs": [
    {
     "name": "stderr",
     "output_type": "stream",
     "text": [
      "/Users/skyleraliya/opt/anaconda3/lib/python3.9/site-packages/seaborn/axisgrid.py:118: UserWarning: The figure layout has changed to tight\n",
      "  self._figure.tight_layout(*args, **kwargs)\n"
     ]
    },
    {
     "data": {
      "text/plain": [
       "<seaborn.axisgrid.PairGrid at 0x7fe6a305eee0>"
      ]
     },
     "execution_count": 11,
     "metadata": {},
     "output_type": "execute_result"
    },
    {
     "data": {
      "image/png": "[encoded data removed]",
      "text/plain": [
       "<Figure size 500x500 with 6 Axes>"
      ]
     },
     "metadata": {},
     "output_type": "display_data"
    }
   ],
   "source": [
    "# Importing necessary libraries\n",
    "import pandas as pd\n",
    "import seaborn as sns\n",
    "\n",
    "# Load the dataset\n",
    "file_path = 'advertising.csv'  # Replace with the path to your file\n",
    "df = pd.read_csv(file_path)\n",
    "\n",
    "#drop radio and newspaper columns \n",
    "df.drop(columns=['Radio','Newspaper'],inplace=True,axis=1)\n",
    "\n",
    "# Creating a pairplot to visualize the relationships between all numerical variables\n",
    "sns.pairplot(df)"
   ]
  },
  {
   "cell_type": "code",
   "execution_count": 12,
   "id": "0dd89501",
   "metadata": {
    "colab": {
     "base_uri": "https://localhost:8080/"
    },
    "execution": {
     "iopub.execute_input": "2021-10-25T02:54:01.833862Z",
     "iopub.status.busy": "2021-10-25T02:54:01.833021Z",
     "iopub.status.idle": "2021-10-25T02:54:01.836004Z",
     "shell.execute_reply": "2021-10-25T02:54:01.836509Z",
     "shell.execute_reply.started": "2021-10-24T10:10:05.245549Z"
    },
    "id": "0dd89501",
    "outputId": "b9edaad7-df86-4edb-bd91-10401aab7003",
    "papermill": {
     "duration": 0.065052,
     "end_time": "2021-10-25T02:54:01.836684",
     "exception": false,
     "start_time": "2021-10-25T02:54:01.771632",
     "status": "completed"
    },
    "tags": []
   },
   "outputs": [
    {
     "name": "stdout",
     "output_type": "stream",
     "text": [
      "(200,)\n",
      "(200,)\n"
     ]
    }
   ],
   "source": [
    "# Print the dimensions of X and y\n",
    "print(X.shape)\n",
    "print(y.shape)"
   ]
  },
  {
   "cell_type": "code",
   "execution_count": 13,
   "id": "81df6791",
   "metadata": {
    "colab": {
     "base_uri": "https://localhost:8080/"
    },
    "execution": {
     "iopub.execute_input": "2021-10-25T02:54:01.951152Z",
     "iopub.status.busy": "2021-10-25T02:54:01.950459Z",
     "iopub.status.idle": "2021-10-25T02:54:01.959272Z",
     "shell.execute_reply": "2021-10-25T02:54:01.958782Z",
     "shell.execute_reply.started": "2021-10-24T10:10:05.254512Z"
    },
    "id": "81df6791",
    "outputId": "1f8a87c6-b04c-4467-97c7-3bcaa98d05a0",
    "papermill": {
     "duration": 0.067582,
     "end_time": "2021-10-25T02:54:01.959441",
     "exception": false,
     "start_time": "2021-10-25T02:54:01.891859",
     "status": "completed"
    },
    "tags": []
   },
   "outputs": [
    {
     "data": {
      "text/plain": [
       "0      230.1\n",
       "1       44.5\n",
       "2       17.2\n",
       "3      151.5\n",
       "4      180.8\n",
       "       ...  \n",
       "195     38.2\n",
       "196     94.2\n",
       "197    177.0\n",
       "198    283.6\n",
       "199    232.1\n",
       "Name: TV, Length: 200, dtype: float64"
      ]
     },
     "execution_count": 13,
     "metadata": {},
     "output_type": "execute_result"
    }
   ],
   "source": [
    "X"
   ]
  },
  {
   "cell_type": "code",
   "execution_count": 14,
   "id": "0b74ec87",
   "metadata": {
    "colab": {
     "base_uri": "https://localhost:8080/"
    },
    "execution": {
     "iopub.execute_input": "2021-10-25T02:54:02.103030Z",
     "iopub.status.busy": "2021-10-25T02:54:02.102291Z",
     "iopub.status.idle": "2021-10-25T02:54:02.105008Z",
     "shell.execute_reply": "2021-10-25T02:54:02.105507Z",
     "shell.execute_reply.started": "2021-10-24T10:10:05.271149Z"
    },
    "id": "0b74ec87",
    "outputId": "29e3ef50-cb9c-4f67-c108-9bcb59bc708b",
    "papermill": {
     "duration": 0.090014,
     "end_time": "2021-10-25T02:54:02.105717",
     "exception": false,
     "start_time": "2021-10-25T02:54:02.015703",
     "status": "completed"
    },
    "tags": []
   },
   "outputs": [
    {
     "data": {
      "text/plain": [
       "0      22.1\n",
       "1      10.4\n",
       "2      12.0\n",
       "3      16.5\n",
       "4      17.9\n",
       "       ... \n",
       "195     7.6\n",
       "196    14.0\n",
       "197    14.8\n",
       "198    25.5\n",
       "199    18.4\n",
       "Name: Sales, Length: 200, dtype: float64"
      ]
     },
     "execution_count": 14,
     "metadata": {},
     "output_type": "execute_result"
    }
   ],
   "source": [
    "y"
   ]
  },
  {
   "cell_type": "code",
   "execution_count": 15,
   "id": "4415faf6",
   "metadata": {
    "execution": {
     "iopub.execute_input": "2021-10-25T02:54:02.338482Z",
     "iopub.status.busy": "2021-10-25T02:54:02.337829Z",
     "iopub.status.idle": "2021-10-25T02:54:02.341765Z",
     "shell.execute_reply": "2021-10-25T02:54:02.342348Z",
     "shell.execute_reply.started": "2021-10-24T10:10:05.283734Z"
    },
    "id": "4415faf6",
    "papermill": {
     "duration": 0.065125,
     "end_time": "2021-10-25T02:54:02.342566",
     "exception": false,
     "start_time": "2021-10-25T02:54:02.277441",
     "status": "completed"
    },
    "tags": []
   },
   "outputs": [],
   "source": [
    "# Reshape X and y\n",
    "X = np.array(X)\n",
    "X = np.reshape(X,(-1,1))\n",
    "\n",
    "y = np.array(y)\n",
    "y = np.reshape(y,(-1,1))"
   ]
  },
  {
   "cell_type": "code",
   "execution_count": 16,
   "id": "69fa984a",
   "metadata": {
    "colab": {
     "base_uri": "https://localhost:8080/"
    },
    "execution": {
     "iopub.execute_input": "2021-10-25T02:54:02.459685Z",
     "iopub.status.busy": "2021-10-25T02:54:02.459025Z",
     "iopub.status.idle": "2021-10-25T02:54:02.464116Z",
     "shell.execute_reply": "2021-10-25T02:54:02.464617Z",
     "shell.execute_reply.started": "2021-10-24T10:10:05.293336Z"
    },
    "id": "69fa984a",
    "outputId": "443992f1-798a-4ee3-b997-3f36eed40e53",
    "papermill": {
     "duration": 0.065315,
     "end_time": "2021-10-25T02:54:02.464787",
     "exception": false,
     "start_time": "2021-10-25T02:54:02.399472",
     "status": "completed"
    },
    "tags": []
   },
   "outputs": [
    {
     "name": "stdout",
     "output_type": "stream",
     "text": [
      "(200, 1)\n",
      "(200, 1)\n"
     ]
    }
   ],
   "source": [
    "# Print the dimensions of X and y after reshaping\n",
    "print(X.shape)\n",
    "print(y.shape)"
   ]
  },
  {
   "cell_type": "code",
   "execution_count": 17,
   "id": "74930729",
   "metadata": {
    "execution": {
     "iopub.execute_input": "2021-10-25T02:54:02.583068Z",
     "iopub.status.busy": "2021-10-25T02:54:02.582385Z",
     "iopub.status.idle": "2021-10-25T02:54:02.583880Z",
     "shell.execute_reply": "2021-10-25T02:54:02.584459Z",
     "shell.execute_reply.started": "2021-10-24T10:10:05.307485Z"
    },
    "id": "74930729",
    "papermill": {
     "duration": 0.063379,
     "end_time": "2021-10-25T02:54:02.584628",
     "exception": false,
     "start_time": "2021-10-25T02:54:02.521249",
     "status": "completed"
    },
    "tags": []
   },
   "outputs": [
    {
     "data": {
      "text/plain": [
       "array([[230.1],\n",
       "       [ 44.5],\n",
       "       [ 17.2],\n",
       "       [151.5],\n",
       "       [180.8],\n",
       "       [  8.7],\n",
       "       [ 57.5],\n",
       "       [120.2],\n",
       "       [  8.6],\n",
       "       [199.8],\n",
       "       [ 66.1],\n",
       "       [214.7],\n",
       "       [ 23.8],\n",
       "       [ 97.5],\n",
       "       [204.1],\n",
       "       [195.4],\n",
       "       [ 67.8],\n",
       "       [281.4],\n",
       "       [ 69.2],\n",
       "       [147.3],\n",
       "       [218.4],\n",
       "       [237.4],\n",
       "       [ 13.2],\n",
       "       [228.3],\n",
       "       [ 62.3],\n",
       "       [262.9],\n",
       "       [142.9],\n",
       "       [240.1],\n",
       "       [248.8],\n",
       "       [ 70.6],\n",
       "       [292.9],\n",
       "       [112.9],\n",
       "       [ 97.2],\n",
       "       [265.6],\n",
       "       [ 95.7],\n",
       "       [290.7],\n",
       "       [266.9],\n",
       "       [ 74.7],\n",
       "       [ 43.1],\n",
       "       [228. ],\n",
       "       [202.5],\n",
       "       [177. ],\n",
       "       [293.6],\n",
       "       [206.9],\n",
       "       [ 25.1],\n",
       "       [175.1],\n",
       "       [ 89.7],\n",
       "       [239.9],\n",
       "       [227.2],\n",
       "       [ 66.9],\n",
       "       [199.8],\n",
       "       [100.4],\n",
       "       [216.4],\n",
       "       [182.6],\n",
       "       [262.7],\n",
       "       [198.9],\n",
       "       [  7.3],\n",
       "       [136.2],\n",
       "       [210.8],\n",
       "       [210.7],\n",
       "       [ 53.5],\n",
       "       [261.3],\n",
       "       [239.3],\n",
       "       [102.7],\n",
       "       [131.1],\n",
       "       [ 69. ],\n",
       "       [ 31.5],\n",
       "       [139.3],\n",
       "       [237.4],\n",
       "       [216.8],\n",
       "       [199.1],\n",
       "       [109.8],\n",
       "       [ 26.8],\n",
       "       [129.4],\n",
       "       [213.4],\n",
       "       [ 16.9],\n",
       "       [ 27.5],\n",
       "       [120.5],\n",
       "       [  5.4],\n",
       "       [116. ],\n",
       "       [ 76.4],\n",
       "       [239.8],\n",
       "       [ 75.3],\n",
       "       [ 68.4],\n",
       "       [213.5],\n",
       "       [193.2],\n",
       "       [ 76.3],\n",
       "       [110.7],\n",
       "       [ 88.3],\n",
       "       [109.8],\n",
       "       [134.3],\n",
       "       [ 28.6],\n",
       "       [217.7],\n",
       "       [250.9],\n",
       "       [107.4],\n",
       "       [163.3],\n",
       "       [197.6],\n",
       "       [184.9],\n",
       "       [289.7],\n",
       "       [135.2],\n",
       "       [222.4],\n",
       "       [296.4],\n",
       "       [280.2],\n",
       "       [187.9],\n",
       "       [238.2],\n",
       "       [137.9],\n",
       "       [ 25. ],\n",
       "       [ 90.4],\n",
       "       [ 13.1],\n",
       "       [255.4],\n",
       "       [225.8],\n",
       "       [241.7],\n",
       "       [175.7],\n",
       "       [209.6],\n",
       "       [ 78.2],\n",
       "       [ 75.1],\n",
       "       [139.2],\n",
       "       [ 76.4],\n",
       "       [125.7],\n",
       "       [ 19.4],\n",
       "       [141.3],\n",
       "       [ 18.8],\n",
       "       [224. ],\n",
       "       [123.1],\n",
       "       [229.5],\n",
       "       [ 87.2],\n",
       "       [  7.8],\n",
       "       [ 80.2],\n",
       "       [220.3],\n",
       "       [ 59.6],\n",
       "       [  0.7],\n",
       "       [265.2],\n",
       "       [  8.4],\n",
       "       [219.8],\n",
       "       [ 36.9],\n",
       "       [ 48.3],\n",
       "       [ 25.6],\n",
       "       [273.7],\n",
       "       [ 43. ],\n",
       "       [184.9],\n",
       "       [ 73.4],\n",
       "       [193.7],\n",
       "       [220.5],\n",
       "       [104.6],\n",
       "       [ 96.2],\n",
       "       [140.3],\n",
       "       [240.1],\n",
       "       [243.2],\n",
       "       [ 38. ],\n",
       "       [ 44.7],\n",
       "       [280.7],\n",
       "       [121. ],\n",
       "       [197.6],\n",
       "       [171.3],\n",
       "       [187.8],\n",
       "       [  4.1],\n",
       "       [ 93.9],\n",
       "       [149.8],\n",
       "       [ 11.7],\n",
       "       [131.7],\n",
       "       [172.5],\n",
       "       [ 85.7],\n",
       "       [188.4],\n",
       "       [163.5],\n",
       "       [117.2],\n",
       "       [234.5],\n",
       "       [ 17.9],\n",
       "       [206.8],\n",
       "       [215.4],\n",
       "       [284.3],\n",
       "       [ 50. ],\n",
       "       [164.5],\n",
       "       [ 19.6],\n",
       "       [168.4],\n",
       "       [222.4],\n",
       "       [276.9],\n",
       "       [248.4],\n",
       "       [170.2],\n",
       "       [276.7],\n",
       "       [165.6],\n",
       "       [156.6],\n",
       "       [218.5],\n",
       "       [ 56.2],\n",
       "       [287.6],\n",
       "       [253.8],\n",
       "       [205. ],\n",
       "       [139.5],\n",
       "       [191.1],\n",
       "       [286. ],\n",
       "       [ 18.7],\n",
       "       [ 39.5],\n",
       "       [ 75.5],\n",
       "       [ 17.2],\n",
       "       [166.8],\n",
       "       [149.7],\n",
       "       [ 38.2],\n",
       "       [ 94.2],\n",
       "       [177. ],\n",
       "       [283.6],\n",
       "       [232.1]])"
      ]
     },
     "execution_count": 17,
     "metadata": {},
     "output_type": "execute_result"
    }
   ],
   "source": [
    "# X Values\n",
    "X"
   ]
  },
  {
   "cell_type": "code",
   "execution_count": 18,
   "id": "06ff785a",
   "metadata": {
    "execution": {
     "iopub.execute_input": "2021-10-25T02:54:02.700718Z",
     "iopub.status.busy": "2021-10-25T02:54:02.700062Z",
     "iopub.status.idle": "2021-10-25T02:54:02.702901Z",
     "shell.execute_reply": "2021-10-25T02:54:02.703473Z",
     "shell.execute_reply.started": "2021-10-24T10:10:05.322643Z"
    },
    "id": "06ff785a",
    "papermill": {
     "duration": 0.062424,
     "end_time": "2021-10-25T02:54:02.703642",
     "exception": false,
     "start_time": "2021-10-25T02:54:02.641218",
     "status": "completed"
    },
    "tags": []
   },
   "outputs": [
    {
     "data": {
      "text/plain": [
       "array([[22.1],\n",
       "       [10.4],\n",
       "       [12. ],\n",
       "       [16.5],\n",
       "       [17.9],\n",
       "       [ 7.2],\n",
       "       [11.8],\n",
       "       [13.2],\n",
       "       [ 4.8],\n",
       "       [15.6],\n",
       "       [12.6],\n",
       "       [17.4],\n",
       "       [ 9.2],\n",
       "       [13.7],\n",
       "       [19. ],\n",
       "       [22.4],\n",
       "       [12.5],\n",
       "       [24.4],\n",
       "       [11.3],\n",
       "       [14.6],\n",
       "       [18. ],\n",
       "       [17.5],\n",
       "       [ 5.6],\n",
       "       [20.5],\n",
       "       [ 9.7],\n",
       "       [17. ],\n",
       "       [15. ],\n",
       "       [20.9],\n",
       "       [18.9],\n",
       "       [10.5],\n",
       "       [21.4],\n",
       "       [11.9],\n",
       "       [13.2],\n",
       "       [17.4],\n",
       "       [11.9],\n",
       "       [17.8],\n",
       "       [25.4],\n",
       "       [14.7],\n",
       "       [10.1],\n",
       "       [21.5],\n",
       "       [16.6],\n",
       "       [17.1],\n",
       "       [20.7],\n",
       "       [17.9],\n",
       "       [ 8.5],\n",
       "       [16.1],\n",
       "       [10.6],\n",
       "       [23.2],\n",
       "       [19.8],\n",
       "       [ 9.7],\n",
       "       [16.4],\n",
       "       [10.7],\n",
       "       [22.6],\n",
       "       [21.2],\n",
       "       [20.2],\n",
       "       [23.7],\n",
       "       [ 5.5],\n",
       "       [13.2],\n",
       "       [23.8],\n",
       "       [18.4],\n",
       "       [ 8.1],\n",
       "       [24.2],\n",
       "       [20.7],\n",
       "       [14. ],\n",
       "       [16. ],\n",
       "       [11.3],\n",
       "       [11. ],\n",
       "       [13.4],\n",
       "       [18.9],\n",
       "       [22.3],\n",
       "       [18.3],\n",
       "       [12.4],\n",
       "       [ 8.8],\n",
       "       [11. ],\n",
       "       [17. ],\n",
       "       [ 8.7],\n",
       "       [ 6.9],\n",
       "       [14.2],\n",
       "       [ 5.3],\n",
       "       [11. ],\n",
       "       [11.8],\n",
       "       [17.3],\n",
       "       [11.3],\n",
       "       [13.6],\n",
       "       [21.7],\n",
       "       [20.2],\n",
       "       [12. ],\n",
       "       [16. ],\n",
       "       [12.9],\n",
       "       [16.7],\n",
       "       [14. ],\n",
       "       [ 7.3],\n",
       "       [19.4],\n",
       "       [22.2],\n",
       "       [11.5],\n",
       "       [16.9],\n",
       "       [16.7],\n",
       "       [20.5],\n",
       "       [25.4],\n",
       "       [17.2],\n",
       "       [16.7],\n",
       "       [23.8],\n",
       "       [19.8],\n",
       "       [19.7],\n",
       "       [20.7],\n",
       "       [15. ],\n",
       "       [ 7.2],\n",
       "       [12. ],\n",
       "       [ 5.3],\n",
       "       [19.8],\n",
       "       [18.4],\n",
       "       [21.8],\n",
       "       [17.1],\n",
       "       [20.9],\n",
       "       [14.6],\n",
       "       [12.6],\n",
       "       [12.2],\n",
       "       [ 9.4],\n",
       "       [15.9],\n",
       "       [ 6.6],\n",
       "       [15.5],\n",
       "       [ 7. ],\n",
       "       [16.6],\n",
       "       [15.2],\n",
       "       [19.7],\n",
       "       [10.6],\n",
       "       [ 6.6],\n",
       "       [11.9],\n",
       "       [24.7],\n",
       "       [ 9.7],\n",
       "       [ 1.6],\n",
       "       [17.7],\n",
       "       [ 5.7],\n",
       "       [19.6],\n",
       "       [10.8],\n",
       "       [11.6],\n",
       "       [ 9.5],\n",
       "       [20.8],\n",
       "       [ 9.6],\n",
       "       [20.7],\n",
       "       [10.9],\n",
       "       [19.2],\n",
       "       [20.1],\n",
       "       [10.4],\n",
       "       [12.3],\n",
       "       [10.3],\n",
       "       [18.2],\n",
       "       [25.4],\n",
       "       [10.9],\n",
       "       [10.1],\n",
       "       [16.1],\n",
       "       [11.6],\n",
       "       [16.6],\n",
       "       [16. ],\n",
       "       [20.6],\n",
       "       [ 3.2],\n",
       "       [15.3],\n",
       "       [10.1],\n",
       "       [ 7.3],\n",
       "       [12.9],\n",
       "       [16.4],\n",
       "       [13.3],\n",
       "       [19.9],\n",
       "       [18. ],\n",
       "       [11.9],\n",
       "       [16.9],\n",
       "       [ 8. ],\n",
       "       [17.2],\n",
       "       [17.1],\n",
       "       [20. ],\n",
       "       [ 8.4],\n",
       "       [17.5],\n",
       "       [ 7.6],\n",
       "       [16.7],\n",
       "       [16.5],\n",
       "       [27. ],\n",
       "       [20.2],\n",
       "       [16.7],\n",
       "       [16.8],\n",
       "       [17.6],\n",
       "       [15.5],\n",
       "       [17.2],\n",
       "       [ 8.7],\n",
       "       [26.2],\n",
       "       [17.6],\n",
       "       [22.6],\n",
       "       [10.3],\n",
       "       [17.3],\n",
       "       [20.9],\n",
       "       [ 6.7],\n",
       "       [10.8],\n",
       "       [11.9],\n",
       "       [ 5.9],\n",
       "       [19.6],\n",
       "       [17.3],\n",
       "       [ 7.6],\n",
       "       [14. ],\n",
       "       [14.8],\n",
       "       [25.5],\n",
       "       [18.4]])"
      ]
     },
     "execution_count": 18,
     "metadata": {},
     "output_type": "execute_result"
    }
   ],
   "source": [
    "# y Values\n",
    "y"
   ]
  },
  {
   "cell_type": "code",
   "execution_count": 19,
   "id": "e64a02b9",
   "metadata": {
    "execution": {
     "iopub.execute_input": "2021-10-25T02:54:03.278587Z",
     "iopub.status.busy": "2021-10-25T02:54:03.277937Z",
     "iopub.status.idle": "2021-10-25T02:54:03.547013Z",
     "shell.execute_reply": "2021-10-25T02:54:03.547525Z",
     "shell.execute_reply.started": "2021-10-24T10:10:05.333916Z"
    },
    "id": "e64a02b9",
    "papermill": {
     "duration": 0.331088,
     "end_time": "2021-10-25T02:54:03.547733",
     "exception": false,
     "start_time": "2021-10-25T02:54:03.216645",
     "status": "completed"
    },
    "tags": []
   },
   "outputs": [],
   "source": [
    "# import train_test_split module\n",
    "from sklearn.model_selection import train_test_split\n",
    "\n",
    "# Split X and y into training and test data sets with test_size=0.3 and random_state=42\n",
    "\n",
    "X_train,y_train,X_test,y_test = train_test_split(X,y,test_size=0.3,random_state=42)"
   ]
  },
  {
   "cell_type": "code",
   "execution_count": 20,
   "id": "4128a7a7",
   "metadata": {
    "colab": {
     "base_uri": "https://localhost:8080/"
    },
    "execution": {
     "iopub.execute_input": "2021-10-25T02:54:03.668167Z",
     "iopub.status.busy": "2021-10-25T02:54:03.667528Z",
     "iopub.status.idle": "2021-10-25T02:54:03.670250Z",
     "shell.execute_reply": "2021-10-25T02:54:03.670756Z",
     "shell.execute_reply.started": "2021-10-24T10:10:05.346796Z"
    },
    "id": "4128a7a7",
    "outputId": "2a244567-d438-4b8a-c8f1-13bee6443b30",
    "papermill": {
     "duration": 0.066347,
     "end_time": "2021-10-25T02:54:03.670935",
     "exception": false,
     "start_time": "2021-10-25T02:54:03.604588",
     "status": "completed"
    },
    "tags": []
   },
   "outputs": [
    {
     "name": "stdout",
     "output_type": "stream",
     "text": [
      "(140, 1)\n",
      "(140, 1)\n",
      "(60, 1)\n",
      "(60, 1)\n"
     ]
    }
   ],
   "source": [
    "# print shapes of X_train,y_train, X_test, y_test\n",
    "\n",
    "print(X_train.shape)\n",
    "print(X_test.shape)\n",
    "print(y_train.shape)\n",
    "print(y_test.shape)"
   ]
  },
  {
   "cell_type": "code",
   "execution_count": 21,
   "id": "c6313cbb",
   "metadata": {
    "execution": {
     "iopub.execute_input": "2021-10-25T02:54:03.788924Z",
     "iopub.status.busy": "2021-10-25T02:54:03.788177Z",
     "iopub.status.idle": "2021-10-25T02:54:03.865839Z",
     "shell.execute_reply": "2021-10-25T02:54:03.866310Z",
     "shell.execute_reply.started": "2021-10-24T10:10:05.359953Z"
    },
    "id": "c6313cbb",
    "papermill": {
     "duration": 0.139556,
     "end_time": "2021-10-25T02:54:03.866564",
     "exception": false,
     "start_time": "2021-10-25T02:54:03.727008",
     "status": "completed"
    },
    "tags": []
   },
   "outputs": [],
   "source": [
    "# import LinearRegression module\n",
    "from sklearn.linear_model import LinearRegression as lir\n",
    "\n",
    "\n",
    "# Instantiate the linear regression object lm\n",
    "lm = lir()\n",
    "# Fit and train the model using training data sets\n",
    "lm.fit(X_train,X_test)\n",
    "# Predict on the test data\n",
    "y_pred_test = lm.predict(y_train)"
   ]
  },
  {
   "cell_type": "code",
   "execution_count": 23,
   "id": "dd7bc160",
   "metadata": {},
   "outputs": [
    {
     "data": {
      "text/plain": [
       "array([[16.16109107],\n",
       "       [17.92129084],\n",
       "       [23.26769201],\n",
       "       [ 7.84812269],\n",
       "       [19.28667945],\n",
       "       [11.32465432],\n",
       "       [19.09475735],\n",
       "       [ 9.94829874],\n",
       "       [19.4018327 ],\n",
       "       [16.8081427 ],\n",
       "       [ 8.93385339],\n",
       "       [10.28827502],\n",
       "       [20.0653348 ],\n",
       "       [ 7.50266292],\n",
       "       [14.85602084],\n",
       "       [16.53945177],\n",
       "       [ 7.6068492 ],\n",
       "       [18.04192759],\n",
       "       [11.3356213 ],\n",
       "       [20.22435596],\n",
       "       [19.79116038],\n",
       "       [10.92435967],\n",
       "       [ 9.29028013],\n",
       "       [20.96462689],\n",
       "       [10.99016153],\n",
       "       [10.14022083],\n",
       "       [18.91380224],\n",
       "       [14.84505386],\n",
       "       [11.98815642],\n",
       "       [ 7.66716757],\n",
       "       [18.16256433],\n",
       "       [11.00112851],\n",
       "       [18.11321294],\n",
       "       [ 8.13326408],\n",
       "       [22.59870643],\n",
       "       [20.26822387],\n",
       "       [ 9.85507944],\n",
       "       [22.21486224],\n",
       "       [13.63320293],\n",
       "       [ 8.71451385],\n",
       "       [13.56740107],\n",
       "       [16.91232898],\n",
       "       [ 9.56993804],\n",
       "       [10.62276781],\n",
       "       [19.48956852],\n",
       "       [ 9.30124711],\n",
       "       [11.07789734],\n",
       "       [15.28373293],\n",
       "       [12.94228339],\n",
       "       [11.39045618],\n",
       "       [11.49464246],\n",
       "       [16.44074898],\n",
       "       [ 7.68361804],\n",
       "       [ 7.63426664],\n",
       "       [11.39593967],\n",
       "       [14.30218851],\n",
       "       [11.23143502],\n",
       "       [23.09222038],\n",
       "       [ 8.28131827],\n",
       "       [18.04192759]])"
      ]
     },
     "execution_count": 23,
     "metadata": {},
     "output_type": "execute_result"
    }
   ],
   "source": [
    "y_pred_test"
   ]
  },
  {
   "cell_type": "code",
   "execution_count": 24,
   "id": "6eede05d",
   "metadata": {
    "colab": {
     "base_uri": "https://localhost:8080/"
    },
    "execution": {
     "iopub.execute_input": "2021-10-25T02:54:04.098042Z",
     "iopub.status.busy": "2021-10-25T02:54:04.097217Z",
     "iopub.status.idle": "2021-10-25T02:54:04.101070Z",
     "shell.execute_reply": "2021-10-25T02:54:04.101539Z",
     "shell.execute_reply.started": "2021-10-24T10:10:05.373058Z"
    },
    "id": "6eede05d",
    "outputId": "1fd5ef13-dd71-4c0f-b334-7d2ebe86b60b",
    "papermill": {
     "duration": 0.066811,
     "end_time": "2021-10-25T02:54:04.101705",
     "exception": false,
     "start_time": "2021-10-25T02:54:04.034894",
     "status": "completed"
    },
    "tags": []
   },
   "outputs": [
    {
     "name": "stdout",
     "output_type": "stream",
     "text": [
      "Estimated model slope, a: [[0.05483488]]\n",
      "Estimated model intercept, b: [7.20655455]\n"
     ]
    }
   ],
   "source": [
    "# Compute model slope and intercept\n",
    "print('Estimated model slope, a: {}'.format(lm.coef_))\n",
    "print('Estimated model intercept, b: {}'.format(lm.intercept_))"
   ]
  },
  {
   "cell_type": "code",
   "execution_count": 25,
   "id": "Tznts8rCHJbN",
   "metadata": {
    "id": "Tznts8rCHJbN"
   },
   "outputs": [],
   "source": [
    "a=lm.coef_\n",
    "b=lm.intercept_\n",
    "y=a*X+b"
   ]
  },
  {
   "cell_type": "code",
   "execution_count": 26,
   "id": "41c5b2b0",
   "metadata": {
    "execution": {
     "iopub.execute_input": "2021-10-25T02:54:04.220599Z",
     "iopub.status.busy": "2021-10-25T02:54:04.219922Z",
     "iopub.status.idle": "2021-10-25T02:54:04.222925Z",
     "shell.execute_reply": "2021-10-25T02:54:04.223572Z",
     "shell.execute_reply.started": "2021-10-24T10:10:05.385147Z"
    },
    "id": "41c5b2b0",
    "papermill": {
     "duration": 0.063876,
     "end_time": "2021-10-25T02:54:04.223750",
     "exception": false,
     "start_time": "2021-10-25T02:54:04.159874",
     "status": "completed"
    },
    "tags": []
   },
   "outputs": [],
   "source": [
    "# Linear Model\n",
    "\n",
    "y = 0.05483488 * X + 7.20655455"
   ]
  },
  {
   "cell_type": "code",
   "execution_count": 27,
   "id": "3d42266f",
   "metadata": {
    "colab": {
     "base_uri": "https://localhost:8080/"
    },
    "execution": {
     "iopub.execute_input": "2021-10-25T02:54:04.569472Z",
     "iopub.status.busy": "2021-10-25T02:54:04.568811Z",
     "iopub.status.idle": "2021-10-25T02:54:04.576123Z",
     "shell.execute_reply": "2021-10-25T02:54:04.575534Z",
     "shell.execute_reply.started": "2021-10-24T10:10:05.397414Z"
    },
    "id": "3d42266f",
    "outputId": "80b563ea-64ad-45e6-cf17-d67c511c146a",
    "papermill": {
     "duration": 0.067167,
     "end_time": "2021-10-25T02:54:04.576265",
     "exception": false,
     "start_time": "2021-10-25T02:54:04.509098",
     "status": "completed"
    },
    "tags": []
   },
   "outputs": [
    {
     "data": {
      "text/plain": [
       "0    230.1\n",
       "1     44.5\n",
       "2     17.2\n",
       "3    151.5\n",
       "4    180.8\n",
       "Name: TV, dtype: float64"
      ]
     },
     "execution_count": 27,
     "metadata": {},
     "output_type": "execute_result"
    }
   ],
   "source": [
    "df.TV.head()"
   ]
  },
  {
   "cell_type": "code",
   "execution_count": 28,
   "id": "f93b1ee0",
   "metadata": {
    "colab": {
     "base_uri": "https://localhost:8080/"
    },
    "execution": {
     "iopub.execute_input": "2021-10-25T02:54:04.697804Z",
     "iopub.status.busy": "2021-10-25T02:54:04.697045Z",
     "iopub.status.idle": "2021-10-25T02:54:04.700175Z",
     "shell.execute_reply": "2021-10-25T02:54:04.700664Z",
     "shell.execute_reply.started": "2021-10-24T10:10:05.411531Z"
    },
    "id": "f93b1ee0",
    "outputId": "ca4537e4-50c6-47ce-bb2e-205d6bc882ef",
    "papermill": {
     "duration": 0.067277,
     "end_time": "2021-10-25T02:54:04.700843",
     "exception": false,
     "start_time": "2021-10-25T02:54:04.633566",
     "status": "completed"
    },
    "tags": []
   },
   "outputs": [
    {
     "data": {
      "text/plain": [
       "array([[19.82406131],\n",
       "       [ 9.64670688],\n",
       "       [ 8.14971455],\n",
       "       [15.51403944],\n",
       "       [17.12070154]])"
      ]
     },
     "execution_count": 28,
     "metadata": {},
     "output_type": "execute_result"
    }
   ],
   "source": [
    "# Predicting Sales values on first five 5 TV  datasets only\n",
    "pred_x = lm.predict(X)\n",
    "pred_x[:5]"
   ]
  },
  {
   "cell_type": "code",
   "execution_count": 29,
   "id": "6f452d1b",
   "metadata": {
    "colab": {
     "base_uri": "https://localhost:8080/"
    },
    "execution": {
     "iopub.execute_input": "2021-10-25T02:54:04.937025Z",
     "iopub.status.busy": "2021-10-25T02:54:04.936256Z",
     "iopub.status.idle": "2021-10-25T02:54:04.939546Z",
     "shell.execute_reply": "2021-10-25T02:54:04.939990Z",
     "shell.execute_reply.started": "2021-10-24T10:10:05.4288Z"
    },
    "id": "6f452d1b",
    "outputId": "7f3f0f6b-96b0-4735-aa1b-3ecdf65c8541",
    "papermill": {
     "duration": 0.067057,
     "end_time": "2021-10-25T02:54:04.940168",
     "exception": false,
     "start_time": "2021-10-25T02:54:04.873111",
     "status": "completed"
    },
    "tags": []
   },
   "outputs": [
    {
     "data": {
      "text/plain": [
       "array([[19.82406131],\n",
       "       [ 9.64670688],\n",
       "       [ 8.14971455],\n",
       "       [15.51403944],\n",
       "       [17.12070154],\n",
       "       [ 7.68361804],\n",
       "       [10.35956037],\n",
       "       [13.79770758],\n",
       "       [ 7.67813455],\n",
       "       [18.16256433],\n",
       "       [10.83114037],\n",
       "       [18.9796041 ],\n",
       "       [ 8.51162478],\n",
       "       [12.55295572],\n",
       "       [18.39835433],\n",
       "       [17.92129084],\n",
       "       [10.92435967],\n",
       "       [22.63709085],\n",
       "       [11.00112851],\n",
       "       [15.28373293],\n",
       "       [19.18249317],\n",
       "       [20.22435596],\n",
       "       [ 7.93037501],\n",
       "       [19.72535852],\n",
       "       [10.62276781],\n",
       "       [21.6226455 ],\n",
       "       [15.04245944],\n",
       "       [20.37241015],\n",
       "       [20.84947364],\n",
       "       [11.07789734],\n",
       "       [23.26769201],\n",
       "       [13.39741293],\n",
       "       [12.53650525],\n",
       "       [21.77069968],\n",
       "       [12.45425293],\n",
       "       [23.14705527],\n",
       "       [21.84198503],\n",
       "       [11.30272037],\n",
       "       [ 9.56993804],\n",
       "       [19.70890805],\n",
       "       [18.31061852],\n",
       "       [16.91232898],\n",
       "       [23.30607643],\n",
       "       [18.55189201],\n",
       "       [ 8.58291013],\n",
       "       [16.8081427 ],\n",
       "       [12.12524362],\n",
       "       [20.36144317],\n",
       "       [19.66504015],\n",
       "       [10.87500827],\n",
       "       [18.16256433],\n",
       "       [12.71197688],\n",
       "       [19.0728234 ],\n",
       "       [17.21940433],\n",
       "       [21.61167852],\n",
       "       [18.11321294],\n",
       "       [ 7.6068492 ],\n",
       "       [14.67506572],\n",
       "       [18.76574805],\n",
       "       [18.76026456],\n",
       "       [10.14022083],\n",
       "       [21.53490968],\n",
       "       [20.32854224],\n",
       "       [12.83809711],\n",
       "       [14.39540781],\n",
       "       [10.99016153],\n",
       "       [ 8.93385339],\n",
       "       [14.84505386],\n",
       "       [20.22435596],\n",
       "       [19.09475735],\n",
       "       [18.12417991],\n",
       "       [13.22742479],\n",
       "       [ 8.67612943],\n",
       "       [14.30218851],\n",
       "       [18.90831875],\n",
       "       [ 8.13326408],\n",
       "       [ 8.71451385],\n",
       "       [13.81415805],\n",
       "       [ 7.50266292],\n",
       "       [13.56740107],\n",
       "       [11.39593967],\n",
       "       [20.35595968],\n",
       "       [11.3356213 ],\n",
       "       [10.9572606 ],\n",
       "       [18.91380224],\n",
       "       [17.8006541 ],\n",
       "       [11.39045618],\n",
       "       [13.27677618],\n",
       "       [12.04847479],\n",
       "       [13.22742479],\n",
       "       [14.57087944],\n",
       "       [ 8.77483222],\n",
       "       [19.14410875],\n",
       "       [20.96462689],\n",
       "       [13.09582107],\n",
       "       [16.16109107],\n",
       "       [18.04192759],\n",
       "       [17.34552456],\n",
       "       [23.09222038],\n",
       "       [14.62023084],\n",
       "       [19.4018327 ],\n",
       "       [23.45961411],\n",
       "       [22.57128899],\n",
       "       [17.51002921],\n",
       "       [20.26822387],\n",
       "       [14.76828502],\n",
       "       [ 8.57742664],\n",
       "       [12.16362804],\n",
       "       [ 7.92489153],\n",
       "       [21.21138387],\n",
       "       [19.58827131],\n",
       "       [20.46014596],\n",
       "       [16.84104363],\n",
       "       [18.69994619],\n",
       "       [11.49464246],\n",
       "       [11.32465432],\n",
       "       [14.83957037],\n",
       "       [11.39593967],\n",
       "       [14.09929944],\n",
       "       [ 8.27035129],\n",
       "       [14.95472363],\n",
       "       [ 8.23745036],\n",
       "       [19.48956852],\n",
       "       [13.95672874],\n",
       "       [19.79116038],\n",
       "       [11.98815642],\n",
       "       [ 7.63426664],\n",
       "       [11.60431223],\n",
       "       [19.28667945],\n",
       "       [10.47471362],\n",
       "       [ 7.24493897],\n",
       "       [21.74876573],\n",
       "       [ 7.66716757],\n",
       "       [19.25926201],\n",
       "       [ 9.22996176],\n",
       "       [ 9.85507944],\n",
       "       [ 8.61032757],\n",
       "       [22.21486224],\n",
       "       [ 9.56445455],\n",
       "       [17.34552456],\n",
       "       [11.23143502],\n",
       "       [17.82807154],\n",
       "       [19.29764643],\n",
       "       [12.94228339],\n",
       "       [12.48167037],\n",
       "       [14.89988874],\n",
       "       [20.37241015],\n",
       "       [20.54239829],\n",
       "       [ 9.29028013],\n",
       "       [ 9.65767385],\n",
       "       [22.59870643],\n",
       "       [13.84157549],\n",
       "       [18.04192759],\n",
       "       [16.59977014],\n",
       "       [17.50454572],\n",
       "       [ 7.43137757],\n",
       "       [12.35555014],\n",
       "       [15.42082014],\n",
       "       [ 7.84812269],\n",
       "       [14.42830874],\n",
       "       [16.665572  ],\n",
       "       [11.90590409],\n",
       "       [17.53744666],\n",
       "       [16.17205805],\n",
       "       [13.63320293],\n",
       "       [20.0653348 ],\n",
       "       [ 8.18809897],\n",
       "       [18.54640852],\n",
       "       [19.01798852],\n",
       "       [22.79611201],\n",
       "       [ 9.94829874],\n",
       "       [16.22689293],\n",
       "       [ 8.28131827],\n",
       "       [16.44074898],\n",
       "       [19.4018327 ],\n",
       "       [22.39033387],\n",
       "       [20.82753968],\n",
       "       [16.53945177],\n",
       "       [22.37936689],\n",
       "       [16.2872113 ],\n",
       "       [15.79369735],\n",
       "       [19.18797666],\n",
       "       [10.28827502],\n",
       "       [22.97706713],\n",
       "       [21.12364806],\n",
       "       [18.44770573],\n",
       "       [14.85602084],\n",
       "       [17.68550084],\n",
       "       [22.88933131],\n",
       "       [ 8.23196688],\n",
       "       [ 9.37253246],\n",
       "       [11.34658827],\n",
       "       [ 8.14971455],\n",
       "       [16.35301317],\n",
       "       [15.41533665],\n",
       "       [ 9.30124711],\n",
       "       [12.3720006 ],\n",
       "       [16.91232898],\n",
       "       [22.75772759],\n",
       "       [19.93373108]])"
      ]
     },
     "execution_count": 29,
     "metadata": {},
     "output_type": "execute_result"
    }
   ],
   "source": [
    "pred_x"
   ]
  },
  {
   "cell_type": "code",
   "execution_count": 30,
   "id": "897b171b",
   "metadata": {
    "colab": {
     "base_uri": "https://localhost:8080/"
    },
    "execution": {
     "iopub.execute_input": "2021-10-25T02:54:05.522005Z",
     "iopub.status.busy": "2021-10-25T02:54:05.521372Z",
     "iopub.status.idle": "2021-10-25T02:54:05.526486Z",
     "shell.execute_reply": "2021-10-25T02:54:05.527341Z",
     "shell.execute_reply.started": "2021-10-24T10:10:05.439363Z"
    },
    "id": "897b171b",
    "outputId": "9399fb3c-42e7-4959-aa2d-f628b141761c",
    "papermill": {
     "duration": 0.067864,
     "end_time": "2021-10-25T02:54:05.527619",
     "exception": false,
     "start_time": "2021-10-25T02:54:05.459755",
     "status": "completed"
    },
    "tags": []
   },
   "outputs": [
    {
     "name": "stdout",
     "output_type": "stream",
     "text": [
      "RMSE value:: 2.2758570698017597\n"
     ]
    }
   ],
   "source": [
    "# import mean_squared_error module\n",
    "from sklearn.metrics import mean_squared_error as mse\n",
    "\n",
    "\n",
    "# Calculate and print Root Mean Square Error(RMSE)\n",
    "mse = mse(y_test,y_pred_test)\n",
    "rmse = np.sqrt(mse)\n",
    "\n",
    "print(f'RMSE value:: {rmse}')"
   ]
  },
  {
   "cell_type": "code",
   "execution_count": 31,
   "id": "7188d854",
   "metadata": {
    "colab": {
     "base_uri": "https://localhost:8080/"
    },
    "execution": {
     "iopub.execute_input": "2021-10-25T02:54:05.649735Z",
     "iopub.status.busy": "2021-10-25T02:54:05.648993Z",
     "iopub.status.idle": "2021-10-25T02:54:05.654136Z",
     "shell.execute_reply": "2021-10-25T02:54:05.654837Z",
     "shell.execute_reply.started": "2021-10-24T10:10:05.453048Z"
    },
    "id": "7188d854",
    "outputId": "d7373b0f-fc98-49b6-aa3b-767b1d012749",
    "papermill": {
     "duration": 0.06668,
     "end_time": "2021-10-25T02:54:05.655074",
     "exception": false,
     "start_time": "2021-10-25T02:54:05.588394",
     "status": "completed"
    },
    "tags": []
   },
   "outputs": [
    {
     "name": "stdout",
     "output_type": "stream",
     "text": [
      "R2 Score value:: 0.8148553892086791\n"
     ]
    }
   ],
   "source": [
    "# import r2_score module\n",
    "from sklearn.metrics import r2_score\n",
    "\n",
    "\n",
    "# Calculate and print r2_score\n",
    "r2 = r2_score(y_test,y_pred_test)\n",
    "print(f'R2 Score value:: {r2 }')"
   ]
  },
  {
   "cell_type": "code",
   "execution_count": 32,
   "id": "fe94e2bd",
   "metadata": {
    "colab": {
     "base_uri": "https://localhost:8080/",
     "height": 552
    },
    "execution": {
     "iopub.execute_input": "2021-10-25T02:54:05.898361Z",
     "iopub.status.busy": "2021-10-25T02:54:05.897428Z",
     "iopub.status.idle": "2021-10-25T02:54:06.193605Z",
     "shell.execute_reply": "2021-10-25T02:54:06.194102Z",
     "shell.execute_reply.started": "2021-10-24T10:10:05.465528Z"
    },
    "id": "fe94e2bd",
    "outputId": "d2a9b803-69b7-4184-f942-c64c7ef88ef6",
    "papermill": {
     "duration": 0.362989,
     "end_time": "2021-10-25T02:54:06.194303",
     "exception": false,
     "start_time": "2021-10-25T02:54:05.831314",
     "status": "completed"
    },
    "tags": []
   },
   "outputs": [
    {
     "data": {
      "image/png": "[encoded data removed]",
      "text/plain": [
       "<Figure size 2000x800 with 1 Axes>"
      ]
     },
     "metadata": {},
     "output_type": "display_data"
    }
   ],
   "source": [
    "# Plot the Regression Line between X and Y as shown in below output.\n",
    "\n",
    "plt.figure(figsize=(20,8))\n",
    "plt.scatter(y_train,y_test,color='blue',label='Scatter Plot')\n",
    "plt.plot(y_train,y_pred_test,color='red',linewidth=4,label='Regression Line')\n",
    "\n",
    "plt.legend(loc=4)\n",
    "plt.title('Sales and Advertising Relation')\n",
    "plt.xlabel('Sales')\n",
    "plt.ylabel('Advertising')\n",
    "\n",
    "plt.show()"
   ]
  },
  {
   "cell_type": "code",
   "execution_count": 33,
   "id": "cfa675b4",
   "metadata": {
    "colab": {
     "base_uri": "https://localhost:8080/"
    },
    "execution": {
     "iopub.execute_input": "2021-10-25T02:54:06.555709Z",
     "iopub.status.busy": "2021-10-25T02:54:06.554742Z",
     "iopub.status.idle": "2021-10-25T02:54:06.560936Z",
     "shell.execute_reply": "2021-10-25T02:54:06.561511Z",
     "shell.execute_reply.started": "2021-10-24T10:10:05.824279Z"
    },
    "id": "cfa675b4",
    "outputId": "38314756-c388-472d-caa8-df735ea235e5",
    "papermill": {
     "duration": 0.069753,
     "end_time": "2021-10-25T02:54:06.561693",
     "exception": false,
     "start_time": "2021-10-25T02:54:06.491940",
     "status": "completed"
    },
    "tags": []
   },
   "outputs": [
    {
     "data": {
      "text/plain": [
       "((140, 1), (140, 1), (60, 1), (60, 1))"
      ]
     },
     "execution_count": 33,
     "metadata": {},
     "output_type": "execute_result"
    }
   ],
   "source": [
    "X_test.shape,X_train.shape,y_train.shape,y_test.shape"
   ]
  },
  {
   "cell_type": "code",
   "execution_count": 34,
   "id": "08a12489",
   "metadata": {
    "colab": {
     "base_uri": "https://localhost:8080/",
     "height": 547
    },
    "execution": {
     "iopub.execute_input": "2021-10-25T02:54:06.685473Z",
     "iopub.status.busy": "2021-10-25T02:54:06.684530Z",
     "iopub.status.idle": "2021-10-25T02:54:06.973610Z",
     "shell.execute_reply": "2021-10-25T02:54:06.974070Z",
     "shell.execute_reply.started": "2021-10-24T10:10:05.833843Z"
    },
    "id": "08a12489",
    "outputId": "e741b2a2-d9b5-493e-dbd5-24b9ff65e6b3",
    "papermill": {
     "duration": 0.352803,
     "end_time": "2021-10-25T02:54:06.974273",
     "exception": false,
     "start_time": "2021-10-25T02:54:06.621470",
     "status": "completed"
    },
    "tags": []
   },
   "outputs": [
    {
     "data": {
      "image/png": "[encoded data removed]",
      "text/plain": [
       "<Figure size 2000x800 with 1 Axes>"
      ]
     },
     "metadata": {},
     "output_type": "display_data"
    }
   ],
   "source": [
    "# Plotting residual errors\n",
    "\n",
    "plt.figure(figsize=(20,8))\n",
    "plt.scatter(lm.predict(X_train),lm.predict(X_train) - X_test,color='blue',label='train_data')\n",
    "plt.scatter(lm.predict(y_train),lm.predict(y_train) - y_test,color='red',label='test_data')\n",
    "\n",
    "plt.hlines(xmin=0,xmax=50,y=0,linewidth=4)\n",
    "plt.legend(loc=4)\n",
    "plt.title('Residual Error')\n",
    "\n",
    "plt.show()"
   ]
  },
  {
   "cell_type": "code",
   "execution_count": 35,
   "id": "87bf5733",
   "metadata": {
    "colab": {
     "base_uri": "https://localhost:8080/"
    },
    "execution": {
     "iopub.execute_input": "2021-10-25T02:54:07.390798Z",
     "iopub.status.busy": "2021-10-25T02:54:07.390149Z",
     "iopub.status.idle": "2021-10-25T02:54:07.397147Z",
     "shell.execute_reply": "2021-10-25T02:54:07.398160Z",
     "shell.execute_reply.started": "2021-10-24T10:10:06.170021Z"
    },
    "id": "87bf5733",
    "outputId": "0797352f-a2d0-464e-e4fa-0ff1882073b0",
    "papermill": {
     "duration": 0.073006,
     "end_time": "2021-10-25T02:54:07.398461",
     "exception": false,
     "start_time": "2021-10-25T02:54:07.325455",
     "status": "completed"
    },
    "tags": []
   },
   "outputs": [
    {
     "name": "stdout",
     "output_type": "stream",
     "text": [
      "Training set score:: 0.799626928219267\n",
      "Test set score:: 0.8148553892086791\n"
     ]
    }
   ],
   "source": [
    "# Checking for Overfitting or Underfitting the data by calculation score using score function.\n",
    "print(f'Training set score:: {lm.score(X_train,X_test)}')\n",
    "print(f'Test set score:: {lm.score(y_train,y_test)}')\n"
   ]
  },
  {
   "cell_type": "markdown",
   "id": "JUsER-gQS1C4",
   "metadata": {
    "id": "JUsER-gQS1C4"
   },
   "source": [
    "#### Exercise 2 Multiple linear regression"
   ]
  },
  {
   "cell_type": "code",
   "execution_count": 36,
   "id": "c066138e",
   "metadata": {},
   "outputs": [
    {
     "data": {
      "text/html": [
       "<div>\n",
       "<style scoped>\n",
       "    .dataframe tbody tr th:only-of-type {\n",
       "        vertical-align: middle;\n",
       "    }\n",
       "\n",
       "    .dataframe tbody tr th {\n",
       "        vertical-align: top;\n",
       "    }\n",
       "\n",
       "    .dataframe thead th {\n",
       "        text-align: right;\n",
       "    }\n",
       "</style>\n",
       "<table border=\"1\" class=\"dataframe\">\n",
       "  <thead>\n",
       "    <tr style=\"text-align: right;\">\n",
       "      <th></th>\n",
       "      <th>TV</th>\n",
       "      <th>Radio</th>\n",
       "      <th>Newspaper</th>\n",
       "      <th>Sales</th>\n",
       "    </tr>\n",
       "  </thead>\n",
       "  <tbody>\n",
       "    <tr>\n",
       "      <th>0</th>\n",
       "      <td>230.1</td>\n",
       "      <td>37.8</td>\n",
       "      <td>69.2</td>\n",
       "      <td>22.1</td>\n",
       "    </tr>\n",
       "    <tr>\n",
       "      <th>1</th>\n",
       "      <td>44.5</td>\n",
       "      <td>39.3</td>\n",
       "      <td>45.1</td>\n",
       "      <td>10.4</td>\n",
       "    </tr>\n",
       "    <tr>\n",
       "      <th>2</th>\n",
       "      <td>17.2</td>\n",
       "      <td>45.9</td>\n",
       "      <td>69.3</td>\n",
       "      <td>12.0</td>\n",
       "    </tr>\n",
       "    <tr>\n",
       "      <th>3</th>\n",
       "      <td>151.5</td>\n",
       "      <td>41.3</td>\n",
       "      <td>58.5</td>\n",
       "      <td>16.5</td>\n",
       "    </tr>\n",
       "    <tr>\n",
       "      <th>4</th>\n",
       "      <td>180.8</td>\n",
       "      <td>10.8</td>\n",
       "      <td>58.4</td>\n",
       "      <td>17.9</td>\n",
       "    </tr>\n",
       "    <tr>\n",
       "      <th>...</th>\n",
       "      <td>...</td>\n",
       "      <td>...</td>\n",
       "      <td>...</td>\n",
       "      <td>...</td>\n",
       "    </tr>\n",
       "    <tr>\n",
       "      <th>195</th>\n",
       "      <td>38.2</td>\n",
       "      <td>3.7</td>\n",
       "      <td>13.8</td>\n",
       "      <td>7.6</td>\n",
       "    </tr>\n",
       "    <tr>\n",
       "      <th>196</th>\n",
       "      <td>94.2</td>\n",
       "      <td>4.9</td>\n",
       "      <td>8.1</td>\n",
       "      <td>14.0</td>\n",
       "    </tr>\n",
       "    <tr>\n",
       "      <th>197</th>\n",
       "      <td>177.0</td>\n",
       "      <td>9.3</td>\n",
       "      <td>6.4</td>\n",
       "      <td>14.8</td>\n",
       "    </tr>\n",
       "    <tr>\n",
       "      <th>198</th>\n",
       "      <td>283.6</td>\n",
       "      <td>42.0</td>\n",
       "      <td>66.2</td>\n",
       "      <td>25.5</td>\n",
       "    </tr>\n",
       "    <tr>\n",
       "      <th>199</th>\n",
       "      <td>232.1</td>\n",
       "      <td>8.6</td>\n",
       "      <td>8.7</td>\n",
       "      <td>18.4</td>\n",
       "    </tr>\n",
       "  </tbody>\n",
       "</table>\n",
       "<p>200 rows × 4 columns</p>\n",
       "</div>"
      ],
      "text/plain": [
       "        TV  Radio  Newspaper  Sales\n",
       "0    230.1   37.8       69.2   22.1\n",
       "1     44.5   39.3       45.1   10.4\n",
       "2     17.2   45.9       69.3   12.0\n",
       "3    151.5   41.3       58.5   16.5\n",
       "4    180.8   10.8       58.4   17.9\n",
       "..     ...    ...        ...    ...\n",
       "195   38.2    3.7       13.8    7.6\n",
       "196   94.2    4.9        8.1   14.0\n",
       "197  177.0    9.3        6.4   14.8\n",
       "198  283.6   42.0       66.2   25.5\n",
       "199  232.1    8.6        8.7   18.4\n",
       "\n",
       "[200 rows x 4 columns]"
      ]
     },
     "execution_count": 36,
     "metadata": {},
     "output_type": "execute_result"
    }
   ],
   "source": [
    "# Importing necessary libraries\n",
    "import pandas as pd\n",
    "from sklearn.model_selection import train_test_split\n",
    "from sklearn.linear_model import LinearRegression\n",
    "from sklearn.metrics import mean_squared_error, r2_score\n",
    "\n",
    "# Load the dataset\n",
    "df = pd.read_csv('advertising.csv')  # Replace with the path to your file\n",
    "df"
   ]
  },
  {
   "cell_type": "code",
   "execution_count": 37,
   "id": "7e04774c",
   "metadata": {},
   "outputs": [
    {
     "name": "stdout",
     "output_type": "stream",
     "text": [
      "        TV  Radio  Newspaper\n",
      "0    230.1   37.8       69.2\n",
      "1     44.5   39.3       45.1\n",
      "2     17.2   45.9       69.3\n",
      "3    151.5   41.3       58.5\n",
      "4    180.8   10.8       58.4\n",
      "..     ...    ...        ...\n",
      "195   38.2    3.7       13.8\n",
      "196   94.2    4.9        8.1\n",
      "197  177.0    9.3        6.4\n",
      "198  283.6   42.0       66.2\n",
      "199  232.1    8.6        8.7\n",
      "\n",
      "[200 rows x 3 columns]\n",
      "0      22.1\n",
      "1      10.4\n",
      "2      12.0\n",
      "3      16.5\n",
      "4      17.9\n",
      "       ... \n",
      "195     7.6\n",
      "196    14.0\n",
      "197    14.8\n",
      "198    25.5\n",
      "199    18.4\n",
      "Name: Sales, Length: 200, dtype: float64\n"
     ]
    }
   ],
   "source": [
    "# Defining the features (independent variables) and the target (dependent variable)\n",
    "X = df[['TV', 'Radio', 'Newspaper']]\n",
    "y = df['Sales']\n",
    "\n",
    "print(X)\n",
    "print(y)"
   ]
  },
  {
   "cell_type": "code",
   "execution_count": 38,
   "id": "fea91159",
   "metadata": {},
   "outputs": [
    {
     "name": "stdout",
     "output_type": "stream",
     "text": [
      "(160, 3)\n",
      "(40, 3)\n",
      "(160,)\n",
      "(40,)\n"
     ]
    }
   ],
   "source": [
    "# Splitting the dataset into training and testing sets\n",
    "X_train, X_test, y_train, y_test = train_test_split(X, y, test_size=0.2, random_state=0)\n",
    "\n",
    "# Print shapes of X_train,y_train, X_test, y_test\n",
    "print(X_train.shape)\n",
    "print(X_test.shape)\n",
    "print(y_train.shape)\n",
    "print(y_test.shape)"
   ]
  },
  {
   "cell_type": "code",
   "execution_count": 40,
   "id": "b2e70e97",
   "metadata": {},
   "outputs": [
    {
     "name": "stdout",
     "output_type": "stream",
     "text": [
      "Coefficients: [ 0.05368006  0.11152624 -0.00351166]\n",
      "MSE: 4.522552562041291\n",
      "R^2: 0.8645053923967724\n"
     ]
    }
   ],
   "source": [
    "# Initializing the Linear Regression model\n",
    "model = LinearRegression()\n",
    "\n",
    "# Fitting the model on the training data\n",
    "model.fit(X_train, y_train)\n",
    "\n",
    "# Making predictions on the test data\n",
    "y_pred = model.predict(X_test)\n",
    "\n",
    "# Calculating the Mean Squared Error and R-squared value\n",
    "mse = mean_squared_error(y_test, y_pred)\n",
    "r2 = r2_score(y_test, y_pred)\n",
    "\n",
    "# Output the coefficients, MSE, and R^2\n",
    "print(\"Coefficients:\", model.coef_)\n",
    "print(\"MSE:\", mse)\n",
    "print(\"R^2:\", r2)\n"
   ]
  },
  {
   "cell_type": "code",
   "execution_count": 41,
   "id": "b4a8eb0b",
   "metadata": {},
   "outputs": [
    {
     "data": {
      "image/png": "[encoded data removed]",
      "text/plain": [
       "<Figure size 1000x600 with 1 Axes>"
      ]
     },
     "metadata": {},
     "output_type": "display_data"
    }
   ],
   "source": [
    "# Plotting the actual vs predicted values\n",
    "plt.figure(figsize=(10, 6))\n",
    "plt.scatter(y_test, y_pred, color='blue')\n",
    "plt.plot([y_test.min(), y_test.max()], [y_test.min(), y_test.max()], '--', lw=4, color='red')\n",
    "plt.xlabel('Actual')\n",
    "plt.ylabel('Predicted')\n",
    "plt.title('Actual vs Predicted Sales')\n",
    "plt.show()"
   ]
  },
  {
   "cell_type": "markdown",
   "id": "m1V9gP22ayti",
   "metadata": {
    "id": "m1V9gP22ayti"
   },
   "source": [
    "#### Exercise 3 Logistic Regression"
   ]
  },
  {
   "cell_type": "code",
   "execution_count": 42,
   "id": "97d2c798",
   "metadata": {},
   "outputs": [
    {
     "name": "stdout",
     "output_type": "stream",
     "text": [
      "     sepal.length  sepal.width  petal.length  petal.width\n",
      "0             5.1          3.5           1.4          0.2\n",
      "1             4.9          3.0           1.4          0.2\n",
      "2             4.7          3.2           1.3          0.2\n",
      "3             4.6          3.1           1.5          0.2\n",
      "4             5.0          3.6           1.4          0.2\n",
      "..            ...          ...           ...          ...\n",
      "145           6.7          3.0           5.2          2.3\n",
      "146           6.3          2.5           5.0          1.9\n",
      "147           6.5          3.0           5.2          2.0\n",
      "148           6.2          3.4           5.4          2.3\n",
      "149           5.9          3.0           5.1          1.8\n",
      "\n",
      "[150 rows x 4 columns]\n",
      "0         Setosa\n",
      "1         Setosa\n",
      "2         Setosa\n",
      "3         Setosa\n",
      "4         Setosa\n",
      "         ...    \n",
      "145    Virginica\n",
      "146    Virginica\n",
      "147    Virginica\n",
      "148    Virginica\n",
      "149    Virginica\n",
      "Name: variety, Length: 150, dtype: object\n"
     ]
    }
   ],
   "source": [
    "# Importing necessary libraries\n",
    "from sklearn.datasets import load_iris\n",
    "from sklearn.model_selection import train_test_split\n",
    "from sklearn.linear_model import LogisticRegression\n",
    "from sklearn.metrics import classification_report, confusion_matrix\n",
    "import matplotlib.pyplot as plt\n",
    "\n",
    "# Load the Iris dataset\n",
    "df = pd.read_csv('iris.csv')\n",
    "# Defining the features (independent variables) and the target (dependent variable)\n",
    "X = df[['sepal.length', 'sepal.width', 'petal.length', 'petal.width']]\n",
    "y = df['variety']\n",
    "\n",
    "print(X)\n",
    "print(y)"
   ]
  },
  {
   "cell_type": "code",
   "execution_count": 43,
   "id": "560da4c4",
   "metadata": {},
   "outputs": [
    {
     "name": "stdout",
     "output_type": "stream",
     "text": [
      "              precision    recall  f1-score   support\n",
      "\n",
      "      Setosa       1.00      1.00      1.00        16\n",
      "  Versicolor       1.00      0.94      0.97        18\n",
      "   Virginica       0.92      1.00      0.96        11\n",
      "\n",
      "    accuracy                           0.98        45\n",
      "   macro avg       0.97      0.98      0.98        45\n",
      "weighted avg       0.98      0.98      0.98        45\n",
      "\n"
     ]
    }
   ],
   "source": [
    "# Splitting the dataset into training and testing sets\n",
    "X_train, X_test, y_train, y_test = train_test_split(X, y, test_size=0.3, random_state=0)\n",
    "\n",
    "# Initializing the Logistic Regression model\n",
    "model = LogisticRegression(max_iter=200)\n",
    "\n",
    "# Fitting the model on the training data\n",
    "model.fit(X_train, y_train)\n",
    "\n",
    "# Making predictions on the test data\n",
    "y_pred = model.predict(X_test)\n",
    "\n",
    "# Output the classification report and confusion matrix\n",
    "print(classification_report(y_test, y_pred))"
   ]
  },
  {
   "cell_type": "code",
   "execution_count": 44,
   "id": "624d0ea6",
   "metadata": {},
   "outputs": [
    {
     "data": {
      "image/png": "[encoded data removed]",
      "text/plain": [
       "<Figure size 800x600 with 2 Axes>"
      ]
     },
     "metadata": {},
     "output_type": "display_data"
    }
   ],
   "source": [
    "import seaborn as sns\n",
    "import matplotlib.pyplot as plt\n",
    "from sklearn.metrics import confusion_matrix\n",
    "\n",
    "# Assuming y_test and y_pred are already defined\n",
    "cm = confusion_matrix(y_test, y_pred)\n",
    "\n",
    "plt.figure(figsize=(8, 6))\n",
    "sns.heatmap(cm, annot=True, fmt='d', cmap='Blues')\n",
    "plt.title('Confusion Matrix')\n",
    "plt.xlabel('Predicted Label')\n",
    "plt.ylabel('True Label')\n",
    "plt.show()"
   ]
  },
  {
   "cell_type": "code",
   "execution_count": 45,
   "id": "NBxiixhGTaDv",
   "metadata": {
    "colab": {
     "base_uri": "https://localhost:8080/",
     "height": 452
    },
    "id": "NBxiixhGTaDv",
    "outputId": "35491280-31eb-4ce4-85eb-c360ac08b8ab"
   },
   "outputs": [
    {
     "data": {
      "image/png": "[encoded data removed]",
      "text/plain": [
       "<Figure size 800x600 with 1 Axes>"
      ]
     },
     "metadata": {},
     "output_type": "display_data"
    }
   ],
   "source": [
    "from sklearn.metrics import roc_curve, roc_auc_score, auc\n",
    "from sklearn.preprocessing import label_binarize\n",
    "import numpy as np\n",
    "\n",
    "# Binarize the output labels\n",
    "y_test_bin = label_binarize(y_test, classes=['Setosa', 'Versicolor', 'Virginica'])\n",
    "y_pred_bin = label_binarize(y_pred, classes=['Setosa', 'Versicolor', 'Virginica'])\n",
    "\n",
    "# Compute ROC curve and ROC area for each class\n",
    "fpr = dict()\n",
    "tpr = dict()\n",
    "roc_auc = dict()\n",
    "for i in range(3):\n",
    "    fpr[i], tpr[i], _ = roc_curve(y_test_bin[:, i], y_pred_bin[:, i])\n",
    "    roc_auc[i] = auc(fpr[i], tpr[i])\n",
    "\n",
    "# Plot the ROC curve\n",
    "plt.figure(figsize=(8, 6))\n",
    "for i, color in zip(range(3), ['blue', 'green', 'red']):\n",
    "    plt.plot(fpr[i], tpr[i], color=color, lw=2,\n",
    "             label='ROC curve of class {0} (area = {1:0.2f})'.format(i, roc_auc[i]))\n",
    "plt.plot([0, 1], [0, 1], 'k--', lw=2)\n",
    "plt.xlim([0.0, 1.0])\n",
    "plt.ylim([0.0, 1.05])\n",
    "plt.xlabel('False Positive Rate')\n",
    "plt.ylabel('True Positive Rate')\n",
    "plt.title('Receiver Operating Characteristic')\n",
    "plt.legend(loc=\"lower right\")\n",
    "plt.show()\n"
   ]
  },
  {
   "cell_type": "markdown",
   "id": "3t9h5tKihKQk",
   "metadata": {
    "id": "3t9h5tKihKQk"
   },
   "source": [
    "#### Exercise 4 Implementing the Gauss-Markov Model "
   ]
  },
  {
   "cell_type": "code",
   "execution_count": 46,
   "id": "5b838b63",
   "metadata": {},
   "outputs": [
    {
     "data": {
      "text/html": [
       "<div>\n",
       "<style scoped>\n",
       "    .dataframe tbody tr th:only-of-type {\n",
       "        vertical-align: middle;\n",
       "    }\n",
       "\n",
       "    .dataframe tbody tr th {\n",
       "        vertical-align: top;\n",
       "    }\n",
       "\n",
       "    .dataframe thead th {\n",
       "        text-align: right;\n",
       "    }\n",
       "</style>\n",
       "<table border=\"1\" class=\"dataframe\">\n",
       "  <thead>\n",
       "    <tr style=\"text-align: right;\">\n",
       "      <th></th>\n",
       "      <th>crim</th>\n",
       "      <th>zn</th>\n",
       "      <th>indus</th>\n",
       "      <th>chas</th>\n",
       "      <th>nox</th>\n",
       "      <th>rm</th>\n",
       "      <th>age</th>\n",
       "      <th>dis</th>\n",
       "      <th>rad</th>\n",
       "      <th>tax</th>\n",
       "      <th>ptratio</th>\n",
       "      <th>b</th>\n",
       "      <th>lstat</th>\n",
       "      <th>medv</th>\n",
       "    </tr>\n",
       "  </thead>\n",
       "  <tbody>\n",
       "    <tr>\n",
       "      <th>0</th>\n",
       "      <td>0.00632</td>\n",
       "      <td>18.0</td>\n",
       "      <td>2.31</td>\n",
       "      <td>0</td>\n",
       "      <td>0.538</td>\n",
       "      <td>6.575</td>\n",
       "      <td>65.2</td>\n",
       "      <td>4.0900</td>\n",
       "      <td>1</td>\n",
       "      <td>296</td>\n",
       "      <td>15.3</td>\n",
       "      <td>396.90</td>\n",
       "      <td>4.98</td>\n",
       "      <td>24.0</td>\n",
       "    </tr>\n",
       "    <tr>\n",
       "      <th>1</th>\n",
       "      <td>0.02731</td>\n",
       "      <td>0.0</td>\n",
       "      <td>7.07</td>\n",
       "      <td>0</td>\n",
       "      <td>0.469</td>\n",
       "      <td>6.421</td>\n",
       "      <td>78.9</td>\n",
       "      <td>4.9671</td>\n",
       "      <td>2</td>\n",
       "      <td>242</td>\n",
       "      <td>17.8</td>\n",
       "      <td>396.90</td>\n",
       "      <td>9.14</td>\n",
       "      <td>21.6</td>\n",
       "    </tr>\n",
       "    <tr>\n",
       "      <th>2</th>\n",
       "      <td>0.02729</td>\n",
       "      <td>0.0</td>\n",
       "      <td>7.07</td>\n",
       "      <td>0</td>\n",
       "      <td>0.469</td>\n",
       "      <td>7.185</td>\n",
       "      <td>61.1</td>\n",
       "      <td>4.9671</td>\n",
       "      <td>2</td>\n",
       "      <td>242</td>\n",
       "      <td>17.8</td>\n",
       "      <td>392.83</td>\n",
       "      <td>4.03</td>\n",
       "      <td>34.7</td>\n",
       "    </tr>\n",
       "    <tr>\n",
       "      <th>3</th>\n",
       "      <td>0.03237</td>\n",
       "      <td>0.0</td>\n",
       "      <td>2.18</td>\n",
       "      <td>0</td>\n",
       "      <td>0.458</td>\n",
       "      <td>6.998</td>\n",
       "      <td>45.8</td>\n",
       "      <td>6.0622</td>\n",
       "      <td>3</td>\n",
       "      <td>222</td>\n",
       "      <td>18.7</td>\n",
       "      <td>394.63</td>\n",
       "      <td>2.94</td>\n",
       "      <td>33.4</td>\n",
       "    </tr>\n",
       "    <tr>\n",
       "      <th>4</th>\n",
       "      <td>0.06905</td>\n",
       "      <td>0.0</td>\n",
       "      <td>2.18</td>\n",
       "      <td>0</td>\n",
       "      <td>0.458</td>\n",
       "      <td>7.147</td>\n",
       "      <td>54.2</td>\n",
       "      <td>6.0622</td>\n",
       "      <td>3</td>\n",
       "      <td>222</td>\n",
       "      <td>18.7</td>\n",
       "      <td>396.90</td>\n",
       "      <td>5.33</td>\n",
       "      <td>36.2</td>\n",
       "    </tr>\n",
       "    <tr>\n",
       "      <th>...</th>\n",
       "      <td>...</td>\n",
       "      <td>...</td>\n",
       "      <td>...</td>\n",
       "      <td>...</td>\n",
       "      <td>...</td>\n",
       "      <td>...</td>\n",
       "      <td>...</td>\n",
       "      <td>...</td>\n",
       "      <td>...</td>\n",
       "      <td>...</td>\n",
       "      <td>...</td>\n",
       "      <td>...</td>\n",
       "      <td>...</td>\n",
       "      <td>...</td>\n",
       "    </tr>\n",
       "    <tr>\n",
       "      <th>501</th>\n",
       "      <td>0.06263</td>\n",
       "      <td>0.0</td>\n",
       "      <td>11.93</td>\n",
       "      <td>0</td>\n",
       "      <td>0.573</td>\n",
       "      <td>6.593</td>\n",
       "      <td>69.1</td>\n",
       "      <td>2.4786</td>\n",
       "      <td>1</td>\n",
       "      <td>273</td>\n",
       "      <td>21.0</td>\n",
       "      <td>391.99</td>\n",
       "      <td>9.67</td>\n",
       "      <td>22.4</td>\n",
       "    </tr>\n",
       "    <tr>\n",
       "      <th>502</th>\n",
       "      <td>0.04527</td>\n",
       "      <td>0.0</td>\n",
       "      <td>11.93</td>\n",
       "      <td>0</td>\n",
       "      <td>0.573</td>\n",
       "      <td>6.120</td>\n",
       "      <td>76.7</td>\n",
       "      <td>2.2875</td>\n",
       "      <td>1</td>\n",
       "      <td>273</td>\n",
       "      <td>21.0</td>\n",
       "      <td>396.90</td>\n",
       "      <td>9.08</td>\n",
       "      <td>20.6</td>\n",
       "    </tr>\n",
       "    <tr>\n",
       "      <th>503</th>\n",
       "      <td>0.06076</td>\n",
       "      <td>0.0</td>\n",
       "      <td>11.93</td>\n",
       "      <td>0</td>\n",
       "      <td>0.573</td>\n",
       "      <td>6.976</td>\n",
       "      <td>91.0</td>\n",
       "      <td>2.1675</td>\n",
       "      <td>1</td>\n",
       "      <td>273</td>\n",
       "      <td>21.0</td>\n",
       "      <td>396.90</td>\n",
       "      <td>5.64</td>\n",
       "      <td>23.9</td>\n",
       "    </tr>\n",
       "    <tr>\n",
       "      <th>504</th>\n",
       "      <td>0.10959</td>\n",
       "      <td>0.0</td>\n",
       "      <td>11.93</td>\n",
       "      <td>0</td>\n",
       "      <td>0.573</td>\n",
       "      <td>6.794</td>\n",
       "      <td>89.3</td>\n",
       "      <td>2.3889</td>\n",
       "      <td>1</td>\n",
       "      <td>273</td>\n",
       "      <td>21.0</td>\n",
       "      <td>393.45</td>\n",
       "      <td>6.48</td>\n",
       "      <td>22.0</td>\n",
       "    </tr>\n",
       "    <tr>\n",
       "      <th>505</th>\n",
       "      <td>0.04741</td>\n",
       "      <td>0.0</td>\n",
       "      <td>11.93</td>\n",
       "      <td>0</td>\n",
       "      <td>0.573</td>\n",
       "      <td>6.030</td>\n",
       "      <td>80.8</td>\n",
       "      <td>2.5050</td>\n",
       "      <td>1</td>\n",
       "      <td>273</td>\n",
       "      <td>21.0</td>\n",
       "      <td>396.90</td>\n",
       "      <td>7.88</td>\n",
       "      <td>11.9</td>\n",
       "    </tr>\n",
       "  </tbody>\n",
       "</table>\n",
       "<p>506 rows × 14 columns</p>\n",
       "</div>"
      ],
      "text/plain": [
       "        crim    zn  indus  chas    nox     rm   age     dis  rad  tax  \\\n",
       "0    0.00632  18.0   2.31     0  0.538  6.575  65.2  4.0900    1  296   \n",
       "1    0.02731   0.0   7.07     0  0.469  6.421  78.9  4.9671    2  242   \n",
       "2    0.02729   0.0   7.07     0  0.469  7.185  61.1  4.9671    2  242   \n",
       "3    0.03237   0.0   2.18     0  0.458  6.998  45.8  6.0622    3  222   \n",
       "4    0.06905   0.0   2.18     0  0.458  7.147  54.2  6.0622    3  222   \n",
       "..       ...   ...    ...   ...    ...    ...   ...     ...  ...  ...   \n",
       "501  0.06263   0.0  11.93     0  0.573  6.593  69.1  2.4786    1  273   \n",
       "502  0.04527   0.0  11.93     0  0.573  6.120  76.7  2.2875    1  273   \n",
       "503  0.06076   0.0  11.93     0  0.573  6.976  91.0  2.1675    1  273   \n",
       "504  0.10959   0.0  11.93     0  0.573  6.794  89.3  2.3889    1  273   \n",
       "505  0.04741   0.0  11.93     0  0.573  6.030  80.8  2.5050    1  273   \n",
       "\n",
       "     ptratio       b  lstat  medv  \n",
       "0       15.3  396.90   4.98  24.0  \n",
       "1       17.8  396.90   9.14  21.6  \n",
       "2       17.8  392.83   4.03  34.7  \n",
       "3       18.7  394.63   2.94  33.4  \n",
       "4       18.7  396.90   5.33  36.2  \n",
       "..       ...     ...    ...   ...  \n",
       "501     21.0  391.99   9.67  22.4  \n",
       "502     21.0  396.90   9.08  20.6  \n",
       "503     21.0  396.90   5.64  23.9  \n",
       "504     21.0  393.45   6.48  22.0  \n",
       "505     21.0  396.90   7.88  11.9  \n",
       "\n",
       "[506 rows x 14 columns]"
      ]
     },
     "execution_count": 46,
     "metadata": {},
     "output_type": "execute_result"
    }
   ],
   "source": [
    "import pandas as pd\n",
    "\n",
    "# Load the dataset\n",
    "df = pd.read_csv('BostonHousing.csv')\n",
    "df"
   ]
  },
  {
   "cell_type": "code",
   "execution_count": 47,
   "id": "e87f517e",
   "metadata": {},
   "outputs": [
    {
     "name": "stdout",
     "output_type": "stream",
     "text": [
      "(354, 13)\n",
      "(152, 13)\n",
      "(354,)\n",
      "(152,)\n"
     ]
    }
   ],
   "source": [
    "from sklearn.model_selection import train_test_split\n",
    "\n",
    "X = df.drop(columns=['medv'])  # Assuming 'medv' is the target variable\n",
    "y = df['medv']\n",
    "X_train, X_test, y_train, y_test = train_test_split(X, y, test_size=0.3, random_state=0)\n",
    "\n",
    "# Print shapes of X_train,y_train, X_test, y_test\n",
    "print(X_train.shape)\n",
    "print(X_test.shape)\n",
    "print(y_train.shape)\n",
    "print(y_test.shape)"
   ]
  },
  {
   "cell_type": "code",
   "execution_count": 48,
   "id": "74009ec2",
   "metadata": {},
   "outputs": [],
   "source": [
    "import statsmodels.api as sm\n",
    "\n",
    "X_train = sm.add_constant(X_train)  # Adding a constant to the model\n",
    "model = sm.OLS(y_train, X_train).fit()"
   ]
  },
  {
   "cell_type": "code",
   "execution_count": 50,
   "id": "29431bc6",
   "metadata": {},
   "outputs": [
    {
     "name": "stdout",
     "output_type": "stream",
     "text": [
      "                            OLS Regression Results                            \n",
      "==============================================================================\n",
      "Dep. Variable:                   medv   R-squared:                       0.765\n",
      "Model:                            OLS   Adj. R-squared:                  0.756\n",
      "Method:                 Least Squares   F-statistic:                     84.92\n",
      "Date:                Wed, 18 Oct 2023   Prob (F-statistic):           2.76e-98\n",
      "Time:                        12:18:07   Log-Likelihood:                -1032.2\n",
      "No. Observations:                 354   AIC:                             2092.\n",
      "Df Residuals:                     340   BIC:                             2147.\n",
      "Df Model:                          13                                         \n",
      "Covariance Type:            nonrobust                                         \n",
      "==============================================================================\n",
      "                 coef    std err          t      P>|t|      [0.025      0.975]\n",
      "------------------------------------------------------------------------------\n",
      "const         37.9371      5.876      6.457      0.000      26.380      49.494\n",
      "crim          -0.1213      0.038     -3.185      0.002      -0.196      -0.046\n",
      "zn             0.0445      0.016      2.834      0.005       0.014       0.075\n",
      "indus          0.0113      0.068      0.166      0.868      -0.123       0.146\n",
      "chas           2.5112      1.011      2.483      0.014       0.522       4.501\n",
      "nox          -16.2313      4.487     -3.618      0.000     -25.056      -7.406\n",
      "rm             3.8591      0.491      7.867      0.000       2.894       4.824\n",
      "age           -0.0100      0.016     -0.634      0.527      -0.041       0.021\n",
      "dis           -1.5003      0.234     -6.402      0.000      -1.961      -1.039\n",
      "rad            0.2421      0.077      3.152      0.002       0.091       0.393\n",
      "tax           -0.0111      0.004     -2.586      0.010      -0.019      -0.003\n",
      "ptratio       -1.0178      0.150     -6.803      0.000      -1.312      -0.723\n",
      "b              0.0068      0.003      2.099      0.037       0.000       0.013\n",
      "lstat         -0.4867      0.060     -8.068      0.000      -0.605      -0.368\n",
      "==============================================================================\n",
      "Omnibus:                      133.612   Durbin-Watson:                   2.019\n",
      "Prob(Omnibus):                  0.000   Jarque-Bera (JB):              634.086\n",
      "Skew:                           1.547   Prob(JB):                    2.04e-138\n",
      "Kurtosis:                       8.781   Cond. No.                     1.52e+04\n",
      "==============================================================================\n",
      "\n",
      "Notes:\n",
      "[1] Standard Errors assume that the covariance matrix of the errors is correctly specified.\n",
      "[2] The condition number is large, 1.52e+04. This might indicate that there are\n",
      "strong multicollinearity or other numerical problems.\n"
     ]
    }
   ],
   "source": [
    "print(model.summary())"
   ]
  },
  {
   "cell_type": "code",
   "execution_count": 51,
   "id": "95f5da2a",
   "metadata": {},
   "outputs": [
    {
     "name": "stdout",
     "output_type": "stream",
     "text": [
      "329    24.935708\n",
      "371    23.751632\n",
      "219    29.326383\n",
      "403    11.975346\n",
      "78     21.372725\n",
      "         ...    \n",
      "4      27.811077\n",
      "428    14.506816\n",
      "385     7.573699\n",
      "308    28.334807\n",
      "5      25.043412\n",
      "Length: 152, dtype: float64\n"
     ]
    }
   ],
   "source": [
    "X_test = sm.add_constant(X_test)\n",
    "y_pred = model.predict(X_test)\n",
    "print(y_pred)"
   ]
  },
  {
   "cell_type": "code",
   "execution_count": 52,
   "id": "9a4765ef",
   "metadata": {},
   "outputs": [
    {
     "name": "stdout",
     "output_type": "stream",
     "text": [
      "Mean Squared Error: 27.20\n",
      "R^2 Score: 0.67\n"
     ]
    }
   ],
   "source": [
    "from sklearn.metrics import mean_squared_error, r2_score\n",
    "\n",
    "mse = mean_squared_error(y_test, y_pred)\n",
    "r2 = r2_score(y_test, y_pred)\n",
    "print(f\"Mean Squared Error: {mse:.2f}\")\n",
    "print(f\"R^2 Score: {r2:.2f}\")"
   ]
  },
  {
   "cell_type": "code",
   "execution_count": 53,
   "id": "ab957397",
   "metadata": {},
   "outputs": [
    {
     "data": {
      "image/png": "[encoded data removed]",
      "text/plain": [
       "<Figure size 800x600 with 1 Axes>"
      ]
     },
     "metadata": {},
     "output_type": "display_data"
    }
   ],
   "source": [
    "import matplotlib.pyplot as plt\n",
    "\n",
    "plt.figure(figsize=(8, 6))\n",
    "plt.scatter(y_test, y_pred, color='blue')\n",
    "plt.plot([min(y_test), max(y_test)], [min(y_test), max(y_test)], color='red')  # Diagonal line\n",
    "plt.xlabel('Actual Prices')\n",
    "plt.ylabel('Predicted Prices')\n",
    "plt.title('Actual vs Predicted Prices')\n",
    "plt.show()"
   ]
  },
  {
   "cell_type": "code",
   "execution_count": 54,
   "id": "f6cc697f",
   "metadata": {},
   "outputs": [
    {
     "name": "stdout",
     "output_type": "stream",
     "text": [
      "count    152.000000\n",
      "mean       0.254652\n",
      "std        5.225973\n",
      "min      -10.287312\n",
      "25%       -2.788263\n",
      "50%       -0.450086\n",
      "75%        2.237906\n",
      "max       26.248368\n",
      "dtype: float64\n"
     ]
    },
    {
     "data": {
      "image/png": "[encoded data removed]",
      "text/plain": [
       "<Figure size 800x600 with 1 Axes>"
      ]
     },
     "metadata": {},
     "output_type": "display_data"
    }
   ],
   "source": [
    "import matplotlib.pyplot as plt\n",
    "\n",
    "residuals = y_test - y_pred\n",
    "print(residuals.describe())\n",
    "\n",
    "plt.figure(figsize=(8, 6))\n",
    "plt.scatter(y_test, residuals, color='blue')\n",
    "plt.axhline(y=0, color='red', linestyle='--')  # Horizontal line at y=0\n",
    "plt.xlabel('Actual Prices')\n",
    "plt.ylabel('Residuals')\n",
    "plt.title('Residual Plot')\n",
    "plt.show()"
   ]
  },
  {
   "cell_type": "markdown",
   "id": "P1JnpyGCubQ1",
   "metadata": {
    "id": "P1JnpyGCubQ1"
   },
   "source": [
    "#### Exercise 5 Building and Analyzing a Polynomial Regression Model"
   ]
  },
  {
   "cell_type": "code",
   "execution_count": 55,
   "id": "67cfe796",
   "metadata": {},
   "outputs": [
    {
     "data": {
      "image/png": "[encoded data removed]",
      "text/plain": [
       "<Figure size 640x480 with 1 Axes>"
      ]
     },
     "metadata": {},
     "output_type": "display_data"
    }
   ],
   "source": [
    "import numpy as np\n",
    "import matplotlib.pyplot as plt\n",
    "\n",
    "# Generate the dataset\n",
    "X = np.linspace(0, 4, 100)\n",
    "y = X**2 + np.random.normal(0, 0.5, 100)\n",
    "\n",
    "# Visualize the dataset\n",
    "plt.scatter(X, y)\n",
    "plt.title('Dataset Visualization')\n",
    "plt.xlabel('X')\n",
    "plt.ylabel('y')\n",
    "plt.show()"
   ]
  },
  {
   "cell_type": "code",
   "execution_count": 56,
   "id": "cbf317c2",
   "metadata": {},
   "outputs": [],
   "source": [
    "from sklearn.model_selection import train_test_split\n",
    "from sklearn.preprocessing import PolynomialFeatures\n",
    "\n",
    "# Split the dataset\n",
    "X_train, X_test, y_train, y_test = train_test_split(X, y, test_size=0.2, random_state=0)\n",
    "\n",
    "# Transform the features\n",
    "poly = PolynomialFeatures(degree=2)\n",
    "X_train_poly = poly.fit_transform(X_train.reshape(-1, 1))\n",
    "X_test_poly = poly.transform(X_test.reshape(-1, 1))\n"
   ]
  },
  {
   "cell_type": "code",
   "execution_count": 57,
   "id": "cc205e8e",
   "metadata": {},
   "outputs": [
    {
     "data": {
      "text/html": [
       "<style>#sk-container-id-1 {color: black;background-color: white;}#sk-container-id-1 pre{padding: 0;}#sk-container-id-1 div.sk-toggleable {background-color: white;}#sk-container-id-1 label.sk-toggleable__label {cursor: pointer;display: block;width: 100%;margin-bottom: 0;padding: 0.3em;box-sizing: border-box;text-align: center;}#sk-container-id-1 label.sk-toggleable__label-arrow:before {content: \"▸\";float: left;margin-right: 0.25em;color: #696969;}#sk-container-id-1 label.sk-toggleable__label-arrow:hover:before {color: black;}#sk-container-id-1 div.sk-estimator:hover label.sk-toggleable__label-arrow:before {color: black;}#sk-container-id-1 div.sk-toggleable__content {max-height: 0;max-width: 0;overflow: hidden;text-align: left;background-color: #f0f8ff;}#sk-container-id-1 div.sk-toggleable__content pre {margin: 0.2em;color: black;border-radius: 0.25em;background-color: #f0f8ff;}#sk-container-id-1 input.sk-toggleable__control:checked~div.sk-toggleable__content {max-height: 200px;max-width: 100%;overflow: auto;}#sk-container-id-1 input.sk-toggleable__control:checked~label.sk-toggleable__label-arrow:before {content: \"▾\";}#sk-container-id-1 div.sk-estimator input.sk-toggleable__control:checked~label.sk-toggleable__label {background-color: #d4ebff;}#sk-container-id-1 div.sk-label input.sk-toggleable__control:checked~label.sk-toggleable__label {background-color: #d4ebff;}#sk-container-id-1 input.sk-hidden--visually {border: 0;clip: rect(1px 1px 1px 1px);clip: rect(1px, 1px, 1px, 1px);height: 1px;margin: -1px;overflow: hidden;padding: 0;position: absolute;width: 1px;}#sk-container-id-1 div.sk-estimator {font-family: monospace;background-color: #f0f8ff;border: 1px dotted black;border-radius: 0.25em;box-sizing: border-box;margin-bottom: 0.5em;}#sk-container-id-1 div.sk-estimator:hover {background-color: #d4ebff;}#sk-container-id-1 div.sk-parallel-item::after {content: \"\";width: 100%;border-bottom: 1px solid gray;flex-grow: 1;}#sk-container-id-1 div.sk-label:hover label.sk-toggleable__label {background-color: #d4ebff;}#sk-container-id-1 div.sk-serial::before {content: \"\";position: absolute;border-left: 1px solid gray;box-sizing: border-box;top: 0;bottom: 0;left: 50%;z-index: 0;}#sk-container-id-1 div.sk-serial {display: flex;flex-direction: column;align-items: center;background-color: white;padding-right: 0.2em;padding-left: 0.2em;position: relative;}#sk-container-id-1 div.sk-item {position: relative;z-index: 1;}#sk-container-id-1 div.sk-parallel {display: flex;align-items: stretch;justify-content: center;background-color: white;position: relative;}#sk-container-id-1 div.sk-item::before, #sk-container-id-1 div.sk-parallel-item::before {content: \"\";position: absolute;border-left: 1px solid gray;box-sizing: border-box;top: 0;bottom: 0;left: 50%;z-index: -1;}#sk-container-id-1 div.sk-parallel-item {display: flex;flex-direction: column;z-index: 1;position: relative;background-color: white;}#sk-container-id-1 div.sk-parallel-item:first-child::after {align-self: flex-end;width: 50%;}#sk-container-id-1 div.sk-parallel-item:last-child::after {align-self: flex-start;width: 50%;}#sk-container-id-1 div.sk-parallel-item:only-child::after {width: 0;}#sk-container-id-1 div.sk-dashed-wrapped {border: 1px dashed gray;margin: 0 0.4em 0.5em 0.4em;box-sizing: border-box;padding-bottom: 0.4em;background-color: white;}#sk-container-id-1 div.sk-label label {font-family: monospace;font-weight: bold;display: inline-block;line-height: 1.2em;}#sk-container-id-1 div.sk-label-container {text-align: center;}#sk-container-id-1 div.sk-container {/* jupyter's `normalize.less` sets `[hidden] { display: none; }` but bootstrap.min.css set `[hidden] { display: none !important; }` so we also need the `!important` here to be able to override the default hidden behavior on the sphinx rendered scikit-learn.org. See: https://github.com/scikit-learn/scikit-learn/issues/21755 */display: inline-block !important;position: relative;}#sk-container-id-1 div.sk-text-repr-fallback {display: none;}</style><div id=\"sk-container-id-1\" class=\"sk-top-container\"><div class=\"sk-text-repr-fallback\"><pre>LinearRegression()</pre><b>In a Jupyter environment, please rerun this cell to show the HTML representation or trust the notebook. <br />On GitHub, the HTML representation is unable to render, please try loading this page with nbviewer.org.</b></div><div class=\"sk-container\" hidden><div class=\"sk-item\"><div class=\"sk-estimator sk-toggleable\"><input class=\"sk-toggleable__control sk-hidden--visually\" id=\"sk-estimator-id-1\" type=\"checkbox\" checked><label for=\"sk-estimator-id-1\" class=\"sk-toggleable__label sk-toggleable__label-arrow\">LinearRegression</label><div class=\"sk-toggleable__content\"><pre>LinearRegression()</pre></div></div></div></div></div>"
      ],
      "text/plain": [
       "LinearRegression()"
      ]
     },
     "execution_count": 57,
     "metadata": {},
     "output_type": "execute_result"
    }
   ],
   "source": [
    "from sklearn.linear_model import LinearRegression\n",
    "\n",
    "# Fit the polynomial model\n",
    "model = LinearRegression()\n",
    "model.fit(X_train_poly, y_train)\n"
   ]
  },
  {
   "cell_type": "code",
   "execution_count": 58,
   "id": "27333337",
   "metadata": {},
   "outputs": [
    {
     "name": "stdout",
     "output_type": "stream",
     "text": [
      "[ 1.02511773 12.16175291 -0.21209791  4.97306424  9.25981854 14.20952832\n",
      "  0.28617799  8.77368886  4.79224151 14.82333413  4.61461068 13.90741326\n",
      " 10.01295235  0.12673818 -0.10596006  1.41006691  0.69123899  0.85179455\n",
      "  1.73229379 -0.07515678]\n"
     ]
    }
   ],
   "source": [
    "# Make predictions\n",
    "y_pred = model.predict(X_test_poly)\n",
    "print(y_pred)"
   ]
  },
  {
   "cell_type": "code",
   "execution_count": 59,
   "id": "5b8b2770",
   "metadata": {},
   "outputs": [
    {
     "name": "stdout",
     "output_type": "stream",
     "text": [
      "Mean Squared Error: 0.25\n",
      "R^2 Score: 0.99\n"
     ]
    }
   ],
   "source": [
    "from sklearn.metrics import mean_squared_error, r2_score\n",
    "\n",
    "# Evaluate the model\n",
    "mse = mean_squared_error(y_test, y_pred)\n",
    "r2 = r2_score(y_test, y_pred)\n",
    "print(f\"Mean Squared Error: {mse:.2f}\")\n",
    "print(f\"R^2 Score: {r2:.2f}\")"
   ]
  },
  {
   "cell_type": "code",
   "execution_count": 60,
   "id": "0301651c",
   "metadata": {},
   "outputs": [
    {
     "data": {
      "image/png": "[encoded data removed]",
      "text/plain": [
       "<Figure size 640x480 with 1 Axes>"
      ]
     },
     "metadata": {},
     "output_type": "display_data"
    }
   ],
   "source": [
    "# Visualize the results\n",
    "plt.scatter(X, y, color='blue')\n",
    "plt.scatter(X_test, y_pred, color='red')\n",
    "plt.title('Polynomial Regression Results')\n",
    "plt.xlabel('X')\n",
    "plt.ylabel('y')\n",
    "plt.show()"
   ]
  },
  {
   "cell_type": "markdown",
   "id": "274721a1",
   "metadata": {},
   "source": [
    "---"
   ]
  },
  {
   "cell_type": "markdown",
   "id": "0cedea36",
   "metadata": {},
   "source": [
    "Revised Date: October 13, 2023"
   ]
  },
  {
   "cell_type": "code",
   "execution_count": null,
   "id": "f29c9b1d",
   "metadata": {},
   "outputs": [],
   "source": []
  }
 ],
 "metadata": {
  "colab": {
   "provenance": []
  },
  "kernelspec": {
   "display_name": "Python 3 (ipykernel)",
   "language": "python",
   "name": "python3"
  },
  "language_info": {
   "codemirror_mode": {
    "name": "ipython",
    "version": 3
   },
   "file_extension": ".py",
   "mimetype": "text/x-python",
   "name": "python",
   "nbconvert_exporter": "python",
   "pygments_lexer": "ipython3",
   "version": "3.9.18"
  },
  "papermill": {
   "default_parameters": {},
   "duration": 20.868392,
   "end_time": "2021-10-25T02:54:09.383956",
   "environment_variables": {},
   "exception": null,
   "input_path": "__notebook__.ipynb",
   "output_path": "__notebook__.ipynb",
   "parameters": {},
   "start_time": "2021-10-25T02:53:48.515564",
   "version": "2.3.3"
  },
  "toc": {
   "base_numbering": 1,
   "nav_menu": {},
   "number_sections": true,
   "sideBar": true,
   "skip_h1_title": false,
   "title_cell": "Table of Contents",
   "title_sidebar": "Contents",
   "toc_cell": false,
   "toc_position": {},
   "toc_section_display": true,
   "toc_window_display": false
  }
 },
 "nbformat": 4,
 "nbformat_minor": 5
}
