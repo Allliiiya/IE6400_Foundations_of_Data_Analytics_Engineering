{
 "cells": [
  {
   "cell_type": "markdown",
   "metadata": {
    "id": "14owW4u_r6xg"
   },
   "source": [
    "# IE6400 Foundations for Data Analytics Engineering\n",
    "# Fall 2023\n",
    "### Module 2: Data and Sampling Distributions"
   ]
  },
  {
   "cell_type": "markdown",
   "metadata": {
    "id": "c6_cAmLMs7lo"
   },
   "source": [
    "#### Excercise 1 Random sample without replacement"
   ]
  },
  {
   "cell_type": "code",
   "execution_count": null,
   "metadata": {},
   "outputs": [],
   "source": [
    "import random"
   ]
  },
  {
   "cell_type": "code",
   "execution_count": null,
   "metadata": {},
   "outputs": [],
   "source": [
    "aList = [20, 40, 80, 100, 120]"
   ]
  },
  {
   "cell_type": "code",
   "execution_count": null,
   "metadata": {},
   "outputs": [],
   "source": [
    "sampled_list = random.sample(aList, 3)"
   ]
  },
  {
   "cell_type": "code",
   "execution_count": null,
   "metadata": {
    "colab": {
     "base_uri": "https://localhost:8080/"
    },
    "id": "Tf8jtdb4HQ18",
    "outputId": "ba8145b9-cf99-4937-b8b2-0e4d6c9a8c00"
   },
   "outputs": [],
   "source": [
    "print(sampled_list)"
   ]
  },
  {
   "cell_type": "code",
   "execution_count": null,
   "metadata": {},
   "outputs": [],
   "source": [
    "exampleList = [20, 40, 20, 20, 40, 60, 70]"
   ]
  },
  {
   "cell_type": "code",
   "execution_count": null,
   "metadata": {},
   "outputs": [],
   "source": [
    "sampled_list2 = random.sample(exampleList, 4) # choosing 4 random items from a list"
   ]
  },
  {
   "cell_type": "code",
   "execution_count": null,
   "metadata": {
    "colab": {
     "base_uri": "https://localhost:8080/"
    },
    "id": "i_9wAELGJFHq",
    "outputId": "f1d07ae7-37b2-4a27-a882-ec6950696733",
    "scrolled": false
   },
   "outputs": [],
   "source": [
    "print(sampled_list2)"
   ]
  },
  {
   "cell_type": "markdown",
   "metadata": {
    "id": "iNergo1jJKy_"
   },
   "source": [
    "#### Exercise 2 Random sample with replacement"
   ]
  },
  {
   "cell_type": "code",
   "execution_count": null,
   "metadata": {},
   "outputs": [],
   "source": [
    "names = [\"Roger\", \"Nadal\", \"Novac\", \"Andre\", \"Sarena\", \"Mariya\", \"Martina\"]"
   ]
  },
  {
   "cell_type": "code",
   "execution_count": null,
   "metadata": {
    "colab": {
     "base_uri": "https://localhost:8080/"
    },
    "id": "S-AHJ4unJHR7",
    "outputId": "7701acc8-55a5-413b-eb08-907a11350502"
   },
   "outputs": [],
   "source": [
    "sample_list3 = random.choices(names, k=3)"
   ]
  },
  {
   "cell_type": "code",
   "execution_count": null,
   "metadata": {},
   "outputs": [],
   "source": [
    "print(sample_list3)"
   ]
  },
  {
   "cell_type": "markdown",
   "metadata": {
    "id": "DG6i5oZhJOep"
   },
   "source": [
    "#### Exercise 3 Generate the sampled list of random integers"
   ]
  },
  {
   "cell_type": "code",
   "execution_count": null,
   "metadata": {},
   "outputs": [],
   "source": [
    "num_list = random.sample(range(100), 5) "
   ]
  },
  {
   "cell_type": "code",
   "execution_count": null,
   "metadata": {
    "colab": {
     "base_uri": "https://localhost:8080/"
    },
    "id": "vXzf8-__JMtr",
    "outputId": "2fc6915b-bc67-4d5e-9e6e-6612b8ad9506"
   },
   "outputs": [],
   "source": [
    "print(num_list)"
   ]
  },
  {
   "cell_type": "code",
   "execution_count": null,
   "metadata": {
    "colab": {
     "base_uri": "https://localhost:8080/"
    },
    "id": "iw6wy150JRGm",
    "outputId": "bae34c33-5047-498f-d65d-09fd4eccd22f"
   },
   "outputs": [],
   "source": [
    "random.shuffle(num_list)"
   ]
  },
  {
   "cell_type": "code",
   "execution_count": null,
   "metadata": {},
   "outputs": [],
   "source": [
    "print(num_list)"
   ]
  },
  {
   "cell_type": "markdown",
   "metadata": {
    "id": "xTqfPFc2JiEX"
   },
   "source": [
    "#### Exercise 4 Random sample from the Python set"
   ]
  },
  {
   "cell_type": "code",
   "execution_count": null,
   "metadata": {},
   "outputs": [],
   "source": [
    "aSet = {\"Jhon\", \"kelly\", \"Scoot\", \"Emma\", \"Eric\"}"
   ]
  },
  {
   "cell_type": "code",
   "execution_count": null,
   "metadata": {},
   "outputs": [],
   "source": [
    "aList = list(aSet)  "
   ]
  },
  {
   "cell_type": "code",
   "execution_count": null,
   "metadata": {},
   "outputs": [],
   "source": [
    "sampled_elements = random.sample(aList, 3)"
   ]
  },
  {
   "cell_type": "code",
   "execution_count": null,
   "metadata": {
    "colab": {
     "base_uri": "https://localhost:8080/"
    },
    "id": "1qbU4rgrJbRR",
    "outputId": "85def704-144f-4b9f-8bbd-0935d16f8186"
   },
   "outputs": [],
   "source": [
    "print(sampled_elements)"
   ]
  },
  {
   "cell_type": "markdown",
   "metadata": {
    "id": "trUTpRHQ_Ufg"
   },
   "source": [
    "#### Exercise 5 Random Sample from Python dictionary"
   ]
  },
  {
   "cell_type": "code",
   "execution_count": null,
   "metadata": {},
   "outputs": [],
   "source": [
    "marks_dict = {\n",
    "    \"Kelly\": 55,\n",
    "    \"jhon\": 70,\n",
    "    \"Donald\": 60,\n",
    "    \"Lennin\": 50\n",
    "}"
   ]
  },
  {
   "cell_type": "code",
   "execution_count": null,
   "metadata": {},
   "outputs": [],
   "source": [
    "sampled_items = random.choices(list(marks_dict.items()), k=2)"
   ]
  },
  {
   "cell_type": "code",
   "execution_count": null,
   "metadata": {},
   "outputs": [],
   "source": [
    "sampled_dict = dict(sampled_items)"
   ]
  },
  {
   "cell_type": "code",
   "execution_count": null,
   "metadata": {},
   "outputs": [],
   "source": [
    "print(sampled_dict)"
   ]
  },
  {
   "cell_type": "code",
   "execution_count": null,
   "metadata": {
    "colab": {
     "base_uri": "https://localhost:8080/"
    },
    "id": "rYNfCvlo_FX9",
    "outputId": "4767b8ed-fec5-4ae0-c82e-33b6c9283eca"
   },
   "outputs": [],
   "source": [
    "print(sampled_dict[list(sampled_dict.keys())[0]], sampled_dict[list(sampled_dict.keys())[1]])"
   ]
  },
  {
   "cell_type": "code",
   "execution_count": null,
   "metadata": {
    "colab": {
     "base_uri": "https://localhost:8080/"
    },
    "id": "su5jJ-n9_HsT",
    "outputId": "2a6fafde-251a-4f9a-b834-f27ee0c7367d"
   },
   "outputs": [],
   "source": [
    "print(sampled_dict[list(sampled_dict.keys())[1]], sampled_dict[list(sampled_dict.keys())[0]])"
   ]
  },
  {
   "cell_type": "markdown",
   "metadata": {
    "id": "xqAZEsxMJxMe"
   },
   "source": [
    "#### Exercise 6 Random seed to get the same sample list every time"
   ]
  },
  {
   "cell_type": "code",
   "execution_count": null,
   "metadata": {},
   "outputs": [],
   "source": [
    "alist = [20.5, 40.5, 30.5, 50.5, 70.5]"
   ]
  },
  {
   "cell_type": "code",
   "execution_count": null,
   "metadata": {
    "colab": {
     "base_uri": "https://localhost:8080/"
    },
    "id": "4w5qZoElJt5V",
    "outputId": "90bb8da8-8dc7-41f1-870d-497504e84184"
   },
   "outputs": [],
   "source": [
    "for i in range(1):\n",
    "    # use 4 as a seed value\n",
    "    random.seed(4)\n",
    "    # get sample list of three item\n",
    "    sample_list = random.sample(alist, 3)\n",
    "    print(sample_list)"
   ]
  },
  {
   "cell_type": "code",
   "execution_count": null,
   "metadata": {},
   "outputs": [],
   "source": [
    "for i in range(1):\n",
    "    # use 3 as a seed value\n",
    "    random.seed(3)\n",
    "    # get sample list of three item\n",
    "    sample_list = random.sample(alist, 3)\n",
    "    print(sample_list)"
   ]
  },
  {
   "cell_type": "markdown",
   "metadata": {
    "id": "mguaJ_CSJ1NL"
   },
   "source": [
    "#### Exercise 7 Get a sample array from a multidimensional array"
   ]
  },
  {
   "cell_type": "code",
   "execution_count": null,
   "metadata": {
    "colab": {
     "base_uri": "https://localhost:8080/"
    },
    "id": "ajefqa2q4zgF",
    "outputId": "259f7643-66f6-4dd6-dba3-41c07c89ecd8"
   },
   "outputs": [],
   "source": [
    "!pip install numpy"
   ]
  },
  {
   "cell_type": "code",
   "execution_count": null,
   "metadata": {},
   "outputs": [],
   "source": [
    "import numpy as np"
   ]
  },
  {
   "cell_type": "code",
   "execution_count": null,
   "metadata": {},
   "outputs": [],
   "source": [
    "array = np.array([[2, 4, 6], [5, 10, 15], [6, 12, 18], [7, 14, 21], [8, 16, 24]])"
   ]
  },
  {
   "cell_type": "code",
   "execution_count": null,
   "metadata": {},
   "outputs": [],
   "source": [
    "randomRows = np.random.randint(5, size=2)"
   ]
  },
  {
   "cell_type": "code",
   "execution_count": null,
   "metadata": {
    "colab": {
     "base_uri": "https://localhost:8080/"
    },
    "id": "EqIqetvgViHi",
    "outputId": "187674d6-5a97-44e7-af5e-50d429f1de72"
   },
   "outputs": [],
   "source": [
    "for i in randomRows:\n",
    "    print(array[i, :])"
   ]
  },
  {
   "cell_type": "markdown",
   "metadata": {
    "id": "CWLplJZZBQDk"
   },
   "source": [
    "#### Exercise 8 Biased Sampling Using Random module"
   ]
  },
  {
   "cell_type": "code",
   "execution_count": null,
   "metadata": {},
   "outputs": [],
   "source": [
    "items = [\"A\", \"B\", \"C\", \"D\"]"
   ]
  },
  {
   "cell_type": "code",
   "execution_count": null,
   "metadata": {},
   "outputs": [],
   "source": [
    "weights = [0.2, 0.3, 0.4, 0.1]"
   ]
  },
  {
   "cell_type": "code",
   "execution_count": null,
   "metadata": {},
   "outputs": [],
   "source": [
    "sample_size = 3"
   ]
  },
  {
   "cell_type": "code",
   "execution_count": null,
   "metadata": {},
   "outputs": [],
   "source": [
    "sampled_items = random.choices(items, weights=weights, k=sample_size)"
   ]
  },
  {
   "cell_type": "code",
   "execution_count": null,
   "metadata": {
    "colab": {
     "base_uri": "https://localhost:8080/"
    },
    "id": "ZwVXRqhkBX0M",
    "outputId": "01bc0aa9-d8ba-48f1-a9a8-fcf5b4b7f531"
   },
   "outputs": [],
   "source": [
    "print(\"Sampled items:\", sampled_items)"
   ]
  },
  {
   "cell_type": "markdown",
   "metadata": {
    "id": "6Fga0WNrBxnm"
   },
   "source": [
    "#### Exercise 9 Biased Sampling using NumPy module"
   ]
  },
  {
   "cell_type": "code",
   "execution_count": null,
   "metadata": {},
   "outputs": [],
   "source": [
    "def custom_prob_distribution(x):\n",
    "    if x % 2 == 0:\n",
    "        return 0.6\n",
    "    else:\n",
    "        return 0.4"
   ]
  },
  {
   "cell_type": "code",
   "execution_count": null,
   "metadata": {},
   "outputs": [],
   "source": [
    "items = np.array([1, 2, 3, 4, 5, 6, 7, 8, 9, 10])"
   ]
  },
  {
   "cell_type": "code",
   "execution_count": null,
   "metadata": {},
   "outputs": [],
   "source": [
    "probabilities = np.array([custom_prob_distribution(x) for x in items])"
   ]
  },
  {
   "cell_type": "code",
   "execution_count": null,
   "metadata": {},
   "outputs": [],
   "source": [
    "print(probabilities)"
   ]
  },
  {
   "cell_type": "code",
   "execution_count": null,
   "metadata": {},
   "outputs": [],
   "source": [
    "probabilities /= probabilities.sum()"
   ]
  },
  {
   "cell_type": "code",
   "execution_count": null,
   "metadata": {},
   "outputs": [],
   "source": [
    "sample_size = 5"
   ]
  },
  {
   "cell_type": "code",
   "execution_count": null,
   "metadata": {},
   "outputs": [],
   "source": [
    "sampled_indices = np.random.choice(len(items), size=sample_size, replace=False, p=probabilities)"
   ]
  },
  {
   "cell_type": "code",
   "execution_count": null,
   "metadata": {},
   "outputs": [],
   "source": [
    "sampled_items = items[sampled_indices]"
   ]
  },
  {
   "cell_type": "code",
   "execution_count": null,
   "metadata": {},
   "outputs": [],
   "source": [
    "print(\"Sampled items:\", sampled_items)"
   ]
  },
  {
   "cell_type": "markdown",
   "metadata": {
    "id": "VjAcCvixB9Gd"
   },
   "source": [
    "#### Exercise 10 Biased Sampling using Roulette Wheel Selection"
   ]
  },
  {
   "cell_type": "code",
   "execution_count": null,
   "metadata": {},
   "outputs": [],
   "source": [
    "individuals = [(\"A\", 0.2), (\"B\", 0.3), (\"C\", 0.4), (\"D\", 0.1)]"
   ]
  },
  {
   "cell_type": "code",
   "execution_count": null,
   "metadata": {},
   "outputs": [],
   "source": [
    "cumulative_fitness = [sum([ind[1] for ind in individuals[:i+1]]) for i in range(len(individuals))]"
   ]
  },
  {
   "cell_type": "code",
   "execution_count": null,
   "metadata": {},
   "outputs": [],
   "source": [
    "print(cumulative_fitness)"
   ]
  },
  {
   "cell_type": "code",
   "execution_count": null,
   "metadata": {},
   "outputs": [],
   "source": [
    "sample_size = 3"
   ]
  },
  {
   "cell_type": "code",
   "execution_count": null,
   "metadata": {},
   "outputs": [],
   "source": [
    "sampled_individuals = []"
   ]
  },
  {
   "cell_type": "code",
   "execution_count": null,
   "metadata": {},
   "outputs": [],
   "source": [
    "for _ in range(sample_size):\n",
    "    rand_value = random.random()  # Generate a random value between 0 and 1\n",
    "    selected_index = None\n",
    "\n",
    "    # Find the index of the individual whose cumulative fitness is greater than rand_value\n",
    "    for i, fitness in enumerate(cumulative_fitness):\n",
    "        if rand_value <= fitness:\n",
    "            selected_index = i\n",
    "            break\n",
    "\n",
    "    sampled_individuals.append(individuals[selected_index][0]) # Append individuals with selected index to empty list"
   ]
  },
  {
   "cell_type": "code",
   "execution_count": null,
   "metadata": {
    "colab": {
     "base_uri": "https://localhost:8080/"
    },
    "id": "hr4nqfoKB80W",
    "outputId": "bc33ca78-f6d6-4a0c-e86c-8564d277ee3a",
    "scrolled": true
   },
   "outputs": [],
   "source": [
    "print(\"Sampled individuals:\", sampled_individuals)"
   ]
  },
  {
   "cell_type": "markdown",
   "metadata": {},
   "source": [
    "#### Exercise 11 Stratified sampling"
   ]
  },
  {
   "cell_type": "code",
   "execution_count": null,
   "metadata": {
    "id": "I3qbMNF75J0Q"
   },
   "outputs": [],
   "source": [
    "!pip install pandas"
   ]
  },
  {
   "cell_type": "code",
   "execution_count": null,
   "metadata": {},
   "outputs": [],
   "source": [
    "import pandas as pd"
   ]
  },
  {
   "cell_type": "code",
   "execution_count": null,
   "metadata": {},
   "outputs": [],
   "source": [
    "students = {\n",
    "\t'Name': ['Lisa', 'Kate', 'Ben', 'Kim', 'Josh',\n",
    "\t\t\t'Alex', 'Evan', 'Greg', 'Sam', 'Ella'],\n",
    "\t'ID': ['001', '002', '003', '004', '005', '006',\n",
    "\t\t'007', '008', '009', '010'],\n",
    "\t'Grade': ['A', 'A', 'C', 'B', 'B', 'B', 'C',\n",
    "\t\t\t'A', 'A', 'A'],\n",
    "\n",
    "\t'Category': [2, 3, 1, 3, 2, 3, 3, 1, 2, 1]\n",
    "}"
   ]
  },
  {
   "cell_type": "code",
   "execution_count": null,
   "metadata": {},
   "outputs": [],
   "source": [
    "df = pd.DataFrame(students)"
   ]
  },
  {
   "cell_type": "code",
   "execution_count": null,
   "metadata": {
    "colab": {
     "base_uri": "https://localhost:8080/",
     "height": 363
    },
    "id": "Gx0ebI6nK8IR",
    "outputId": "4190acd2-357a-4637-9dff-0268a0849025"
   },
   "outputs": [],
   "source": [
    "df"
   ]
  },
  {
   "cell_type": "code",
   "execution_count": null,
   "metadata": {
    "colab": {
     "base_uri": "https://localhost:8080/",
     "height": 238
    },
    "id": "G19YJ_ttLjDd",
    "outputId": "eae61465-857d-4546-87f4-97ce1065861e"
   },
   "outputs": [],
   "source": [
    "df.groupby('Grade', group_keys=False).apply(lambda x: x.sample(2))"
   ]
  },
  {
   "cell_type": "code",
   "execution_count": null,
   "metadata": {
    "colab": {
     "base_uri": "https://localhost:8080/",
     "height": 238
    },
    "id": "dvZLhu1FLm1h",
    "outputId": "8e3677fe-4dfa-4548-9b79-e8c3b02cc49f",
    "scrolled": true
   },
   "outputs": [],
   "source": [
    "df.groupby('Grade', group_keys=False).apply(lambda x: x.sample(frac=0.6))"
   ]
  },
  {
   "cell_type": "markdown",
   "metadata": {},
   "source": [
    "#### Exercise 12 Systematic Sampling"
   ]
  },
  {
   "cell_type": "code",
   "execution_count": null,
   "metadata": {},
   "outputs": [],
   "source": [
    "number_of_students = 15"
   ]
  },
  {
   "cell_type": "code",
   "execution_count": null,
   "metadata": {},
   "outputs": [],
   "source": [
    "data = {'Id': np.arange(1, number_of_students+1).tolist(),\n",
    "        'height': [159, 171, 158, 162, 162, 177, 160, 175,\n",
    "                   168, 171, 178, 178, 173, 177, 164]}"
   ]
  },
  {
   "cell_type": "code",
   "execution_count": null,
   "metadata": {},
   "outputs": [],
   "source": [
    "df = pd.DataFrame(data)"
   ]
  },
  {
   "cell_type": "code",
   "execution_count": null,
   "metadata": {},
   "outputs": [],
   "source": [
    "display(df)"
   ]
  },
  {
   "cell_type": "code",
   "execution_count": null,
   "metadata": {},
   "outputs": [],
   "source": [
    "def systematic_sampling(df, step):\n",
    " \n",
    "    indexes = np.arange(0, len(df), step=step)\n",
    "    systematic_sample = df.iloc[indexes]\n",
    "    return systematic_sample"
   ]
  },
  {
   "cell_type": "code",
   "execution_count": null,
   "metadata": {},
   "outputs": [],
   "source": [
    "systematic_sample = systematic_sampling(df, 3)"
   ]
  },
  {
   "cell_type": "code",
   "execution_count": null,
   "metadata": {},
   "outputs": [],
   "source": [
    "systematic_sample"
   ]
  },
  {
   "cell_type": "markdown",
   "metadata": {},
   "source": [
    "#### Exercise 13 Setting step and start for systematic sampling"
   ]
  },
  {
   "cell_type": "code",
   "execution_count": null,
   "metadata": {},
   "outputs": [],
   "source": [
    "sample_size = 5"
   ]
  },
  {
   "cell_type": "code",
   "execution_count": null,
   "metadata": {},
   "outputs": [],
   "source": [
    "step = int(round(len(df)/sample_size,0))"
   ]
  },
  {
   "cell_type": "code",
   "execution_count": null,
   "metadata": {
    "scrolled": true
   },
   "outputs": [],
   "source": [
    "start_index = random.randint(1, step)"
   ]
  },
  {
   "cell_type": "code",
   "execution_count": null,
   "metadata": {},
   "outputs": [],
   "source": [
    "sampled_df = df.iloc[start_index::step]"
   ]
  },
  {
   "cell_type": "code",
   "execution_count": null,
   "metadata": {},
   "outputs": [],
   "source": [
    "sampled_df"
   ]
  },
  {
   "cell_type": "markdown",
   "metadata": {},
   "source": [
    "#### Exercise 14 Cluster Sampling"
   ]
  },
  {
   "cell_type": "code",
   "execution_count": null,
   "metadata": {},
   "outputs": [],
   "source": [
    "df = pd.DataFrame({'tour': np.repeat(np.arange(1,11), 20),\n",
    "                   'experience': np.random.normal(loc=7, scale=1, size=200)})"
   ]
  },
  {
   "cell_type": "code",
   "execution_count": null,
   "metadata": {},
   "outputs": [],
   "source": [
    "df.head(5)"
   ]
  },
  {
   "cell_type": "code",
   "execution_count": null,
   "metadata": {},
   "outputs": [],
   "source": [
    "clusters = np.random.choice(np.arange(1,11), size=4, replace=False)"
   ]
  },
  {
   "cell_type": "code",
   "execution_count": null,
   "metadata": {},
   "outputs": [],
   "source": [
    "cluster_sample = df[df['tour'].isin(clusters)]"
   ]
  },
  {
   "cell_type": "code",
   "execution_count": null,
   "metadata": {},
   "outputs": [],
   "source": [
    "cluster_sample.head(6)"
   ]
  },
  {
   "cell_type": "code",
   "execution_count": null,
   "metadata": {},
   "outputs": [],
   "source": [
    "cluster_sample['tour'].value_counts()"
   ]
  },
  {
   "cell_type": "markdown",
   "metadata": {},
   "source": [
    "#### Exercise 15 Convenience Sampling"
   ]
  },
  {
   "cell_type": "code",
   "execution_count": null,
   "metadata": {},
   "outputs": [],
   "source": [
    "data = {\n",
    "    'Name': ['Alice', 'Bob', 'Charlie', 'David', 'Eve', 'Frank', 'Grace', 'Helen', 'Ivy', 'Jack'],\n",
    "    'Age': [25, 30, 22, 35, 28, 19, 42, 29, 31, 40],\n",
    "    'Gender': ['Female', 'Male', 'Male', 'Male', 'Female', 'Male', 'Female', 'Female', 'Female', 'Male']\n",
    "}"
   ]
  },
  {
   "cell_type": "code",
   "execution_count": null,
   "metadata": {},
   "outputs": [],
   "source": [
    "df = pd.DataFrame(data)"
   ]
  },
  {
   "cell_type": "code",
   "execution_count": null,
   "metadata": {},
   "outputs": [],
   "source": [
    "convenience_sample = df.head(5)"
   ]
  },
  {
   "cell_type": "code",
   "execution_count": null,
   "metadata": {},
   "outputs": [],
   "source": [
    "print(convenience_sample)"
   ]
  },
  {
   "cell_type": "markdown",
   "metadata": {},
   "source": [
    "#### Exercise 16 Purposive Sampling"
   ]
  },
  {
   "cell_type": "code",
   "execution_count": null,
   "metadata": {},
   "outputs": [],
   "source": [
    "purposive_sample = df[df['Age'] > 30]"
   ]
  },
  {
   "cell_type": "code",
   "execution_count": null,
   "metadata": {},
   "outputs": [],
   "source": [
    "print(purposive_sample)"
   ]
  },
  {
   "cell_type": "markdown",
   "metadata": {},
   "source": [
    "#### Exercise 17 Snowball Sampling"
   ]
  },
  {
   "cell_type": "code",
   "execution_count": null,
   "metadata": {},
   "outputs": [],
   "source": [
    "initial_participant = ['Alice']"
   ]
  },
  {
   "cell_type": "code",
   "execution_count": null,
   "metadata": {},
   "outputs": [],
   "source": [
    "while len(initial_participant) < 5:  # Select 5 participants\n",
    "    # Randomly select a participant from the dataset\n",
    "    selected_participant = df.sample(1)['Name'].values[0]\n",
    "    \n",
    "    # Add the selected participant to the list\n",
    "    initial_participant.append(selected_participant)"
   ]
  },
  {
   "cell_type": "code",
   "execution_count": null,
   "metadata": {},
   "outputs": [],
   "source": [
    "snowball_sample = df[df['Name'].isin(initial_participant)]"
   ]
  },
  {
   "cell_type": "code",
   "execution_count": null,
   "metadata": {},
   "outputs": [],
   "source": [
    "print(snowball_sample)"
   ]
  },
  {
   "cell_type": "markdown",
   "metadata": {},
   "source": [
    "#### Exercise 18 Quota Sampling"
   ]
  },
  {
   "cell_type": "code",
   "execution_count": null,
   "metadata": {},
   "outputs": [],
   "source": [
    "data = {\n",
    "    'Gender': ['Male', 'Female', 'Male', 'Male', 'Female', 'Female', 'Male', 'Male', 'Female', 'Male'],\n",
    "    'Age': [25, 30, 22, 35, 28, 19, 42, 29, 31, 40],\n",
    "    'Income': [50000, 60000, 45000, 75000, 55000, 40000, 90000, 62000, 71000, 80000]\n",
    "}"
   ]
  },
  {
   "cell_type": "code",
   "execution_count": null,
   "metadata": {},
   "outputs": [],
   "source": [
    "df = pd.DataFrame(data)"
   ]
  },
  {
   "cell_type": "code",
   "execution_count": null,
   "metadata": {},
   "outputs": [],
   "source": [
    "gender_quota = {'Male': 2, 'Female': 2}"
   ]
  },
  {
   "cell_type": "code",
   "execution_count": null,
   "metadata": {},
   "outputs": [],
   "source": [
    "age_groups = {'Age 18-24': (18, 24), 'Age 25-34': (25, 34), 'Age 35-44': (35, 44)}"
   ]
  },
  {
   "cell_type": "code",
   "execution_count": null,
   "metadata": {},
   "outputs": [],
   "source": [
    "quota_sample = pd.DataFrame(columns=df.columns)"
   ]
  },
  {
   "cell_type": "code",
   "execution_count": null,
   "metadata": {},
   "outputs": [],
   "source": [
    "for gender, gender_quota_count in gender_quota.items():\n",
    "    for age_group, (start, end) in age_groups.items():\n",
    "        # Select participants that meet the gender and age criteria\n",
    "        eligible_participants = df[(df['Gender'] == gender) & (df['Age'].between(start, end))]\n",
    "        \n",
    "        # If there are enough eligible participants to meet the quota, add them to the quota sample\n",
    "        if len(eligible_participants) >= gender_quota_count:\n",
    "            selected_participants = eligible_participants.sample(gender_quota_count, random_state=42)\n",
    "            quota_sample = quota_sample.append(selected_participants)"
   ]
  },
  {
   "cell_type": "code",
   "execution_count": null,
   "metadata": {},
   "outputs": [],
   "source": [
    "print(quota_sample)"
   ]
  },
  {
   "cell_type": "code",
   "execution_count": null,
   "metadata": {},
   "outputs": [],
   "source": [
    "import math"
   ]
  },
  {
   "cell_type": "code",
   "execution_count": null,
   "metadata": {},
   "outputs": [],
   "source": [
    "import statistics"
   ]
  },
  {
   "cell_type": "code",
   "execution_count": null,
   "metadata": {},
   "outputs": [],
   "source": [
    "!pip install scipy"
   ]
  },
  {
   "cell_type": "code",
   "execution_count": null,
   "metadata": {},
   "outputs": [],
   "source": [
    "import scipy.stats"
   ]
  },
  {
   "cell_type": "markdown",
   "metadata": {},
   "source": [
    "#### Exercise 19 Calculating Mean"
   ]
  },
  {
   "cell_type": "code",
   "execution_count": null,
   "metadata": {
    "colab": {
     "base_uri": "https://localhost:8080/"
    },
    "id": "utkjqKcmLonD",
    "outputId": "7801005c-ba54-42f0-c5ca-cf9f63cee5c8"
   },
   "outputs": [],
   "source": [
    "d = {'Name':pd.Series(['Tom','James','Ricky','Vin','Steve','Smith','Jack',\n",
    "   'Lee','David','Gasper','Betina','Andres']),\n",
    "   'Age':pd.Series([25,26,25,23,30,29,23,34,40,30,51,46]),\n",
    "   'Rating':pd.Series([4.23,3.24,3.98,2.56,3.20,4.6,3.8,3.78,2.98,4.80,4.10,3.65])\n",
    "}\n",
    "\n",
    "df = pd.DataFrame(d)\n",
    "print(df)"
   ]
  },
  {
   "cell_type": "code",
   "execution_count": null,
   "metadata": {},
   "outputs": [],
   "source": [
    "age_sum = df['Age'].sum()\n",
    "age_sum"
   ]
  },
  {
   "cell_type": "code",
   "execution_count": null,
   "metadata": {},
   "outputs": [],
   "source": [
    "age_mean = age_sum/len(df['Age'])\n",
    "age_mean"
   ]
  },
  {
   "cell_type": "code",
   "execution_count": null,
   "metadata": {},
   "outputs": [],
   "source": [
    "age_mean = df['Age'].mean()\n",
    "age_mean"
   ]
  },
  {
   "cell_type": "markdown",
   "metadata": {},
   "source": [
    "#### Exercise 20 Harmonic mean"
   ]
  },
  {
   "cell_type": "code",
   "execution_count": null,
   "metadata": {},
   "outputs": [],
   "source": [
    "harmonic_mean = scipy.stats.hmean(df['Age'])\n",
    "harmonic_mean"
   ]
  },
  {
   "cell_type": "code",
   "execution_count": null,
   "metadata": {},
   "outputs": [],
   "source": [
    "n = len(df['Age'])\n",
    "sum_reciprocals = sum(1 / x for x in df['Age'])\n",
    "harmonic_mean = n / sum_reciprocals"
   ]
  },
  {
   "cell_type": "code",
   "execution_count": null,
   "metadata": {},
   "outputs": [],
   "source": [
    "harmonic_mean"
   ]
  },
  {
   "cell_type": "markdown",
   "metadata": {},
   "source": [
    "#### Exercise 21 Trimmed mean"
   ]
  },
  {
   "cell_type": "code",
   "execution_count": null,
   "metadata": {},
   "outputs": [],
   "source": [
    "trim_percent = 0.1"
   ]
  },
  {
   "cell_type": "code",
   "execution_count": null,
   "metadata": {},
   "outputs": [],
   "source": [
    "n = len(df['Age'])\n",
    "k = int(n * trim_percent)"
   ]
  },
  {
   "cell_type": "code",
   "execution_count": null,
   "metadata": {},
   "outputs": [],
   "source": [
    "df.sort_values(by=['Age'])"
   ]
  },
  {
   "cell_type": "code",
   "execution_count": null,
   "metadata": {},
   "outputs": [],
   "source": [
    "trimmed_mean = np.mean(df['Age'][k:n-k])"
   ]
  },
  {
   "cell_type": "code",
   "execution_count": null,
   "metadata": {},
   "outputs": [],
   "source": [
    "trimmed_mean"
   ]
  },
  {
   "cell_type": "markdown",
   "metadata": {},
   "source": [
    "#### Exercise 22 Median"
   ]
  },
  {
   "cell_type": "code",
   "execution_count": null,
   "metadata": {},
   "outputs": [],
   "source": [
    "age_median = df['Age'].median()\n",
    "age_median"
   ]
  },
  {
   "cell_type": "markdown",
   "metadata": {},
   "source": [
    "#### Execise 23 Mode"
   ]
  },
  {
   "cell_type": "code",
   "execution_count": null,
   "metadata": {},
   "outputs": [],
   "source": [
    "age_mode = df['Age'].mode()\n",
    "age_mode"
   ]
  },
  {
   "cell_type": "markdown",
   "metadata": {},
   "source": [
    "#### Exercise 24 Variance"
   ]
  },
  {
   "cell_type": "code",
   "execution_count": null,
   "metadata": {},
   "outputs": [],
   "source": [
    "age_var = df['Age'].var(ddof=1)\n",
    "age_var"
   ]
  },
  {
   "cell_type": "markdown",
   "metadata": {},
   "source": [
    "#### Exercise 25 Standard Deviation"
   ]
  },
  {
   "cell_type": "code",
   "execution_count": null,
   "metadata": {},
   "outputs": [],
   "source": [
    "age_std = df['Age'].std()\n",
    "age_std"
   ]
  },
  {
   "cell_type": "markdown",
   "metadata": {},
   "source": [
    "#### Exercise 26 Range"
   ]
  },
  {
   "cell_type": "code",
   "execution_count": null,
   "metadata": {},
   "outputs": [],
   "source": [
    "age_range = max(df['Age']) - min(df['Age'])\n",
    "age_range"
   ]
  },
  {
   "cell_type": "markdown",
   "metadata": {},
   "source": [
    "#### Exercise 27 IQR"
   ]
  },
  {
   "cell_type": "code",
   "execution_count": null,
   "metadata": {},
   "outputs": [],
   "source": [
    "q1 = np.percentile(df['Age'], 25)"
   ]
  },
  {
   "cell_type": "code",
   "execution_count": null,
   "metadata": {},
   "outputs": [],
   "source": [
    "q3 = np.percentile(df['Age'], 75)"
   ]
  },
  {
   "cell_type": "code",
   "execution_count": null,
   "metadata": {},
   "outputs": [],
   "source": [
    "iqr = q3 - q1\n",
    "iqr"
   ]
  },
  {
   "cell_type": "markdown",
   "metadata": {},
   "source": [
    "#### Exercise 28 Summarizing Data"
   ]
  },
  {
   "cell_type": "code",
   "execution_count": null,
   "metadata": {
    "colab": {
     "base_uri": "https://localhost:8080/"
    },
    "id": "gzOIoOG5Mqk6",
    "outputId": "43b7e3cc-6202-4001-cbc2-9a0de6e62696"
   },
   "outputs": [],
   "source": [
    "df.describe()"
   ]
  },
  {
   "cell_type": "code",
   "execution_count": null,
   "metadata": {
    "colab": {
     "base_uri": "https://localhost:8080/"
    },
    "id": "UyESX7ppM0uB",
    "outputId": "1accb00d-457f-485d-a5b1-1f809978a438"
   },
   "outputs": [],
   "source": [
    "df.describe(include=['object'])"
   ]
  },
  {
   "cell_type": "code",
   "execution_count": null,
   "metadata": {
    "colab": {
     "base_uri": "https://localhost:8080/"
    },
    "id": "9oJ40TizNslV",
    "outputId": "f21ff2cf-23ac-46aa-fa02-f4fe9d59a0b0"
   },
   "outputs": [],
   "source": [
    "df.describe(include='all')"
   ]
  },
  {
   "cell_type": "markdown",
   "metadata": {},
   "source": [
    "#### Exercise 29 Stem and Leaf Plot"
   ]
  },
  {
   "cell_type": "code",
   "execution_count": null,
   "metadata": {
    "colab": {
     "base_uri": "https://localhost:8080/"
    },
    "id": "SqcrraDQOzor",
    "outputId": "453033aa-793d-42df-f507-fe5d8de29d60",
    "scrolled": true
   },
   "outputs": [],
   "source": [
    "!pip install stemgraphic"
   ]
  },
  {
   "cell_type": "code",
   "execution_count": null,
   "metadata": {},
   "outputs": [],
   "source": [
    "import stemgraphic"
   ]
  },
  {
   "cell_type": "code",
   "execution_count": null,
   "metadata": {},
   "outputs": [],
   "source": [
    "data = [16, 25, 47, 56, 23, 45, 19, 55, 44, 27]"
   ]
  },
  {
   "cell_type": "code",
   "execution_count": null,
   "metadata": {
    "colab": {
     "base_uri": "https://localhost:8080/",
     "height": 243
    },
    "id": "x3uMQuP5Nyqv",
    "outputId": "6a45308d-6965-4910-91f9-ef7b16e2c4b7"
   },
   "outputs": [],
   "source": [
    "stemgraphic.stem_graphic(data, scale = 10)"
   ]
  },
  {
   "cell_type": "code",
   "execution_count": null,
   "metadata": {
    "id": "qlDhMoCo5gml"
   },
   "outputs": [],
   "source": [
    "!pip install matplotlib"
   ]
  },
  {
   "cell_type": "code",
   "execution_count": null,
   "metadata": {},
   "outputs": [],
   "source": [
    "import matplotlib.pyplot as plt"
   ]
  },
  {
   "cell_type": "code",
   "execution_count": null,
   "metadata": {},
   "outputs": [],
   "source": [
    "data = [16, 25, 47, 56, 23, 45, 19, 55, 44, 27]"
   ]
  },
  {
   "cell_type": "code",
   "execution_count": null,
   "metadata": {},
   "outputs": [],
   "source": [
    "stems = [1, 1, 2, 2, 2, 4, 4, 4, 5, 5]"
   ]
  },
  {
   "cell_type": "code",
   "execution_count": null,
   "metadata": {
    "colab": {
     "base_uri": "https://localhost:8080/",
     "height": 466
    },
    "id": "oScL33-aOtw-",
    "outputId": "f5f4718a-a69f-4d58-8664-00089312cf90"
   },
   "outputs": [],
   "source": [
    "plt.ylabel('Data') # for label at y-axis\n",
    "\n",
    "plt.xlabel('stems') # for label at x-axis\n",
    "\n",
    "plt.xlim(0, 10) # limit of the values at x axis\n",
    "\n",
    "plt.stem(stems, data) # required plot\n"
   ]
  },
  {
   "cell_type": "markdown",
   "metadata": {},
   "source": [
    "#### Exercise 30 Histogram"
   ]
  },
  {
   "cell_type": "code",
   "execution_count": null,
   "metadata": {},
   "outputs": [],
   "source": [
    "d = {'Name':pd.Series(['Tom','James','Tom','Vin','James','Smith','Betina',\n",
    "   'Lee','David','Tom','Betina','Andres']),\n",
    "   'Age':pd.Series([25,26,25,23,30,29,23,34,40,30,51,46]),\n",
    "}\n",
    "\n",
    "df = pd.DataFrame(d)\n",
    "print(df)"
   ]
  },
  {
   "cell_type": "code",
   "execution_count": null,
   "metadata": {},
   "outputs": [],
   "source": [
    "df['Age'].plot(kind='hist')"
   ]
  },
  {
   "cell_type": "markdown",
   "metadata": {},
   "source": [
    "#### Exercise 31 Dot plot"
   ]
  },
  {
   "cell_type": "code",
   "execution_count": null,
   "metadata": {
    "colab": {
     "base_uri": "https://localhost:8080/",
     "height": 357
    },
    "id": "vnJ3C7BzPBpa",
    "outputId": "285a8b6d-2bad-4b43-90d0-0d81391a0ab8"
   },
   "outputs": [],
   "source": [
    "plt.plot(df['Name'], df['Age'], linestyle='None', marker='o')\n",
    "plt.show()"
   ]
  },
  {
   "cell_type": "markdown",
   "metadata": {},
   "source": [
    "#### Exercise 32 Box Plot"
   ]
  },
  {
   "cell_type": "code",
   "execution_count": null,
   "metadata": {},
   "outputs": [],
   "source": [
    "np.random.seed(10)\n",
    "data = np.random.normal(100, 20, 200)"
   ]
  },
  {
   "cell_type": "code",
   "execution_count": null,
   "metadata": {
    "colab": {
     "base_uri": "https://localhost:8080/",
     "height": 707
    },
    "id": "jFOtN0S4PSou",
    "outputId": "0cbfb780-6628-4789-eaeb-6b1db6f1aa9f"
   },
   "outputs": [],
   "source": [
    "fig = plt.figure(figsize =(10, 7))\n",
    "plt.boxplot(data)\n",
    "plt.show()"
   ]
  },
  {
   "cell_type": "markdown",
   "metadata": {
    "id": "cwQ8r2vuq1e5"
   },
   "source": [
    "#### Exercise 33 Parallel Box Plot"
   ]
  },
  {
   "cell_type": "code",
   "execution_count": null,
   "metadata": {},
   "outputs": [],
   "source": [
    "np.random.seed(10)\n",
    "\n",
    "data_1 = np.random.normal(100, 10, 200)\n",
    "data_2 = np.random.normal(90, 20, 200)\n",
    "data_3 = np.random.normal(80, 30, 200)\n",
    "data_4 = np.random.normal(70, 40, 200)\n",
    "data = [data_1, data_2, data_3, data_4]"
   ]
  },
  {
   "cell_type": "code",
   "execution_count": null,
   "metadata": {
    "colab": {
     "base_uri": "https://localhost:8080/",
     "height": 829
    },
    "id": "f2ltghCRPfLa",
    "outputId": "94fc427f-7180-402f-e18a-d5f12cc19e47"
   },
   "outputs": [],
   "source": [
    "fig = plt.figure(figsize =(10, 7))\n",
    "\n",
    "# Creating axes instance\n",
    "ax = fig.add_axes([0, 0, 1, 1])\n",
    "\n",
    "# Creating plot\n",
    "bp = ax.boxplot(data)\n",
    "\n",
    "# show plot\n",
    "plt.show()\n"
   ]
  },
  {
   "cell_type": "markdown",
   "metadata": {
    "id": "zG8NiC8Qs_Pp"
   },
   "source": [
    "#### Exercise 34 Customized Box Plot"
   ]
  },
  {
   "cell_type": "code",
   "execution_count": null,
   "metadata": {},
   "outputs": [],
   "source": [
    "np.random.seed(10)\n",
    "data_1 = np.random.normal(100, 10, 200)\n",
    "data_2 = np.random.normal(90, 20, 200)\n",
    "data_3 = np.random.normal(80, 30, 200)\n",
    "data_4 = np.random.normal(70, 40, 200)\n",
    "data = [data_1, data_2, data_3, data_4]"
   ]
  },
  {
   "cell_type": "code",
   "execution_count": null,
   "metadata": {
    "colab": {
     "base_uri": "https://localhost:8080/",
     "height": 707
    },
    "id": "7K3ZHO_jPuLF",
    "outputId": "cf607dd7-39c2-4620-ce94-595b73585eb1"
   },
   "outputs": [],
   "source": [
    "fig = plt.figure(figsize =(10, 7))\n",
    "ax = fig.add_subplot(111)\n",
    "\n",
    "# Creating axes instance\n",
    "bp = ax.boxplot(data, patch_artist = True,\n",
    "\t\t\t\tnotch ='True', vert = 0)\n",
    "\n",
    "colors = ['#0000FF', '#00FF00',\n",
    "\t\t'#FFFF00', '#FF00FF']\n",
    "\n",
    "for patch, color in zip(bp['boxes'], colors):\n",
    "\tpatch.set_facecolor(color)\n",
    "\n",
    "# changing color and linewidth of\n",
    "# whiskers\n",
    "for whisker in bp['whiskers']:\n",
    "\twhisker.set(color ='#8B008B',\n",
    "\t\t\t\tlinewidth = 1.5,\n",
    "\t\t\t\tlinestyle =\":\")\n",
    "\n",
    "# changing color and linewidth of\n",
    "# caps\n",
    "for cap in bp['caps']:\n",
    "\tcap.set(color ='#8B008B',\n",
    "\t\t\tlinewidth = 2)\n",
    "\n",
    "# changing color and linewidth of\n",
    "# medians\n",
    "for median in bp['medians']:\n",
    "\tmedian.set(color ='red',\n",
    "\t\t\tlinewidth = 3)\n",
    "\n",
    "# changing style of fliers\n",
    "for flier in bp['fliers']:\n",
    "\tflier.set(marker ='D',\n",
    "\t\t\tcolor ='#e7298a',\n",
    "\t\t\talpha = 0.5)\n",
    "\n",
    "# x-axis labels\n",
    "ax.set_yticklabels(['data_1', 'data_2',\n",
    "\t\t\t\t\t'data_3', 'data_4'])\n",
    "\n",
    "# Adding title\n",
    "plt.title(\"Customized box plot\")\n",
    "\n",
    "# Removing top axes and right axes\n",
    "# ticks\n",
    "ax.get_xaxis().tick_bottom()\n",
    "ax.get_yaxis().tick_left()\n",
    "\n",
    "# show plot\n",
    "plt.show()\n"
   ]
  },
  {
   "cell_type": "markdown",
   "metadata": {},
   "source": [
    "---"
   ]
  },
  {
   "cell_type": "markdown",
   "metadata": {},
   "source": [
    "Revised Date: September 30, 2023"
   ]
  },
  {
   "cell_type": "code",
   "execution_count": null,
   "metadata": {},
   "outputs": [],
   "source": []
  }
 ],
 "metadata": {
  "colab": {
   "provenance": []
  },
  "kernelspec": {
   "display_name": "Python 3 (ipykernel)",
   "language": "python",
   "name": "python3"
  },
  "language_info": {
   "codemirror_mode": {
    "name": "ipython",
    "version": 3
   },
   "file_extension": ".py",
   "mimetype": "text/x-python",
   "name": "python",
   "nbconvert_exporter": "python",
   "pygments_lexer": "ipython3",
   "version": "3.9.7"
  }
 },
 "nbformat": 4,
 "nbformat_minor": 1
}
