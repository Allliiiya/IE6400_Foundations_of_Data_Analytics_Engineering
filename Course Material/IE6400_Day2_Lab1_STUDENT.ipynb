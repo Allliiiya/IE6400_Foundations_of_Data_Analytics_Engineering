{
 "cells": [
  {
   "cell_type": "markdown",
   "id": "39982e8f",
   "metadata": {
    "id": "39982e8f"
   },
   "source": [
    "# IE6400 Foundations for Data Analytics Engineering\n",
    "# Fall 2023"
   ]
  },
  {
   "cell_type": "markdown",
   "id": "7dbf7796",
   "metadata": {
    "id": "7dbf7796"
   },
   "source": [
    "### Module 1: Basic of Python - Part 1"
   ]
  },
  {
   "cell_type": "markdown",
   "id": "54b7c08b",
   "metadata": {
    "id": "54b7c08b"
   },
   "source": [
    "#### Exercise 1.1 Creating Variables and Output Variables"
   ]
  },
  {
   "cell_type": "code",
   "execution_count": 1,
   "id": "46514950",
   "metadata": {
    "colab": {
     "base_uri": "https://localhost:8080/"
    },
    "id": "46514950",
    "outputId": "d90fab68-2a90-4850-e6e7-f6b5e630ca1a"
   },
   "outputs": [
    {
     "name": "stdout",
     "output_type": "stream",
     "text": [
      "1\n"
     ]
    }
   ],
   "source": [
    "x = 1 # x is of type int\n",
    "print(x)"
   ]
  },
  {
   "cell_type": "code",
   "execution_count": 2,
   "id": "97f8c3f0",
   "metadata": {
    "colab": {
     "base_uri": "https://localhost:8080/"
    },
    "id": "97f8c3f0",
    "outputId": "784253b4-0c05-4ff8-a932-ccf272e447da"
   },
   "outputs": [
    {
     "name": "stdout",
     "output_type": "stream",
     "text": [
      "NEU\n"
     ]
    }
   ],
   "source": [
    "y = \"NEU\" # y is now of type str\n",
    "print(y)"
   ]
  },
  {
   "cell_type": "code",
   "execution_count": 3,
   "id": "0eb5898c",
   "metadata": {
    "colab": {
     "base_uri": "https://localhost:8080/"
    },
    "id": "0eb5898c",
    "outputId": "db313e54-e22e-4169-b986-632a2f4aefee"
   },
   "outputs": [
    {
     "name": "stdout",
     "output_type": "stream",
     "text": [
      "Northeastern University\n"
     ]
    }
   ],
   "source": [
    "x = \"University\"\n",
    "print(\"Northeastern \" + x)"
   ]
  },
  {
   "cell_type": "code",
   "execution_count": 4,
   "id": "8215f3ca",
   "metadata": {
    "colab": {
     "base_uri": "https://localhost:8080/"
    },
    "id": "8215f3ca",
    "outputId": "36e8114d-cd22-4056-c671-1e37953bb525"
   },
   "outputs": [
    {
     "name": "stdout",
     "output_type": "stream",
     "text": [
      "15\n"
     ]
    }
   ],
   "source": [
    "x = 5\n",
    "y = 10\n",
    "print(x + y)"
   ]
  },
  {
   "cell_type": "code",
   "execution_count": 5,
   "id": "69c9d749",
   "metadata": {
    "colab": {
     "base_uri": "https://localhost:8080/"
    },
    "id": "69c9d749",
    "outputId": "278cbbab-9a69-4dd8-961e-1f3bbbe84f33"
   },
   "outputs": [
    {
     "name": "stdout",
     "output_type": "stream",
     "text": [
      "Northeastern University\n"
     ]
    }
   ],
   "source": [
    "x = \"Northeastern \"\n",
    "y = \"University\"\n",
    "z =  x + y\n",
    "print(z)"
   ]
  },
  {
   "cell_type": "code",
   "execution_count": 6,
   "id": "fcce9d0f",
   "metadata": {
    "colab": {
     "base_uri": "https://localhost:8080/"
    },
    "id": "fcce9d0f",
    "outputId": "7404ad08-ea29-40cd-878f-7db8ec64b2d9"
   },
   "outputs": [
    {
     "name": "stdout",
     "output_type": "stream",
     "text": [
      "Data Analytics Engineering\n"
     ]
    }
   ],
   "source": [
    "x = \"Data\"\n",
    "y = \"Analytics\"\n",
    "z = \"Engineering\"\n",
    "\n",
    "print(x, y, z)"
   ]
  },
  {
   "cell_type": "code",
   "execution_count": 7,
   "id": "fd8e75b1",
   "metadata": {
    "colab": {
     "base_uri": "https://localhost:8080/"
    },
    "id": "fd8e75b1",
    "outputId": "cde93495-1a26-4498-906c-aa3e2f157d23"
   },
   "outputs": [
    {
     "name": "stdout",
     "output_type": "stream",
     "text": [
      "5 John\n"
     ]
    }
   ],
   "source": [
    "x = 5\n",
    "y = \"John\"\n",
    "print(x, y)"
   ]
  },
  {
   "cell_type": "markdown",
   "id": "d48ba427",
   "metadata": {
    "id": "d48ba427"
   },
   "source": [
    "#### Exercise 1.2 Casting"
   ]
  },
  {
   "cell_type": "code",
   "execution_count": 8,
   "id": "01adc864",
   "metadata": {
    "colab": {
     "base_uri": "https://localhost:8080/"
    },
    "id": "01adc864",
    "outputId": "4f260f37-d966-4df8-b03b-ea919dc2dbb1"
   },
   "outputs": [
    {
     "name": "stdout",
     "output_type": "stream",
     "text": [
      "1\n",
      "2\n",
      "3\n"
     ]
    }
   ],
   "source": [
    "x = int(1)   # x will be 1\n",
    "y = int(2.8) # y will be 2\n",
    "z = int(\"3\") # z will be 3\n",
    "\n",
    "print(x)\n",
    "print(y)\n",
    "print(z)"
   ]
  },
  {
   "cell_type": "code",
   "execution_count": 9,
   "id": "708cbc9d",
   "metadata": {
    "colab": {
     "base_uri": "https://localhost:8080/"
    },
    "id": "708cbc9d",
    "outputId": "f709c3b6-da72-432c-965d-17486e30ef9a"
   },
   "outputs": [
    {
     "name": "stdout",
     "output_type": "stream",
     "text": [
      "1.0\n",
      "2.8\n",
      "3.0\n",
      "4.2\n"
     ]
    }
   ],
   "source": [
    "x = float(1)     # x will be 1.0\n",
    "y = float(2.8)   # y will be 2.8\n",
    "z = float(\"3\")   # z will be 3.0\n",
    "w = float(\"4.2\") # w will be 4.2\n",
    "\n",
    "print(x)\n",
    "print(y)\n",
    "print(z)\n",
    "print(w)"
   ]
  },
  {
   "cell_type": "code",
   "execution_count": 10,
   "id": "cc464a3b",
   "metadata": {
    "colab": {
     "base_uri": "https://localhost:8080/"
    },
    "id": "cc464a3b",
    "outputId": "f7fd8b29-daf6-40f0-a342-e8c7b1b251e9"
   },
   "outputs": [
    {
     "name": "stdout",
     "output_type": "stream",
     "text": [
      "S1\n",
      "2\n",
      "3.0\n"
     ]
    }
   ],
   "source": [
    "x = str(\"S1\") # x will be 's1'\n",
    "y = str(2)    # y will be '2'\n",
    "z = str(3.0)  # z will be '3.0'\n",
    "\n",
    "print(x)\n",
    "print(y)\n",
    "print(z)"
   ]
  },
  {
   "cell_type": "code",
   "execution_count": 11,
   "id": "1982f8c3",
   "metadata": {
    "colab": {
     "base_uri": "https://localhost:8080/"
    },
    "id": "1982f8c3",
    "outputId": "9e82d4e2-d60c-4c63-c1b5-38caac0b4b01"
   },
   "outputs": [
    {
     "name": "stdout",
     "output_type": "stream",
     "text": [
      "3\n",
      "3\n",
      "3.0\n"
     ]
    }
   ],
   "source": [
    "x = str(3)    # x will be '3'\n",
    "y = int(3)    # y will be 3\n",
    "z = float(3)  # z will be 3.0\n",
    "\n",
    "print(x)\n",
    "print(y)\n",
    "print(z)"
   ]
  },
  {
   "cell_type": "markdown",
   "id": "4f63a489",
   "metadata": {
    "id": "4f63a489"
   },
   "source": [
    "#### Exercise 1.3 Getting the Type"
   ]
  },
  {
   "cell_type": "code",
   "execution_count": 12,
   "id": "a074d473",
   "metadata": {
    "colab": {
     "base_uri": "https://localhost:8080/"
    },
    "id": "a074d473",
    "outputId": "2ff55704-6104-4596-fba1-d1de3b2b9cc7"
   },
   "outputs": [
    {
     "name": "stdout",
     "output_type": "stream",
     "text": [
      "<class 'int'>\n",
      "<class 'float'>\n",
      "<class 'complex'>\n",
      "<class 'str'>\n"
     ]
    }
   ],
   "source": [
    "x = 1    # int\n",
    "y = 2.8  # float\n",
    "z = 1j   # complex\n",
    "name = \"Northeastern University\"\n",
    "\n",
    "print(type(x))\n",
    "print(type(y))\n",
    "print(type(z))\n",
    "print(type(name))"
   ]
  },
  {
   "cell_type": "code",
   "execution_count": 13,
   "id": "b8fcbe39",
   "metadata": {
    "colab": {
     "base_uri": "https://localhost:8080/"
    },
    "id": "b8fcbe39",
    "outputId": "dfb8255d-8b84-43fc-b2d4-cc6eb7dbc18f"
   },
   "outputs": [
    {
     "name": "stdout",
     "output_type": "stream",
     "text": [
      "<class 'int'>\n",
      "<class 'int'>\n",
      "<class 'int'>\n"
     ]
    }
   ],
   "source": [
    "x = 1\n",
    "y = 35656222554887711\n",
    "z = -3255522\n",
    "\n",
    "print(type(x))\n",
    "print(type(y))\n",
    "print(type(z))"
   ]
  },
  {
   "cell_type": "code",
   "execution_count": 14,
   "id": "bdf53f05",
   "metadata": {
    "colab": {
     "base_uri": "https://localhost:8080/"
    },
    "id": "bdf53f05",
    "outputId": "3c264afc-a36c-49ad-a000-8f700bcfe3e5"
   },
   "outputs": [
    {
     "name": "stdout",
     "output_type": "stream",
     "text": [
      "<class 'float'>\n",
      "<class 'float'>\n",
      "<class 'float'>\n"
     ]
    }
   ],
   "source": [
    "x = 1.10\n",
    "y = 1.0\n",
    "z = -35.59\n",
    "\n",
    "print(type(x))\n",
    "print(type(y))\n",
    "print(type(z))"
   ]
  },
  {
   "cell_type": "code",
   "execution_count": 15,
   "id": "c968804f",
   "metadata": {
    "colab": {
     "base_uri": "https://localhost:8080/"
    },
    "id": "c968804f",
    "outputId": "9c7381f1-2895-4a65-9747-84d280127eb7"
   },
   "outputs": [
    {
     "name": "stdout",
     "output_type": "stream",
     "text": [
      "<class 'float'>\n",
      "<class 'float'>\n",
      "<class 'float'>\n"
     ]
    }
   ],
   "source": [
    "x = 35e3\n",
    "y = 12E4\n",
    "z = -87.7e100\n",
    "\n",
    "print(type(x))\n",
    "print(type(y))\n",
    "print(type(z))"
   ]
  },
  {
   "cell_type": "code",
   "execution_count": 16,
   "id": "0d938799",
   "metadata": {
    "colab": {
     "base_uri": "https://localhost:8080/"
    },
    "id": "0d938799",
    "outputId": "9733cc5a-aa37-4e53-ab6a-71d05463f6b2"
   },
   "outputs": [
    {
     "name": "stdout",
     "output_type": "stream",
     "text": [
      "<class 'complex'>\n",
      "<class 'complex'>\n",
      "<class 'complex'>\n"
     ]
    }
   ],
   "source": [
    "x = 3+5j\n",
    "y = 5j\n",
    "z = -5j\n",
    "\n",
    "print(type(x))\n",
    "print(type(y))\n",
    "print(type(z))"
   ]
  },
  {
   "cell_type": "markdown",
   "id": "dc1004b4",
   "metadata": {
    "id": "dc1004b4"
   },
   "source": [
    "#### Exercise 1.4 Single or Double Quotes?"
   ]
  },
  {
   "cell_type": "code",
   "execution_count": 17,
   "id": "5c03fc98",
   "metadata": {
    "colab": {
     "base_uri": "https://localhost:8080/"
    },
    "id": "5c03fc98",
    "outputId": "c48cdedb-2b37-4b20-9995-103063cf95e9"
   },
   "outputs": [
    {
     "name": "stdout",
     "output_type": "stream",
     "text": [
      "John\n",
      "John\n"
     ]
    }
   ],
   "source": [
    "x = \"John\"\n",
    "print(x)\n",
    "# double quotes are the same as single quotes:\n",
    "x = 'John'\n",
    "print(x)"
   ]
  },
  {
   "cell_type": "markdown",
   "id": "901855af",
   "metadata": {
    "id": "901855af"
   },
   "source": [
    "#### Exercise 1.5 Case-Sensitive"
   ]
  },
  {
   "cell_type": "code",
   "execution_count": 18,
   "id": "c12c65b2",
   "metadata": {
    "colab": {
     "base_uri": "https://localhost:8080/"
    },
    "id": "c12c65b2",
    "outputId": "ff43b609-ea10-4ba3-da47-a238a6501aa0"
   },
   "outputs": [
    {
     "name": "stdout",
     "output_type": "stream",
     "text": [
      "4\n",
      "Sally\n"
     ]
    }
   ],
   "source": [
    "a = 4\n",
    "A = \"Sally\"\n",
    "\n",
    "print(a)\n",
    "print(A)"
   ]
  },
  {
   "cell_type": "markdown",
   "id": "5e126400",
   "metadata": {
    "id": "5e126400"
   },
   "source": [
    "#### Exercise 1.6 Many Values to Multiple Variables"
   ]
  },
  {
   "cell_type": "code",
   "execution_count": 19,
   "id": "d04d5f32",
   "metadata": {
    "colab": {
     "base_uri": "https://localhost:8080/"
    },
    "id": "d04d5f32",
    "outputId": "07bdc1ae-1299-4085-eae5-6af4630c2497"
   },
   "outputs": [
    {
     "name": "stdout",
     "output_type": "stream",
     "text": [
      "Orange\n",
      "Banana\n",
      "Cherry\n"
     ]
    }
   ],
   "source": [
    "x, y, z = \"Orange\", \"Banana\", \"Cherry\"\n",
    "\n",
    "print(x)\n",
    "print(y)\n",
    "print(z)"
   ]
  },
  {
   "cell_type": "markdown",
   "id": "18f377a2",
   "metadata": {
    "id": "18f377a2"
   },
   "source": [
    "#### Exercise 1.7 One Value to Multiple Variables"
   ]
  },
  {
   "cell_type": "code",
   "execution_count": 20,
   "id": "dddad804",
   "metadata": {
    "colab": {
     "base_uri": "https://localhost:8080/"
    },
    "id": "dddad804",
    "outputId": "4aba92d4-116d-45a2-92d4-1e065849d238"
   },
   "outputs": [
    {
     "name": "stdout",
     "output_type": "stream",
     "text": [
      "Orange\n",
      "Orange\n",
      "Orange\n"
     ]
    }
   ],
   "source": [
    "x = y = z = \"Orange\"\n",
    "\n",
    "print(x)\n",
    "print(y)\n",
    "print(z)"
   ]
  },
  {
   "cell_type": "markdown",
   "id": "faedd330",
   "metadata": {
    "id": "faedd330"
   },
   "source": [
    "#### Exercise 1.8 Unpack a Collection"
   ]
  },
  {
   "cell_type": "code",
   "execution_count": 21,
   "id": "4a9a9a94",
   "metadata": {
    "colab": {
     "base_uri": "https://localhost:8080/"
    },
    "id": "4a9a9a94",
    "outputId": "fd9406da-43fa-4dcc-bacd-5baf8ac4bd95"
   },
   "outputs": [
    {
     "name": "stdout",
     "output_type": "stream",
     "text": [
      "['apple', 'banana', 'cherry']\n",
      "apple\n",
      "banana\n",
      "cherry\n"
     ]
    }
   ],
   "source": [
    "fruits = [\"apple\", \"banana\", \"cherry\"]\n",
    "x, y, z = fruits\n",
    "\n",
    "print(fruits)\n",
    "print(x)\n",
    "print(y)\n",
    "print(z)"
   ]
  },
  {
   "cell_type": "markdown",
   "id": "d80aef25",
   "metadata": {
    "id": "d80aef25"
   },
   "source": [
    "#### Exercise 1.9 Create a variable outside of a function, and use it inside the function"
   ]
  },
  {
   "cell_type": "code",
   "execution_count": 22,
   "id": "542da4e8",
   "metadata": {
    "colab": {
     "base_uri": "https://localhost:8080/"
    },
    "id": "542da4e8",
    "outputId": "07b76c60-8389-4672-cce3-5887aab4c49d"
   },
   "outputs": [
    {
     "name": "stdout",
     "output_type": "stream",
     "text": [
      "Northeastern University\n"
     ]
    }
   ],
   "source": [
    "x = \"University\"\n",
    "\n",
    "def myfunc():\n",
    "    print(\"Northeastern \" + x)\n",
    "\n",
    "myfunc()"
   ]
  },
  {
   "cell_type": "code",
   "execution_count": 23,
   "id": "98f136fb",
   "metadata": {
    "colab": {
     "base_uri": "https://localhost:8080/"
    },
    "id": "98f136fb",
    "outputId": "e8ac15ff-2ffc-46c2-a792-0de7a9547fb5"
   },
   "outputs": [
    {
     "name": "stdout",
     "output_type": "stream",
     "text": [
      "Northeastern College\n",
      "Northeastern University\n"
     ]
    }
   ],
   "source": [
    "x = \"University\"\n",
    "\n",
    "def myfunc():\n",
    "    x = \"College\"\n",
    "    print(\"Northeastern \" + x)\n",
    "\n",
    "myfunc()\n",
    "\n",
    "print(\"Northeastern \" + x)"
   ]
  },
  {
   "cell_type": "markdown",
   "id": "f10cbd6f",
   "metadata": {
    "id": "f10cbd6f"
   },
   "source": [
    "#### Exercise 1.10 The global Keyword"
   ]
  },
  {
   "cell_type": "code",
   "execution_count": 24,
   "id": "dec7bfec",
   "metadata": {
    "colab": {
     "base_uri": "https://localhost:8080/"
    },
    "id": "dec7bfec",
    "outputId": "cc0e04f2-a439-4e62-b6ff-2ecab6682271"
   },
   "outputs": [
    {
     "name": "stdout",
     "output_type": "stream",
     "text": [
      "Northeastern University\n"
     ]
    }
   ],
   "source": [
    "def myfunc():\n",
    "    global x\n",
    "    x = \"University\"\n",
    "\n",
    "myfunc()\n",
    "\n",
    "print(\"Northeastern \" + x)"
   ]
  },
  {
   "cell_type": "code",
   "execution_count": 25,
   "id": "73f1afe5",
   "metadata": {
    "colab": {
     "base_uri": "https://localhost:8080/"
    },
    "id": "73f1afe5",
    "outputId": "2e43e5f9-1238-4614-e6f0-e7af9174feee"
   },
   "outputs": [
    {
     "name": "stdout",
     "output_type": "stream",
     "text": [
      "Northeastern University\n"
     ]
    }
   ],
   "source": [
    "x = \"College\"\n",
    "\n",
    "def myfunc():\n",
    "    global x\n",
    "    x = \"University\"\n",
    "\n",
    "myfunc()\n",
    "\n",
    "print(\"Northeastern \" + x)"
   ]
  },
  {
   "cell_type": "markdown",
   "id": "f2f9ccce",
   "metadata": {
    "id": "f2f9ccce"
   },
   "source": [
    "#### Exercise 1.11 Multiline Strings"
   ]
  },
  {
   "cell_type": "code",
   "execution_count": 26,
   "id": "1319f8b4",
   "metadata": {
    "colab": {
     "base_uri": "https://localhost:8080/"
    },
    "id": "1319f8b4",
    "outputId": "b75ca606-b5bf-4ea4-fd1b-e7c6fb242cc6"
   },
   "outputs": [
    {
     "name": "stdout",
     "output_type": "stream",
     "text": [
      "DAE Program,\n",
      "Northeastern University,\n",
      "Boston Campus\n",
      "USA.\n"
     ]
    }
   ],
   "source": [
    "a = \"\"\"DAE Program,\n",
    "Northeastern University,\n",
    "Boston Campus\n",
    "USA.\"\"\"\n",
    "\n",
    "print(a)"
   ]
  },
  {
   "cell_type": "code",
   "execution_count": 27,
   "id": "641ec9db",
   "metadata": {
    "colab": {
     "base_uri": "https://localhost:8080/"
    },
    "id": "641ec9db",
    "outputId": "798d02fc-43b0-45a1-ea5c-486eaaf43ba5"
   },
   "outputs": [
    {
     "name": "stdout",
     "output_type": "stream",
     "text": [
      "DAE Program,\n",
      "Northeastern University,\n",
      "Boston Campus\n",
      "USA.\n"
     ]
    }
   ],
   "source": [
    "a = '''DAE Program,\n",
    "Northeastern University,\n",
    "Boston Campus\n",
    "USA.'''\n",
    "\n",
    "print(a)"
   ]
  },
  {
   "cell_type": "markdown",
   "id": "056f2706",
   "metadata": {
    "id": "056f2706"
   },
   "source": [
    "#### Exercise 1.12 Strings are Arrays"
   ]
  },
  {
   "cell_type": "code",
   "execution_count": 28,
   "id": "b3132837",
   "metadata": {
    "colab": {
     "base_uri": "https://localhost:8080/"
    },
    "id": "b3132837",
    "outputId": "de81041d-3fb2-4d99-ff6d-acd841c5d3bc"
   },
   "outputs": [
    {
     "name": "stdout",
     "output_type": "stream",
     "text": [
      "U\n"
     ]
    }
   ],
   "source": [
    "a = \"Northeastern University\"\n",
    "print(a[13])"
   ]
  },
  {
   "cell_type": "markdown",
   "id": "ee70e345",
   "metadata": {
    "id": "ee70e345"
   },
   "source": [
    "#### Exercise 1.13 Looping Through a String"
   ]
  },
  {
   "cell_type": "code",
   "execution_count": 29,
   "id": "ca8b0c41",
   "metadata": {
    "colab": {
     "base_uri": "https://localhost:8080/"
    },
    "id": "ca8b0c41",
    "outputId": "8c8fba8a-9a5a-4a30-ec39-7173bcdb4c51"
   },
   "outputs": [
    {
     "name": "stdout",
     "output_type": "stream",
     "text": [
      "N\n",
      "O\n",
      "R\n",
      "T\n",
      "H\n",
      "E\n",
      "A\n",
      "S\n",
      "T\n",
      "E\n",
      "R\n",
      "N\n"
     ]
    }
   ],
   "source": [
    "for x in \"NORTHEASTERN\":\n",
    "    print(x)"
   ]
  },
  {
   "cell_type": "markdown",
   "id": "a6adc839",
   "metadata": {
    "id": "a6adc839"
   },
   "source": [
    "#### Exercise 1.14 String Length"
   ]
  },
  {
   "cell_type": "code",
   "execution_count": 30,
   "id": "e0b28c32",
   "metadata": {
    "colab": {
     "base_uri": "https://localhost:8080/"
    },
    "id": "e0b28c32",
    "outputId": "1df4b1e1-c9a6-4b09-bb14-9723335765b2"
   },
   "outputs": [
    {
     "name": "stdout",
     "output_type": "stream",
     "text": [
      "12\n"
     ]
    }
   ],
   "source": [
    "a = \"NORTHEASTERN\"\n",
    "print(len(a))"
   ]
  },
  {
   "cell_type": "markdown",
   "id": "655fb2c9",
   "metadata": {
    "id": "655fb2c9"
   },
   "source": [
    "#### Exercise 1.15 Check String"
   ]
  },
  {
   "cell_type": "code",
   "execution_count": 31,
   "id": "dc425e9b",
   "metadata": {
    "colab": {
     "base_uri": "https://localhost:8080/"
    },
    "id": "dc425e9b",
    "outputId": "86271cc7-3faa-498d-9bac-9d338e506c82"
   },
   "outputs": [
    {
     "name": "stdout",
     "output_type": "stream",
     "text": [
      "True\n"
     ]
    }
   ],
   "source": [
    "txt = \"Data Analytics Engineering\"\n",
    "print(\"Engineering\" in txt)"
   ]
  },
  {
   "cell_type": "code",
   "execution_count": 32,
   "id": "347e8d4b",
   "metadata": {
    "colab": {
     "base_uri": "https://localhost:8080/"
    },
    "id": "347e8d4b",
    "outputId": "0470c0b4-fc71-4775-cd70-fb73c6f720d3"
   },
   "outputs": [
    {
     "name": "stdout",
     "output_type": "stream",
     "text": [
      "Yes, 'Engineering' is present.\n"
     ]
    }
   ],
   "source": [
    "txt = \"Data Analytics Engineering\"\n",
    "if \"Engineering\" in txt:\n",
    "    print(\"Yes, 'Engineering' is present.\")"
   ]
  },
  {
   "cell_type": "markdown",
   "id": "4b55c7db",
   "metadata": {
    "id": "4b55c7db"
   },
   "source": [
    "#### Exercise 1.16 Check if NOT"
   ]
  },
  {
   "cell_type": "code",
   "execution_count": 33,
   "id": "5d8ec708",
   "metadata": {
    "colab": {
     "base_uri": "https://localhost:8080/"
    },
    "id": "5d8ec708",
    "outputId": "c4c01ae9-1092-4d70-aaac-3669d9de5ad8"
   },
   "outputs": [
    {
     "name": "stdout",
     "output_type": "stream",
     "text": [
      "True\n"
     ]
    }
   ],
   "source": [
    "txt = \"Data Analytics Engineering\"\n",
    "print(\"NEU\" not in txt)"
   ]
  },
  {
   "cell_type": "code",
   "execution_count": 34,
   "id": "10fee797",
   "metadata": {
    "colab": {
     "base_uri": "https://localhost:8080/"
    },
    "id": "10fee797",
    "outputId": "8e98f62f-c138-4cd2-b52d-6373aa370e91"
   },
   "outputs": [
    {
     "name": "stdout",
     "output_type": "stream",
     "text": [
      "No, 'NEU' is NOT present.\n"
     ]
    }
   ],
   "source": [
    "txt = \"Data Analytics Engineering\"\n",
    "if \"NEU\" not in txt:\n",
    "    print(\"No, 'NEU' is NOT present.\")"
   ]
  },
  {
   "cell_type": "markdown",
   "id": "c3451059",
   "metadata": {
    "id": "c3451059"
   },
   "source": [
    "#### Exercise 1.16 Slicing Strings\n",
    "Get characters form position 7 to position 12:\n",
    "Note: The first charcter has an index of 0. The end position is not included."
   ]
  },
  {
   "cell_type": "code",
   "execution_count": 35,
   "id": "ef55828d",
   "metadata": {
    "colab": {
     "base_uri": "https://localhost:8080/"
    },
    "id": "ef55828d",
    "outputId": "bfce062c-764b-43de-a7eb-a867116dedb0"
   },
   "outputs": [
    {
     "name": "stdout",
     "output_type": "stream",
     "text": [
      "World\n"
     ]
    }
   ],
   "source": [
    "b = \"Hello, World!\"\n",
    "print(b[7:12])"
   ]
  },
  {
   "cell_type": "markdown",
   "id": "599b72cf",
   "metadata": {
    "id": "599b72cf"
   },
   "source": [
    "#### Exercise 1.17 Slice From the Start"
   ]
  },
  {
   "cell_type": "code",
   "execution_count": 36,
   "id": "ed9b181c",
   "metadata": {
    "colab": {
     "base_uri": "https://localhost:8080/"
    },
    "id": "ed9b181c",
    "outputId": "1af3cc15-7f04-4c1a-e1cc-6ea3414f6212"
   },
   "outputs": [
    {
     "name": "stdout",
     "output_type": "stream",
     "text": [
      "Hello\n"
     ]
    }
   ],
   "source": [
    "b = \"Hello, World!\"\n",
    "print(b[:5])"
   ]
  },
  {
   "cell_type": "markdown",
   "id": "40e54d00",
   "metadata": {
    "id": "40e54d00"
   },
   "source": [
    "#### Exercise 1.18 Slice To the End"
   ]
  },
  {
   "cell_type": "code",
   "execution_count": 37,
   "id": "c3d466a6",
   "metadata": {
    "colab": {
     "base_uri": "https://localhost:8080/"
    },
    "id": "c3d466a6",
    "outputId": "b6d0d62b-4184-4f14-b29e-9c78c75da479"
   },
   "outputs": [
    {
     "name": "stdout",
     "output_type": "stream",
     "text": [
      "World!\n"
     ]
    }
   ],
   "source": [
    "b = \"Hello, World!\"\n",
    "print(b[7:])"
   ]
  },
  {
   "cell_type": "markdown",
   "id": "408545e9",
   "metadata": {
    "id": "408545e9"
   },
   "source": [
    "#### Exercise 1.19 Negative Indexing"
   ]
  },
  {
   "cell_type": "code",
   "execution_count": 38,
   "id": "42f4b676",
   "metadata": {
    "colab": {
     "base_uri": "https://localhost:8080/"
    },
    "id": "42f4b676",
    "outputId": "3c748df4-ee0b-43aa-e6e7-c84b679b92d6"
   },
   "outputs": [
    {
     "name": "stdout",
     "output_type": "stream",
     "text": [
      "Analytics\n"
     ]
    }
   ],
   "source": [
    "b = \"DataAnalyticsEngineering\"\n",
    "print(b[-20:-11])"
   ]
  },
  {
   "cell_type": "markdown",
   "id": "61342939",
   "metadata": {
    "id": "61342939"
   },
   "source": [
    "#### Exercise 1.20 Modify Strings"
   ]
  },
  {
   "cell_type": "code",
   "execution_count": 39,
   "id": "b5fc91e5",
   "metadata": {
    "colab": {
     "base_uri": "https://localhost:8080/"
    },
    "id": "b5fc91e5",
    "outputId": "a6584bdf-90b4-4f6c-98ef-ea7e6d6d317b"
   },
   "outputs": [
    {
     "name": "stdout",
     "output_type": "stream",
     "text": [
      "NORTHEASTERN UNIVERSITY\n"
     ]
    }
   ],
   "source": [
    "a = \"Northeastern University\"\n",
    "print(a.upper())"
   ]
  },
  {
   "cell_type": "code",
   "execution_count": 40,
   "id": "ed42aab9",
   "metadata": {
    "colab": {
     "base_uri": "https://localhost:8080/"
    },
    "id": "ed42aab9",
    "outputId": "b417d1f2-ffb7-48bf-b8e3-8417d697ed10"
   },
   "outputs": [
    {
     "name": "stdout",
     "output_type": "stream",
     "text": [
      "northeastern university\n"
     ]
    }
   ],
   "source": [
    "a = \"NORTHEASTERN UNIVERSITY\"\n",
    "print(a.lower())"
   ]
  },
  {
   "cell_type": "markdown",
   "id": "3123ff2c",
   "metadata": {},
   "source": [
    "#### Remove Whitespace\n",
    "\n",
    " Whitespace is the space before and/or after the actual text, and very often you want to remove this space.\n",
    "\n",
    " The strip method removes any whitespace from the beginning or the end:"
   ]
  },
  {
   "cell_type": "code",
   "execution_count": 41,
   "id": "1ed85ff8",
   "metadata": {
    "colab": {
     "base_uri": "https://localhost:8080/"
    },
    "id": "1ed85ff8",
    "outputId": "ca7fef82-498f-4b9c-d9b0-e07ce9926b8f"
   },
   "outputs": [
    {
     "name": "stdout",
     "output_type": "stream",
     "text": [
      "  Northeastern University   \n",
      "Northeastern University\n"
     ]
    }
   ],
   "source": [
    "a = \"  Northeastern University   \"\n",
    "print(a)\n",
    "print(a.strip())"
   ]
  },
  {
   "cell_type": "code",
   "execution_count": 42,
   "id": "f9089b50",
   "metadata": {
    "colab": {
     "base_uri": "https://localhost:8080/"
    },
    "id": "f9089b50",
    "outputId": "92631c3d-c1ec-4516-df85-f3239a5bfc1b"
   },
   "outputs": [
    {
     "name": "stdout",
     "output_type": "stream",
     "text": [
      "Northeastern College\n"
     ]
    }
   ],
   "source": [
    "a = \"Northeastern University\"\n",
    "print(a.replace(\"University\", \"College\"))"
   ]
  },
  {
   "cell_type": "code",
   "execution_count": 46,
   "id": "5ad8b579",
   "metadata": {
    "colab": {
     "base_uri": "https://localhost:8080/"
    },
    "id": "5ad8b579",
    "outputId": "8c67a0f8-addb-4cfb-d77d-71cd0a511420"
   },
   "outputs": [
    {
     "name": "stdout",
     "output_type": "stream",
     "text": [
      "['DAE', 'Northeastern University']\n"
     ]
    }
   ],
   "source": [
    "a = \"DAE,Northeastern University\"\n",
    "print(a.split(\",\"))"
   ]
  },
  {
   "cell_type": "markdown",
   "id": "cbd245e3",
   "metadata": {
    "id": "cbd245e3"
   },
   "source": [
    "#### Exercise 1.21 String Concatenation"
   ]
  },
  {
   "cell_type": "code",
   "execution_count": 47,
   "id": "aa63bff7",
   "metadata": {
    "colab": {
     "base_uri": "https://localhost:8080/"
    },
    "id": "aa63bff7",
    "outputId": "fcd5c67f-33eb-4e0b-9008-5f84e3aee888"
   },
   "outputs": [
    {
     "name": "stdout",
     "output_type": "stream",
     "text": [
      "NortheasternUniversity\n"
     ]
    }
   ],
   "source": [
    "a = \"Northeastern\"\n",
    "b = \"University\"\n",
    "c = a + b\n",
    "print(c)"
   ]
  },
  {
   "cell_type": "code",
   "execution_count": 48,
   "id": "45127f79",
   "metadata": {
    "colab": {
     "base_uri": "https://localhost:8080/"
    },
    "id": "45127f79",
    "outputId": "ebacaf72-637e-4118-8139-144c6bc6b223"
   },
   "outputs": [
    {
     "name": "stdout",
     "output_type": "stream",
     "text": [
      "Northeastern University\n"
     ]
    }
   ],
   "source": [
    "a = \"Northeastern\"\n",
    "b = \"University\"\n",
    "c = a + \" \" + b\n",
    "print(c)"
   ]
  },
  {
   "cell_type": "markdown",
   "id": "0d89dc94",
   "metadata": {
    "id": "0d89dc94"
   },
   "source": [
    "#### Exercise 1.22 String Format"
   ]
  },
  {
   "cell_type": "code",
   "execution_count": 49,
   "id": "d3d521b1",
   "metadata": {
    "colab": {
     "base_uri": "https://localhost:8080/"
    },
    "id": "d3d521b1",
    "outputId": "17e43cc1-89f4-4901-b20b-bc9c8dc2b382"
   },
   "outputs": [
    {
     "name": "stdout",
     "output_type": "stream",
     "text": [
      "We are the DAE student, and we are the class of 2025\n"
     ]
    }
   ],
   "source": [
    "age = 2025\n",
    "txt = \"We are the DAE student, and we are the class of {}\"\n",
    "print(txt.format(age))"
   ]
  },
  {
   "cell_type": "code",
   "execution_count": 50,
   "id": "be883266",
   "metadata": {
    "colab": {
     "base_uri": "https://localhost:8080/"
    },
    "id": "be883266",
    "outputId": "10fa28f7-9c36-4f0d-de58-5fa4de080a34"
   },
   "outputs": [
    {
     "name": "stdout",
     "output_type": "stream",
     "text": [
      "I want 3 pieces of item 567 for 49.95 dollars.\n"
     ]
    }
   ],
   "source": [
    "quantity = 3\n",
    "itemno = 567\n",
    "price = 49.95\n",
    "myorder = \"I want {} pieces of item {} for {} dollars.\"\n",
    "print(myorder.format(quantity, itemno, price))"
   ]
  },
  {
   "cell_type": "code",
   "execution_count": 51,
   "id": "d86f4558",
   "metadata": {
    "colab": {
     "base_uri": "https://localhost:8080/"
    },
    "id": "d86f4558",
    "outputId": "40618c32-6b03-46a0-908f-dc2cea5031f4"
   },
   "outputs": [
    {
     "name": "stdout",
     "output_type": "stream",
     "text": [
      "I want to pay 49.95 dollars for 3 pieces of item 567.\n"
     ]
    }
   ],
   "source": [
    "quantity = 3\n",
    "itemno = 567\n",
    "price = 49.95\n",
    "myorder = \"I want to pay {2} dollars for {0} pieces of item {1}.\"\n",
    "print(myorder.format(quantity, itemno, price))"
   ]
  },
  {
   "cell_type": "markdown",
   "id": "3f724e08",
   "metadata": {
    "id": "3f724e08"
   },
   "source": [
    "#### Exercise 1.23 Escape Character"
   ]
  },
  {
   "cell_type": "code",
   "execution_count": 52,
   "id": "47d8ced2",
   "metadata": {
    "colab": {
     "base_uri": "https://localhost:8080/"
    },
    "id": "47d8ced2",
    "outputId": "1f4bf607-4f5f-4cb1-cb89-d70851b9be57"
   },
   "outputs": [
    {
     "name": "stdout",
     "output_type": "stream",
     "text": [
      "We are the so-called \"Husky\" at Northeastern University.\n"
     ]
    }
   ],
   "source": [
    "txt = \"We are the so-called \\\"Husky\\\" at Northeastern University.\"\n",
    "print(txt)"
   ]
  },
  {
   "cell_type": "markdown",
   "id": "8b605386",
   "metadata": {
    "id": "8b605386"
   },
   "source": [
    "#### Exercise 1.24 Boolean Values"
   ]
  },
  {
   "cell_type": "code",
   "execution_count": 53,
   "id": "a7669aee",
   "metadata": {
    "colab": {
     "base_uri": "https://localhost:8080/"
    },
    "id": "a7669aee",
    "outputId": "bd90714f-4047-4b3c-a24d-2fbd8023ad11"
   },
   "outputs": [
    {
     "data": {
      "text/plain": [
       "False"
      ]
     },
     "execution_count": 53,
     "metadata": {},
     "output_type": "execute_result"
    }
   ],
   "source": [
    "1==2"
   ]
  },
  {
   "cell_type": "code",
   "execution_count": 54,
   "id": "735472d1",
   "metadata": {
    "colab": {
     "base_uri": "https://localhost:8080/"
    },
    "id": "735472d1",
    "outputId": "6d6fb201-3739-4d5f-ff99-83971e1d5e1f"
   },
   "outputs": [
    {
     "data": {
      "text/plain": [
       "False"
      ]
     },
     "execution_count": 54,
     "metadata": {},
     "output_type": "execute_result"
    }
   ],
   "source": [
    "x=\"aBC\"\n",
    "y=\"ABC\"\n",
    "x==y"
   ]
  },
  {
   "cell_type": "code",
   "execution_count": 56,
   "id": "5aa94e92",
   "metadata": {
    "id": "5aa94e92"
   },
   "outputs": [],
   "source": [
    "# Createing X variable where x = 2\n",
    "x=2"
   ]
  },
  {
   "cell_type": "code",
   "execution_count": 57,
   "id": "ba3b5f5f",
   "metadata": {
    "colab": {
     "base_uri": "https://localhost:8080/"
    },
    "id": "ba3b5f5f",
    "outputId": "6d1c66b8-420f-48ad-f9dd-bf867dba29c5"
   },
   "outputs": [
    {
     "data": {
      "text/plain": [
       "False"
      ]
     },
     "execution_count": 57,
     "metadata": {},
     "output_type": "execute_result"
    }
   ],
   "source": [
    "x<1 and x>3"
   ]
  },
  {
   "cell_type": "code",
   "execution_count": 58,
   "id": "989cec8b",
   "metadata": {
    "colab": {
     "base_uri": "https://localhost:8080/"
    },
    "id": "989cec8b",
    "outputId": "57a62b09-bd82-491a-adfc-88d537e04901"
   },
   "outputs": [
    {
     "data": {
      "text/plain": [
       "False"
      ]
     },
     "execution_count": 58,
     "metadata": {},
     "output_type": "execute_result"
    }
   ],
   "source": [
    "x<1 and x==3"
   ]
  },
  {
   "cell_type": "code",
   "execution_count": 59,
   "id": "15094851",
   "metadata": {
    "colab": {
     "base_uri": "https://localhost:8080/"
    },
    "id": "15094851",
    "outputId": "ad6ebe26-553a-41a3-96df-ccb825634acc"
   },
   "outputs": [
    {
     "data": {
      "text/plain": [
       "True"
      ]
     },
     "execution_count": 59,
     "metadata": {},
     "output_type": "execute_result"
    }
   ],
   "source": [
    "x<1 or x==2"
   ]
  },
  {
   "cell_type": "code",
   "execution_count": 60,
   "id": "049af2e4",
   "metadata": {
    "colab": {
     "base_uri": "https://localhost:8080/"
    },
    "id": "049af2e4",
    "outputId": "f7ec9a8d-687d-425a-ac5e-be29b1ca13b6"
   },
   "outputs": [
    {
     "data": {
      "text/plain": [
       "False"
      ]
     },
     "execution_count": 60,
     "metadata": {},
     "output_type": "execute_result"
    }
   ],
   "source": [
    "x=1\n",
    "y=2\n",
    "x is y"
   ]
  },
  {
   "cell_type": "code",
   "execution_count": 61,
   "id": "fc964c02",
   "metadata": {
    "colab": {
     "base_uri": "https://localhost:8080/"
    },
    "id": "fc964c02",
    "outputId": "8dbd4353-066b-4e83-80c6-dd5856a1415f"
   },
   "outputs": [
    {
     "data": {
      "text/plain": [
       "False"
      ]
     },
     "execution_count": 61,
     "metadata": {},
     "output_type": "execute_result"
    }
   ],
   "source": [
    "x=\"abcd\"\n",
    "y=\"abc\"\n",
    "x in y"
   ]
  },
  {
   "cell_type": "markdown",
   "id": "f4925624",
   "metadata": {
    "id": "f4925624"
   },
   "source": [
    "#### Exercise 1.25 Arithmetic Operators"
   ]
  },
  {
   "cell_type": "code",
   "execution_count": 62,
   "id": "46c040d4",
   "metadata": {
    "colab": {
     "base_uri": "https://localhost:8080/"
    },
    "id": "46c040d4",
    "outputId": "1fdcecca-427f-43af-f6d4-c399c1660031"
   },
   "outputs": [
    {
     "data": {
      "text/plain": [
       "2"
      ]
     },
     "execution_count": 62,
     "metadata": {},
     "output_type": "execute_result"
    }
   ],
   "source": [
    "1+1"
   ]
  },
  {
   "cell_type": "code",
   "execution_count": 63,
   "id": "feb95884",
   "metadata": {
    "colab": {
     "base_uri": "https://localhost:8080/"
    },
    "id": "feb95884",
    "outputId": "d8f25f1f-7557-4627-f09e-c092b0d10987"
   },
   "outputs": [
    {
     "data": {
      "text/plain": [
       "8"
      ]
     },
     "execution_count": 63,
     "metadata": {},
     "output_type": "execute_result"
    }
   ],
   "source": [
    "2**3"
   ]
  },
  {
   "cell_type": "code",
   "execution_count": 64,
   "id": "9df7d6e2",
   "metadata": {
    "colab": {
     "base_uri": "https://localhost:8080/"
    },
    "id": "9df7d6e2",
    "outputId": "2be001a0-62fd-43d5-80a6-b1c731dc037f"
   },
   "outputs": [
    {
     "data": {
      "text/plain": [
       "6"
      ]
     },
     "execution_count": 64,
     "metadata": {},
     "output_type": "execute_result"
    }
   ],
   "source": [
    "2*3"
   ]
  },
  {
   "cell_type": "markdown",
   "id": "d5b3f9ea",
   "metadata": {
    "id": "d5b3f9ea"
   },
   "source": [
    "#### Exercise 1.26 Assignment Operators"
   ]
  },
  {
   "cell_type": "code",
   "execution_count": 65,
   "id": "198512f0",
   "metadata": {
    "colab": {
     "base_uri": "https://localhost:8080/"
    },
    "id": "198512f0",
    "outputId": "38e07006-c1f1-49a4-cba1-4ffb0b59144e"
   },
   "outputs": [
    {
     "name": "stdout",
     "output_type": "stream",
     "text": [
      "5\n"
     ]
    }
   ],
   "source": [
    "x = 5\n",
    "print(x)"
   ]
  },
  {
   "cell_type": "code",
   "execution_count": 66,
   "id": "944f90c1",
   "metadata": {
    "colab": {
     "base_uri": "https://localhost:8080/"
    },
    "id": "944f90c1",
    "outputId": "01feb749-4e11-433e-bd4a-04cdfade0c5c"
   },
   "outputs": [
    {
     "name": "stdout",
     "output_type": "stream",
     "text": [
      "8\n"
     ]
    }
   ],
   "source": [
    "x += 3    # x = 5 + 3\n",
    "print(x)"
   ]
  },
  {
   "cell_type": "code",
   "execution_count": 67,
   "id": "f69e36cf",
   "metadata": {
    "colab": {
     "base_uri": "https://localhost:8080/"
    },
    "id": "f69e36cf",
    "outputId": "9be02e2e-cb3c-45ae-c591-b6b0fc698ca6"
   },
   "outputs": [
    {
     "name": "stdout",
     "output_type": "stream",
     "text": [
      "1.0\n"
     ]
    }
   ],
   "source": [
    "x /= 8   # x = 8 / 8\n",
    "print(x)"
   ]
  },
  {
   "cell_type": "markdown",
   "id": "880d2b2b",
   "metadata": {
    "id": "880d2b2b"
   },
   "source": [
    "#### Exercise 1.27 Comparison Operators"
   ]
  },
  {
   "cell_type": "code",
   "execution_count": 68,
   "id": "836bc3fc",
   "metadata": {
    "colab": {
     "base_uri": "https://localhost:8080/"
    },
    "id": "836bc3fc",
    "outputId": "d89683c8-fd23-4ed8-99e6-0e27c1a3d1e0"
   },
   "outputs": [
    {
     "data": {
      "text/plain": [
       "False"
      ]
     },
     "execution_count": 68,
     "metadata": {},
     "output_type": "execute_result"
    }
   ],
   "source": [
    "1 == 2"
   ]
  },
  {
   "cell_type": "code",
   "execution_count": 69,
   "id": "af791e45",
   "metadata": {
    "colab": {
     "base_uri": "https://localhost:8080/"
    },
    "id": "af791e45",
    "outputId": "6cd57ff1-18d8-4fca-cada-83206eadbe65"
   },
   "outputs": [
    {
     "data": {
      "text/plain": [
       "True"
      ]
     },
     "execution_count": 69,
     "metadata": {},
     "output_type": "execute_result"
    }
   ],
   "source": [
    "1 != 2"
   ]
  },
  {
   "cell_type": "code",
   "execution_count": 70,
   "id": "4430c458",
   "metadata": {
    "colab": {
     "base_uri": "https://localhost:8080/"
    },
    "id": "4430c458",
    "outputId": "c16fb00d-d8f7-45c7-b440-0d5f06a8175f"
   },
   "outputs": [
    {
     "data": {
      "text/plain": [
       "True"
      ]
     },
     "execution_count": 70,
     "metadata": {},
     "output_type": "execute_result"
    }
   ],
   "source": [
    "1 < 2"
   ]
  },
  {
   "cell_type": "code",
   "execution_count": 71,
   "id": "26ec8e04",
   "metadata": {
    "colab": {
     "base_uri": "https://localhost:8080/"
    },
    "id": "26ec8e04",
    "outputId": "37340b3e-fe93-440a-fb08-d89e901662d9"
   },
   "outputs": [
    {
     "data": {
      "text/plain": [
       "False"
      ]
     },
     "execution_count": 71,
     "metadata": {},
     "output_type": "execute_result"
    }
   ],
   "source": [
    "x = \"aBC\"\n",
    "y = \"ABC\"\n",
    "x == y"
   ]
  },
  {
   "cell_type": "markdown",
   "id": "5a0df6d1",
   "metadata": {
    "id": "5a0df6d1"
   },
   "source": [
    "#### Exercise 1.28 Creating a list"
   ]
  },
  {
   "cell_type": "code",
   "execution_count": 72,
   "id": "844bdcf9",
   "metadata": {
    "colab": {
     "base_uri": "https://localhost:8080/"
    },
    "id": "844bdcf9",
    "outputId": "e4d04b1d-0f5c-4ed3-8788-1e08f5c5169e"
   },
   "outputs": [
    {
     "name": "stdout",
     "output_type": "stream",
     "text": [
      "[100, 200, 300, 400, 500, 600, 700, 800, 900]\n"
     ]
    }
   ],
   "source": [
    "thislist = [100,200,300,400,500,600,700,800,900]\n",
    "print(thislist)"
   ]
  },
  {
   "cell_type": "code",
   "execution_count": 73,
   "id": "d6c532c9",
   "metadata": {
    "colab": {
     "base_uri": "https://localhost:8080/"
    },
    "id": "d6c532c9",
    "outputId": "7fd026a3-c902-40f2-de80-147270c86352"
   },
   "outputs": [
    {
     "name": "stdout",
     "output_type": "stream",
     "text": [
      "['apple', 'banana', 'cherry']\n"
     ]
    }
   ],
   "source": [
    "thislist = [\"apple\", \"banana\", \"cherry\"]\n",
    "print(thislist)"
   ]
  },
  {
   "cell_type": "code",
   "execution_count": 74,
   "id": "f50781b6",
   "metadata": {
    "colab": {
     "base_uri": "https://localhost:8080/"
    },
    "id": "f50781b6",
    "outputId": "bdbc2aaa-98d6-4ea7-bd21-54cedee0eab7"
   },
   "outputs": [
    {
     "data": {
      "text/plain": [
       "list"
      ]
     },
     "execution_count": 74,
     "metadata": {},
     "output_type": "execute_result"
    }
   ],
   "source": [
    "thislist = [\"apple\", \"banana\", \"cherry\"]\n",
    "type(thislist)"
   ]
  },
  {
   "cell_type": "code",
   "execution_count": 75,
   "id": "92f8e9cf",
   "metadata": {
    "colab": {
     "base_uri": "https://localhost:8080/"
    },
    "id": "92f8e9cf",
    "outputId": "5e64656e-5ec2-41a3-c57b-dcae9b9fccd8"
   },
   "outputs": [
    {
     "data": {
      "text/plain": [
       "list"
      ]
     },
     "execution_count": 75,
     "metadata": {},
     "output_type": "execute_result"
    }
   ],
   "source": [
    "thislist = [1,2,3]\n",
    "type(thislist)"
   ]
  },
  {
   "cell_type": "markdown",
   "id": "6eef1b9b",
   "metadata": {
    "id": "6eef1b9b"
   },
   "source": [
    "#### Exercise 1.29 Allow Duplicates"
   ]
  },
  {
   "cell_type": "code",
   "execution_count": 76,
   "id": "4c95e9e1",
   "metadata": {
    "colab": {
     "base_uri": "https://localhost:8080/"
    },
    "id": "4c95e9e1",
    "outputId": "926ad09b-1d94-43ba-8bc8-11ca710322d7"
   },
   "outputs": [
    {
     "name": "stdout",
     "output_type": "stream",
     "text": [
      "['apple', 'banana', 'cherry', 'apple', 'cherry']\n"
     ]
    }
   ],
   "source": [
    "thislist = [\"apple\", \"banana\", \"cherry\", \"apple\", \"cherry\"]\n",
    "print(thislist)"
   ]
  },
  {
   "cell_type": "markdown",
   "id": "4e8cbd07",
   "metadata": {
    "id": "4e8cbd07"
   },
   "source": [
    "#### Exercise 1.30 List Length"
   ]
  },
  {
   "cell_type": "code",
   "execution_count": 77,
   "id": "b2f91f75",
   "metadata": {
    "colab": {
     "base_uri": "https://localhost:8080/"
    },
    "id": "b2f91f75",
    "outputId": "ae385621-9a30-4ad5-98dd-c985b7687ecb"
   },
   "outputs": [
    {
     "name": "stdout",
     "output_type": "stream",
     "text": [
      "3\n"
     ]
    }
   ],
   "source": [
    "thislist = [\"apple\", \"banana\", \"cherry\"]\n",
    "print(len(thislist))"
   ]
  },
  {
   "cell_type": "markdown",
   "id": "3b3706a6",
   "metadata": {
    "id": "3b3706a6"
   },
   "source": [
    "#### Exercise 1.31 List Items - Data Types"
   ]
  },
  {
   "cell_type": "code",
   "execution_count": 78,
   "id": "f4aaefe6",
   "metadata": {
    "colab": {
     "base_uri": "https://localhost:8080/"
    },
    "id": "f4aaefe6",
    "outputId": "e64c237b-3634-496c-93f2-02c090e4f85a"
   },
   "outputs": [
    {
     "name": "stdout",
     "output_type": "stream",
     "text": [
      "['apple', 'banana', 'cherry']\n"
     ]
    }
   ],
   "source": [
    "list1 = [\"apple\", \"banana\", \"cherry\"]\n",
    "print(list1)"
   ]
  },
  {
   "cell_type": "code",
   "execution_count": 79,
   "id": "aa560dea",
   "metadata": {
    "colab": {
     "base_uri": "https://localhost:8080/"
    },
    "id": "aa560dea",
    "outputId": "694b8fa7-972e-4c35-bdf5-f4121b9c66b9"
   },
   "outputs": [
    {
     "name": "stdout",
     "output_type": "stream",
     "text": [
      "[1, 5, 7, 9, 3]\n"
     ]
    }
   ],
   "source": [
    "list2 = [1, 5, 7, 9, 3]\n",
    "print(list2)"
   ]
  },
  {
   "cell_type": "code",
   "execution_count": 80,
   "id": "50c30d8f",
   "metadata": {
    "colab": {
     "base_uri": "https://localhost:8080/"
    },
    "id": "50c30d8f",
    "outputId": "2e31841a-caa9-4235-c49b-b3f0a0be8d68"
   },
   "outputs": [
    {
     "name": "stdout",
     "output_type": "stream",
     "text": [
      "[True, False, False]\n"
     ]
    }
   ],
   "source": [
    "list3 = [True, False, False]\n",
    "print(list3)"
   ]
  },
  {
   "cell_type": "code",
   "execution_count": 81,
   "id": "d83c6ab9",
   "metadata": {
    "colab": {
     "base_uri": "https://localhost:8080/"
    },
    "id": "d83c6ab9",
    "outputId": "404175f0-f4c3-42c0-9122-6d07128a2fe8"
   },
   "outputs": [
    {
     "name": "stdout",
     "output_type": "stream",
     "text": [
      "['abc', 34, True, 40, 'male']\n"
     ]
    }
   ],
   "source": [
    "list4 = [\"abc\", 34, True, 40, \"male\"]\n",
    "print(list4)"
   ]
  },
  {
   "cell_type": "markdown",
   "id": "c7f2dfb9",
   "metadata": {
    "id": "c7f2dfb9"
   },
   "source": [
    "#### Exercise 1.32 Access List Items"
   ]
  },
  {
   "cell_type": "code",
   "execution_count": 82,
   "id": "ad3b7c35",
   "metadata": {
    "colab": {
     "base_uri": "https://localhost:8080/"
    },
    "id": "ad3b7c35",
    "outputId": "c79f02ae-92f3-46bf-99a3-694d5915026e"
   },
   "outputs": [
    {
     "name": "stdout",
     "output_type": "stream",
     "text": [
      "banana\n"
     ]
    }
   ],
   "source": [
    "thislist = [\"apple\", \"banana\", \"cherry\"]\n",
    "print(thislist[1])"
   ]
  },
  {
   "cell_type": "code",
   "execution_count": 83,
   "id": "07622d97",
   "metadata": {
    "colab": {
     "base_uri": "https://localhost:8080/"
    },
    "id": "07622d97",
    "outputId": "870a2997-883f-410d-c065-986cf8ba3806"
   },
   "outputs": [
    {
     "name": "stdout",
     "output_type": "stream",
     "text": [
      "cherry\n"
     ]
    }
   ],
   "source": [
    "thislist = [\"apple\", \"banana\", \"cherry\"]\n",
    "print(thislist[-1])"
   ]
  },
  {
   "cell_type": "code",
   "execution_count": 84,
   "id": "da585398",
   "metadata": {
    "colab": {
     "base_uri": "https://localhost:8080/"
    },
    "id": "da585398",
    "outputId": "c70636fe-b7f9-440e-e12a-4ce3ca82b978"
   },
   "outputs": [
    {
     "name": "stdout",
     "output_type": "stream",
     "text": [
      "['cherry', 'orange', 'kiwi']\n"
     ]
    }
   ],
   "source": [
    "thislist = [\"apple\", \"banana\", \"cherry\", \"orange\", \"kiwi\", \"melon\", \"mango\"]\n",
    "print(thislist[2:5])"
   ]
  },
  {
   "cell_type": "code",
   "execution_count": 85,
   "id": "519c8e61",
   "metadata": {
    "colab": {
     "base_uri": "https://localhost:8080/"
    },
    "id": "519c8e61",
    "outputId": "a716c654-b64b-4f47-c6c9-98582f899710"
   },
   "outputs": [
    {
     "name": "stdout",
     "output_type": "stream",
     "text": [
      "['apple', 'banana', 'cherry', 'orange', 'kiwi']\n"
     ]
    }
   ],
   "source": [
    "thislist = [\"apple\", \"banana\", \"cherry\", \"orange\", \"kiwi\", \"melon\", \"mango\"]\n",
    "print(thislist[:5])"
   ]
  },
  {
   "cell_type": "code",
   "execution_count": 86,
   "id": "bf469b13",
   "metadata": {
    "colab": {
     "base_uri": "https://localhost:8080/"
    },
    "id": "bf469b13",
    "outputId": "07e883c3-f668-40da-dc41-eb14f5c5fb80"
   },
   "outputs": [
    {
     "name": "stdout",
     "output_type": "stream",
     "text": [
      "['cherry', 'orange', 'kiwi', 'melon', 'mango']\n"
     ]
    }
   ],
   "source": [
    "thislist = [\"apple\", \"banana\", \"cherry\", \"orange\", \"kiwi\", \"melon\", \"mango\"]\n",
    "print(thislist[2:])"
   ]
  },
  {
   "cell_type": "code",
   "execution_count": 87,
   "id": "a4a5ffe9",
   "metadata": {
    "colab": {
     "base_uri": "https://localhost:8080/"
    },
    "id": "a4a5ffe9",
    "outputId": "7b5af364-ce77-48e0-ba42-15d794b4e3da"
   },
   "outputs": [
    {
     "name": "stdout",
     "output_type": "stream",
     "text": [
      "['orange', 'kiwi', 'melon']\n"
     ]
    }
   ],
   "source": [
    "thislist = [\"apple\", \"banana\", \"cherry\", \"orange\", \"kiwi\", \"melon\", \"mango\"]\n",
    "print(thislist[-4:-1])"
   ]
  },
  {
   "cell_type": "markdown",
   "id": "0c6fa59f",
   "metadata": {
    "id": "0c6fa59f"
   },
   "source": [
    "#### Exercise 1.33 Check if Item Exists"
   ]
  },
  {
   "cell_type": "code",
   "execution_count": 88,
   "id": "b2f72b10",
   "metadata": {
    "colab": {
     "base_uri": "https://localhost:8080/"
    },
    "id": "b2f72b10",
    "outputId": "3e7775cf-bfe9-4c35-d85b-7d4dac977f11"
   },
   "outputs": [
    {
     "name": "stdout",
     "output_type": "stream",
     "text": [
      "Yes, 'apple' is in the fruits list\n"
     ]
    }
   ],
   "source": [
    "thislist = [\"apple\", \"banana\", \"cherry\"]\n",
    "if \"apple\" in thislist:\n",
    "    print(\"Yes, 'apple' is in the fruits list\")"
   ]
  },
  {
   "cell_type": "markdown",
   "id": "332bc7c1",
   "metadata": {
    "id": "332bc7c1"
   },
   "source": [
    "#### Exercise 1.34 Change Item Value"
   ]
  },
  {
   "cell_type": "code",
   "execution_count": 89,
   "id": "29695dc8",
   "metadata": {
    "colab": {
     "base_uri": "https://localhost:8080/"
    },
    "id": "29695dc8",
    "outputId": "7e3f28ce-2524-4ae9-ec01-0927f674e566"
   },
   "outputs": [
    {
     "name": "stdout",
     "output_type": "stream",
     "text": [
      "['apple', 'blackcurrant', 'cherry']\n"
     ]
    }
   ],
   "source": [
    "thislist = [\"apple\", \"banana\", \"cherry\"]\n",
    "thislist[1] = \"blackcurrant\"\n",
    "print(thislist)"
   ]
  },
  {
   "cell_type": "code",
   "execution_count": 90,
   "id": "d265ccc5",
   "metadata": {
    "colab": {
     "base_uri": "https://localhost:8080/"
    },
    "id": "d265ccc5",
    "outputId": "c0f34a2b-15bc-473e-d65d-5810c4819dcf"
   },
   "outputs": [
    {
     "name": "stdout",
     "output_type": "stream",
     "text": [
      "['apple', 'blackcurrant', 'watermelon', 'orange', 'kiwi', 'mango']\n"
     ]
    }
   ],
   "source": [
    "thislist = [\"apple\", \"banana\", \"cherry\", \"orange\", \"kiwi\", \"mango\"]\n",
    "thislist[1:3] = [\"blackcurrant\", \"watermelon\"]\n",
    "print(thislist)"
   ]
  },
  {
   "cell_type": "code",
   "execution_count": 91,
   "id": "90a49bd1",
   "metadata": {
    "colab": {
     "base_uri": "https://localhost:8080/"
    },
    "id": "90a49bd1",
    "outputId": "2bd731e1-d56d-45e3-a104-259f0cf2d875"
   },
   "outputs": [
    {
     "name": "stdout",
     "output_type": "stream",
     "text": [
      "['apple', 'blackcurrant', 'watermelon', 'cherry']\n"
     ]
    }
   ],
   "source": [
    "thislist = [\"apple\", \"banana\", \"cherry\"]\n",
    "thislist[1:2] = [\"blackcurrant\", \"watermelon\"]\n",
    "print(thislist)"
   ]
  },
  {
   "cell_type": "code",
   "execution_count": 92,
   "id": "816cf296",
   "metadata": {
    "colab": {
     "base_uri": "https://localhost:8080/"
    },
    "id": "816cf296",
    "outputId": "8b6debc8-0897-4653-fc48-ca064c2b3a07"
   },
   "outputs": [
    {
     "name": "stdout",
     "output_type": "stream",
     "text": [
      "['apple', 'watermelon']\n"
     ]
    }
   ],
   "source": [
    "thislist = [\"apple\", \"banana\", \"cherry\"]\n",
    "thislist[1:3] = [\"watermelon\"]\n",
    "print(thislist)"
   ]
  },
  {
   "cell_type": "markdown",
   "id": "c2c834e5",
   "metadata": {
    "id": "c2c834e5"
   },
   "source": [
    "#### Exercise 1.35 Insert Items"
   ]
  },
  {
   "cell_type": "code",
   "execution_count": 93,
   "id": "8766d0e7",
   "metadata": {
    "colab": {
     "base_uri": "https://localhost:8080/"
    },
    "id": "8766d0e7",
    "outputId": "8851fceb-a26c-408e-941c-e898a1e1931a"
   },
   "outputs": [
    {
     "name": "stdout",
     "output_type": "stream",
     "text": [
      "['apple', 'banana', 'watermelon', 'cherry']\n"
     ]
    }
   ],
   "source": [
    "thislist = [\"apple\", \"banana\", \"cherry\"]\n",
    "thislist.insert(2, \"watermelon\")\n",
    "print(thislist)"
   ]
  },
  {
   "cell_type": "markdown",
   "id": "b53b3217",
   "metadata": {
    "id": "b53b3217"
   },
   "source": [
    "#### Exercise 1.36 Extend List"
   ]
  },
  {
   "cell_type": "code",
   "execution_count": 94,
   "id": "f278f0bf",
   "metadata": {
    "colab": {
     "base_uri": "https://localhost:8080/"
    },
    "id": "f278f0bf",
    "outputId": "614da681-d1ef-41bd-8ce9-49badf62f169"
   },
   "outputs": [
    {
     "name": "stdout",
     "output_type": "stream",
     "text": [
      "['apple', 'banana', 'cherry', 'mango', 'pineapple', 'papaya']\n"
     ]
    }
   ],
   "source": [
    "thislist = [\"apple\", \"banana\", \"cherry\"]\n",
    "tropical = [\"mango\", \"pineapple\", \"papaya\"]\n",
    "thislist.extend(tropical)\n",
    "print(thislist)"
   ]
  },
  {
   "cell_type": "markdown",
   "id": "3c4d1d02",
   "metadata": {
    "id": "3c4d1d02"
   },
   "source": [
    "#### Exercise 1.37 Remove Specified Item"
   ]
  },
  {
   "cell_type": "code",
   "execution_count": 95,
   "id": "2572c54a",
   "metadata": {
    "colab": {
     "base_uri": "https://localhost:8080/"
    },
    "id": "2572c54a",
    "outputId": "5953ba62-ba3e-4ba6-b36f-aff32c02b8ae"
   },
   "outputs": [
    {
     "name": "stdout",
     "output_type": "stream",
     "text": [
      "['apple', 'cherry']\n"
     ]
    }
   ],
   "source": [
    "thislist = [\"apple\", \"banana\", \"cherry\"]\n",
    "thislist.remove(\"banana\")\n",
    "print(thislist)"
   ]
  },
  {
   "cell_type": "code",
   "execution_count": 96,
   "id": "69448fbd",
   "metadata": {
    "colab": {
     "base_uri": "https://localhost:8080/"
    },
    "id": "69448fbd",
    "outputId": "2ba34419-3188-46fb-cf91-a4c38c0b4116"
   },
   "outputs": [
    {
     "name": "stdout",
     "output_type": "stream",
     "text": [
      "['apple', 'cherry', 'banana', 'kiwi']\n"
     ]
    }
   ],
   "source": [
    "thislist = [\"apple\", \"banana\", \"cherry\", \"banana\", \"kiwi\"]\n",
    "thislist.remove(\"banana\")\n",
    "print(thislist)"
   ]
  },
  {
   "cell_type": "markdown",
   "id": "a7493056",
   "metadata": {
    "id": "a7493056"
   },
   "source": [
    "#### Exercise 1.38 Remove Specified Index"
   ]
  },
  {
   "cell_type": "code",
   "execution_count": 97,
   "id": "61e8de3a",
   "metadata": {
    "colab": {
     "base_uri": "https://localhost:8080/"
    },
    "id": "61e8de3a",
    "outputId": "6a67ca89-f2da-44bf-dece-a733618e83b7"
   },
   "outputs": [
    {
     "name": "stdout",
     "output_type": "stream",
     "text": [
      "['apple', 'cherry']\n"
     ]
    }
   ],
   "source": [
    "thislist = [\"apple\", \"banana\", \"cherry\"]\n",
    "thislist.pop(1)\n",
    "print(thislist)"
   ]
  },
  {
   "cell_type": "code",
   "execution_count": 98,
   "id": "54a6a158",
   "metadata": {
    "colab": {
     "base_uri": "https://localhost:8080/"
    },
    "id": "54a6a158",
    "outputId": "b463af57-f161-480d-9997-4cf90ba24e2f"
   },
   "outputs": [
    {
     "name": "stdout",
     "output_type": "stream",
     "text": [
      "['apple', 'banana']\n"
     ]
    }
   ],
   "source": [
    "thislist = [\"apple\", \"banana\", \"cherry\"]\n",
    "thislist.pop()\n",
    "print(thislist)"
   ]
  },
  {
   "cell_type": "markdown",
   "id": "6f9900cd",
   "metadata": {
    "id": "6f9900cd"
   },
   "source": [
    "#### Exercise 1.39 Remove the list"
   ]
  },
  {
   "cell_type": "code",
   "execution_count": 99,
   "id": "92566938",
   "metadata": {
    "id": "92566938"
   },
   "outputs": [],
   "source": [
    "thislist = [\"apple\", \"banana\", \"cherry\"]\n",
    "del thislist"
   ]
  },
  {
   "cell_type": "code",
   "execution_count": 100,
   "id": "8da2978c",
   "metadata": {
    "id": "8da2978c"
   },
   "outputs": [
    {
     "ename": "NameError",
     "evalue": "name 'thislist' is not defined",
     "output_type": "error",
     "traceback": [
      "\u001b[0;31m---------------------------------------------------------------------------\u001b[0m",
      "\u001b[0;31mNameError\u001b[0m                                 Traceback (most recent call last)",
      "Input \u001b[0;32mIn [100]\u001b[0m, in \u001b[0;36m<cell line: 1>\u001b[0;34m()\u001b[0m\n\u001b[0;32m----> 1\u001b[0m \u001b[38;5;28mprint\u001b[39m(\u001b[43mthislist\u001b[49m)\n",
      "\u001b[0;31mNameError\u001b[0m: name 'thislist' is not defined"
     ]
    }
   ],
   "source": [
    "print(thislist)"
   ]
  },
  {
   "cell_type": "markdown",
   "id": "a6cc7fbb",
   "metadata": {
    "id": "a6cc7fbb"
   },
   "source": [
    "#### Exercise 1.40 Clear the List"
   ]
  },
  {
   "cell_type": "code",
   "execution_count": 101,
   "id": "606cac70",
   "metadata": {
    "colab": {
     "base_uri": "https://localhost:8080/"
    },
    "id": "606cac70",
    "outputId": "1c8ec076-02f3-4cae-dd33-5e0dcec657c8"
   },
   "outputs": [
    {
     "name": "stdout",
     "output_type": "stream",
     "text": [
      "[]\n"
     ]
    }
   ],
   "source": [
    "thislist = [\"apple\", \"banana\", \"cherry\"]\n",
    "thislist.clear()\n",
    "print(thislist)"
   ]
  },
  {
   "cell_type": "markdown",
   "id": "58441e3f",
   "metadata": {
    "id": "58441e3f"
   },
   "source": [
    "#### Exercise 1.41 Sort Lists"
   ]
  },
  {
   "cell_type": "code",
   "execution_count": 102,
   "id": "b7a3c8d3",
   "metadata": {
    "colab": {
     "base_uri": "https://localhost:8080/"
    },
    "id": "b7a3c8d3",
    "outputId": "9ea72ebb-91aa-43da-e122-00e881c1bf51"
   },
   "outputs": [
    {
     "name": "stdout",
     "output_type": "stream",
     "text": [
      "['banana', 'kiwi', 'mango', 'orange', 'pineapple']\n"
     ]
    }
   ],
   "source": [
    "thislist = [\"orange\", \"mango\", \"kiwi\", \"pineapple\", \"banana\"]\n",
    "thislist.sort()\n",
    "print(thislist)"
   ]
  },
  {
   "cell_type": "code",
   "execution_count": 103,
   "id": "dc283d0f",
   "metadata": {
    "colab": {
     "base_uri": "https://localhost:8080/"
    },
    "id": "dc283d0f",
    "outputId": "2a4a8703-2eea-45fe-c5bb-dab3852ef80f"
   },
   "outputs": [
    {
     "name": "stdout",
     "output_type": "stream",
     "text": [
      "[23, 50, 65, 82, 100]\n"
     ]
    }
   ],
   "source": [
    "thislist = [100, 50, 65, 82, 23]\n",
    "thislist.sort()\n",
    "print(thislist)"
   ]
  },
  {
   "cell_type": "code",
   "execution_count": 104,
   "id": "c8192f9f",
   "metadata": {
    "colab": {
     "base_uri": "https://localhost:8080/"
    },
    "id": "c8192f9f",
    "outputId": "4047b200-88fe-4cb3-c9c4-11fc33931453"
   },
   "outputs": [
    {
     "name": "stdout",
     "output_type": "stream",
     "text": [
      "['pineapple', 'orange', 'mango', 'kiwi', 'banana']\n"
     ]
    }
   ],
   "source": [
    "thislist = [\"orange\", \"mango\", \"kiwi\", \"pineapple\", \"banana\"]\n",
    "thislist.sort(reverse = True)\n",
    "print(thislist)"
   ]
  },
  {
   "cell_type": "code",
   "execution_count": 105,
   "id": "f5b9a793",
   "metadata": {
    "colab": {
     "base_uri": "https://localhost:8080/"
    },
    "id": "f5b9a793",
    "outputId": "6768823a-9b42-4e13-97c5-1ead014c11a5"
   },
   "outputs": [
    {
     "name": "stdout",
     "output_type": "stream",
     "text": [
      "[100, 82, 65, 50, 23]\n"
     ]
    }
   ],
   "source": [
    "thislist = [100, 50, 65, 82, 23]\n",
    "thislist.sort(reverse = True)\n",
    "print(thislist)"
   ]
  },
  {
   "cell_type": "markdown",
   "id": "e31c4d42",
   "metadata": {
    "id": "e31c4d42"
   },
   "source": [
    "#### Exercise 1.42 Reverse Order"
   ]
  },
  {
   "cell_type": "code",
   "execution_count": 106,
   "id": "e20ed6be",
   "metadata": {
    "colab": {
     "base_uri": "https://localhost:8080/"
    },
    "id": "e20ed6be",
    "outputId": "9fbcc11c-7c12-4aac-937f-87989637ef40"
   },
   "outputs": [
    {
     "name": "stdout",
     "output_type": "stream",
     "text": [
      "['cherry', 'Kiwi', 'Orange', 'banana']\n"
     ]
    }
   ],
   "source": [
    "thislist = [\"banana\", \"Orange\", \"Kiwi\", \"cherry\"]\n",
    "thislist.reverse()\n",
    "print(thislist)"
   ]
  },
  {
   "cell_type": "markdown",
   "id": "2869d046",
   "metadata": {
    "id": "2869d046"
   },
   "source": [
    "#### Exercise 1.43 Copy a List"
   ]
  },
  {
   "cell_type": "code",
   "execution_count": 107,
   "id": "4786bfea",
   "metadata": {
    "colab": {
     "base_uri": "https://localhost:8080/"
    },
    "id": "4786bfea",
    "outputId": "ea62bbc9-a32b-41dc-b005-f13401aedf7f"
   },
   "outputs": [
    {
     "name": "stdout",
     "output_type": "stream",
     "text": [
      "['apple', 'banana', 'cherry']\n"
     ]
    }
   ],
   "source": [
    "thislist = [\"apple\", \"banana\", \"cherry\"]\n",
    "mylist = thislist.copy()\n",
    "print(mylist)"
   ]
  },
  {
   "cell_type": "code",
   "execution_count": 108,
   "id": "88b684bc",
   "metadata": {
    "colab": {
     "base_uri": "https://localhost:8080/"
    },
    "id": "88b684bc",
    "outputId": "c44c73a3-798c-40f6-cb0f-a5a550fc2917"
   },
   "outputs": [
    {
     "name": "stdout",
     "output_type": "stream",
     "text": [
      "['apple', 'banana', 'cherry']\n"
     ]
    }
   ],
   "source": [
    "thislist = [\"apple\", \"banana\", \"cherry\"]\n",
    "mylist = list(thislist)\n",
    "print(mylist)"
   ]
  },
  {
   "cell_type": "markdown",
   "id": "27cec16c",
   "metadata": {
    "id": "27cec16c"
   },
   "source": [
    "#### Exercise 1.44 Join Lists"
   ]
  },
  {
   "cell_type": "code",
   "execution_count": 109,
   "id": "7d11e25a",
   "metadata": {
    "colab": {
     "base_uri": "https://localhost:8080/"
    },
    "id": "7d11e25a",
    "outputId": "20809096-76cc-426a-a675-52a8613a8eb9"
   },
   "outputs": [
    {
     "name": "stdout",
     "output_type": "stream",
     "text": [
      "['a', 'b', 'c', 1, 2, 3]\n"
     ]
    }
   ],
   "source": [
    "list1 = [\"a\", \"b\", \"c\"]\n",
    "list2 = [1, 2, 3]\n",
    "\n",
    "list3 = list1 + list2\n",
    "print(list3)"
   ]
  },
  {
   "cell_type": "markdown",
   "id": "0e41ffe4",
   "metadata": {},
   "source": [
    "Append list2 into list1"
   ]
  },
  {
   "cell_type": "code",
   "execution_count": 110,
   "id": "edd66044",
   "metadata": {
    "colab": {
     "base_uri": "https://localhost:8080/"
    },
    "id": "edd66044",
    "outputId": "229a9b1e-e35d-42a6-aac8-86e0fe6eb0b9"
   },
   "outputs": [
    {
     "name": "stdout",
     "output_type": "stream",
     "text": [
      "['a', 'b', 'c', 1, 2, 3]\n"
     ]
    }
   ],
   "source": [
    "list1 = [\"a\", \"b\" , \"c\"]\n",
    "list2 = [1, 2, 3]\n",
    "\n",
    "for x in list2:\n",
    "    list1.append(x)\n",
    "\n",
    "print(list1)"
   ]
  },
  {
   "cell_type": "code",
   "execution_count": 111,
   "id": "75ff9014",
   "metadata": {
    "colab": {
     "base_uri": "https://localhost:8080/"
    },
    "id": "75ff9014",
    "outputId": "7b7d19dd-ebb1-463c-e106-b4b157068d43"
   },
   "outputs": [
    {
     "name": "stdout",
     "output_type": "stream",
     "text": [
      "['a', 'b', 'c', 1, 2, 3]\n"
     ]
    }
   ],
   "source": [
    "list1 = [\"a\", \"b\" , \"c\"]\n",
    "list2 = [1, 2, 3]\n",
    "\n",
    "list1.extend(list2)\n",
    "print(list1)"
   ]
  },
  {
   "cell_type": "markdown",
   "id": "30775e59",
   "metadata": {
    "id": "30775e59"
   },
   "source": [
    "-----"
   ]
  },
  {
   "cell_type": "markdown",
   "id": "01c485f5",
   "metadata": {
    "id": "01c485f5"
   },
   "source": [
    "Revised Date: Sep 12th, 2023"
   ]
  },
  {
   "cell_type": "code",
   "execution_count": null,
   "id": "05d22e68",
   "metadata": {},
   "outputs": [],
   "source": []
  }
 ],
 "metadata": {
  "colab": {
   "provenance": []
  },
  "kernelspec": {
   "display_name": "Python 3 (ipykernel)",
   "language": "python",
   "name": "python3"
  },
  "language_info": {
   "codemirror_mode": {
    "name": "ipython",
    "version": 3
   },
   "file_extension": ".py",
   "mimetype": "text/x-python",
   "name": "python",
   "nbconvert_exporter": "python",
   "pygments_lexer": "ipython3",
   "version": "3.9.12"
  }
 },
 "nbformat": 4,
 "nbformat_minor": 5
}
