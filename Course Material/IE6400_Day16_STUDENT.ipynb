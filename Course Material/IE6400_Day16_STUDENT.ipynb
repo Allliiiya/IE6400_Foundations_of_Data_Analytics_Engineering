{
 "cells": [
  {
   "cell_type": "markdown",
   "metadata": {
    "id": "7mIClP0dcYIr"
   },
   "source": [
    "# IE6400 Foundations of Data Analytics Engineering\n",
    "# Fall 2023 \n",
    "### Module 3: Linear Algebra Part-1\n",
    "#### - STUDENT VERSION - "
   ]
  },
  {
   "cell_type": "markdown",
   "metadata": {},
   "source": [
    "#### Exercise 1 Creating Vectors from Arrays using Python"
   ]
  },
  {
   "cell_type": "code",
   "execution_count": null,
   "metadata": {},
   "outputs": [],
   "source": [
    "import numpy as np\n",
    "import matplotlib.pyplot as plt"
   ]
  },
  {
   "cell_type": "code",
   "execution_count": null,
   "metadata": {},
   "outputs": [],
   "source": [
    "# Generating sample data\n",
    "np.random.seed(0)\n",
    "months = [\"Jan\", \"Feb\", \"Mar\", \"Apr\", \"May\", \"Jun\", \"Jul\", \"Aug\", \"Sep\", \"Oct\", \"Nov\", \"Dec\"]\n",
    "sales_array = np.random.randint(5000, 10000, 12)  # Random sales figures between 5000 and 10000\n",
    "print(sales_array)"
   ]
  },
  {
   "cell_type": "code",
   "execution_count": null,
   "metadata": {},
   "outputs": [],
   "source": [
    "# Converting array to vector\n",
    "sales_vector = np.array(sales_array).reshape(-1,1)\n",
    "print(sales_vector)"
   ]
  },
  {
   "cell_type": "code",
   "execution_count": null,
   "metadata": {},
   "outputs": [],
   "source": [
    "# Plotting the sales trend\n",
    "plt.figure(figsize=(10, 6))\n",
    "plt.plot(months, sales_vector, marker='o', linestyle='-', color='blue')\n",
    "plt.title('Monthly Sales Trend for 2023')\n",
    "plt.xlabel('Month')\n",
    "plt.ylabel('Sales ($)')\n",
    "plt.grid(True)\n",
    "plt.show()\n"
   ]
  },
  {
   "cell_type": "markdown",
   "metadata": {},
   "source": [
    "#### **Exercise 2**"
   ]
  },
  {
   "cell_type": "code",
   "execution_count": null,
   "metadata": {},
   "outputs": [],
   "source": [
    "from numpy import empty\n",
    "a = empty([3,3])\n",
    "print(a)"
   ]
  },
  {
   "cell_type": "markdown",
   "metadata": {},
   "source": [
    "#### **Exercise 3**"
   ]
  },
  {
   "cell_type": "code",
   "execution_count": null,
   "metadata": {},
   "outputs": [],
   "source": [
    "from numpy import zeros\n",
    "a = zeros([3,5])\n",
    "print(a)"
   ]
  },
  {
   "cell_type": "markdown",
   "metadata": {},
   "source": [
    "#### **Exercise 4**"
   ]
  },
  {
   "cell_type": "code",
   "execution_count": null,
   "metadata": {},
   "outputs": [],
   "source": [
    "from numpy import ones\n",
    "a = ones([5])\n",
    "print(a)"
   ]
  },
  {
   "cell_type": "markdown",
   "metadata": {},
   "source": [
    "#### **Exercise 5**"
   ]
  },
  {
   "cell_type": "code",
   "execution_count": null,
   "metadata": {},
   "outputs": [],
   "source": [
    "# create array with vstack\n",
    "from numpy import array\n",
    "from numpy import vstack\n",
    "# create first array\n",
    "a1 = array([1,2,3])\n",
    "print(a1)"
   ]
  },
  {
   "cell_type": "code",
   "execution_count": null,
   "metadata": {},
   "outputs": [],
   "source": [
    "# create second array\n",
    "a2 = array([4,5,6])\n",
    "print(a2)"
   ]
  },
  {
   "cell_type": "code",
   "execution_count": null,
   "metadata": {},
   "outputs": [],
   "source": [
    "# vertical stack\n",
    "a3 = vstack((a1, a2))\n",
    "print(a3)\n",
    "print(a3.shape)"
   ]
  },
  {
   "cell_type": "markdown",
   "metadata": {},
   "source": [
    "#### **Exercise 6**"
   ]
  },
  {
   "cell_type": "code",
   "execution_count": null,
   "metadata": {},
   "outputs": [],
   "source": [
    "# create array with hstack\n",
    "from numpy import array\n",
    "from numpy import hstack\n",
    "# create first array\n",
    "a1 = array([1,2,3])\n",
    "print(a1)"
   ]
  },
  {
   "cell_type": "code",
   "execution_count": null,
   "metadata": {},
   "outputs": [],
   "source": [
    "# create second array\n",
    "a2 = array([4,5,6])\n",
    "print(a2)"
   ]
  },
  {
   "cell_type": "code",
   "execution_count": null,
   "metadata": {},
   "outputs": [],
   "source": [
    "# create horizontal stack\n",
    "a3 = hstack((a1, a2))\n",
    "print(a3)\n",
    "print(a3.shape)"
   ]
  },
  {
   "cell_type": "markdown",
   "metadata": {},
   "source": [
    "#### Exercise 7 Understanding Vector Addition using Python"
   ]
  },
  {
   "cell_type": "code",
   "execution_count": null,
   "metadata": {},
   "outputs": [],
   "source": [
    "import numpy as np\n",
    "import matplotlib.pyplot as plt"
   ]
  },
  {
   "cell_type": "code",
   "execution_count": null,
   "metadata": {},
   "outputs": [],
   "source": [
    "# Generating sample data\n",
    "np.random.seed(0)\n",
    "\n",
    "# Player A's movement vector\n",
    "player_A_vector = np.array([np.random.randint(-10, 10), np.random.randint(-10, 10)])\n",
    "\n",
    "# Player B's movement vector\n",
    "player_B_vector = np.array([np.random.randint(-10, 10), np.random.randint(-10, 10)])\n"
   ]
  },
  {
   "cell_type": "code",
   "execution_count": null,
   "metadata": {},
   "outputs": [],
   "source": [
    "# Adding the two vectors\n",
    "resultant_vector = player_A_vector + player_B_vector"
   ]
  },
  {
   "cell_type": "code",
   "execution_count": null,
   "metadata": {},
   "outputs": [],
   "source": [
    "# Plotting the vectors\n",
    "plt.figure(figsize=(10, 6))\n",
    "plt.quiver(0, 0, player_A_vector[0], player_A_vector[1], angles='xy', scale_units='xy', scale=1, color='r', label=\"Player A's Movement\")\n",
    "plt.quiver(0, 0, player_B_vector[0], player_B_vector[1], angles='xy', scale_units='xy', scale=1, color='b', label=\"Player B's Movement\")\n",
    "plt.quiver(0, 0, resultant_vector[0], resultant_vector[1], angles='xy', scale_units='xy', scale=1, color='g', label='Combined Movement')\n",
    "\n",
    "plt.xlim(-15, 15)\n",
    "plt.ylim(-15, 15)\n",
    "plt.axvline(x=0, color='grey', lw=1)\n",
    "plt.axhline(y=0, color='grey', lw=1)\n",
    "plt.title('Vector Addition of Players Movements')\n",
    "plt.xlabel('Horizontal Movement')\n",
    "plt.ylabel('Vertical Movement')\n",
    "plt.grid(True)\n",
    "plt.legend()\n",
    "plt.show()\n"
   ]
  },
  {
   "cell_type": "markdown",
   "metadata": {},
   "source": [
    "#### **Exercise 8** Understanding Vector Subtraction using Python"
   ]
  },
  {
   "cell_type": "code",
   "execution_count": null,
   "metadata": {},
   "outputs": [],
   "source": [
    "import numpy as np\n",
    "import matplotlib.pyplot as plt\n"
   ]
  },
  {
   "cell_type": "code",
   "execution_count": null,
   "metadata": {},
   "outputs": [],
   "source": [
    "# Generating sample data\n",
    "np.random.seed(0)\n",
    "\n",
    "# Morning wind vector\n",
    "morning_wind = np.array([np.random.randint(-10, 10), np.random.randint(-10, 10)])\n",
    "\n",
    "# Evening wind vector\n",
    "evening_wind = np.array([np.random.randint(-10, 10), np.random.randint(-10, 10)])\n"
   ]
  },
  {
   "cell_type": "code",
   "execution_count": null,
   "metadata": {},
   "outputs": [],
   "source": [
    "# Subtracting the vectors\n",
    "wind_change = evening_wind - morning_wind\n"
   ]
  },
  {
   "cell_type": "code",
   "execution_count": null,
   "metadata": {},
   "outputs": [],
   "source": [
    "# Plotting the vectors\n",
    "plt.figure(figsize=(10, 6))\n",
    "plt.quiver(0, 0, morning_wind[0], morning_wind[1], angles='xy', scale_units='xy', scale=1, color='r', label=\"Morning Wind\")\n",
    "plt.quiver(0, 0, evening_wind[0], evening_wind[1], angles='xy', scale_units='xy', scale=1, color='b', label=\"Evening Wind\")\n",
    "plt.quiver(0, 0, wind_change[0], wind_change[1], angles='xy', scale_units='xy', scale=1, color='g', label='Change in Wind')\n",
    "\n",
    "plt.xlim(-15, 15)\n",
    "plt.ylim(-15, 15)\n",
    "plt.axvline(x=0, color='grey', lw=1)\n",
    "plt.axhline(y=0, color='grey', lw=1)\n",
    "plt.title('Vector Subtraction of Wind Patterns')\n",
    "plt.xlabel('Wind Direction (East-West)')\n",
    "plt.ylabel('Wind Speed (North-South)')\n",
    "plt.grid(True)\n",
    "plt.legend()\n",
    "plt.show()\n"
   ]
  },
  {
   "cell_type": "markdown",
   "metadata": {},
   "source": [
    "#### **Exercise 9** Understanding the Inner Product (Dot Product) using Python"
   ]
  },
  {
   "cell_type": "code",
   "execution_count": null,
   "metadata": {},
   "outputs": [],
   "source": [
    "import numpy as np\n",
    "import matplotlib.pyplot as plt\n"
   ]
  },
  {
   "cell_type": "code",
   "execution_count": null,
   "metadata": {},
   "outputs": [],
   "source": [
    "# Generating sample data\n",
    "np.random.seed(0)\n",
    "\n",
    "# Vector representing units sold for products A, B, C, and D\n",
    "units_sold = np.array([np.random.randint(50, 100), np.random.randint(30, 70), np.random.randint(20, 50), np.random.randint(10, 30)])\n",
    "\n",
    "# Vector representing price per unit for products A, B, C, and D\n",
    "price_per_unit = np.array([np.random.randint(10, 20), np.random.randint(20, 30), np.random.randint(30, 40), np.random.randint(40, 50)])\n"
   ]
  },
  {
   "cell_type": "code",
   "execution_count": null,
   "metadata": {},
   "outputs": [],
   "source": [
    "# Computing the dot product\n",
    "total_revenue = np.dot(units_sold, price_per_unit)\n"
   ]
  },
  {
   "cell_type": "code",
   "execution_count": null,
   "metadata": {},
   "outputs": [],
   "source": [
    "# Plotting the data\n",
    "products = ['Product A', 'Product B', 'Product C', 'Product D']\n",
    "\n",
    "fig, ax1 = plt.subplots(figsize=(10, 6))\n",
    "\n",
    "color = 'tab:red'\n",
    "ax1.set_xlabel('Products')\n",
    "ax1.set_ylabel('Units Sold', color=color)\n",
    "ax1.bar(products, units_sold, color=color, alpha=0.6, label='Units Sold')\n",
    "ax1.tick_params(axis='y', labelcolor=color)\n",
    "\n",
    "ax2 = ax1.twinx()\n",
    "color = 'tab:blue'\n",
    "ax2.set_ylabel('Price per Unit ($)', color=color)\n",
    "ax2.plot(products, price_per_unit, color=color, marker='o', label='Price per Unit ($)')\n",
    "ax2.tick_params(axis='y', labelcolor=color)\n",
    "\n",
    "fig.tight_layout()\n",
    "plt.title(f'Total Revenue from Products: ${total_revenue}')\n",
    "plt.show()\n"
   ]
  },
  {
   "cell_type": "markdown",
   "metadata": {},
   "source": [
    "#### **Exercise 10** Understanding Vector Multiplication using Python"
   ]
  },
  {
   "cell_type": "code",
   "execution_count": null,
   "metadata": {},
   "outputs": [],
   "source": [
    "import numpy as np\n",
    "import matplotlib.pyplot as plt\n"
   ]
  },
  {
   "cell_type": "code",
   "execution_count": null,
   "metadata": {},
   "outputs": [],
   "source": [
    "# Generating sample data\n",
    "np.random.seed(0)\n",
    "\n",
    "# Vector representing area allocated for crops A, B, C, and D (in acres)\n",
    "area_allocated = np.array([np.random.randint(5, 15), np.random.randint(10, 20), np.random.randint(15, 25), np.random.randint(20, 30)])\n",
    "\n",
    "# Vector representing yield for crops A, B, C, and D (in tons per acre)\n",
    "crop_yield = np.array([np.random.uniform(1.5, 2.5), np.random.uniform(2.0, 3.0), np.random.uniform(2.5, 3.5), np.random.uniform(3.0, 4.0)])\n"
   ]
  },
  {
   "cell_type": "code",
   "execution_count": null,
   "metadata": {},
   "outputs": [],
   "source": [
    "# Element-wise multiplication of the vectors\n",
    "total_yield = np.multiply(area_allocated, crop_yield)\n"
   ]
  },
  {
   "cell_type": "code",
   "execution_count": null,
   "metadata": {},
   "outputs": [],
   "source": [
    "# Plotting the data\n",
    "crops = ['Crop A', 'Crop B', 'Crop C', 'Crop D']\n",
    "\n",
    "fig, ax1 = plt.subplots(figsize=(10, 6))\n",
    "\n",
    "color = 'tab:red'\n",
    "ax1.set_xlabel('Crops')\n",
    "ax1.set_ylabel('Area Allocated (acres)', color=color)\n",
    "ax1.bar(crops, area_allocated, color=color, alpha=0.6, label='Area Allocated (acres)')\n",
    "ax1.tick_params(axis='y', labelcolor=color)\n",
    "\n",
    "ax2 = ax1.twinx()\n",
    "color = 'tab:blue'\n",
    "ax2.set_ylabel('Yield (tons per acre)', color=color)\n",
    "ax2.plot(crops, crop_yield, color=color, marker='o', label='Yield (tons per acre)')\n",
    "ax2.tick_params(axis='y', labelcolor=color)\n",
    "\n",
    "fig.tight_layout()\n",
    "plt.title('Total Yield for Each Crop')\n",
    "plt.show()\n",
    "\n",
    "# Displaying the total yield\n",
    "for crop, yield_val in zip(crops, total_yield):\n",
    "    print(f\"Total yield for {crop}: {yield_val:.2f} tons\")\n"
   ]
  },
  {
   "cell_type": "markdown",
   "metadata": {},
   "source": [
    "#### **Exercise 11** Understanding Vector Division using Python"
   ]
  },
  {
   "cell_type": "code",
   "execution_count": null,
   "metadata": {},
   "outputs": [],
   "source": [
    "import numpy as np\n",
    "import matplotlib.pyplot as plt\n"
   ]
  },
  {
   "cell_type": "code",
   "execution_count": null,
   "metadata": {},
   "outputs": [],
   "source": [
    "# Generating sample data\n",
    "np.random.seed(0)\n",
    "\n",
    "# Vector representing total calories for food items A, B, C, and D\n",
    "total_calories = np.array([np.random.randint(150, 250), np.random.randint(100, 200), np.random.randint(50, 150), np.random.randint(200, 300)])\n",
    "\n",
    "# Vector representing serving size for food items A, B, C, and D (in grams)\n",
    "serving_size = np.array([np.random.randint(100, 150), np.random.randint(50, 100), np.random.randint(30, 70), np.random.randint(120, 180)])\n"
   ]
  },
  {
   "cell_type": "code",
   "execution_count": null,
   "metadata": {},
   "outputs": [],
   "source": [
    "# Element-wise division of the vectors\n",
    "calories_per_gram = np.divide(total_calories, serving_size)\n"
   ]
  },
  {
   "cell_type": "code",
   "execution_count": null,
   "metadata": {},
   "outputs": [],
   "source": [
    "# Plotting the data\n",
    "food_items = ['Food A', 'Food B', 'Food C', 'Food D']\n",
    "\n",
    "fig, ax1 = plt.subplots(figsize=(10, 6))\n",
    "\n",
    "color = 'tab:red'\n",
    "ax1.set_xlabel('Food Items')\n",
    "ax1.set_ylabel('Total Calories', color=color)\n",
    "ax1.bar(food_items, total_calories, color=color, alpha=0.6, label='Total Calories')\n",
    "ax1.tick_params(axis='y', labelcolor=color)\n",
    "\n",
    "ax2 = ax1.twinx()\n",
    "color = 'tab:blue'\n",
    "ax2.set_ylabel('Serving Size (grams)', color=color)\n",
    "ax2.plot(food_items, serving_size, color=color, marker='o', label='Serving Size (grams)')\n",
    "ax2.tick_params(axis='y', labelcolor=color)\n",
    "\n",
    "fig.tight_layout()\n",
    "plt.title('Calorie Content per Gram for Each Food Item')\n",
    "plt.show()\n",
    "\n",
    "# Displaying the calorie content per gram\n",
    "for food, cal_per_g in zip(food_items, calories_per_gram):\n",
    "    print(f\"Calorie content per gram for {food}: {cal_per_g:.2f} calories/g\")\n"
   ]
  },
  {
   "cell_type": "markdown",
   "metadata": {},
   "source": [
    "#### **Exercise 12** Understanding Vector-Scalar Multiplication using Python"
   ]
  },
  {
   "cell_type": "code",
   "execution_count": null,
   "metadata": {},
   "outputs": [],
   "source": [
    "import numpy as np\n",
    "import matplotlib.pyplot as plt\n"
   ]
  },
  {
   "cell_type": "code",
   "execution_count": null,
   "metadata": {},
   "outputs": [],
   "source": [
    "# Generating sample data\n",
    "np.random.seed(0)\n",
    "\n",
    "# Vector representing sales for a product over a week (in USD)\n",
    "sales = np.random.randint(500, 1000, 7)\n"
   ]
  },
  {
   "cell_type": "code",
   "execution_count": null,
   "metadata": {},
   "outputs": [],
   "source": [
    "# Scalar multiplication\n",
    "expected_sales = sales * 1.20\n"
   ]
  },
  {
   "cell_type": "code",
   "execution_count": null,
   "metadata": {},
   "outputs": [],
   "source": [
    "# Plotting the data\n",
    "days = ['Monday', 'Tuesday', 'Wednesday', 'Thursday', 'Friday', 'Saturday', 'Sunday']\n",
    "\n",
    "plt.figure(figsize=(12, 6))\n",
    "plt.plot(days, sales, marker='o', label='Current Sales', color='blue')\n",
    "plt.plot(days, expected_sales, marker='o', linestyle='--', label='Projected Sales', color='red')\n",
    "plt.xlabel('Days of the Week')\n",
    "plt.ylabel('Sales (in USD)')\n",
    "plt.title('Current vs Projected Sales for the Next Week')\n",
    "plt.legend()\n",
    "plt.grid(True)\n",
    "plt.show()\n"
   ]
  },
  {
   "cell_type": "markdown",
   "metadata": {},
   "source": [
    "#### **Exercise 13** Understanding L1 Norm using Python"
   ]
  },
  {
   "cell_type": "code",
   "execution_count": null,
   "metadata": {
    "colab": {
     "base_uri": "https://localhost:8080/",
     "height": 0
    },
    "id": "uGA8BP8sa7HF",
    "outputId": "bb48ae6d-7b66-4ee1-a2e1-9ab5eda07d35"
   },
   "outputs": [],
   "source": [
    "import numpy as np\n",
    "import matplotlib.pyplot as plt\n"
   ]
  },
  {
   "cell_type": "code",
   "execution_count": null,
   "metadata": {},
   "outputs": [],
   "source": [
    "# Generating sample data\n",
    "np.random.seed(0)\n",
    "\n",
    "# Vector representing weights of features in a model\n",
    "weights = np.random.randn(5)\n"
   ]
  },
  {
   "cell_type": "code",
   "execution_count": null,
   "metadata": {},
   "outputs": [],
   "source": [
    "# Computing L1 norm\n",
    "l1_norm = np.linalg.norm(weights, 1)\n"
   ]
  },
  {
   "cell_type": "code",
   "execution_count": null,
   "metadata": {},
   "outputs": [],
   "source": [
    "# Plotting the data\n",
    "features = [f'Feature {i+1}' for i in range(len(weights))]\n",
    "\n",
    "plt.figure(figsize=(10, 6))\n",
    "plt.bar(features, weights, color='blue', alpha=0.7, label='Weights')\n",
    "plt.axhline(y=l1_norm, color='red', linestyle='--', label=f'L1 Norm: {l1_norm:.2f}')\n",
    "plt.axhline(y=-l1_norm, color='red', linestyle='--')\n",
    "plt.xlabel('Features')\n",
    "plt.ylabel('Weights')\n",
    "plt.title('Weights of Features and L1 Norm')\n",
    "plt.legend()\n",
    "plt.grid(axis='y')\n",
    "plt.show()\n"
   ]
  },
  {
   "cell_type": "markdown",
   "metadata": {},
   "source": [
    "#### **Exercise 14** Understanding L2 Norm using Python"
   ]
  },
  {
   "cell_type": "code",
   "execution_count": null,
   "metadata": {},
   "outputs": [],
   "source": [
    "import numpy as np\n",
    "import matplotlib.pyplot as plt\n"
   ]
  },
  {
   "cell_type": "code",
   "execution_count": null,
   "metadata": {},
   "outputs": [],
   "source": [
    "# Generating sample data\n",
    "np.random.seed(0)\n",
    "\n",
    "# Vectors representing preferences of two users for a set of products (scaled between 0 and 1)\n",
    "user1_preferences = np.random.rand(5)\n",
    "user2_preferences = np.random.rand(5)\n"
   ]
  },
  {
   "cell_type": "code",
   "execution_count": null,
   "metadata": {},
   "outputs": [],
   "source": [
    "# Computing difference between user preferences\n",
    "difference = user1_preferences - user2_preferences\n",
    "\n",
    "# Computing L2 norm\n",
    "l2_norm = np.linalg.norm(difference)\n"
   ]
  },
  {
   "cell_type": "code",
   "execution_count": null,
   "metadata": {},
   "outputs": [],
   "source": [
    "# Plotting the data\n",
    "products = [f'Product {i+1}' for i in range(len(user1_preferences))]\n",
    "\n",
    "plt.figure(figsize=(12, 6))\n",
    "plt.plot(products, user1_preferences, marker='o', label='User 1 Preferences', color='blue')\n",
    "plt.plot(products, user2_preferences, marker='o', label='User 2 Preferences', color='green')\n",
    "plt.fill_between(products, user1_preferences, user2_preferences, color='red', alpha=0.2, label=f'L2 Norm: {l2_norm:.2f}')\n",
    "plt.xlabel('Products')\n",
    "plt.ylabel('Preferences')\n",
    "plt.title('User Preferences and L2 Norm of Difference')\n",
    "plt.legend()\n",
    "plt.grid(True)\n",
    "plt.show()\n"
   ]
  },
  {
   "cell_type": "markdown",
   "metadata": {},
   "source": [
    "#### **Exercise 15** Understanding Max Norm using Python"
   ]
  },
  {
   "cell_type": "code",
   "execution_count": null,
   "metadata": {},
   "outputs": [],
   "source": [
    "import numpy as np\n",
    "import matplotlib.pyplot as plt\n"
   ]
  },
  {
   "cell_type": "code",
   "execution_count": null,
   "metadata": {},
   "outputs": [],
   "source": [
    "# Generating sample data\n",
    "np.random.seed(0)\n",
    "\n",
    "# Vector representing pixel intensities of an image (scaled between 0 and 255)\n",
    "pixel_intensities = np.random.randint(0, 256, 50)"
   ]
  },
  {
   "cell_type": "code",
   "execution_count": null,
   "metadata": {},
   "outputs": [],
   "source": [
    "# Computing Max Norm\n",
    "max_norm = np.linalg.norm(pixel_intensities, np.inf)\n"
   ]
  },
  {
   "cell_type": "code",
   "execution_count": null,
   "metadata": {},
   "outputs": [],
   "source": [
    "# Plotting the data\n",
    "pixels = [f'Pixel {i+1}' for i in range(len(pixel_intensities))]\n",
    "\n",
    "plt.figure(figsize=(14, 6))\n",
    "plt.bar(pixels, pixel_intensities, color='blue', alpha=0.7, label='Pixel Intensities')\n",
    "plt.axhline(y=max_norm, color='red', linestyle='--', label=f'Max Norm: {max_norm}')\n",
    "plt.xlabel('Pixels')\n",
    "plt.ylabel('Intensity')\n",
    "plt.title('Pixel Intensities and Max Norm')\n",
    "plt.xticks(rotation=45)\n",
    "plt.legend()\n",
    "plt.grid(axis='y')\n",
    "plt.tight_layout()\n",
    "plt.show()\n"
   ]
  },
  {
   "cell_type": "markdown",
   "metadata": {
    "id": "lzmrRnPnF1M6"
   },
   "source": [
    "#### **Exercise 16: Understanding Vector Operations using Python**"
   ]
  },
  {
   "cell_type": "code",
   "execution_count": null,
   "metadata": {},
   "outputs": [],
   "source": [
    "import numpy as np\n",
    "import matplotlib.pyplot as plt\n"
   ]
  },
  {
   "cell_type": "code",
   "execution_count": null,
   "metadata": {},
   "outputs": [],
   "source": [
    "# Generating sample data\n",
    "np.random.seed(0)\n",
    "\n",
    "# Vectors representing forces (in Newtons)\n",
    "force_A = np.random.randint(1, 10, 2)\n",
    "force_B = np.random.randint(1, 10, 2)\n"
   ]
  },
  {
   "cell_type": "code",
   "execution_count": null,
   "metadata": {},
   "outputs": [],
   "source": [
    "# Vector Addition\n",
    "resultant_addition = force_A + force_B\n",
    "\n",
    "# Vector Subtraction\n",
    "resultant_subtraction = force_A - force_B\n",
    "\n",
    "# Scalar Multiplication\n",
    "scalar = 2\n",
    "resultant_scalar_multiplication = scalar * force_A\n"
   ]
  },
  {
   "cell_type": "code",
   "execution_count": null,
   "metadata": {},
   "outputs": [],
   "source": [
    "# Plotting the data\n",
    "plt.figure(figsize=(10, 10))\n",
    "plt.quiver(0, 0, force_A[0], force_A[1], angles='xy', scale_units='xy', scale=1, color='r', label='Force A')\n",
    "plt.quiver(0, 0, force_B[0], force_B[1], angles='xy', scale_units='xy', scale=1, color='b', label='Force B')\n",
    "plt.quiver(0, 0, resultant_addition[0], resultant_addition[1], angles='xy', scale_units='xy', scale=1, color='g', label='Resultant Addition')\n",
    "plt.quiver(0, 0, resultant_subtraction[0], resultant_subtraction[1], angles='xy', scale_units='xy', scale=1, color='y', label='Resultant Subtraction')\n",
    "plt.quiver(0, 0, resultant_scalar_multiplication[0], resultant_scalar_multiplication[1], angles='xy', scale_units='xy', scale=1, color='purple', label=f'Scalar Multiplication (x{scalar})')\n",
    "\n",
    "plt.xlim(-15, 15)\n",
    "plt.ylim(-15, 15)\n",
    "plt.axvline(x=0, color='grey',linewidth=0.5)\n",
    "plt.axhline(y=0, color='grey',linewidth=0.5)\n",
    "plt.grid(color = 'gray', linestyle = '--', linewidth = 0.5)\n",
    "plt.title('Vector Operations Visualization')\n",
    "plt.legend()\n",
    "plt.show()\n"
   ]
  },
  {
   "cell_type": "markdown",
   "metadata": {},
   "source": [
    "#### **Exercise 17** Understanding Matrices using Python"
   ]
  },
  {
   "cell_type": "code",
   "execution_count": null,
   "metadata": {
    "colab": {
     "base_uri": "https://localhost:8080/",
     "height": 0
    },
    "id": "5wzadcHyk7fx",
    "outputId": "7b5f94a2-48e5-434c-9ed6-eb022a1f312d"
   },
   "outputs": [],
   "source": [
    "import numpy as np\n",
    "import matplotlib.pyplot as plt\n"
   ]
  },
  {
   "cell_type": "code",
   "execution_count": null,
   "metadata": {},
   "outputs": [],
   "source": [
    "# Generating sample data\n",
    "square_points = np.array([[0, 0], [0, 1], [1, 1], [1, 0], [0, 0]])\n"
   ]
  },
  {
   "cell_type": "code",
   "execution_count": null,
   "metadata": {},
   "outputs": [],
   "source": [
    "# Creating a 2x2 transformation matrix\n",
    "transformation_matrix = np.array([[2, 0], [0, 1.5]])\n"
   ]
  },
  {
   "cell_type": "code",
   "execution_count": null,
   "metadata": {},
   "outputs": [],
   "source": [
    "# Transforming the square points using the matrix\n",
    "transformed_points = np.dot(square_points, transformation_matrix)\n"
   ]
  },
  {
   "cell_type": "code",
   "execution_count": null,
   "metadata": {},
   "outputs": [],
   "source": [
    "# Plotting the data\n",
    "plt.figure(figsize=(8, 8))\n",
    "plt.plot(square_points[:, 0], square_points[:, 1], label='Original Shape', color='blue')\n",
    "plt.plot(transformed_points[:, 0], transformed_points[:, 1], label='Transformed Shape', color='red', linestyle='--')\n",
    "plt.xlim(-2, 3)\n",
    "plt.ylim(-2, 3)\n",
    "plt.axvline(x=0, color='grey',linewidth=0.5)\n",
    "plt.axhline(y=0, color='grey',linewidth=0.5)\n",
    "plt.grid(color = 'gray', linestyle = '--', linewidth = 0.5)\n",
    "plt.title('Matrix Transformation Visualization')\n",
    "plt.legend()\n",
    "plt.show()\n"
   ]
  },
  {
   "cell_type": "markdown",
   "metadata": {},
   "source": [
    "#### **Exercise 18** Understanding the Dimension of Matrices using Python"
   ]
  },
  {
   "cell_type": "code",
   "execution_count": null,
   "metadata": {},
   "outputs": [],
   "source": [
    "import numpy as np\n"
   ]
  },
  {
   "cell_type": "code",
   "execution_count": null,
   "metadata": {},
   "outputs": [],
   "source": [
    "# Generating a random matrix of size 4x5\n",
    "np.random.seed(0)\n",
    "matrix = np.random.randint(1, 10, size=(4, 5))\n"
   ]
  },
  {
   "cell_type": "code",
   "execution_count": null,
   "metadata": {},
   "outputs": [],
   "source": [
    "# Getting the dimension of the matrix\n",
    "rows, columns = matrix.shape\n"
   ]
  },
  {
   "cell_type": "code",
   "execution_count": null,
   "metadata": {},
   "outputs": [],
   "source": [
    "import matplotlib.pyplot as plt\n",
    "import seaborn as sns\n",
    "\n",
    "# Plotting the matrix as a heatmap\n",
    "plt.figure(figsize=(8, 6))\n",
    "sns.heatmap(matrix, annot=True, cmap='viridis', cbar=False)\n",
    "plt.title('Matrix Visualization')\n",
    "plt.show()\n"
   ]
  },
  {
   "cell_type": "markdown",
   "metadata": {},
   "source": [
    "#### **Exercise 19** Understanding Matrix Addition using Python"
   ]
  },
  {
   "cell_type": "code",
   "execution_count": null,
   "metadata": {},
   "outputs": [],
   "source": [
    "import numpy as np\n"
   ]
  },
  {
   "cell_type": "code",
   "execution_count": null,
   "metadata": {},
   "outputs": [],
   "source": [
    "# Generating two random matrices of size 3x3\n",
    "np.random.seed(0)\n",
    "matrix_A = np.random.randint(1, 10, size=(3, 3))\n",
    "matrix_B = np.random.randint(1, 10, size=(3, 3))\n"
   ]
  },
  {
   "cell_type": "code",
   "execution_count": null,
   "metadata": {},
   "outputs": [],
   "source": [
    "# Adding the two matrices\n",
    "matrix_C = matrix_A + matrix_B\n"
   ]
  },
  {
   "cell_type": "code",
   "execution_count": null,
   "metadata": {},
   "outputs": [],
   "source": [
    "import matplotlib.pyplot as plt\n",
    "import seaborn as sns\n",
    "\n",
    "# Plotting the matrices as heatmaps\n",
    "fig, ax = plt.subplots(1, 3, figsize=(18, 6))\n",
    "\n",
    "sns.heatmap(matrix_A, annot=True, cmap='viridis', cbar=False, ax=ax[0])\n",
    "ax[0].set_title('Matrix A')\n",
    "\n",
    "sns.heatmap(matrix_B, annot=True, cmap='viridis', cbar=False, ax=ax[1])\n",
    "ax[1].set_title('Matrix B')\n",
    "\n",
    "sns.heatmap(matrix_C, annot=True, cmap='viridis', cbar=False, ax=ax[2])\n",
    "ax[2].set_title('Matrix A + Matrix B')\n",
    "\n",
    "plt.show()\n"
   ]
  },
  {
   "cell_type": "markdown",
   "metadata": {},
   "source": [
    "#### **Exercise 20** Understanding Matrix Subtraction using Python"
   ]
  },
  {
   "cell_type": "code",
   "execution_count": null,
   "metadata": {},
   "outputs": [],
   "source": [
    "import numpy as np\n"
   ]
  },
  {
   "cell_type": "code",
   "execution_count": null,
   "metadata": {},
   "outputs": [],
   "source": [
    "# Generating two random matrices of size 3x3\n",
    "np.random.seed(0)\n",
    "matrix_X = np.random.randint(1, 10, size=(3, 3))\n",
    "matrix_Y = np.random.randint(1, 10, size=(3, 3))\n"
   ]
  },
  {
   "cell_type": "code",
   "execution_count": null,
   "metadata": {},
   "outputs": [],
   "source": [
    "# Subtracting matrix_Y from matrix_X\n",
    "matrix_Z = matrix_X - matrix_Y\n"
   ]
  },
  {
   "cell_type": "code",
   "execution_count": null,
   "metadata": {},
   "outputs": [],
   "source": [
    "import matplotlib.pyplot as plt\n",
    "import seaborn as sns\n",
    "\n",
    "# Plotting the matrices as heatmaps\n",
    "fig, ax = plt.subplots(1, 3, figsize=(18, 6))\n",
    "\n",
    "sns.heatmap(matrix_X, annot=True, cmap='viridis', cbar=False, ax=ax[0])\n",
    "ax[0].set_title('Matrix X')\n",
    "\n",
    "sns.heatmap(matrix_Y, annot=True, cmap='viridis', cbar=False, ax=ax[1])\n",
    "ax[1].set_title('Matrix Y')\n",
    "\n",
    "sns.heatmap(matrix_Z, annot=True, cmap='viridis', cbar=False, ax=ax[2])\n",
    "ax[2].set_title('Matrix X - Matrix Y')\n",
    "\n",
    "plt.show()\n"
   ]
  },
  {
   "cell_type": "markdown",
   "metadata": {},
   "source": [
    "#### **Exercise 21** Understanding Matrix Multiplication using Python"
   ]
  },
  {
   "cell_type": "code",
   "execution_count": null,
   "metadata": {},
   "outputs": [],
   "source": [
    "import numpy as np\n"
   ]
  },
  {
   "cell_type": "code",
   "execution_count": null,
   "metadata": {},
   "outputs": [],
   "source": [
    "# Generating two random matrices of size 3x3\n",
    "np.random.seed(0)\n",
    "matrix_P = np.random.randint(1, 10, size=(3, 3))\n",
    "matrix_Q = np.random.randint(1, 10, size=(3, 3))\n"
   ]
  },
  {
   "cell_type": "code",
   "execution_count": null,
   "metadata": {},
   "outputs": [],
   "source": [
    "# Multiplying the two matrices\n",
    "matrix_R = np.dot(matrix_P, matrix_Q)\n"
   ]
  },
  {
   "cell_type": "code",
   "execution_count": null,
   "metadata": {},
   "outputs": [],
   "source": [
    "import matplotlib.pyplot as plt\n",
    "import seaborn as sns\n",
    "\n",
    "# Plotting the matrices as heatmaps\n",
    "fig, ax = plt.subplots(1, 3, figsize=(18, 6))\n",
    "\n",
    "sns.heatmap(matrix_P, annot=True, cmap='viridis', cbar=False, ax=ax[0])\n",
    "ax[0].set_title('Matrix P')\n",
    "\n",
    "sns.heatmap(matrix_Q, annot=True, cmap='viridis', cbar=False, ax=ax[1])\n",
    "ax[1].set_title('Matrix Q')\n",
    "\n",
    "sns.heatmap(matrix_R, annot=True, cmap='viridis', cbar=False, ax=ax[2])\n",
    "ax[2].set_title('Matrix P x Matrix Q')\n",
    "\n",
    "plt.show()\n"
   ]
  },
  {
   "cell_type": "markdown",
   "metadata": {},
   "source": [
    "#### **Exercise 22** Understanding Matrix Division using Python"
   ]
  },
  {
   "cell_type": "code",
   "execution_count": null,
   "metadata": {},
   "outputs": [],
   "source": [
    "import numpy as np\n"
   ]
  },
  {
   "cell_type": "code",
   "execution_count": null,
   "metadata": {},
   "outputs": [],
   "source": [
    "# Generating a random matrix of size 3x3\n",
    "np.random.seed(0)\n",
    "matrix_S = np.random.randint(1, 10, size=(3, 3))\n"
   ]
  },
  {
   "cell_type": "code",
   "execution_count": null,
   "metadata": {},
   "outputs": [],
   "source": [
    "from numpy.linalg import inv\n",
    "\n",
    "# Finding the inverse of matrix_S\n",
    "matrix_S_inv = inv(matrix_S)\n"
   ]
  },
  {
   "cell_type": "code",
   "execution_count": null,
   "metadata": {},
   "outputs": [],
   "source": [
    "# Multiplying the matrix with its inverse\n",
    "identity_matrix = np.dot(matrix_S, matrix_S_inv)\n"
   ]
  },
  {
   "cell_type": "code",
   "execution_count": null,
   "metadata": {},
   "outputs": [],
   "source": [
    "import matplotlib.pyplot as plt\n",
    "import seaborn as sns\n",
    "\n",
    "# Plotting the matrices as heatmaps\n",
    "fig, ax = plt.subplots(1, 3, figsize=(18, 6))\n",
    "\n",
    "sns.heatmap(matrix_S, annot=True, cmap='viridis', cbar=False, ax=ax[0])\n",
    "ax[0].set_title('Matrix S')\n",
    "\n",
    "sns.heatmap(matrix_S_inv, annot=True, cmap='viridis', cbar=False, ax=ax[1])\n",
    "ax[1].set_title('Inverse of Matrix S')\n",
    "\n",
    "sns.heatmap(identity_matrix, annot=True, cmap='viridis', cbar=False, ax=ax[2])\n",
    "ax[2].set_title('Matrix S x Inverse of Matrix S')\n",
    "\n",
    "plt.show()\n"
   ]
  },
  {
   "cell_type": "markdown",
   "metadata": {},
   "source": [
    "#### **Exercise 23** Understanding Matrix-Matrix Multiplication using Python"
   ]
  },
  {
   "cell_type": "code",
   "execution_count": null,
   "metadata": {},
   "outputs": [],
   "source": [
    "import numpy as np\n"
   ]
  },
  {
   "cell_type": "code",
   "execution_count": null,
   "metadata": {},
   "outputs": [],
   "source": [
    "# Generating two random matrices of size 3x3\n",
    "np.random.seed(0)\n",
    "matrix_A = np.random.randint(1, 10, size=(3, 3))\n",
    "matrix_B = np.random.randint(1, 10, size=(3, 3))\n"
   ]
  },
  {
   "cell_type": "code",
   "execution_count": null,
   "metadata": {},
   "outputs": [],
   "source": [
    "# Multiplying the two matrices\n",
    "matrix_C = np.dot(matrix_A, matrix_B)\n"
   ]
  },
  {
   "cell_type": "code",
   "execution_count": null,
   "metadata": {},
   "outputs": [],
   "source": [
    "import matplotlib.pyplot as plt\n",
    "import seaborn as sns\n",
    "\n",
    "# Plotting the matrices as heatmaps\n",
    "fig, ax = plt.subplots(1, 3, figsize=(18, 6))\n",
    "\n",
    "sns.heatmap(matrix_A, annot=True, cmap='viridis', cbar=False, ax=ax[0])\n",
    "ax[0].set_title('Matrix A')\n",
    "\n",
    "sns.heatmap(matrix_B, annot=True, cmap='viridis', cbar=False, ax=ax[1])\n",
    "ax[1].set_title('Matrix B')\n",
    "\n",
    "sns.heatmap(matrix_C, annot=True, cmap='viridis', cbar=False, ax=ax[2])\n",
    "ax[2].set_title('Matrix A x Matrix B')\n",
    "\n",
    "plt.show()\n"
   ]
  },
  {
   "cell_type": "markdown",
   "metadata": {},
   "source": [
    "#### **Exercise 24** Understanding Matrix-Vector Multiplication using Python"
   ]
  },
  {
   "cell_type": "code",
   "execution_count": null,
   "metadata": {},
   "outputs": [],
   "source": [
    "import numpy as np\n"
   ]
  },
  {
   "cell_type": "code",
   "execution_count": null,
   "metadata": {},
   "outputs": [],
   "source": [
    "# Generating a random 3x3 matrix and a 3x1 vector\n",
    "np.random.seed(0)\n",
    "matrix_M = np.random.randint(1, 10, size=(3, 3))\n",
    "vector_v = np.random.randint(1, 10, size=(3, 1))\n"
   ]
  },
  {
   "cell_type": "code",
   "execution_count": null,
   "metadata": {},
   "outputs": [],
   "source": [
    "# Multiplying the matrix with the vector\n",
    "transformed_vector = np.dot(matrix_M, vector_v)\n"
   ]
  },
  {
   "cell_type": "code",
   "execution_count": null,
   "metadata": {},
   "outputs": [],
   "source": [
    "import matplotlib.pyplot as plt\n",
    "\n",
    "# Plotting the matrix, vector, and transformed vector\n",
    "fig, ax = plt.subplots(1, 3, figsize=(18, 6))\n",
    "\n",
    "sns.heatmap(matrix_M, annot=True, cmap='viridis', cbar=False, ax=ax[0])\n",
    "ax[0].set_title('Matrix M')\n",
    "\n",
    "ax[1].bar(['x', 'y', 'z'], vector_v.flatten())\n",
    "ax[1].set_title('Vector v')\n",
    "ax[1].set_ylim(0, 10)\n",
    "\n",
    "ax[2].bar(['x', 'y', 'z'], transformed_vector.flatten())\n",
    "ax[2].set_title('Transformed Vector')\n",
    "ax[2].set_ylim(0, 100)\n",
    "\n",
    "plt.tight_layout()\n",
    "plt.show()\n"
   ]
  },
  {
   "cell_type": "markdown",
   "metadata": {},
   "source": [
    "---"
   ]
  },
  {
   "cell_type": "markdown",
   "metadata": {},
   "source": [
    "#### Revised Date: October 28, 2023"
   ]
  },
  {
   "cell_type": "code",
   "execution_count": null,
   "metadata": {},
   "outputs": [],
   "source": []
  }
 ],
 "metadata": {
  "colab": {
   "provenance": [],
   "toc_visible": true
  },
  "kernelspec": {
   "display_name": "Python 3 (ipykernel)",
   "language": "python",
   "name": "python3"
  },
  "language_info": {
   "codemirror_mode": {
    "name": "ipython",
    "version": 3
   },
   "file_extension": ".py",
   "mimetype": "text/x-python",
   "name": "python",
   "nbconvert_exporter": "python",
   "pygments_lexer": "ipython3",
   "version": "3.7.7"
  }
 },
 "nbformat": 4,
 "nbformat_minor": 1
}
