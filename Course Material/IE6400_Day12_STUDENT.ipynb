{
 "cells": [
  {
   "cell_type": "markdown",
   "id": "9060b1d0",
   "metadata": {
    "id": "9060b1d0"
   },
   "source": [
    "# IE6400 Foundations for Data Analytics Engineering\n",
    "# Fall 2023\n",
    "### Module 2: Nonparametric Methods\n",
    "#### - STUDENT VERSION -"
   ]
  },
  {
   "cell_type": "markdown",
   "id": "a2233f2f",
   "metadata": {
    "id": "a2233f2f"
   },
   "source": [
    "#### Exercise 1 Ranking data"
   ]
  },
  {
   "cell_type": "code",
   "execution_count": 1,
   "id": "BGzuMHT9sieO",
   "metadata": {
    "id": "BGzuMHT9sieO"
   },
   "outputs": [],
   "source": [
    "import pandas as pd"
   ]
  },
  {
   "cell_type": "code",
   "execution_count": 2,
   "id": "MZ-YSYtXtobJ",
   "metadata": {
    "id": "MZ-YSYtXtobJ"
   },
   "outputs": [],
   "source": [
    "data = {'Name': ['Alice', 'Bob', 'Charlie', 'David'],\n",
    "        'Score': [85, 72, 92, 72]}"
   ]
  },
  {
   "cell_type": "code",
   "execution_count": 3,
   "id": "YZ5TqBsntr_P",
   "metadata": {
    "colab": {
     "base_uri": "https://localhost:8080/",
     "height": 175
    },
    "id": "YZ5TqBsntr_P",
    "outputId": "9248a0c6-e5b5-4509-8a82-293144158081"
   },
   "outputs": [
    {
     "data": {
      "text/html": [
       "<div>\n",
       "<style scoped>\n",
       "    .dataframe tbody tr th:only-of-type {\n",
       "        vertical-align: middle;\n",
       "    }\n",
       "\n",
       "    .dataframe tbody tr th {\n",
       "        vertical-align: top;\n",
       "    }\n",
       "\n",
       "    .dataframe thead th {\n",
       "        text-align: right;\n",
       "    }\n",
       "</style>\n",
       "<table border=\"1\" class=\"dataframe\">\n",
       "  <thead>\n",
       "    <tr style=\"text-align: right;\">\n",
       "      <th></th>\n",
       "      <th>Name</th>\n",
       "      <th>Score</th>\n",
       "    </tr>\n",
       "  </thead>\n",
       "  <tbody>\n",
       "    <tr>\n",
       "      <th>0</th>\n",
       "      <td>Alice</td>\n",
       "      <td>85</td>\n",
       "    </tr>\n",
       "    <tr>\n",
       "      <th>1</th>\n",
       "      <td>Bob</td>\n",
       "      <td>72</td>\n",
       "    </tr>\n",
       "    <tr>\n",
       "      <th>2</th>\n",
       "      <td>Charlie</td>\n",
       "      <td>92</td>\n",
       "    </tr>\n",
       "    <tr>\n",
       "      <th>3</th>\n",
       "      <td>David</td>\n",
       "      <td>72</td>\n",
       "    </tr>\n",
       "  </tbody>\n",
       "</table>\n",
       "</div>"
      ],
      "text/plain": [
       "      Name  Score\n",
       "0    Alice     85\n",
       "1      Bob     72\n",
       "2  Charlie     92\n",
       "3    David     72"
      ]
     },
     "execution_count": 3,
     "metadata": {},
     "output_type": "execute_result"
    }
   ],
   "source": [
    "df = pd.DataFrame(data)\n",
    "df"
   ]
  },
  {
   "cell_type": "code",
   "execution_count": 4,
   "id": "xtIbBjAitv2y",
   "metadata": {
    "colab": {
     "base_uri": "https://localhost:8080/"
    },
    "id": "xtIbBjAitv2y",
    "outputId": "68eec81f-1208-4153-bc83-fb6ae14b7bb3"
   },
   "outputs": [
    {
     "name": "stdout",
     "output_type": "stream",
     "text": [
      "      Name  Score  Rank\n",
      "0    Alice     85   2.0\n",
      "1      Bob     72   3.5\n",
      "2  Charlie     92   1.0\n",
      "3    David     72   3.5\n"
     ]
    }
   ],
   "source": [
    "df['Rank'] = df['Score'].rank(method='average', ascending=False)\n",
    "\n",
    "print(df)"
   ]
  },
  {
   "cell_type": "markdown",
   "id": "674f428d",
   "metadata": {
    "id": "674f428d"
   },
   "source": [
    "#### Exercise 2  Ranking Using the scipy.stats.rankdata() Function:"
   ]
  },
  {
   "cell_type": "code",
   "execution_count": 5,
   "id": "jrVQKQg3uUfJ",
   "metadata": {
    "id": "jrVQKQg3uUfJ"
   },
   "outputs": [],
   "source": [
    "import numpy as np\n",
    "from scipy.stats import rankdata"
   ]
  },
  {
   "cell_type": "code",
   "execution_count": 6,
   "id": "FO44tr91uZl4",
   "metadata": {
    "id": "FO44tr91uZl4"
   },
   "outputs": [],
   "source": [
    "scores = np.array([85, 72, 92, 72])\n",
    "ranks = rankdata(-scores, method='average')"
   ]
  },
  {
   "cell_type": "code",
   "execution_count": 7,
   "id": "8UqJMEJXucGz",
   "metadata": {
    "colab": {
     "base_uri": "https://localhost:8080/"
    },
    "id": "8UqJMEJXucGz",
    "outputId": "41492827-f1ea-4c7d-d00e-1787af931423"
   },
   "outputs": [
    {
     "name": "stdout",
     "output_type": "stream",
     "text": [
      "Data: [85 72 92 72]\n",
      "Ranks: [2.  3.5 1.  3.5]\n"
     ]
    }
   ],
   "source": [
    "print('Data:', scores)\n",
    "print('Ranks:', ranks)"
   ]
  },
  {
   "cell_type": "markdown",
   "id": "305db689",
   "metadata": {
    "id": "305db689"
   },
   "source": [
    "#### Exercise 3 Ranking Using the pandas.Series.rank() Method:"
   ]
  },
  {
   "cell_type": "code",
   "execution_count": 8,
   "id": "7KPu5DOGuufE",
   "metadata": {
    "id": "7KPu5DOGuufE"
   },
   "outputs": [],
   "source": [
    "import pandas as pd"
   ]
  },
  {
   "cell_type": "code",
   "execution_count": 9,
   "id": "DTyLowWbu208",
   "metadata": {
    "id": "DTyLowWbu208"
   },
   "outputs": [],
   "source": [
    "data = {'Name': ['Alice', 'Bob', 'Charlie', 'David'],\n",
    "        'Score': [85, 72, 92, 72]}"
   ]
  },
  {
   "cell_type": "code",
   "execution_count": 10,
   "id": "9MJs5zafu6Hz",
   "metadata": {
    "colab": {
     "base_uri": "https://localhost:8080/"
    },
    "id": "9MJs5zafu6Hz",
    "outputId": "2c0cb439-f450-41dc-aa0f-720dc25b79f3"
   },
   "outputs": [
    {
     "name": "stdout",
     "output_type": "stream",
     "text": [
      "      Name  Score  Rank\n",
      "0    Alice     85   2.0\n",
      "1      Bob     72   3.5\n",
      "2  Charlie     92   1.0\n",
      "3    David     72   3.5\n"
     ]
    }
   ],
   "source": [
    "df = pd.DataFrame(data)\n",
    "df['Rank'] = df['Score'].rank(ascending=False, method='average')\n",
    "\n",
    "print(df)"
   ]
  },
  {
   "cell_type": "markdown",
   "id": "205dd21b",
   "metadata": {
    "id": "205dd21b"
   },
   "source": [
    "#### Exercise 4 Ranking Using the argsort() Function:"
   ]
  },
  {
   "cell_type": "code",
   "execution_count": 11,
   "id": "DclvnkfvvAxp",
   "metadata": {
    "id": "DclvnkfvvAxp"
   },
   "outputs": [],
   "source": [
    "import numpy as np"
   ]
  },
  {
   "cell_type": "code",
   "execution_count": 12,
   "id": "WvkEmW_OvF36",
   "metadata": {
    "colab": {
     "base_uri": "https://localhost:8080/"
    },
    "id": "WvkEmW_OvF36",
    "outputId": "f5c3ad5c-6c12-4d87-ab86-78133b7387f8"
   },
   "outputs": [
    {
     "name": "stdout",
     "output_type": "stream",
     "text": [
      "Data: [85 72 92 72]\n",
      "Ranks: [3 1 2 4]\n"
     ]
    }
   ],
   "source": [
    "scores = np.array([85, 72, 92, 72])\n",
    "ranks = np.argsort(-scores) + 1\n",
    "\n",
    "print('Data:', scores)\n",
    "print('Ranks:', ranks)"
   ]
  },
  {
   "cell_type": "markdown",
   "id": "34a62cf9",
   "metadata": {
    "id": "34a62cf9"
   },
   "source": [
    "#### Exercise 5  "
   ]
  },
  {
   "cell_type": "code",
   "execution_count": 13,
   "id": "qU31OVU_VJIi",
   "metadata": {
    "id": "qU31OVU_VJIi"
   },
   "outputs": [],
   "source": [
    "from numpy.random import rand\n",
    "from numpy.random import seed\n",
    "from scipy.stats import rankdata"
   ]
  },
  {
   "cell_type": "code",
   "execution_count": 14,
   "id": "iYFP4p7kVNWz",
   "metadata": {
    "id": "iYFP4p7kVNWz"
   },
   "outputs": [],
   "source": [
    "# seed random number generator\n",
    "seed(1)"
   ]
  },
  {
   "cell_type": "code",
   "execution_count": 15,
   "id": "5GdwHDoqVOrg",
   "metadata": {
    "id": "5GdwHDoqVOrg"
   },
   "outputs": [],
   "source": [
    "# generate dataset\n",
    "data = rand(1000)"
   ]
  },
  {
   "cell_type": "code",
   "execution_count": 16,
   "id": "BlG6ZiaMVShG",
   "metadata": {
    "colab": {
     "base_uri": "https://localhost:8080/"
    },
    "id": "BlG6ZiaMVShG",
    "outputId": "380219e8-6718-4fa8-87db-173aaf2a72a0"
   },
   "outputs": [
    {
     "name": "stdout",
     "output_type": "stream",
     "text": [
      "[4.17022005e-01 7.20324493e-01 1.14374817e-04 3.02332573e-01\n",
      " 1.46755891e-01 9.23385948e-02 1.86260211e-01 3.45560727e-01\n",
      " 3.96767474e-01 5.38816734e-01]\n"
     ]
    }
   ],
   "source": [
    "# review first 10 samples\n",
    "print(data[:10])"
   ]
  },
  {
   "cell_type": "code",
   "execution_count": 17,
   "id": "-0OvPUiUVcwW",
   "metadata": {
    "colab": {
     "base_uri": "https://localhost:8080/"
    },
    "id": "-0OvPUiUVcwW",
    "outputId": "306edd41-b9ad-4b62-daab-2159aa376ac8"
   },
   "outputs": [
    {
     "name": "stdout",
     "output_type": "stream",
     "text": [
      "[408. 721.   1. 300. 151.  93. 186. 342. 385. 535.]\n"
     ]
    }
   ],
   "source": [
    "# rank data\n",
    "ranked = rankdata(data)\n",
    "# review first 10 ranked samples\n",
    "print(ranked[:10])"
   ]
  },
  {
   "cell_type": "markdown",
   "id": "2a936434",
   "metadata": {
    "id": "2a936434"
   },
   "source": [
    "#### Exercise 6 Kendall Tau Coefficient"
   ]
  },
  {
   "cell_type": "code",
   "execution_count": 18,
   "id": "fb011c56",
   "metadata": {},
   "outputs": [],
   "source": [
    "import numpy as np\n",
    "from scipy.stats import kendalltau\n",
    "import matplotlib.pyplot as plt"
   ]
  },
  {
   "cell_type": "code",
   "execution_count": 19,
   "id": "c98a70e9",
   "metadata": {},
   "outputs": [],
   "source": [
    "# Sample data\n",
    "rankings_A = np.array([1, 2, 3, 4, 5])\n",
    "rankings_B = np.array([3, 2, 4, 1, 5])"
   ]
  },
  {
   "cell_type": "code",
   "execution_count": 20,
   "id": "3cd8ca3f",
   "metadata": {},
   "outputs": [
    {
     "name": "stdout",
     "output_type": "stream",
     "text": [
      "Kendall Tau Coefficient: 0.20\n",
      "p-value: 0.82\n"
     ]
    }
   ],
   "source": [
    "tau, p_value = kendalltau(rankings_A, rankings_B)\n",
    "print(f'Kendall Tau Coefficient: {tau:.2f}')\n",
    "print(f'p-value: {p_value:.2f}')"
   ]
  },
  {
   "cell_type": "code",
   "execution_count": 21,
   "id": "LGqDpjNToWtG",
   "metadata": {
    "colab": {
     "base_uri": "https://localhost:8080/"
    },
    "id": "LGqDpjNToWtG",
    "outputId": "08a6185e-f9a6-4793-dcdf-2fa67bd58d98"
   },
   "outputs": [
    {
     "name": "stdout",
     "output_type": "stream",
     "text": [
      "There is no statistically significant correlation.\n"
     ]
    }
   ],
   "source": [
    "# Interpret the correlation\n",
    "alpha = 0.05\n",
    "if p_value < alpha:\n",
    "    print(\"There is a statistically significant correlation.\")\n",
    "else:\n",
    "    print(\"There is no statistically significant correlation.\")"
   ]
  },
  {
   "cell_type": "markdown",
   "id": "52d968a5",
   "metadata": {
    "id": "52d968a5"
   },
   "source": [
    "#### Exercise 7 Case Study - Analyzing Exam Scores and Study Hours"
   ]
  },
  {
   "cell_type": "code",
   "execution_count": 22,
   "id": "OH_n4R9kWcDa",
   "metadata": {
    "id": "OH_n4R9kWcDa"
   },
   "outputs": [],
   "source": [
    "import pandas as pd"
   ]
  },
  {
   "cell_type": "code",
   "execution_count": 23,
   "id": "SbWvPvBlWlyP",
   "metadata": {
    "id": "SbWvPvBlWlyP"
   },
   "outputs": [],
   "source": [
    "df = pd.read_csv('example.csv')"
   ]
  },
  {
   "cell_type": "code",
   "execution_count": 24,
   "id": "hxBHMyi7Wr1q",
   "metadata": {
    "colab": {
     "base_uri": "https://localhost:8080/",
     "height": 676
    },
    "id": "hxBHMyi7Wr1q",
    "outputId": "849e3ad5-63c5-4f23-e88a-d27043baa952"
   },
   "outputs": [
    {
     "data": {
      "text/html": [
       "<div>\n",
       "<style scoped>\n",
       "    .dataframe tbody tr th:only-of-type {\n",
       "        vertical-align: middle;\n",
       "    }\n",
       "\n",
       "    .dataframe tbody tr th {\n",
       "        vertical-align: top;\n",
       "    }\n",
       "\n",
       "    .dataframe thead th {\n",
       "        text-align: right;\n",
       "    }\n",
       "</style>\n",
       "<table border=\"1\" class=\"dataframe\">\n",
       "  <thead>\n",
       "    <tr style=\"text-align: right;\">\n",
       "      <th></th>\n",
       "      <th>Hours_Study</th>\n",
       "      <th>Exam_Score</th>\n",
       "    </tr>\n",
       "  </thead>\n",
       "  <tbody>\n",
       "    <tr>\n",
       "      <th>0</th>\n",
       "      <td>10</td>\n",
       "      <td>85</td>\n",
       "    </tr>\n",
       "    <tr>\n",
       "      <th>1</th>\n",
       "      <td>5</td>\n",
       "      <td>60</td>\n",
       "    </tr>\n",
       "    <tr>\n",
       "      <th>2</th>\n",
       "      <td>8</td>\n",
       "      <td>75</td>\n",
       "    </tr>\n",
       "    <tr>\n",
       "      <th>3</th>\n",
       "      <td>3</td>\n",
       "      <td>50</td>\n",
       "    </tr>\n",
       "    <tr>\n",
       "      <th>4</th>\n",
       "      <td>12</td>\n",
       "      <td>92</td>\n",
       "    </tr>\n",
       "    <tr>\n",
       "      <th>5</th>\n",
       "      <td>15</td>\n",
       "      <td>98</td>\n",
       "    </tr>\n",
       "    <tr>\n",
       "      <th>6</th>\n",
       "      <td>9</td>\n",
       "      <td>80</td>\n",
       "    </tr>\n",
       "    <tr>\n",
       "      <th>7</th>\n",
       "      <td>7</td>\n",
       "      <td>70</td>\n",
       "    </tr>\n",
       "    <tr>\n",
       "      <th>8</th>\n",
       "      <td>2</td>\n",
       "      <td>45</td>\n",
       "    </tr>\n",
       "    <tr>\n",
       "      <th>9</th>\n",
       "      <td>11</td>\n",
       "      <td>88</td>\n",
       "    </tr>\n",
       "    <tr>\n",
       "      <th>10</th>\n",
       "      <td>6</td>\n",
       "      <td>62</td>\n",
       "    </tr>\n",
       "    <tr>\n",
       "      <th>11</th>\n",
       "      <td>4</td>\n",
       "      <td>55</td>\n",
       "    </tr>\n",
       "    <tr>\n",
       "      <th>12</th>\n",
       "      <td>14</td>\n",
       "      <td>96</td>\n",
       "    </tr>\n",
       "    <tr>\n",
       "      <th>13</th>\n",
       "      <td>16</td>\n",
       "      <td>99</td>\n",
       "    </tr>\n",
       "    <tr>\n",
       "      <th>14</th>\n",
       "      <td>13</td>\n",
       "      <td>90</td>\n",
       "    </tr>\n",
       "    <tr>\n",
       "      <th>15</th>\n",
       "      <td>18</td>\n",
       "      <td>100</td>\n",
       "    </tr>\n",
       "    <tr>\n",
       "      <th>16</th>\n",
       "      <td>1</td>\n",
       "      <td>40</td>\n",
       "    </tr>\n",
       "    <tr>\n",
       "      <th>17</th>\n",
       "      <td>17</td>\n",
       "      <td>98</td>\n",
       "    </tr>\n",
       "    <tr>\n",
       "      <th>18</th>\n",
       "      <td>20</td>\n",
       "      <td>105</td>\n",
       "    </tr>\n",
       "    <tr>\n",
       "      <th>19</th>\n",
       "      <td>19</td>\n",
       "      <td>110</td>\n",
       "    </tr>\n",
       "  </tbody>\n",
       "</table>\n",
       "</div>"
      ],
      "text/plain": [
       "    Hours_Study  Exam_Score\n",
       "0            10          85\n",
       "1             5          60\n",
       "2             8          75\n",
       "3             3          50\n",
       "4            12          92\n",
       "5            15          98\n",
       "6             9          80\n",
       "7             7          70\n",
       "8             2          45\n",
       "9            11          88\n",
       "10            6          62\n",
       "11            4          55\n",
       "12           14          96\n",
       "13           16          99\n",
       "14           13          90\n",
       "15           18         100\n",
       "16            1          40\n",
       "17           17          98\n",
       "18           20         105\n",
       "19           19         110"
      ]
     },
     "execution_count": 24,
     "metadata": {},
     "output_type": "execute_result"
    }
   ],
   "source": [
    "df"
   ]
  },
  {
   "cell_type": "code",
   "execution_count": 25,
   "id": "T1oJKom5W0Cd",
   "metadata": {
    "id": "T1oJKom5W0Cd"
   },
   "outputs": [],
   "source": [
    "from scipy import stats"
   ]
  },
  {
   "cell_type": "code",
   "execution_count": 26,
   "id": "lTUjMqCzW1Eu",
   "metadata": {
    "id": "lTUjMqCzW1Eu"
   },
   "outputs": [],
   "source": [
    "# Calculate Kendall's Tau and p-value\n",
    "tau, p_value = stats.kendalltau(df['Hours_Study'], df['Exam_Score'])\n",
    "\n",
    "# Set significance level\n",
    "alpha = 0.05"
   ]
  },
  {
   "cell_type": "code",
   "execution_count": 27,
   "id": "IJuC97JDW5Pa",
   "metadata": {
    "id": "IJuC97JDW5Pa"
   },
   "outputs": [],
   "source": [
    "# Compare p-value to alpha\n",
    "if p_value < alpha:\n",
    "    result = \"Reject the null hypothesis. There is a significant correlation.\"\n",
    "else:\n",
    "    result = \"Fail to reject the null hypothesis. There is no significant correlation.\""
   ]
  },
  {
   "cell_type": "code",
   "execution_count": 28,
   "id": "PxkmVhq4W7r4",
   "metadata": {
    "colab": {
     "base_uri": "https://localhost:8080/"
    },
    "id": "PxkmVhq4W7r4",
    "outputId": "94051fc2-930c-4216-c61d-914a94437168"
   },
   "outputs": [
    {
     "name": "stdout",
     "output_type": "stream",
     "text": [
      "Kendall's Tau (τ) = 0.97\n",
      "P-value = 0.0000\n",
      "Reject the null hypothesis. There is a significant correlation.\n"
     ]
    }
   ],
   "source": [
    "print(f\"Kendall's Tau (τ) = {tau:.2f}\")\n",
    "print(f\"P-value = {p_value:.4f}\")\n",
    "print(result)"
   ]
  },
  {
   "cell_type": "markdown",
   "id": "b2cd29ed",
   "metadata": {
    "id": "b2cd29ed"
   },
   "source": [
    "#### Exercise 8 Wilcoxon test"
   ]
  },
  {
   "cell_type": "code",
   "execution_count": 29,
   "id": "a6f7f0d6",
   "metadata": {},
   "outputs": [],
   "source": [
    "import numpy as np\n",
    "from scipy.stats import wilcoxon\n",
    "import matplotlib.pyplot as plt"
   ]
  },
  {
   "cell_type": "code",
   "execution_count": 30,
   "id": "7c2349f0",
   "metadata": {},
   "outputs": [],
   "source": [
    "# Sample paired data\n",
    "before_treatment = np.array([20, 22, 24, 19, 18, 21, 25, 23, 22, 20])\n",
    "after_treatment = np.array([19, 24, 22, 20, 19, 20, 26, 22, 21, 19])"
   ]
  },
  {
   "cell_type": "code",
   "execution_count": 31,
   "id": "694c66c6",
   "metadata": {},
   "outputs": [
    {
     "name": "stdout",
     "output_type": "stream",
     "text": [
      "Wilcoxon Test Statistic: 23.0\n",
      "p-value: 0.6953\n"
     ]
    }
   ],
   "source": [
    "w, p_value = wilcoxon(before_treatment, after_treatment)\n",
    "print(f'Wilcoxon Test Statistic: {w}')\n",
    "print(f'p-value: {p_value:.4f}')"
   ]
  },
  {
   "cell_type": "code",
   "execution_count": 32,
   "id": "c226ab29",
   "metadata": {},
   "outputs": [
    {
     "name": "stdout",
     "output_type": "stream",
     "text": [
      "Fail to reject the null hypothesis: There is no significant difference between the two groups.\n"
     ]
    }
   ],
   "source": [
    "# Interpret the results\n",
    "alpha = 0.05  # significance level\n",
    "if p_value < alpha:\n",
    "    print(\"Reject the null hypothesis: There is a significant difference between the two groups.\")\n",
    "else:\n",
    "    print(\"Fail to reject the null hypothesis: There is no significant difference between the two groups.\")"
   ]
  },
  {
   "cell_type": "markdown",
   "id": "3d1329a1",
   "metadata": {
    "id": "3d1329a1"
   },
   "source": [
    "#### Exercise 9 Kruskal-Wallis H Test"
   ]
  },
  {
   "cell_type": "code",
   "execution_count": 33,
   "id": "epmGtPAaZDG4",
   "metadata": {
    "id": "epmGtPAaZDG4"
   },
   "outputs": [],
   "source": [
    "import numpy as np\n",
    "from scipy.stats import kruskal"
   ]
  },
  {
   "cell_type": "code",
   "execution_count": 34,
   "id": "6OzD1DpDZJMQ",
   "metadata": {
    "id": "6OzD1DpDZJMQ"
   },
   "outputs": [],
   "source": [
    "group1 = [22, 25, 28, 30, 32]\n",
    "group2 = [18, 21, 23, 26, 29]\n",
    "group3 = [15, 16, 19, 20, 24]"
   ]
  },
  {
   "cell_type": "code",
   "execution_count": 35,
   "id": "HBQe-6aqZPXR",
   "metadata": {
    "id": "HBQe-6aqZPXR"
   },
   "outputs": [],
   "source": [
    "statistic, p_value = kruskal(group1, group2, group3)"
   ]
  },
  {
   "cell_type": "code",
   "execution_count": 36,
   "id": "KMpoXkA4ZVba",
   "metadata": {
    "colab": {
     "base_uri": "https://localhost:8080/"
    },
    "id": "KMpoXkA4ZVba",
    "outputId": "847207f0-8794-4020-f892-98f8f7eb04ec"
   },
   "outputs": [
    {
     "name": "stdout",
     "output_type": "stream",
     "text": [
      "Kruskal-Wallis H Test:\n",
      "Kruskal-Wallis H Statistic: 6.86\n",
      "P-value: 0.0324\n"
     ]
    }
   ],
   "source": [
    "print(\"Kruskal-Wallis H Test:\")\n",
    "print(f\"Kruskal-Wallis H Statistic: {statistic:.2f}\")\n",
    "print(f\"P-value: {p_value:.4f}\")"
   ]
  },
  {
   "cell_type": "code",
   "execution_count": 37,
   "id": "uxptRY-wZZ9V",
   "metadata": {
    "colab": {
     "base_uri": "https://localhost:8080/"
    },
    "id": "uxptRY-wZZ9V",
    "outputId": "887a6fd6-78d2-4d38-8520-06fa8f52ef55"
   },
   "outputs": [
    {
     "name": "stdout",
     "output_type": "stream",
     "text": [
      "There is a significant difference among the groups.\n"
     ]
    }
   ],
   "source": [
    "if p_value < 0.05:\n",
    "    print(\"There is a significant difference among the groups.\")\n",
    "else:\n",
    "    print(\"There is no significant difference among the groups.\")"
   ]
  },
  {
   "cell_type": "markdown",
   "id": "d746347a",
   "metadata": {
    "id": "d746347a"
   },
   "source": [
    "#### Exercise 10 Friedman Test"
   ]
  },
  {
   "cell_type": "code",
   "execution_count": null,
   "id": "Q6msBnCAZhI5",
   "metadata": {
    "id": "Q6msBnCAZhI5"
   },
   "outputs": [],
   "source": [
    "import numpy as np\n",
    "from scipy.stats import friedmanchisquare"
   ]
  },
  {
   "cell_type": "code",
   "execution_count": null,
   "id": "pJKrE8A6bL_G",
   "metadata": {
    "id": "pJKrE8A6bL_G"
   },
   "outputs": [],
   "source": [
    "group1 = [10, 12, 15, 8, 11]\n",
    "group2 = [8, 10, 13, 6, 12]\n",
    "group3 = [9, 11, 14, 7, 10]"
   ]
  },
  {
   "cell_type": "code",
   "execution_count": null,
   "id": "KS9BYuUpbUHr",
   "metadata": {
    "id": "KS9BYuUpbUHr"
   },
   "outputs": [],
   "source": [
    "statistic, p_value = friedmanchisquare(group1, group2, group3)"
   ]
  },
  {
   "cell_type": "code",
   "execution_count": null,
   "id": "mJMoPFIYbYI6",
   "metadata": {
    "colab": {
     "base_uri": "https://localhost:8080/"
    },
    "id": "mJMoPFIYbYI6",
    "outputId": "f56e9f5b-1584-4c07-8a2c-b784a55df603"
   },
   "outputs": [],
   "source": [
    "print(\"Friedman Test:\")\n",
    "print(f\"Friedman Test Statistic: {statistic:.2f}\")\n",
    "print(f\"P-value: {p_value:.4f}\")"
   ]
  },
  {
   "cell_type": "code",
   "execution_count": null,
   "id": "PEj7DSbybZIg",
   "metadata": {
    "colab": {
     "base_uri": "https://localhost:8080/"
    },
    "id": "PEj7DSbybZIg",
    "outputId": "368f9f98-7ab0-4b9e-bab4-57f2e854c86b"
   },
   "outputs": [],
   "source": [
    "if p_value < 0.05:\n",
    "    print(\"There is a significant difference among the groups.\")\n",
    "else:\n",
    "    print(\"There is no significant difference among the groups.\")"
   ]
  },
  {
   "cell_type": "markdown",
   "id": "114241d0",
   "metadata": {
    "id": "114241d0"
   },
   "source": [
    "#### Exercise 11 Mann-Whitney U Test"
   ]
  },
  {
   "cell_type": "code",
   "execution_count": null,
   "id": "HUBLMkIcc_if",
   "metadata": {
    "id": "HUBLMkIcc_if"
   },
   "outputs": [],
   "source": [
    "import numpy as np\n",
    "from scipy.stats import mannwhitneyu"
   ]
  },
  {
   "cell_type": "code",
   "execution_count": null,
   "id": "nMRUjskldCcF",
   "metadata": {
    "id": "nMRUjskldCcF"
   },
   "outputs": [],
   "source": [
    "group1 = [20, 24, 22, 26, 21]\n",
    "group2 = [30, 32, 31, 34, 35]"
   ]
  },
  {
   "cell_type": "code",
   "execution_count": null,
   "id": "UKZxrAgddHZk",
   "metadata": {
    "id": "UKZxrAgddHZk"
   },
   "outputs": [],
   "source": [
    "statistic, p_value = mannwhitneyu(group1, group2)"
   ]
  },
  {
   "cell_type": "code",
   "execution_count": null,
   "id": "f2S_LMQydJ7A",
   "metadata": {
    "colab": {
     "base_uri": "https://localhost:8080/"
    },
    "id": "f2S_LMQydJ7A",
    "outputId": "0e1011cf-4a9f-4916-cd0a-96d75d05c5a1"
   },
   "outputs": [],
   "source": [
    "print(\"Mann-Whitney U Test:\")\n",
    "print(f\"Mann-Whitney U Statistic: {statistic:.2f}\")\n",
    "print(f\"P-value: {p_value:.4f}\")"
   ]
  },
  {
   "cell_type": "code",
   "execution_count": null,
   "id": "B3hMnXw9dNf0",
   "metadata": {
    "colab": {
     "base_uri": "https://localhost:8080/"
    },
    "id": "B3hMnXw9dNf0",
    "outputId": "20e09d64-e135-4b07-df8c-313253788ced"
   },
   "outputs": [],
   "source": [
    "if p_value < 0.05:\n",
    "    print(\"There is a significant difference between the two groups.\")\n",
    "else:\n",
    "    print(\"There is no significant difference between the two groups.\")"
   ]
  },
  {
   "cell_type": "markdown",
   "id": "ad6916c3",
   "metadata": {
    "id": "ad6916c3"
   },
   "source": [
    "#### Exercise 12 Pearson’s Chi-Squared Test"
   ]
  },
  {
   "cell_type": "code",
   "execution_count": null,
   "id": "c31943f3",
   "metadata": {},
   "outputs": [],
   "source": [
    "import numpy as np\n",
    "import pandas as pd\n",
    "from scipy.stats import chi2_contingency\n",
    "import matplotlib.pyplot as plt\n",
    "import seaborn as sns"
   ]
  },
  {
   "cell_type": "code",
   "execution_count": null,
   "id": "7c87e7ea",
   "metadata": {},
   "outputs": [],
   "source": [
    "# Sample data\n",
    "data = {'Gender': ['Male', 'Male', 'Female', 'Female'],\n",
    "        'Preference': ['Like', 'Dislike', 'Like', 'Dislike'],\n",
    "        'Count': [50, 10, 20, 40]}\n",
    "df = pd.DataFrame(data)\n",
    "df"
   ]
  },
  {
   "cell_type": "code",
   "execution_count": null,
   "id": "a7f3b8b9",
   "metadata": {},
   "outputs": [],
   "source": [
    "# Create a contingency table\n",
    "contingency_table = df.pivot(index='Gender', columns='Preference', values='Count').fillna(0)\n",
    "\n",
    "# Perform the test\n",
    "chi2, p_value, _, expected = chi2_contingency(contingency_table)\n",
    "\n",
    "print(f'Chi-Squared Value: {chi2:.2f}')\n",
    "print(f'p-value: {p_value:.4f}')\n",
    "print('Expected Frequencies:')\n",
    "print(expected)"
   ]
  },
  {
   "cell_type": "code",
   "execution_count": null,
   "id": "330b97f5",
   "metadata": {},
   "outputs": [],
   "source": [
    "# Interpretation of the Chi-Squared Test results\n",
    "\n",
    "alpha = 0.05  # significance level\n",
    "\n",
    "print(f'Chi-Squared Value: {chi2:.2f}')\n",
    "print(f'p-value: {p_value:.4f}')\n",
    "\n",
    "if p_value <= alpha:\n",
    "    print(\"The results are statistically significant. There is an association between the categorical variables.\")\n",
    "else:\n",
    "    print(\"The results are not statistically significant. There is no evidence of an association between the categorical variables.\")\n",
    "\n",
    "# Visualization of Expected vs. Observed Frequencies\n",
    "fig, ax = plt.subplots(1, 2, figsize=(12, 5))\n",
    "\n",
    "# Observed Frequencies\n",
    "sns.heatmap(contingency_table, annot=True, cmap='coolwarm', fmt='g', ax=ax[0])\n",
    "ax[0].set_title('Observed Frequencies')\n",
    "\n",
    "# Expected Frequencies\n",
    "sns.heatmap(expected, annot=True, cmap='coolwarm', fmt='.1f', ax=ax[1])\n",
    "ax[1].set_title('Expected Frequencies')\n",
    "\n",
    "plt.tight_layout()\n",
    "plt.show()\n"
   ]
  },
  {
   "cell_type": "markdown",
   "id": "80e09b37",
   "metadata": {
    "id": "80e09b37"
   },
   "source": [
    "#### Exercise 13 Spearman’s Rank Correlation"
   ]
  },
  {
   "cell_type": "code",
   "execution_count": null,
   "id": "4dshwq59g9nM",
   "metadata": {
    "id": "4dshwq59g9nM"
   },
   "outputs": [],
   "source": [
    "# Import necessary libraries\n",
    "from numpy.random import rand\n",
    "from numpy.random import seed\n",
    "from scipy.stats import spearmanr"
   ]
  },
  {
   "cell_type": "code",
   "execution_count": null,
   "id": "G4wXnCFVhI-p",
   "metadata": {
    "id": "G4wXnCFVhI-p"
   },
   "outputs": [],
   "source": [
    "# Seed the random number generator\n",
    "seed(1)"
   ]
  },
  {
   "cell_type": "code",
   "execution_count": null,
   "id": "17hmQPqUhMG4",
   "metadata": {
    "id": "17hmQPqUhMG4"
   },
   "outputs": [],
   "source": [
    "# Prepare data\n",
    "data1 = rand(1000) * 20\n",
    "data2 = data1 + (rand(1000) * 10)"
   ]
  },
  {
   "cell_type": "code",
   "execution_count": null,
   "id": "WAGUMYlGhM3D",
   "metadata": {
    "id": "WAGUMYlGhM3D"
   },
   "outputs": [],
   "source": [
    "# Calculate Spearman's correlation coefficient and p-value\n",
    "coef, p = spearmanr(data1, data2)"
   ]
  },
  {
   "cell_type": "code",
   "execution_count": null,
   "id": "0oA5JBJhhVkC",
   "metadata": {
    "colab": {
     "base_uri": "https://localhost:8080/"
    },
    "id": "0oA5JBJhhVkC",
    "outputId": "f7360745-fcbe-4e28-c2f7-b0c45f96f18b"
   },
   "outputs": [],
   "source": [
    "# Print Spearman's correlation coefficient\n",
    "print('Spearmans correlation coefficient: %.3f' % coef)"
   ]
  },
  {
   "cell_type": "code",
   "execution_count": null,
   "id": "3EU8YCFBn-t1",
   "metadata": {
    "colab": {
     "base_uri": "https://localhost:8080/"
    },
    "id": "3EU8YCFBn-t1",
    "outputId": "ffa532ae-67e6-4c22-8902-a1f5ff9cc359"
   },
   "outputs": [],
   "source": [
    "# Interpret the significance\n",
    "alpha = 0.05\n",
    "if p > alpha:\n",
    "    print('Samples are uncorrelated (fail to reject H0) p=%.3f' % p)\n",
    "else:\n",
    "    print('Samples are correlated (reject H0) p=%.3f' % p)"
   ]
  },
  {
   "cell_type": "markdown",
   "id": "5ba40a2b",
   "metadata": {
    "id": "5ba40a2b"
   },
   "source": [
    "#### Exercise 14 Bootstrap Resampling"
   ]
  },
  {
   "cell_type": "code",
   "execution_count": null,
   "id": "15263420",
   "metadata": {},
   "outputs": [],
   "source": [
    "import numpy as np\n",
    "import matplotlib.pyplot as plt"
   ]
  },
  {
   "cell_type": "code",
   "execution_count": null,
   "id": "ce9f56bc",
   "metadata": {},
   "outputs": [],
   "source": [
    "data = np.array([23, 45, 56, 78, 89, 12, 67, 49, 55, 77, 88, 90, 34, 56, 71])"
   ]
  },
  {
   "cell_type": "code",
   "execution_count": null,
   "id": "a06bc9e0",
   "metadata": {},
   "outputs": [],
   "source": [
    "n_iterations = 10000\n",
    "bootstrap_means = []\n",
    "\n",
    "for _ in range(n_iterations):\n",
    "    bootstrap_sample = np.random.choice(data, size=len(data), replace=True)\n",
    "    bootstrap_means.append(np.mean(bootstrap_sample))\n"
   ]
  },
  {
   "cell_type": "code",
   "execution_count": null,
   "id": "28238d23",
   "metadata": {},
   "outputs": [],
   "source": [
    "confidence_level = 0.95\n",
    "lower_percentile = (1 - confidence_level) / 2 * 100\n",
    "upper_percentile = (1 + confidence_level) / 2 * 100\n",
    "\n",
    "confidence_interval = (np.percentile(bootstrap_means, lower_percentile),\n",
    "                       np.percentile(bootstrap_means, upper_percentile))\n",
    "\n",
    "print(f'95% Confidence Interval for the Mean: {confidence_interval}')\n"
   ]
  },
  {
   "cell_type": "code",
   "execution_count": null,
   "id": "5e0abcf0",
   "metadata": {},
   "outputs": [],
   "source": [
    "plt.hist(bootstrap_means, bins=50, color='skyblue', edgecolor='black')\n",
    "plt.axvline(confidence_interval[0], color='red', linestyle='dashed')\n",
    "plt.axvline(confidence_interval[1], color='red', linestyle='dashed')\n",
    "plt.title('Bootstrap Distribution of the Mean')\n",
    "plt.xlabel('Mean')\n",
    "plt.ylabel('Frequency')\n",
    "plt.show()\n"
   ]
  },
  {
   "cell_type": "markdown",
   "id": "QXMBYoOfvAdq",
   "metadata": {
    "id": "QXMBYoOfvAdq"
   },
   "source": [
    "#### Exercise 15 Normality Assumption"
   ]
  },
  {
   "cell_type": "code",
   "execution_count": null,
   "id": "93e0aa53",
   "metadata": {},
   "outputs": [],
   "source": [
    "import numpy as np\n",
    "import matplotlib.pyplot as plt\n",
    "from scipy.stats import shapiro, probplot"
   ]
  },
  {
   "cell_type": "code",
   "execution_count": null,
   "id": "a70e6445",
   "metadata": {},
   "outputs": [],
   "source": [
    "data = np.random.randn(100)"
   ]
  },
  {
   "cell_type": "code",
   "execution_count": null,
   "id": "7f7b4fd5",
   "metadata": {},
   "outputs": [],
   "source": [
    "plt.hist(data, bins=30, color='skyblue', edgecolor='black')\n",
    "plt.title('Histogram of the Data')\n",
    "plt.xlabel('Value')\n",
    "plt.ylabel('Frequency')\n",
    "plt.show()"
   ]
  },
  {
   "cell_type": "code",
   "execution_count": null,
   "id": "a24e10f0",
   "metadata": {},
   "outputs": [],
   "source": [
    "probplot(data, plot=plt)\n",
    "plt.title('Q-Q Plot')\n",
    "plt.show()\n"
   ]
  },
  {
   "cell_type": "code",
   "execution_count": null,
   "id": "b78e2a8e",
   "metadata": {},
   "outputs": [],
   "source": [
    "stat, p = shapiro(data)\n",
    "print(f'Statistic: {stat}, p-value: {p}')\n"
   ]
  },
  {
   "cell_type": "markdown",
   "id": "V7Jq48mKxXVr",
   "metadata": {
    "id": "V7Jq48mKxXVr"
   },
   "source": [
    "#### Excercise 16 Make Data Gaussian and Gaussian-Like"
   ]
  },
  {
   "cell_type": "code",
   "execution_count": null,
   "id": "0a68c2f5",
   "metadata": {},
   "outputs": [],
   "source": [
    "import numpy as np\n",
    "import matplotlib.pyplot as plt\n",
    "from scipy.stats import boxcox, yeojohnson, shapiro, probplot\n",
    "from sklearn.preprocessing import QuantileTransformer"
   ]
  },
  {
   "cell_type": "code",
   "execution_count": null,
   "id": "405c5fbe",
   "metadata": {},
   "outputs": [],
   "source": [
    "data = np.random.exponential(scale=2, size=1000)\n",
    "plt.hist(data, bins=30, color='skyblue', edgecolor='black')\n",
    "plt.title('Original Skewed Data')\n",
    "plt.xlabel('Value')\n",
    "plt.ylabel('Frequency')\n",
    "plt.show()\n"
   ]
  },
  {
   "cell_type": "code",
   "execution_count": null,
   "id": "78e5080f",
   "metadata": {},
   "outputs": [],
   "source": [
    "data_log = np.log(data)\n",
    "plt.hist(data_log, bins=30, color='lightgreen', edgecolor='black')\n",
    "plt.title('Log Transformed Data')\n",
    "plt.xlabel('Value')\n",
    "plt.ylabel('Frequency')\n",
    "plt.show()\n"
   ]
  },
  {
   "cell_type": "code",
   "execution_count": null,
   "id": "b1e09943",
   "metadata": {},
   "outputs": [],
   "source": [
    "data_boxcox, _ = boxcox(data)\n",
    "plt.hist(data_boxcox, bins=30, color='lightcoral', edgecolor='black')\n",
    "plt.title('Box-Cox Transformed Data')\n",
    "plt.xlabel('Value')\n",
    "plt.ylabel('Frequency')\n",
    "plt.show()\n"
   ]
  },
  {
   "cell_type": "code",
   "execution_count": null,
   "id": "977d0550",
   "metadata": {},
   "outputs": [],
   "source": [
    "data_yj, _ = yeojohnson(data)\n",
    "plt.hist(data_yj, bins=30, color='lightpink', edgecolor='black')\n",
    "plt.title('Yeo-Johnson Transformed Data')\n",
    "plt.xlabel('Value')\n",
    "plt.ylabel('Frequency')\n",
    "plt.show()\n"
   ]
  },
  {
   "cell_type": "code",
   "execution_count": null,
   "id": "c1697763",
   "metadata": {},
   "outputs": [],
   "source": [
    "transformer = QuantileTransformer(output_distribution='normal')\n",
    "data_quantile = transformer.fit_transform(data.reshape(-1, 1)).flatten()\n",
    "plt.hist(data_quantile, bins=30, color='lightsalmon', edgecolor='black')\n",
    "plt.title('Quantile Transformed Data')\n",
    "plt.xlabel('Value')\n",
    "plt.ylabel('Frequency')\n",
    "plt.show()\n"
   ]
  },
  {
   "cell_type": "markdown",
   "id": "66d2541d",
   "metadata": {},
   "source": [
    "#### Excercise 17 Normality Assumption Exercise using the Iris Dataset"
   ]
  },
  {
   "cell_type": "code",
   "execution_count": null,
   "id": "76b6c308",
   "metadata": {},
   "outputs": [],
   "source": [
    "import pandas as pd\n",
    "import seaborn as sns\n",
    "import matplotlib.pyplot as plt\n",
    "from scipy.stats import shapiro\n"
   ]
  },
  {
   "cell_type": "code",
   "execution_count": null,
   "id": "38b4645c",
   "metadata": {},
   "outputs": [],
   "source": [
    "iris = sns.load_dataset('iris')\n",
    "iris.head()\n"
   ]
  },
  {
   "cell_type": "code",
   "execution_count": null,
   "id": "63f11313",
   "metadata": {},
   "outputs": [],
   "source": [
    "iris.hist(figsize=(12, 10), bins=30, color='skyblue', edgecolor='black')\n",
    "plt.suptitle('Histograms of Iris Dataset Features')\n",
    "plt.show()\n"
   ]
  },
  {
   "cell_type": "code",
   "execution_count": null,
   "id": "921c4497",
   "metadata": {},
   "outputs": [],
   "source": [
    "features = iris.columns[:-1]  # Exclude the 'species' column\n",
    "for feature in features:\n",
    "    stat, p = shapiro(iris[feature])\n",
    "    print(f'{feature} - Statistic: {stat:.4f}, p-value: {p:.4f}')\n"
   ]
  },
  {
   "cell_type": "code",
   "execution_count": null,
   "id": "1888b8f8",
   "metadata": {},
   "outputs": [],
   "source": [
    "from scipy.stats import probplot\n",
    "\n",
    "for feature in features:\n",
    "    plt.figure(figsize=(8, 6))\n",
    "    probplot(iris[feature], plot=plt)\n",
    "    plt.title(f'Q-Q Plot for {feature}')\n",
    "    plt.show()\n"
   ]
  },
  {
   "cell_type": "markdown",
   "id": "e68facdb",
   "metadata": {},
   "source": [
    "---"
   ]
  },
  {
   "cell_type": "markdown",
   "id": "65d6ff51",
   "metadata": {},
   "source": [
    "Revised Date: October 7, 2023"
   ]
  },
  {
   "cell_type": "code",
   "execution_count": null,
   "id": "ebc39da0",
   "metadata": {},
   "outputs": [],
   "source": []
  }
 ],
 "metadata": {
  "colab": {
   "provenance": []
  },
  "kernelspec": {
   "display_name": "Python 3 (ipykernel)",
   "language": "python",
   "name": "python3"
  },
  "language_info": {
   "codemirror_mode": {
    "name": "ipython",
    "version": 3
   },
   "file_extension": ".py",
   "mimetype": "text/x-python",
   "name": "python",
   "nbconvert_exporter": "python",
   "pygments_lexer": "ipython3",
   "version": "3.9.18"
  },
  "toc": {
   "base_numbering": 1,
   "nav_menu": {},
   "number_sections": true,
   "sideBar": true,
   "skip_h1_title": false,
   "title_cell": "Table of Contents",
   "title_sidebar": "Contents",
   "toc_cell": false,
   "toc_position": {},
   "toc_section_display": true,
   "toc_window_display": false
  }
 },
 "nbformat": 4,
 "nbformat_minor": 5
}
