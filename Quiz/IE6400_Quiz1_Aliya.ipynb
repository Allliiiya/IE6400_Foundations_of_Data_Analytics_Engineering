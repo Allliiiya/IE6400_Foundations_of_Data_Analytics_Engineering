{
 "cells": [
  {
   "cell_type": "markdown",
   "id": "0fdf671a",
   "metadata": {},
   "source": [
    "# Quiz 1: Basic of Python\n",
    "\n",
    "### Problem 1:\n",
    "Given two sets, set1, and set2, find and print the elements unique to each set (i.e., elements in\n",
    "one set but not the other).\n",
    "\n",
    "set1 = {1, 2, 3, 4, 5}\n",
    "\n",
    "set2 = {4, 5, 6, 7, 8}"
   ]
  },
  {
   "cell_type": "code",
   "execution_count": 20,
   "id": "e2c78bfc",
   "metadata": {},
   "outputs": [
    {
     "name": "stdout",
     "output_type": "stream",
     "text": [
      "{1, 2, 3, 6, 7, 8}\n"
     ]
    }
   ],
   "source": [
    "# given two sets\n",
    "set1 = {1, 2, 3, 4, 5}\n",
    "set2 = {4, 5, 6, 7, 8}\n",
    "\n",
    "# creat a new set to store the difference element\n",
    "newset = set1.symmetric_difference(set2)\n",
    "\n",
    "# print the result\n",
    "print(newset)"
   ]
  },
  {
   "cell_type": "markdown",
   "id": "fbc3866e",
   "metadata": {},
   "source": [
    "### Problem 2:\n",
    "Write code to find the intersection of two sets, set1 and set2, and store the result in a new set.\n",
    "\n",
    "set1 = {1, 2, 3, 4, 5}\n",
    "\n",
    "set2 = {4, 5, 6, 7, 8}"
   ]
  },
  {
   "cell_type": "code",
   "execution_count": 21,
   "id": "d6fff2f2",
   "metadata": {},
   "outputs": [
    {
     "name": "stdout",
     "output_type": "stream",
     "text": [
      "{4, 5}\n"
     ]
    }
   ],
   "source": [
    "# given two sets\n",
    "set1 = {1, 2, 3, 4, 5}\n",
    "set2 = {4, 5, 6, 7, 8}\n",
    "\n",
    "# creat a new set to store the same element\n",
    "newset = set1.intersection(set2)\n",
    "\n",
    "# print the result\n",
    "print(newset)"
   ]
  },
  {
   "cell_type": "markdown",
   "id": "e40cde30",
   "metadata": {},
   "source": [
    "### Problem 3:\n",
    "Given a dictionary of items and their prices, filter them with prices greater than $50 and create a\n",
    "new dictionary with only these items.\n",
    "\n",
    "items = {'item1': 45, 'item2': 60, 'item3': 30, 'item4': 75}"
   ]
  },
  {
   "cell_type": "code",
   "execution_count": 22,
   "id": "85fb223d",
   "metadata": {},
   "outputs": [
    {
     "data": {
      "text/plain": [
       "{'item2': 60, 'item4': 75}"
      ]
     },
     "execution_count": 22,
     "metadata": {},
     "output_type": "execute_result"
    }
   ],
   "source": [
    "# note: solution 1\n",
    "# given dictionary\n",
    "items = {'item1': 45, 'item2': 60, 'item3': 30, 'item4': 75}\n",
    "\n",
    "# copy a new dictionary from given\n",
    "newitems = items.copy()\n",
    "\n",
    "# filter for the value great\n",
    "dict( (k,v) for k,v in newitems.items() if v > 50 )"
   ]
  },
  {
   "cell_type": "code",
   "execution_count": 23,
   "id": "bc13c3f8",
   "metadata": {},
   "outputs": [
    {
     "name": "stdout",
     "output_type": "stream",
     "text": [
      "{'item2': 60, 'item4': 75}\n"
     ]
    }
   ],
   "source": [
    "# note: solution 2\n",
    "# given dictionary\n",
    "items = {'item1': 45, 'item2': 60, 'item3': 30, 'item4': 75}\n",
    "\n",
    "# creat an empty dic\n",
    "res = {}\n",
    "\n",
    "# filter the value in the dic\n",
    "for key, val in items.items():\n",
    "    if val > 50:\n",
    "        # store the value into the empty dic\n",
    "        res[key] = val\n",
    "\n",
    "# print out the result\n",
    "print(res)"
   ]
  },
  {
   "cell_type": "markdown",
   "id": "f4c9402a",
   "metadata": {},
   "source": [
    "### Problem 4:\n",
    "Given a dictionary representing a student's grades in various subjects, compute and print the\n",
    "student's average grade.\n",
    "\n",
    "grades = {'Math': 90, 'Science': 85, 'History': 78, 'English': 92}"
   ]
  },
  {
   "cell_type": "code",
   "execution_count": 24,
   "id": "ec0d80c6",
   "metadata": {},
   "outputs": [
    {
     "name": "stdout",
     "output_type": "stream",
     "text": [
      "86.25\n"
     ]
    }
   ],
   "source": [
    "# given the dic\n",
    "grades = {'Math': 90, 'Science': 85, 'History': 78, 'English': 92}\n",
    "\n",
    "# get the number of subject as denominator\n",
    "num_of_subject = len(grades)\n",
    "\n",
    "# get the sum of grade as numerator\n",
    "total_grade = sum(grades.values())\n",
    "\n",
    "# calculate the avg\n",
    "avg = total_grade / num_of_subject\n",
    "\n",
    "# print out the result\n",
    "print(avg)"
   ]
  }
 ],
 "metadata": {
  "kernelspec": {
   "display_name": "Python 3 (ipykernel)",
   "language": "python",
   "name": "python3"
  },
  "language_info": {
   "codemirror_mode": {
    "name": "ipython",
    "version": 3
   },
   "file_extension": ".py",
   "mimetype": "text/x-python",
   "name": "python",
   "nbconvert_exporter": "python",
   "pygments_lexer": "ipython3",
   "version": "3.9.12"
  }
 },
 "nbformat": 4,
 "nbformat_minor": 5
}
